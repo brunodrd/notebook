{
 "cells": [
  {
   "cell_type": "markdown",
   "metadata": {
    "hideCode": true,
    "hidePrompt": true
   },
   "source": [
    "Conception & Mise au point de programmes\n",
    "===================================="
   ]
  },
  {
   "cell_type": "markdown",
   "metadata": {
    "hideCode": true,
    "hidePrompt": true
   },
   "source": [
    "## Repère historique\n",
    "\n",
    "<a title=\"&quot;null0&quot; [CC BY-SA 2.0 (https://creativecommons.org/licenses/by-sa/2.0)], via Wikimedia Commons\" href=\"https://commons.wikimedia.org/wiki/File:John_McCarthy_Stanford.jpg\"><img width=\"128\" alt=\"John McCarthy Stanford\" src=\"https://upload.wikimedia.org/wikipedia/commons/thumb/4/49/John_McCarthy_Stanford.jpg/128px-John_McCarthy_Stanford.jpg\"></a> <br />\n",
    "[John McCarthy](https://fr.wikipedia.org/wiki/John_McCarthy) *(1927-2011)* auteur du langage [Lisp](https://fr.wikipedia.org/wiki/Lisp) en 1958, dont la principale construction est la définition de **fonctions**. Il joua un rôle majeur dans la programmation en intelligence artificielle, écrivant un des premiers programmes jouant aux échecs."
   ]
  },
  {
   "cell_type": "markdown",
   "metadata": {
    "hideCode": true,
    "hidePrompt": true
   },
   "source": [
    "## Qu'est-ce qu'une fonction ?"
   ]
  },
  {
   "cell_type": "markdown",
   "metadata": {},
   "source": [
    "Les programmeurs décomposent souvent leur programmes en *blocs* courts. Chaque bloc de code, associé à un nom, est appelé **fonction**.  \n",
    "Procéder ainsi, permet:  \n",
    "\n",
    "* d'éviter les répétitions et donc de *factoriser* le code;\n",
    "* de faciliter la maintenance;\n",
    "* de faciliter dans une certaine mesure le travail en équipe.\n",
    "\n",
    "!!! note\n",
    "    D'autres termes comme sous-programme, procédure, etc. sont parfois employés. On ne les utilisera pas en spécialité NSI"
   ]
  },
  {
   "cell_type": "markdown",
   "metadata": {},
   "source": [
    "## Comment définir et appeler une fonction ?"
   ]
  },
  {
   "cell_type": "markdown",
   "metadata": {
    "hideCode": true,
    "hidePrompt": true
   },
   "source": [
    "La syntaxe présentée ici est celle du langage Python. On définit une fonction avec:  \n",
    "\n",
    "* le mot clé `def` suivi d'un nom;\n",
    "* une paire de parenthèses à l'intérieur desquelles figurent éventuellement des paramètres;\n",
    "* un *deux-points* `:` terminant la ligne;\n",
    "* un bloc de code indenté;\n",
    "* le mot clé `return` (optionnel)\n",
    "\n",
    "```python\n",
    "def nom_fonction(paramètre(s)):\n",
    "    bloc_instructions\n",
    "```\n",
    "\n",
    "Le nom de la fonction **doit** commencer par une lettre et **ne doit pas** être un mot reservé. Ce nom sera le plus explicite possible. La fonction peut avoir 0, 1 ou plus de paramètres.  \n",
    "\n",
    "**Exemple**"
   ]
  },
  {
   "cell_type": "code",
   "execution_count": 3,
   "metadata": {
    "hideCode": false,
    "hidePrompt": true
   },
   "outputs": [],
   "source": [
    "def deux_puissance(n):\n",
    "    p = 1\n",
    "    for c in range(n):\n",
    "        p = p * 2\n",
    "    return p"
   ]
  },
  {
   "cell_type": "markdown",
   "metadata": {
    "hideCode": true,
    "hidePrompt": true
   },
   "source": [
    "Lorsqu'on exécute ce code, il ne se passe **rien**. A ce stade on a définit la fonction, il faut maintenant l'appeler pour que tout son code soit exécuté. L'appel d'une fonction consiste à écrire **son nom suivi de parenthèses ouvrantes-fermantes** à l'intérieur desquelles on place d'éventuels **arguments**."
   ]
  },
  {
   "cell_type": "code",
   "execution_count": 6,
   "metadata": {},
   "outputs": [
    {
     "name": "stdout",
     "output_type": "stream",
     "text": [
      "256\n",
      "65536\n"
     ]
    }
   ],
   "source": [
    "# Calcul et affichage de 2^8 et 2^16\n",
    "print(deux_puissance(8))\n",
    "print(deux_puissance(16))"
   ]
  },
  {
   "cell_type": "markdown",
   "metadata": {
    "hideCode": true,
    "hidePrompt": true
   },
   "source": [
    "!!! note \n",
    "    * En l'absence d'instruction `return`, python renvoie *implicitement* une valeur particulière `None` qui signifie 'rien';\n",
    "    * une fonction peut appeler une autre fonction."
   ]
  },
  {
   "cell_type": "markdown",
   "metadata": {},
   "source": [
    "## Spécifier une fonction"
   ]
  },
  {
   "cell_type": "markdown",
   "metadata": {},
   "source": [
    "### Qu'est-ce qu'une spécification ?"
   ]
  },
  {
   "cell_type": "markdown",
   "metadata": {
    "hideCode": true,
    "hidePrompt": true
   },
   "source": [
    "En plus d'un nom explicite, une fonction devrait être convenablement documentée. Cette documentation devra comporter les **spécifications** de la fonction.  \n",
    "\n",
    "Spécifier une fonction consiste à donner:\n",
    "\n",
    "* la liste ordonnée et le type de ses paramètres;\n",
    "* une description rapide ainsi que le type du résultat renvoyé\n",
    "* d'éventuelles conditions portant sur résultat renvoyé ou **post-conditions**;\n",
    "* les conditions ou propriétés portant sur les paramètres d'entrée ou **pré-conditions**.  \n",
    "\n",
    "En python, la documentation suit **immédiatement** la définition de la fonction et est encadrée par des triples double quotes `\"\"\"`.  \n",
    "\n",
    "Pour garantir les post-conditions ou les pré-conditions, on peut utiliser des **assertions**.  \n",
    "\n",
    "!!! definition \n",
    "    Une assertion est une expression qui doit être vraie (`True` en python) sinon le programme est arrêté. \n",
    "    \n",
    "La syntaxe d'une assertion en python est:  \n",
    "\n",
    "```python\n",
    "assert expression, \"Message d'erreur explicite\"\n",
    "```\n",
    "Par ailleurs, la documentation d'une fonction est en outre accessible avec la fonction native `help()`"
   ]
  },
  {
   "cell_type": "markdown",
   "metadata": {},
   "source": [
    "### Exemple complet"
   ]
  },
  {
   "cell_type": "markdown",
   "metadata": {},
   "source": [
    "On spécifie la fonction précédente, en tenant compte de la propriété suivante (*non exigible*): si $x$ est une puissance de deux, alors $x\\ \\&\\ (x-1) = 0$ (le \"*et commercial* `&`\" étant un opérateur logique qui sera vu dans un cours ultérieur). "
   ]
  },
  {
   "cell_type": "code",
   "execution_count": 20,
   "metadata": {
    "hideCode": false,
    "hidePrompt": true
   },
   "outputs": [],
   "source": [
    "def deux_puissance(n):\n",
    "    \"\"\"\n",
    "    renvoie la puissance n-ième de 2;\n",
    "    n: entier naturel positif\n",
    "    \"\"\"\n",
    "    # Préconditions\n",
    "    assert isinstance(n, int), \"Erreur: n entier\"\n",
    "    assert n > 0, \"Erreur: n > 0\"\n",
    "    p = 1\n",
    "    for c in range(n):\n",
    "        p = p * 2\n",
    "    # Postcondition    \n",
    "    assert p & (p - 1) == 0, \"Erreur: calcul\"\n",
    "    \n",
    "    return p"
   ]
  },
  {
   "cell_type": "code",
   "execution_count": 14,
   "metadata": {},
   "outputs": [
    {
     "data": {
      "text/plain": [
       "1048576"
      ]
     },
     "execution_count": 14,
     "metadata": {},
     "output_type": "execute_result"
    }
   ],
   "source": [
    "deux_puissance(20)"
   ]
  },
  {
   "cell_type": "code",
   "execution_count": 16,
   "metadata": {},
   "outputs": [
    {
     "ename": "AssertionError",
     "evalue": "Erreur: n entier",
     "output_type": "error",
     "traceback": [
      "\u001b[0;31m---------------------------------------------------------------------------\u001b[0m",
      "\u001b[0;31mAssertionError\u001b[0m                            Traceback (most recent call last)",
      "\u001b[0;32m<ipython-input-16-a8ff668ca40c>\u001b[0m in \u001b[0;36m<module>\u001b[0;34m\u001b[0m\n\u001b[0;32m----> 1\u001b[0;31m \u001b[0mdeux_puissance\u001b[0m\u001b[0;34m(\u001b[0m\u001b[0;36m2.5\u001b[0m\u001b[0;34m)\u001b[0m\u001b[0;34m\u001b[0m\u001b[0;34m\u001b[0m\u001b[0m\n\u001b[0m",
      "\u001b[0;32m<ipython-input-12-5d460b4429a2>\u001b[0m in \u001b[0;36mdeux_puissance\u001b[0;34m(n)\u001b[0m\n\u001b[1;32m      5\u001b[0m     \"\"\"\n\u001b[1;32m      6\u001b[0m     \u001b[0;31m# Préconditions\u001b[0m\u001b[0;34m\u001b[0m\u001b[0;34m\u001b[0m\u001b[0;34m\u001b[0m\u001b[0m\n\u001b[0;32m----> 7\u001b[0;31m     \u001b[0;32massert\u001b[0m \u001b[0mtype\u001b[0m\u001b[0;34m(\u001b[0m\u001b[0mn\u001b[0m\u001b[0;34m)\u001b[0m \u001b[0;34m==\u001b[0m \u001b[0mint\u001b[0m\u001b[0;34m,\u001b[0m \u001b[0;34m\"Erreur: n entier\"\u001b[0m\u001b[0;34m\u001b[0m\u001b[0;34m\u001b[0m\u001b[0m\n\u001b[0m\u001b[1;32m      8\u001b[0m     \u001b[0;32massert\u001b[0m \u001b[0mn\u001b[0m \u001b[0;34m>\u001b[0m \u001b[0;36m0\u001b[0m\u001b[0;34m,\u001b[0m \u001b[0;34m\"Erreur: n >= 0\"\u001b[0m\u001b[0;34m\u001b[0m\u001b[0;34m\u001b[0m\u001b[0m\n\u001b[1;32m      9\u001b[0m     \u001b[0mp\u001b[0m \u001b[0;34m=\u001b[0m \u001b[0;36m1\u001b[0m\u001b[0;34m\u001b[0m\u001b[0;34m\u001b[0m\u001b[0m\n",
      "\u001b[0;31mAssertionError\u001b[0m: Erreur: n entier"
     ]
    }
   ],
   "source": [
    "deux_puissance(2.5)"
   ]
  },
  {
   "cell_type": "code",
   "execution_count": 17,
   "metadata": {},
   "outputs": [
    {
     "name": "stdout",
     "output_type": "stream",
     "text": [
      "Help on function deux_puissance in module __main__:\n",
      "\n",
      "deux_puissance(n)\n",
      "    renvoie la puissance n-ième de 2;\n",
      "    n: entier naturel positif\n",
      "\n"
     ]
    }
   ],
   "source": [
    "# Accès à la documentation\n",
    "\n",
    "help(deux_puissance)"
   ]
  },
  {
   "cell_type": "markdown",
   "metadata": {},
   "source": [
    "## Utiliser des bibliothèques"
   ]
  },
  {
   "cell_type": "markdown",
   "metadata": {
    "hideCode": true,
    "hidePrompt": true
   },
   "source": [
    "La plupart des langages de programmation proposent des fonctions toutes prêtes. Ces fonctions fournies avec le langage sont regroupées au sein d'une **bibliothèque standard**. Il s'agit d'un ensemble de modules spécialisés (par exemple *math* ou *random*).  \n",
    "\n",
    "Pour pouvoir utiliser les objets (*des fonctions par exemple*) d'un module, il faut les **importer** avec l'instruction `import`.  On privilégiera la notation `from module import objet` au lieu de `from module import *`.  \n",
    "\n",
    "**Exemple**"
   ]
  },
  {
   "cell_type": "code",
   "execution_count": 18,
   "metadata": {
    "hideCode": false,
    "hidePrompt": true
   },
   "outputs": [
    {
     "name": "stdout",
     "output_type": "stream",
     "text": [
      "1.4142135623730951\n"
     ]
    }
   ],
   "source": [
    "# Utilisation de la fonction racine carrée (sqrt) du module math\n",
    "from math import sqrt\n",
    "\n",
    "print(sqrt(2))"
   ]
  },
  {
   "cell_type": "markdown",
   "metadata": {},
   "source": [
    "Une autre construction possible et aussi valable que la précédente, consiste à importer le module avec `import module` puis à utiliser l'objet avec la notation *pointée* `module.objet`.  \n",
    "\n",
    "**Exemple**"
   ]
  },
  {
   "cell_type": "code",
   "execution_count": 19,
   "metadata": {},
   "outputs": [
    {
     "name": "stdout",
     "output_type": "stream",
     "text": [
      "1.4142135623730951\n"
     ]
    }
   ],
   "source": [
    "import math\n",
    "\n",
    "print(math.sqrt(2))"
   ]
  },
  {
   "cell_type": "markdown",
   "metadata": {},
   "source": [
    "## Tester son code"
   ]
  },
  {
   "cell_type": "markdown",
   "metadata": {},
   "source": [
    "Pour s'assurer que le programme fonctionne comme prévu, il est nécessaire de le tester. Un jeu de tests devrait couvrir les cas d'utilisation:  \n",
    "\n",
    "* typiques;\n",
    "* limites;\n",
    "* interdits.\n",
    "\n",
    "On peut utiliser des assertions dans un premier temps (l'utilisation d'un module spécialisé sera vu en travaux dirigés). Enfin, une approche moderne consiste à écrire ses tests avant les fonctions.  \n",
    "\n",
    "**Exemple**"
   ]
  },
  {
   "cell_type": "code",
   "execution_count": 28,
   "metadata": {},
   "outputs": [
    {
     "name": "stdout",
     "output_type": "stream",
     "text": [
      "n =  -2  ->  Erreur: n > 0\n",
      "n =  2.5  ->  Erreur: n entier\n"
     ]
    }
   ],
   "source": [
    "assert deux_puissance(10) == 1024 # cas typique\n",
    "assert deux_puissance(1) == 2 # cas limite\n",
    "\n",
    "# Cas interdits\n",
    "# La construction (non exigible) try / except permet de continuer\n",
    "# même en cas d'erreur d'exécution\n",
    "\n",
    "for n in (-2, 2.5):    \n",
    "    try:\n",
    "        deux_puissance(n)\n",
    "    except AssertionError as msg_erreur:\n",
    "        print(\"n = \",n,\" -> \", msg_erreur)"
   ]
  },
  {
   "cell_type": "markdown",
   "metadata": {},
   "source": [
    "!!! important\n",
    "    Le succès d'un jeu de test ne garantit pas que le programme ne contient pas de bugs. Il s'agit d'une condition nécessaire mais non suffisante."
   ]
  }
 ],
 "metadata": {
  "celltoolbar": "Hide code",
  "hide_code_all_hidden": true,
  "kernelspec": {
   "display_name": "Python 3",
   "language": "python",
   "name": "python3"
  },
  "language_info": {
   "codemirror_mode": {
    "name": "ipython",
    "version": 3
   },
   "file_extension": ".py",
   "mimetype": "text/x-python",
   "name": "python",
   "nbconvert_exporter": "python",
   "pygments_lexer": "ipython3",
   "version": "3.8.8"
  },
  "toc": {
   "base_numbering": 1,
   "nav_menu": {},
   "number_sections": true,
   "sideBar": true,
   "skip_h1_title": true,
   "title_cell": "Table of Contents",
   "title_sidebar": "Contents",
   "toc_cell": false,
   "toc_position": {
    "height": "calc(100% - 180px)",
    "left": "10px",
    "top": "150px",
    "width": "187.575px"
   },
   "toc_section_display": true,
   "toc_window_display": true
  }
 },
 "nbformat": 4,
 "nbformat_minor": 2
}
