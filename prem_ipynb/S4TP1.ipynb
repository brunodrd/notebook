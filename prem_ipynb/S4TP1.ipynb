{
 "cells": [
  {
   "cell_type": "markdown",
   "id": "turkish-employee",
   "metadata": {},
   "source": [
    "Implémentation d'un additionneur complet en python\n",
    "==========================================="
   ]
  },
  {
   "cell_type": "markdown",
   "id": "hungry-church",
   "metadata": {},
   "source": [
    "!!! question \"A faire\"\n",
    "    Prendre absolument connaissance des documents 1 et 2 avant de répondre aux questions. Ne pas hésiter à exécuter les \n",
    "    exemples fournis dans les diverses cellules."
   ]
  },
  {
   "cell_type": "markdown",
   "id": "generous-opinion",
   "metadata": {},
   "source": [
    "### Document 1: notation des électroniciens\n",
    "\n",
    "On rappelle le schéma d'un additionneur complet, vu dans l'activité 1:  \n",
    "\n",
    "![fullAdder](img/fullAdder.png)\n",
    "\n",
    "En logique électronique, il est commun de noter les opérations logiques *et* et *ou* respectivement `.` et `+`. Quant à la négation *non*, on la représente avec une barre au dessus de la variable.  \n",
    "\n",
    "Ainsi, l'expression booléenne de la sortie $S_i$ de l'additionneur complet est  \n",
    "\n",
    "$$S_i=(\\overline{A_i} \\cdot \\overline{B_i} \\cdot R_{i-1}) + (\\overline{A_i} \\cdot B_i \\cdot \\overline{R_{i-1}}) + (A_i \\cdot \\overline{B_i} \\cdot \\overline{R_{i-1}}) + (A_i \\cdot B_i \\cdot R_{i-1})$$\n",
    "\n",
    "Celle de la retenue est:  \n",
    "\n",
    "$$R_i=(A_i \\cdot R_{i-1}) + (A_i \\cdot B_i) + (B_i \\cdot R_{i-1})$$ "
   ]
  },
  {
   "cell_type": "markdown",
   "id": "dimensional-think",
   "metadata": {},
   "source": [
    "### Document 2: connaissances du langage\n",
    "#### Le type booléen\n",
    "En python, les opérateurs booléens sont nommés `and`, `or` et `not`. Ainsi l'expression booléenne $\\overline{A}\\cdot(B+\\overline{C})$ se traduit en python par:  \n",
    "\n",
    "```python\n",
    "not A and (B or not C)\n",
    "```\n",
    "Par ailleurs, Python possède un type booléen nommé `bool`. Les valeurs booléenne *vrai* et *faux* ou *1* et *0* se notent `True` et `False`. Voir ci-dessous."
   ]
  },
  {
   "cell_type": "code",
   "execution_count": null,
   "id": "stunning-wireless",
   "metadata": {},
   "outputs": [],
   "source": [
    "print(type(False))\n",
    "A = False\n",
    "print(not A)"
   ]
  },
  {
   "cell_type": "code",
   "execution_count": null,
   "id": "decent-textbook",
   "metadata": {},
   "outputs": [],
   "source": [
    "B = True\n",
    "print(A or B)"
   ]
  },
  {
   "cell_type": "markdown",
   "id": "pretty-source",
   "metadata": {},
   "source": [
    "Python associe les valeurs booléennes `True`et `False` à `1` et `0` respectivement."
   ]
  },
  {
   "cell_type": "code",
   "execution_count": null,
   "id": "vital-flower",
   "metadata": {},
   "outputs": [],
   "source": [
    "A = True\n",
    "B = False\n",
    "print(A == 1)\n",
    "print(B == 0)"
   ]
  },
  {
   "cell_type": "markdown",
   "id": "buried-updating",
   "metadata": {},
   "source": [
    "#### Le type chaîne de caractères\n",
    "\n",
    "Python possède un type natif pour traiter les chaînes de caractères: le type *string* `str`. Une chaîne de caratères est déclarée en étant entourée de *double quotes* `\"` ou simple quote `'`.  \n",
    "\n",
    "```python\n",
    "ch = \"bonjour\"\n",
    "```\n",
    "\n",
    "On peut accéder aux caractères individuellement avec une notation **indexée** entre *crochet* `[ ]`.\n",
    "\n",
    "| index \t| 0   \t| 1   \t| 2   \t| 3   \t| 4   \t| 5   \t| 6   \t|\n",
    "|-------\t|-----\t|-----\t|-----\t|-----\t|-----\t|-----\t|-----\t|\n",
    "| ch    \t| 'b' \t| 'o' \t| 'n' \t| 'j' \t| 'o' \t| 'u' \t| 'r' \t|\n"
   ]
  },
  {
   "cell_type": "code",
   "execution_count": null,
   "id": "ongoing-violence",
   "metadata": {},
   "outputs": [],
   "source": [
    "ch = \"bonjour\"\n",
    "print(ch[0])\n",
    "print(ch[3])"
   ]
  },
  {
   "cell_type": "markdown",
   "id": "coral-schema",
   "metadata": {},
   "source": [
    "---"
   ]
  },
  {
   "cell_type": "markdown",
   "id": "senior-spice",
   "metadata": {},
   "source": [
    "## Comprendre une fonction"
   ]
  },
  {
   "cell_type": "code",
   "execution_count": null,
   "id": "exciting-international",
   "metadata": {},
   "outputs": [],
   "source": [
    "def addb(n,a,b):\n",
    "    \"\"\"\n",
    "    Renvoie ....\n",
    "    On suppose que a et b sont des chaines constitués des caractères \n",
    "    appartenant à {'0','1'}; n est un entier naturel supérieur à zéro.\n",
    "    \"\"\"\n",
    "    ri_1 = False\n",
    "    res = \"\"\n",
    "    for i in range(n - 1, -1, -1):\n",
    "        ai = int(a[i])\n",
    "        bi = int(b[i])\n",
    "        si = (not ai and not bi and ri_1) or (not ai and bi and not ri_1) or \\\n",
    "        (ai and not bi and not ri_1) or (ai and bi and ri_1)\n",
    "        ri_1 = (ai and ri_1) or (ai and bi) or (bi and ri_1)\n",
    "        res = str(int(si)) + res\n",
    "    if ri_1:\n",
    "        res = '1' + res\n",
    "    return res"
   ]
  },
  {
   "cell_type": "code",
   "execution_count": null,
   "id": "selective-sleeping",
   "metadata": {},
   "outputs": [],
   "source": [
    "addb(8,'11111111','00000001')"
   ]
  },
  {
   "cell_type": "markdown",
   "id": "suburban-gothic",
   "metadata": {},
   "source": [
    "*  Consulter la [documentation officielle](https://docs.python.org/fr/3/library/stdtypes.html?highlight=range#range) de python sur la fonction range afin de comprendre la construction qui apparait à la ligne 9.\n",
    "*  Les spécifications étant incomplètes, expliquer ce que réalise cette fonction en étudiant le code fourni ainsi que les documents 1 & 2.\n",
    "*  Vérifier vos hypothèses avec quelques tests; par exemple:\n",
    "  *    `addb(4,'0001','0001')` \n",
    "  *  `addb(8,'11111111','00000001')` \n",
    "*  Quelle est l'utilité du test ligne 16 ?"
   ]
  },
  {
   "cell_type": "markdown",
   "id": "placed-fourth",
   "metadata": {},
   "source": [
    "## Un circuit important: le multiplexeur\n",
    "\n",
    "Le [multiplexeur](https://fr.wikipedia.org/wiki/Multiplexeur) est un circuit logique très important en architecture machine. Il permet de sélectionner une entrée parmi $N$ et de transférer sa valeur sur la sortie. La sélection se fait à l'aide d'une entrée *Select*."
   ]
  },
  {
   "cell_type": "markdown",
   "id": "analyzed-review",
   "metadata": {},
   "source": [
    "### Principe\n",
    "La figure ci-dessous présente le schéma de principe d'un multiplexeur à 4 entrées $A_0 ... A_3$ que vous pouvez tester avec le fichier `mux1.dig`. \n",
    "\n",
    "![mux1](img/mux1.png) \n",
    "\n",
    "---\n",
    "\n",
    "Sa réalisation avec les portes logiques élémentaires:\n",
    "\n",
    "![mux2](img/mux2.png)"
   ]
  },
  {
   "cell_type": "markdown",
   "id": "personalized-ivory",
   "metadata": {},
   "source": [
    "### Simulation\n",
    "\n",
    "1. Ouvrir le fichier `mux2.dig` et passer en mode simulation.\n",
    "2. Quelle opération logique effectuent les 4 circuits à 3 entrées, visibles sur la réalisation ci-dessus?\n",
    "3. Quelles valeurs logiques doit-on porter les entrées de ces circuits si on veut obtenir un *1* logique sur leur sortie?\n",
    "4. On souhaite sélectionner la deuxième entrée (en d'autres termes $S$ doit *recopier* $A_1$), quelle valeur logique doit-on affecter à $Select_0$ et $Select_1$?\n",
    "5. Réaliser la sélection précédente sur le simulateur. Entrer la combinaison $(1,1,0,0)$ pour $(A_0,A_1,A_2,A_3)$. Que vaut $S$ ? Expliquer.\n",
    "6. Garder la même sélection pour $Select_0$ et $Select_1$. Donner une autre combinaison qui conduit à $S=1$. Expliquer."
   ]
  },
  {
   "cell_type": "code",
   "execution_count": null,
   "id": "baking-reply",
   "metadata": {},
   "outputs": [],
   "source": []
  }
 ],
 "metadata": {
  "kernelspec": {
   "display_name": "Python 3",
   "language": "python",
   "name": "python3"
  },
  "language_info": {
   "codemirror_mode": {
    "name": "ipython",
    "version": 3
   },
   "file_extension": ".py",
   "mimetype": "text/x-python",
   "name": "python",
   "nbconvert_exporter": "python",
   "pygments_lexer": "ipython3",
   "version": "3.8.8"
  }
 },
 "nbformat": 4,
 "nbformat_minor": 5
}
