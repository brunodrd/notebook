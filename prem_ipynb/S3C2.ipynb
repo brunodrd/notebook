{
 "cells": [
  {
   "cell_type": "markdown",
   "metadata": {
    "hideCode": true
   },
   "source": [
    "Encodage des entiers relatifs\n",
    "========================"
   ]
  },
  {
   "cell_type": "markdown",
   "metadata": {},
   "source": [
    "## Comment coder un entier signé sur une machine numérique?"
   ]
  },
  {
   "cell_type": "markdown",
   "metadata": {},
   "source": [
    "Le signe d'un entier relatif peut prendre deux valeurs possibles: `+` ou `-`. Par conséquent, un seul bit suffit pour le codage du signe.  \n",
    "\n",
    "!!! tip \"Convention\"\n",
    "    Par convention le signe + est codé par 0 et le signe - par 1.\n",
    "    \n",
    "Les tailles courantes pour représenter un entier sont 8, 16, 32 ou 64 bits."
   ]
  },
  {
   "cell_type": "markdown",
   "metadata": {},
   "source": [
    "## Propriétés à vérifier et première solution\n",
    "\n",
    "!!! note\n",
    "    Quelque soit l'encodage choisi, on doit respecter deux propriétés essentielles:  \n",
    "    \n",
    "    * $a + (-a) = 0$ (propriété 1)\n",
    "    * $-(-a) = a$ (propriété 2)\n",
    "    \n",
    "La première idée est d'utiliser un bit, généralement **le bit de poids fort**, pour représenter le signe et les autres bits pour représenter la valeur absolue du nombre $x$ à coder.  Ce qui peut être représenté par:  \n",
    "\n",
    "```\n",
    "    <---- n-1 bits -->\n",
    "+---+----------------+\n",
    "| 1 |    |x|         |\n",
    "+---+----------------+\n",
    "```\n",
    "ou \n",
    "\n",
    "```\n",
    "    <---- n-1 bits -->\n",
    "+---+----------------+\n",
    "| 0 |    |x|         |\n",
    "+---+----------------+\n",
    "```\n",
    "selon que $x$ soit négatif ou positif.\n",
    "\n",
    "**Exemple**  \n",
    "\n",
    "Soit à coder $-5$ sur 4 bits.  \n",
    "Avec 4 bits, la valeur absolue sera codée sur 3 bits et le signe sur 1 bit.\n",
    "On a $|-5| = 5$, ce qui correspond à $101_{2}$, le bit de signe valant 1 car $-5<0$. On aura donc le codage suivant: $-5\\rightarrow 1\\ 1\\ 0\\ 1$  \n",
    "\n",
    "La propriété (1) ci-dessus est-elle vérifiée ?  \n",
    "Ajoutons les représentations de $5$ et $-5$, avec un résultat sur 4 bits:  \n",
    "\n",
    "| $_1$ \t| $_1$ \t|   \t| $_1$ \t|   \t|\n",
    "|------\t|------\t|---\t|------\t|---\t|\n",
    "|      \t| 0    \t| 1 \t| 0    \t| 1 \t|\n",
    "| +    \t| 1    \t| 1 \t| 0    \t| 1 \t|\n",
    "|      \t| 0    \t| 0 \t| 1    \t| 0 \t|\n",
    "\n",
    "**La valeur obtenue sur 4 bits est différente de zéro: cette solution n'est pas satisfaisante**.  \n",
    "\n",
    "!!! info \"Remarque\"\n",
    "    Un problème supplémentaire peut être mis en évidence: l'existence de **deux** représentations pour zéro."
   ]
  },
  {
   "cell_type": "markdown",
   "metadata": {},
   "source": [
    "## Une solution plus satisfaisante"
   ]
  },
  {
   "cell_type": "markdown",
   "metadata": {},
   "source": [
    "### Le complément à 2"
   ]
  },
  {
   "cell_type": "markdown",
   "metadata": {},
   "source": [
    "Sur $n$ bits on peut coder $2^n$ entiers. Il y en a autant de positifs que de négatifs, soit $\\dfrac{2^n}{2}=2^{n-1}$. Les plages de valeurs représentables sont:\n",
    "\n",
    "* de $0$ à $2^{n-1}-1$ pour les valeurs positives;\n",
    "* de $-1$ à $-2^{n-1}$ pour les valeurs négatives\n",
    "\n",
    "Ainsi, avec $n=8$ bits par exemple, on peut représenter les entiers allant de $-128$ à $+127$.  \n",
    "\n",
    "!!! important \"Définition\"\n",
    "    Soit un entier relatif $x$ à coder sur $n$ bits.  \n",
    "    \n",
    "    * Si $x\\in [\\![0..2^{n-1}-1]\\!]$, alors on code $x$ comme un entier naturel sur $n$ bits;\n",
    "    * si $x\\in [\\![-2^{n-1}..-1]\\!]$, alors on code $x$ comme l'entier naturel $2^n-\\lvert x\\rvert$ sur $n$ bits.\n",
    "    \n",
    "!!! tip \"Vocabulaire\"\n",
    "    La quantité $2^n-\\lvert x\\rvert$, appelée **complément à** $2^n$ **de** $x$ voit son nom souvent abrégé en **complément à 2**."
   ]
  },
  {
   "cell_type": "markdown",
   "metadata": {},
   "source": [
    "### Comment utiliser le complément à 2 ?"
   ]
  },
  {
   "cell_type": "markdown",
   "metadata": {},
   "source": [
    "#### Méthode 1\n",
    "\n",
    "On utilise directement la définition.  \n",
    "**Exemples**  \n",
    "Soit à coder les entiers relatifs $x_1=107$ et $x_2=-107$ sur 8 bits. \n",
    "\n",
    "* $x_1=107=1101011_2$, soit $0110\\ 1011$. On constate que le bit de poids fort vaut $0$, ce qui indique un nombre positif.  \n",
    "* Pour $x_2$ on a: $2^8-\\lvert -107\\rvert=149$ qui s'écrit en binaire $1001\\ 0101$ et qui correspond à la représentation de $-107$ sur 8 bits. Par ailleurs, le bit de poids fort vaut $1$, ce qui indique bien un nombre négatif.\n",
    "\n",
    "Effectuons $x_1+x_2$:\n",
    "\n",
    "| 1 \t| 1 \t| 1 \t| 1 \t| 1 \t| 1 \t| 1 \t| 1 \t|   \t|\n",
    "|---\t|---\t|---\t|---\t|---\t|---\t|---\t|---\t|---\t|\n",
    "|   \t| 0 \t| 1 \t| 1 \t| 0 \t| 1 \t| 0 \t| 1 \t| 1 \t|\n",
    "| + \t| 1 \t| 0 \t| 0 \t| 1 \t| 0 \t| 1 \t| 0 \t| 1 \t|\n",
    "|   \t| 0 \t| 0 \t| 0 \t| 0 \t| 0 \t| 0 \t| 0 \t| 0 \t|\n",
    "\n",
    "La méthode du complément à 2 vérifie la propriété 1."
   ]
  },
  {
   "cell_type": "markdown",
   "metadata": {},
   "source": [
    "!!! important \"Méthode 2 (à connaître)\"\n",
    "    Pour représenter l'opposé d'un entier relatif:\n",
    "    \n",
    "       * Ecrire la valeur absolue du nombre en binaire naturel avec le nombre de bits spécifié (compléter si besoin avec des zéros);\n",
    "       * Inverser tous les bits (complément à un);\n",
    "       * Ajouter 1 au résultat précédent.\n",
    "\n",
    "**Exemple**  \n",
    "Coder $x_2=-107$ sur 8 bits en utilisant la méthode 2.  \n",
    "$\\lvert x_2\\rvert = 0110\\ 1011$. On inverse les bits: $1001\\ 0100$ et on ajoute 1: $1001\\ 0101$. On retrouve heureusement le résultat précédent.  \n",
    "Appliquons une deuxième fois le complément à 2 sur le résultat $1001\\ 0101$:  \n",
    "Inversion des bits: $0110\\ 1010$, additionner 1: $0110\\ 1011$. La propriété 2 est vérifiée."
   ]
  },
  {
   "cell_type": "markdown",
   "metadata": {},
   "source": [
    "### Représentation circulaire\n",
    "\n",
    "Il est commode de représenter le codage d'entiers relatifs sous forme circulaire.  \n",
    "\n",
    "<figure>\n",
    "    <img alt=\"roue\" src=\"img/TwoComplementCircle.png\" width=\"50%\">\n",
    "</figure>\n",
    "\n",
    "On y repère l'intervalle des valeurs couvertes selon qu'on travaille avec des entiers non signés (*extérieur*) ou signés (*intérieur*).  \n",
    "Par ailleurs, la notion de complément à $2^n$ est bien mise en évidence. Par exemple, $-5$ sera codé comme son complément à $2^4$, c'est-à-dire $2^4-\\lvert -5\\rvert=11$."
   ]
  },
  {
   "cell_type": "markdown",
   "metadata": {},
   "source": [
    "## A retenir\n",
    "Pour coder un entier relatif, on utilise la méthode du complément à $2^n$. Pour cela, si la capacité est fixée à $n$ bits, on peut simplement:  \n",
    "\n",
    "*  écrire la valeur absolue du nombre en binaire naturel avec le nombre de bits spécifié (compléter si besoin avec des zéros);  \n",
    "*  inverser tous les bits (complément à un);  \n",
    "*  ajouter 1 au résultat précédent  \n",
    "\n",
    "Avec $n$ bits, on peut coder les entiers appartenant à l'intervalle $[\\![-2^{n-1}...2^{n-1}-1]\\!]$. Si une opération conduit à un nombre se situant en dehors de cet intervalle, on a un phénomène de dépassement de capacité (en anglais *overflow*).\n"
   ]
  }
 ],
 "metadata": {
  "kernelspec": {
   "display_name": "Python 3",
   "language": "python",
   "name": "python3"
  },
  "language_info": {
   "codemirror_mode": {
    "name": "ipython",
    "version": 3
   },
   "file_extension": ".py",
   "mimetype": "text/x-python",
   "name": "python",
   "nbconvert_exporter": "python",
   "pygments_lexer": "ipython3",
   "version": "3.8.8"
  },
  "toc": {
   "base_numbering": 1,
   "nav_menu": {},
   "number_sections": true,
   "sideBar": true,
   "skip_h1_title": true,
   "title_cell": "Table of Contents",
   "title_sidebar": "Contents",
   "toc_cell": false,
   "toc_position": {},
   "toc_section_display": true,
   "toc_window_display": true
  }
 },
 "nbformat": 4,
 "nbformat_minor": 2
}
