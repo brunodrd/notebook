{
 "cells": [
  {
   "cell_type": "markdown",
   "metadata": {},
   "source": [
    "Expressions booléennes\n",
    "===================="
   ]
  },
  {
   "cell_type": "markdown",
   "metadata": {},
   "source": [
    "## Repères historiques\n",
    "![George Boole](img/Boole.jpg)  \n",
    "\n",
    "[George Boole](https://fr.wikipedia.org/wiki/George_Boole) (*1815-1864*): mathématicien, logicien britannique, auteur d'une algèbre **binaire** dite **booléenne** n'acceptant que deux valeurs 0 et 1.  \n",
    "[Lien](https://www.dailymotion.com/video/x71hxwp) vers la présentation de Marie Duflot-Kremer, chercheuse en informatique l'Université de Lorraine.  \n",
    "Aujourd'hui, l'algèbre de Boole trouve de nombreuses applications en informatique et dans la conception des circuits électroniques"
   ]
  },
  {
   "cell_type": "markdown",
   "metadata": {},
   "source": [
    "## Quelques définitions"
   ]
  },
  {
   "cell_type": "markdown",
   "metadata": {},
   "source": [
    "!!! info \"Valeur logique (booléenne)\"\n",
    "    On appelle **valeur logique** ou **valeur booléenne** toute valeur notée par deux symboles. \n",
    "\n",
    "On peut utiliser par exemple un des couples de valeurs suivants : {0,1}, {vrai, faux}, {true, false} ou {ouvert, fermé}.  \n",
    "**Exemple**  \n",
    "L'état d'un interrupteur a une valeur booléenne, il peut être *ouvert* ou *fermé*.  \n",
    "\n",
    "!!! info \"Variable booléenne\"\n",
    "    Une variable booléenne ou variable logique est une grandeur représentée par un nom et pouvant prendre des\n",
    "    valeurs booléennes.  \n",
    "\n",
    "L'algèbre de Boole est caractérisée par la donnée:  \n",
    "\n",
    "*  de deux opérations binaires **or** et **and** (`ou` et `et` en français, correspondant respectivement, à la somme \"+\" et au produit \".\")  \n",
    "*  d'une opération unaire **not** (*en français non, correspondant au complémentaire $\\bar{}$*).  \n",
    "\n",
    "Ces opérations doivent vérifier certaines conditions qui ne seront pas exposées ici.\n",
    "!!! hint \"Remarque\"\n",
    "    En mathématique on trouve les notations $\\lor$ (*disjonction* pour le `ou`), $\\wedge$ (*conjonction* pour \n",
    "    le `et`) et $\\lnot$ (*négation*).  \n",
    "\n",
    "!!! info \"Expression booléenne\"\n",
    "    On appelle expression booléenne, l'association de variables booléennes et d'opérateur(s) booléen(s).\n",
    "\n",
    "**Exemple**  \n",
    "Si $a$, $b$ et $c$ sont trois variables booléennes, `(a and b and not c) or (a and  not b and c)` est une expression booléenne.  \n",
    "\n",
    "!!! hint \"Remarque\"\n",
    "    L'usage de parenthèses améliore la lisibilité.\n",
    "\n",
    "!!! info \"Table de vérité\"\n",
    "    Dresser la **table de vérité** d'une expression booléenne signifie construire une table ayant autant de \n",
    "    colonnes que de variables d'entrée plus une colonne donnant le résultat (*vrai* ou *faux*, 0 ou 1) pour \n",
    "    chaque combinaison possible des variables d'entrée."
   ]
  },
  {
   "cell_type": "markdown",
   "metadata": {},
   "source": [
    "## Les opérations logiques élémentaires"
   ]
  },
  {
   "cell_type": "markdown",
   "metadata": {},
   "source": [
    "### Les symboles"
   ]
  },
  {
   "cell_type": "markdown",
   "metadata": {},
   "source": [
    "Les opérations logiques sont réalisées simplement avec des circuits électroniques (à base de transistors) appelés **portes logiques**. Voici les symboles des portes logiques utilisées pour les opérations `and`, `or` et `not`.  \n",
    "\n",
    "![symboles](img/bool.png)\n",
    "\n"
   ]
  },
  {
   "cell_type": "markdown",
   "metadata": {},
   "source": [
    "### La conjonction (\"et logique\")\n",
    "\n",
    "La conjonction fait appel à l'opérateur logique **and**. Elle traduit le fait que deux expressions sont **vraies simultanément**: `a and b` est vrai si et seulement si `a` est vrai et `b` est vrai aussi.  \n",
    "\n",
    "**Table de vérité**  \n",
    "\n",
    "| a \t| b \t| a and b \t|\n",
    "|---\t|---\t|:-------:\t|\n",
    "| 0 \t| 0 \t|    0    \t|\n",
    "| 0 \t| 1 \t|    0    \t|\n",
    "| 1 \t| 0 \t|    0    \t|\n",
    "| 1 \t| 1 \t|    1    \t|"
   ]
  },
  {
   "cell_type": "markdown",
   "metadata": {},
   "source": [
    "### La disjonction (\"ou logique\")\n",
    "\n",
    "La disjonction fait appel à l'opérateur logique **or**. Elle traduit le fait  qu’**une parmi deux expressions est vraie**: `a or b` est vrai si soit `a` est vrai, soit `b` est vrai soit les deux sont vrais.  \n",
    "\n",
    "**Table de vérité**  \n",
    "\n",
    "| a \t| b \t| a or b \t|\n",
    "|---\t|---\t|:-------:\t|\n",
    "| 0 \t| 0 \t|    0    \t|\n",
    "| 0 \t| 1 \t|    1    \t|\n",
    "| 1 \t| 0 \t|    1    \t|\n",
    "| 1 \t| 1 \t|    1    \t|"
   ]
  },
  {
   "cell_type": "markdown",
   "metadata": {},
   "source": [
    "### La négation (\"non logique\")\n",
    "\n",
    "La négation fait appel à l'opérateur logique **not**. Il permet d'obtenir la valeur inverse d’une valeur booléenne.  \n",
    "\n",
    "**Table de vérité**\n",
    "\n",
    "| a \t| not a \t|\n",
    "|---\t|:-----:\t|\n",
    "| 0 \t|   1   \t|\n",
    "| 1 \t|   0   \t|"
   ]
  },
  {
   "cell_type": "markdown",
   "metadata": {},
   "source": [
    "## Expression booléenne en python\n",
    "\n",
    "Python possède un type de base `bool`. Les objets de ce type ne peuvent prendre que deux valeurs `True` ou `False`.  \n",
    "\n",
    "Les opérateurs logiques sont notés, sans surprise: `and`, `or` et `not`.  \n",
    "\n",
    "**Exemples**"
   ]
  },
  {
   "cell_type": "code",
   "execution_count": 2,
   "metadata": {},
   "outputs": [
    {
     "name": "stdout",
     "output_type": "stream",
     "text": [
      "- a == 6: True\n",
      "- a == 7: False\n",
      "- a == 16 and b == 7: False\n",
      "- a == 6 or b == 67: True\n"
     ]
    }
   ],
   "source": [
    "a = 6\n",
    "b = 7\n",
    "c = 42\n",
    "print('- a == 6:',a == 6)\n",
    "print('- a == 7:', a == 7)\n",
    "print('- a == 16 and b == 7:', a == 16 and b == 7)\n",
    "print('- a == 6 or b == 67:', a == 6 or b == 67)"
   ]
  },
  {
   "cell_type": "markdown",
   "metadata": {},
   "source": [
    "!!! tip \"Important\"\n",
    "    Les expressions contenant les opérateurs `and`et `or`sont évaluées de manières *séquentielles*. Ainsi, \n",
    "    dans une expression du type:  \n",
    "    \n",
    "    * `x and y`, le deuxième argument `y` est évalué uniquement si `x` est vrai;\n",
    "    * `x or y`, le deuxième argument `y` est évalué uniquement si `x` est faux.\n",
    "    \n",
    "    Voir les exemples lignes 6 et 7 ci-dessus."
   ]
  }
 ],
 "metadata": {
  "kernelspec": {
   "display_name": "Python 3",
   "language": "python",
   "name": "python3"
  },
  "language_info": {
   "codemirror_mode": {
    "name": "ipython",
    "version": 3
   },
   "file_extension": ".py",
   "mimetype": "text/x-python",
   "name": "python",
   "nbconvert_exporter": "python",
   "pygments_lexer": "ipython3",
   "version": "3.8.8"
  },
  "toc": {
   "base_numbering": 1,
   "nav_menu": {},
   "number_sections": true,
   "sideBar": true,
   "skip_h1_title": true,
   "title_cell": "Table of Contents",
   "title_sidebar": "Contents",
   "toc_cell": false,
   "toc_position": {},
   "toc_section_display": true,
   "toc_window_display": true
  }
 },
 "nbformat": 4,
 "nbformat_minor": 2
}
