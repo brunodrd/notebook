{
 "cells": [
  {
   "cell_type": "markdown",
   "metadata": {},
   "source": [
    "Exercices de logique booléenne en python\n",
    "==================================="
   ]
  },
  {
   "cell_type": "markdown",
   "metadata": {},
   "source": [
    "## L'opérateur XOR"
   ]
  },
  {
   "cell_type": "markdown",
   "metadata": {},
   "source": [
    "1. En s'appuyant sur une simulation réalisée dans l'activité 1 (*Dilemme*) écrire une fonction python `xor` qui prend en paramètre deux variables booléennes `a` et `b` et qui renvoie le résultat de `a xor b`.\n",
    "2. Vérifier l'égalité `a xor b = (a and not b) or ((not a) and b)` en utilisant une assertion. "
   ]
  },
  {
   "cell_type": "code",
   "execution_count": 37,
   "metadata": {},
   "outputs": [],
   "source": [
    "a = True\n",
    "b = False"
   ]
  },
  {
   "cell_type": "code",
   "execution_count": 32,
   "metadata": {},
   "outputs": [],
   "source": [
    "def xor1(a, b):\n",
    "    \"\"\"\n",
    "    renvoie a xor b\n",
    "    a,b : variables booléennes\n",
    "    \"\"\"\n",
    "    if (a == False and b == True) or (a == True and b == False):\n",
    "        return True\n",
    "    else:\n",
    "        return False"
   ]
  },
  {
   "cell_type": "code",
   "execution_count": 33,
   "metadata": {},
   "outputs": [],
   "source": [
    "def xor2(a, b):\n",
    "    \"\"\"\n",
    "    renvoie a xor b\n",
    "    a,b : variables booléennes\n",
    "    \"\"\"\n",
    "    if a != b:\n",
    "        return True\n",
    "    else:\n",
    "        return False"
   ]
  },
  {
   "cell_type": "code",
   "execution_count": 35,
   "metadata": {},
   "outputs": [],
   "source": [
    "def xor3(a, b):\n",
    "    \"\"\"\n",
    "    renvoie a xor b\n",
    "    a,b : variables booléennes\n",
    "    \"\"\"\n",
    "    return a != b"
   ]
  },
  {
   "cell_type": "code",
   "execution_count": 36,
   "metadata": {},
   "outputs": [],
   "source": [
    "# Question 2\n",
    "assert xor3(a, b) == (a and not b) or ((not a) and b)"
   ]
  },
  {
   "cell_type": "code",
   "execution_count": 38,
   "metadata": {},
   "outputs": [
    {
     "name": "stdout",
     "output_type": "stream",
     "text": [
      "133 ns ± 0.572 ns per loop (mean ± std. dev. of 7 runs, 10000000 loops each)\n"
     ]
    }
   ],
   "source": [
    "%timeit xor1(a, b)"
   ]
  },
  {
   "cell_type": "code",
   "execution_count": 39,
   "metadata": {},
   "outputs": [
    {
     "name": "stdout",
     "output_type": "stream",
     "text": [
      "89.7 ns ± 2.56 ns per loop (mean ± std. dev. of 7 runs, 10000000 loops each)\n"
     ]
    }
   ],
   "source": [
    "%timeit xor3(a, b)"
   ]
  },
  {
   "cell_type": "code",
   "execution_count": 43,
   "metadata": {},
   "outputs": [
    {
     "name": "stdout",
     "output_type": "stream",
     "text": [
      "Help on function timeit in module timeit:\n",
      "\n",
      "timeit(stmt='pass', setup='pass', timer=<built-in function perf_counter>, number=1000000, globals=None)\n",
      "    Convenience function to create Timer object and call timeit method.\n",
      "\n"
     ]
    }
   ],
   "source": [
    "import timeit\n",
    "\n",
    "dir(timeit)\n",
    "help(timeit.timeit)"
   ]
  },
  {
   "cell_type": "markdown",
   "metadata": {},
   "source": [
    "## L'opérateur logique NAND"
   ]
  },
  {
   "cell_type": "markdown",
   "metadata": {},
   "source": [
    "1. Ecrire une fonction python `nand` (*pour not and*) qui prend en paramètres deux variables booléennes `a` et `b` et qui renvoie le résultat de `a nand b`.\n",
    "2. Ecrire la table de vérité.\n",
    "3. Comparer les expressions suivantes:\n",
    "    * `nand(a,a)` et `not a`;\n",
    "    * `nand(nand(a, b), nand(a, b))` et `a and b`;\n",
    "    * `nand(nand(a, a), nand(b, b))` et `a or b`"
   ]
  },
  {
   "cell_type": "code",
   "execution_count": null,
   "metadata": {},
   "outputs": [],
   "source": []
  },
  {
   "cell_type": "code",
   "execution_count": 44,
   "metadata": {},
   "outputs": [],
   "source": [
    "# Question 1\n",
    "def nand(a, b):\n",
    "    \"\"\"\n",
    "    renvoie a nand b\n",
    "    a,b: variables booléennes\n",
    "    \"\"\"\n",
    "    if (a == True) and (b == True):\n",
    "        return False\n",
    "    else:\n",
    "        return True"
   ]
  },
  {
   "cell_type": "code",
   "execution_count": 52,
   "metadata": {},
   "outputs": [
    {
     "name": "stdout",
     "output_type": "stream",
     "text": [
      " 0 |  0 |  1\n",
      " 0 |  1 |  1\n"
     ]
    }
   ],
   "source": [
    "a = False\n",
    "b = False\n",
    "print(f\"{a:>2} | {b:>2} | {nand(False, False):>2}\")\n",
    "b = True\n",
    "print(f\"{a:>2} | {b:>2} | {nand(False, False):>2}\")"
   ]
  },
  {
   "cell_type": "code",
   "execution_count": 54,
   "metadata": {},
   "outputs": [
    {
     "name": "stdout",
     "output_type": "stream",
     "text": [
      "False False True\n",
      "False True True\n",
      "True False True\n",
      "True True False\n"
     ]
    }
   ],
   "source": [
    "for a in (False, True):\n",
    "    for b in (False, True):\n",
    "        print(a, b, nand(a,b))"
   ]
  },
  {
   "cell_type": "code",
   "execution_count": 10,
   "metadata": {},
   "outputs": [
    {
     "name": "stdout",
     "output_type": "stream",
     "text": [
      "True True False\n",
      "True False True\n",
      "False True True\n",
      "False False True\n"
     ]
    }
   ],
   "source": [
    "# Question 2"
   ]
  },
  {
   "cell_type": "code",
   "execution_count": 57,
   "metadata": {},
   "outputs": [],
   "source": [
    "# Question 3b)\n",
    "assert (nand(a,a)) == (not a)\n",
    "assert nand(nand(a, b), nand(a, b)) == a and b\n",
    "assert nand(nand(a, a), nand(b, b)) == a or b\n"
   ]
  },
  {
   "cell_type": "markdown",
   "metadata": {},
   "source": [
    "## L'opérateur logique NOR"
   ]
  },
  {
   "cell_type": "markdown",
   "metadata": {},
   "source": [
    "1. Ecrire une fonction python `nor` (*pour not or*) qui prend en paramètres deux variables booléennes `a` et `b` et qui renvoie le résultat de `a nor b`.\n",
    "2. Ecrire la table de vérité.\n",
    "3. Comparer les expressions suivantes:\n",
    "    * `nor(a,a)` et `not a`;\n",
    "    * `nor(nor(a, b), nor(a, b))` et `a or b`;\n",
    "    * `nor(nor(a, a), nor(b, b))` et `a and b`"
   ]
  },
  {
   "cell_type": "code",
   "execution_count": 58,
   "metadata": {},
   "outputs": [],
   "source": [
    "# Question 1\n",
    "def nor(a, b):\n",
    "    \"\"\"\n",
    "    renvoie a nor b\n",
    "    a,b: variables booléennes\n",
    "    \"\"\"\n",
    "    if a == False and b == False:\n",
    "        return True\n",
    "    else:\n",
    "        return False\n",
    "    "
   ]
  },
  {
   "cell_type": "code",
   "execution_count": 59,
   "metadata": {},
   "outputs": [
    {
     "name": "stdout",
     "output_type": "stream",
     "text": [
      "True True False\n",
      "True False False\n",
      "False True False\n",
      "False False True\n"
     ]
    }
   ],
   "source": [
    "# Question 2\n",
    "for a in (True, False):\n",
    "    for b in (True, False):\n",
    "        print(a, b, nor(a,b))"
   ]
  },
  {
   "cell_type": "code",
   "execution_count": 61,
   "metadata": {},
   "outputs": [],
   "source": [
    "assert nor(a,a) == (not a)\n",
    "assert nor(nor(a, b), nor(a, b)) ==  (a or b)\n",
    "assert nor(nor(a, a), nor(b, b)) == (a and b)"
   ]
  },
  {
   "cell_type": "code",
   "execution_count": null,
   "metadata": {},
   "outputs": [],
   "source": []
  }
 ],
 "metadata": {
  "kernelspec": {
   "display_name": "Python 3",
   "language": "python",
   "name": "python3"
  },
  "language_info": {
   "codemirror_mode": {
    "name": "ipython",
    "version": 3
   },
   "file_extension": ".py",
   "mimetype": "text/x-python",
   "name": "python",
   "nbconvert_exporter": "python",
   "pygments_lexer": "ipython3",
   "version": "3.8.8"
  },
  "toc": {
   "base_numbering": 1,
   "nav_menu": {},
   "number_sections": true,
   "sideBar": true,
   "skip_h1_title": false,
   "title_cell": "Table of Contents",
   "title_sidebar": "Contents",
   "toc_cell": false,
   "toc_position": {},
   "toc_section_display": true,
   "toc_window_display": false
  }
 },
 "nbformat": 4,
 "nbformat_minor": 4
}
