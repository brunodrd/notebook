{
 "cells": [
  {
   "cell_type": "markdown",
   "id": "7344bdc0-9b33-4e6a-ac46-bfe267e66a1a",
   "metadata": {},
   "source": [
    "Séquence 2\n",
    "==========\n",
    "\n",
    "## ACTIVITE 3 - Etude des droits et permissions\n",
    "\n",
    "Angie s'intéresse aux droits et aux permissions d'accès à des fichiers contenant des informations sur son jeu vidéo préféré, enregistrées sur l'ordinateur familial, qui a pour système d'exploitation Linux.  \n",
    "\n",
    "![dossiers](img/fig_dossiers_droits.png)\n",
    "\n",
    "!!! question \"Utiliser le shell\"\n",
    "    Démarrer le système Linux simplifié avec la commande `docker run -it --rm nsilinux:1.6`\n",
    "\n",
    "Quand on saisit un nom de fichier ou de répertoire, la touche ++tab++ permet de compléter automatiquement son nom.\n",
    "\n",
    "!!! question \"Utiliser les commandes de base du shell Bash\"\n",
    "    À l'aide de la commande `cd`, aller dans le répertoire `Jeux` d'Angie.\n",
    "\n",
    "Les options `-al` de la commande `ls` permettent d'afficher plus d'informations, comme les droits et les permissions d'accès de **tous**  les fichiers et les répertoires (cachés ou non) contenus dans le répertoire courant.  \n",
    "Le premier caractère permet de différencier les répertoires des fichiers. Ainsi, le caractère `d` (de l'anglais *directory*) désigne un répertoire et le caractère `-` désigne un fichier ordinaire.\n",
    "\n",
    "!!! question \"Utiliser les commandes de base du shell Bash - Mobiliser des concepts\"\n",
    "    Saisir la commande `ls -al`, puis identifier les répertoires et les fichiers du répertoire d'Angie.\n",
    "\n",
    "Les caractères ci-dessous correspondent aux droits d'accès et aux permissions.  \n",
    "\n",
    "![droits](img/droits.png)\n",
    "\n",
    "!!! question \"Utiliser les commandes de base du shell Bash\"\n",
    "    Quels sont les dix premiers caractères affichés pour le fichier `Mondes` et pour le répertoire `Saisons`.\n",
    "    \n",
    "La présence des lettres `r`, `w` et `x` donne le droit correspondant et `-` l'interdiction.  \n",
    "\n",
    "| Lettre \t| De l'anglais \t| Pour un fichier          \t| Pour un répertoire                              \t|\n",
    "|--------\t|--------------\t|--------------------------\t|-------------------------------------------------\t|\n",
    "| r      \t| read         \t| lire                     \t| afficher la liste des fichiers et répertoires   \t|\n",
    "| w      \t| write        \t| modifier le contenu      \t| créer, supprimer et changer le nom des fichiers \t|\n",
    "| x      \t| execute      \t| exécuter (si exécutable) \t| Ouvrir le répertoire                            \t|\n",
    "\n",
    "L'ordinateur familial est configuré pour qu'Angie et son frère Matei soient dans le même groupe d'utilisateurs, appelé `enfants`.  \n",
    "Leurs parents ont leur propre groupe, différent, appelé `parents`. Sur un fichier ou un répertoire d'Angie, les parents sont considérés comme « autres utilisateurs ».  \n",
    "Enfin, Angie est également « propriétaire » de ses propres fichiers et répertoires.\n",
    "\n",
    "!!! question \"Mobiliser des concepts\"\n",
    "    Compléter le tableau ci-dessous avec **oui** ou **non** pour les trois utilisateurs: Angie, Matei et Père.\n",
    "\n",
    "|         \t| Lecture \t| Ecriture \t| Exécution \t|\n",
    "|---------\t|---------\t|----------\t|-----------\t|\n",
    "| Mondes  \t|         \t|          \t|           \t|\n",
    "| Saisons \t|         \t|          \t|           \t|\n",
    "\n",
    "!!! question \"Mobiliser des concepts\"\n",
    "    Quelles actions le père d'Angie peut-il effectuer sur le répertoire `Saisons` ?\n"
   ]
  }
 ],
 "metadata": {
  "kernelspec": {
   "display_name": "Python 3 (ipykernel)",
   "language": "python",
   "name": "python3"
  },
  "language_info": {
   "codemirror_mode": {
    "name": "ipython",
    "version": 3
   },
   "file_extension": ".py",
   "mimetype": "text/x-python",
   "name": "python",
   "nbconvert_exporter": "python",
   "pygments_lexer": "ipython3",
   "version": "3.10.1"
  }
 },
 "nbformat": 4,
 "nbformat_minor": 5
}
