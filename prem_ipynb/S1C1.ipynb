{
 "cells": [
  {
   "cell_type": "markdown",
   "metadata": {
    "deletable": false,
    "editable": false
   },
   "source": [
    "Langage - Constructions élémentaires\n",
    "==============================="
   ]
  },
  {
   "cell_type": "markdown",
   "metadata": {
    "deletable": false,
    "editable": false
   },
   "source": [
    "## Repères historiques\n",
    "![john_backus](img/John_Backus_3.png)  \n",
    " \n",
    "\n",
    "En 1954, [John Backus](https://fr.wikipedia.org/wiki/John_Backus)(*1924-2007*) présente le premier vrai langage de programmation tel qu'on l'entend aujourd'hui: le [Fortran](https://fr.wikipedia.org/wiki/Fortran). Il mit au point vers la fin des années 50 le langage [Algol](https://fr.wikipedia.org/wiki/Algol_(langage)). Il a, par la suite, proposé la *forme Backus-Naur* notation qui permet de décrire la *grammaire* des langages de programmation."
   ]
  },
  {
   "cell_type": "markdown",
   "metadata": {},
   "source": [
    "## Programme et langage de programmation"
   ]
  },
  {
   "cell_type": "markdown",
   "metadata": {},
   "source": [
    "Un **programme est un texte qui décrit un algorithme que l’on souhaite faire exécuter par une machine**. Ce texte est écrit dans un langage particulier, appelé **langage de programmation**.  On le sauvegarde dans un fichier dont l'extension donne une indication sur le langage utilisé (`.py`, `.js`, `.c`, etc.)   \n",
    "\n",
    "Le principal langage utilisé en spécialité NSI est le langage **Python** (créé en 1991 par Guido Van Rossum) en version 3. C'est un langage de haut niveau (*d'abstraction*) et **interprété**, c'est-à-dire qu'il nécessite un autre programme appelé interpréteur qui va se charger d'exécuter ligne par ligne le *code source* du programme de l'utilisateur.  \n",
    "\n",
    "Il existe bien évidemment d'autres langages de programmation. Il s'agit ici de présenter les **constructions élémentaires** que l'on retrouve dans la quasi totalité d'entre eux."
   ]
  },
  {
   "cell_type": "markdown",
   "metadata": {},
   "source": [
    "###  Les entrées/sorties  \n",
    "Dans un langage de programmation on appelle *entrées/sorties* des constructions permettant une communication avec l'utilisateur, donnant ainsi un aspect interactif au programme.  \n",
    "En python, les fonctions `print()` et `input()` remplissent ces taches."
   ]
  },
  {
   "cell_type": "code",
   "execution_count": 11,
   "metadata": {},
   "outputs": [
    {
     "name": "stdout",
     "output_type": "stream",
     "text": [
      "Hello World!\n",
      "Python version 3. Environnement Jupyter Notebook 5.7\n",
      "Python version 3. :: Environnement :: Jupyter Notebook 5.7  !!! Pas de retour à la ligne.\n"
     ]
    }
   ],
   "source": [
    "# Exemples\n",
    "print(\"Hello World!\")\n",
    "print(\"Python version 3.\", \"Environnement\", \"Jupyter Notebook 5.7\")\n",
    "print(\"Python version 3.\", \"Environnement\", \"Jupyter Notebook 5.7\", sep=\" :: \", end=\" \")\n",
    "print(\" !!! Pas de retour à la ligne.\")"
   ]
  },
  {
   "cell_type": "markdown",
   "metadata": {},
   "source": [
    "*Remarque* : les arguments optionnels comme `sep` ou `end` par exemple, permettent d'adapter l'affichage aux besoins.  \n",
    "\n",
    "Un effet de la fonction `input()` est d'interrompre le déroulement du programme et d'attendre que l'utilisateur tape quelque chose au clavier. Les caractères entrés sont généralement récupérés dans une **variable**."
   ]
  },
  {
   "cell_type": "code",
   "execution_count": 12,
   "metadata": {},
   "outputs": [
    {
     "name": "stdout",
     "output_type": "stream",
     "text": [
      "Quel est votre niveau en programmation (novice/intermédiaire/avancé)? avancé\n",
      "Quelle était votre moyenne annuelle en math ? 20\n",
      "Vous avez répondu niveau:  avancé avec  20 en math!\n"
     ]
    }
   ],
   "source": [
    "niveau = input(\"Quel est votre niveau en programmation (novice/intermédiaire/avancé)? \")\n",
    "moyenne = input(\"Quelle était votre moyenne annuelle en math ? \")\n",
    "print(\"Vous avez répondu niveau: \", niveau,\"avec \", moyenne, \"en math!\")"
   ]
  },
  {
   "cell_type": "markdown",
   "metadata": {
    "deletable": false,
    "editable": false
   },
   "source": [
    "*Remarques*  \n",
    "\n",
    "*  `input()` **renvoie toujours une chaine de caractères** (même si l'utilisateur entre un nombre!);  \n",
    "*  la syntaxe employée à l'intérieur de la fonction `print()` bien que correcte, sera adaptée dans les cours ultérieurs tenant compte des dernières évolutions du langage."
   ]
  },
  {
   "cell_type": "markdown",
   "metadata": {},
   "source": [
    "### La déclaration-affectation\n",
    "Pour pouvoir accéder aux données, un programme d’ordinateur fait abondamment usage de **variables**. En python, **une variable est une référence vers un objet mémoire** (voir [video](https://www.youtube.com/watch?v=_jN8PWnqNks)).  \n",
    "\n",
    "Contrairement à certains langages, les variables n'ont pas besoin d'être déclarées au préalable, en python. La **déclaration et l'affectation de variables** peuvent se faire en une seule instruction. En python cette opération est réalisée selon le schéma `nom_variable = valeur`.  \n",
    "\n",
    "Exemples\n",
    "\n",
    "```python\n",
    "n = 7\n",
    "msg = \"Affectation\"\n",
    "pi = 3.14\n",
    "```\n",
    "\n",
    "*Remarques*:  \n",
    "\n",
    "* le nom de variable doit commencer par une lettre et ne pas être un mot réservé (voir [liste](https://docs.python.org/fr/3.7/reference/lexical_analysis.html#keywords)).\n",
    "* Le **type** de l'objet référencé par une variable est déterminé lors de l'affectation, de manière tout à fait transparente. Dans l'exemple précédent, `n` référence un entier (`int`), `msg` référence une chaîne de caractères (`str`), `pi` référence un nombre décimal (`float`).  "
   ]
  },
  {
   "cell_type": "markdown",
   "metadata": {},
   "source": [
    "### Séquence  et bloc d'instructions"
   ]
  },
  {
   "cell_type": "markdown",
   "metadata": {},
   "source": [
    "On peut définir une séquence d'instruction comme un ensemble de deux instructions exécutées l'une **à la suite** de l'autre (l'ordre est important!). Par exemple, les lignes\n",
    "\n",
    "```python\n",
    "x = x + 1\n",
    "x = x * 2\n",
    "```\n",
    "\n",
    "constituent une séquence d'instructions (*à condition que la variable x ait été affectée au préalable*). Nos programmes comporteront généralement des séquences de plus de deux instructions, on parlera alors de **bloc d'instructions**.  \n",
    "En python, un bloc d'instructions est repéré par son **indentation**, c'est-à-dire le décalage par rapport au bloc précédent (*typiquement un multiple de 4 espaces*).\n",
    "\n",
    "**Exemple**  \n",
    "\n",
    "La séquence d'instructions ci-dessous permet de calculer et d'afficher l'aire $S$ de ce disque de rayon $r$ (rappel: $S=\\pi*r^{2}$."
   ]
  },
  {
   "cell_type": "code",
   "execution_count": 1,
   "metadata": {},
   "outputs": [
    {
     "name": "stdout",
     "output_type": "stream",
     "text": [
      "78.5\n"
     ]
    }
   ],
   "source": [
    "PI = 3.14\n",
    "r = 5\n",
    "s = PI * r**2\n",
    "print(s)"
   ]
  },
  {
   "cell_type": "markdown",
   "metadata": {},
   "source": [
    "*Remarque*: les instructions précédentes forment un seul bloc d'instructions (elles sont toutes alignées sur la même colonne)."
   ]
  },
  {
   "cell_type": "markdown",
   "metadata": {},
   "source": [
    "### Le test simple\n",
    "Cette construction permet d'executer une instruction ou un bloc d'instructions uniquement si une condition est vérifiée. En python, la syntaxe est la suivante:\n",
    "\n",
    "```python\n",
    "if condition:\n",
    "    bloc_instructions\n",
    "```"
   ]
  },
  {
   "cell_type": "markdown",
   "metadata": {},
   "source": [
    "**Exemple**  \n",
    "La construction `... % 2 == 0` (qui signifie *reste de la division euclidienne par 2 nul*) permet de tester si un nombre est pair."
   ]
  },
  {
   "cell_type": "code",
   "execution_count": 2,
   "metadata": {},
   "outputs": [
    {
     "name": "stdout",
     "output_type": "stream",
     "text": [
      "50 est pair!\n",
      "Sa moitié vaut  25.0\n"
     ]
    }
   ],
   "source": [
    "n = 50\n",
    "if n % 2 == 0:\n",
    "    print(n, \"est pair!\")\n",
    "    print(\"Sa moitié vaut \", n / 2)"
   ]
  },
  {
   "cell_type": "markdown",
   "metadata": {
    "deletable": false,
    "editable": false
   },
   "source": [
    "Pour identifier sans ambiguités les instructions appartenant au bloc vérifiant la condition, on **DOIT LES INDENTER** en python.  \n",
    "La condition est souvent exprimée avec des **opérateurs de comparaisons**. Voici quelques exemples:  \n",
    "\n",
    "```python\n",
    "x == y # x est égal à y\n",
    "x != y # x est différent de y\n",
    "x > y # x est plus grand que y\n",
    "x < y # x est plus petit que y\n",
    "x >= y # x est plus grand que, ou égal à y\n",
    "x <= y # x est plus petit que, ou égal à y\n",
    "```"
   ]
  },
  {
   "cell_type": "markdown",
   "metadata": {},
   "source": [
    "### Le test avec alternative"
   ]
  },
  {
   "cell_type": "markdown",
   "metadata": {},
   "source": [
    "Dans un test avec alternative, on ajoute un bloc à traiter lorsque **la condition n'est pas vérifiée**. La syntaxe est la suivante:\n",
    "\n",
    "```python\n",
    "if condition:\n",
    "    bloc_instructions_SI\n",
    "else:\n",
    "    bloc_instructions_SINON\n",
    "```\n"
   ]
  },
  {
   "cell_type": "markdown",
   "metadata": {},
   "source": [
    "**Exemple**"
   ]
  },
  {
   "cell_type": "code",
   "execution_count": 3,
   "metadata": {},
   "outputs": [
    {
     "name": "stdout",
     "output_type": "stream",
     "text": [
      "501  est impair\n"
     ]
    }
   ],
   "source": [
    "# Les test alternatif en python\n",
    "n = 501\n",
    "if n % 2 == 0:\n",
    "    print(n, \"est pair!\")\n",
    "    print(\"Sa moitié vaut \", n / 2)\n",
    "else:\n",
    "    print(n, \" est impair\")"
   ]
  },
  {
   "cell_type": "markdown",
   "metadata": {},
   "source": [
    "### La boucle conditionnelle, non bornée"
   ]
  },
  {
   "cell_type": "markdown",
   "metadata": {},
   "source": [
    "Une **boucle conditionnelle**, appelé encore **boucle while** (*en anglais*) ou **boucle tant que** (*en français*) exécute un bloc d'instructions tant qu'une condition est vérifiée.  \n",
    "\n",
    "En python, la boucle conditionnelle a la forme suivante:  \n",
    "\n",
    "```python\n",
    "while condition:\n",
    "    bloc_instructions\n",
    "```\n",
    "\n",
    "!!! note \"Remarques\"\n",
    "    *  la condition s'exprime généralement avec les opérateurs de comparaisons vu plus haut;\n",
    "    *  le bloc d'instructions est indenté.\n",
    "\n",
    "**Exemple**"
   ]
  },
  {
   "cell_type": "code",
   "execution_count": 9,
   "metadata": {},
   "outputs": [
    {
     "name": "stdout",
     "output_type": "stream",
     "text": [
      "1  x  8  =  8\n",
      "2  x  8  =  16\n",
      "3  x  8  =  24\n",
      "4  x  8  =  32\n",
      "5  x  8  =  40\n",
      "6  x  8  =  48\n",
      "7  x  8  =  56\n",
      "8  x  8  =  64\n",
      "9  x  8  =  72\n"
     ]
    }
   ],
   "source": [
    "tab = 8\n",
    "i = 1\n",
    "while i < 10: # la condition\n",
    "    print(i, \" x \", tab, \" = \", i*tab)\n",
    "    i = i + 1"
   ]
  },
  {
   "cell_type": "markdown",
   "metadata": {},
   "source": [
    "!!! danger \"ATTENTION\"\n",
    "    Il **faut que la condition ne soit plus vérifiée** à un moment donné pour assurer la **terminaison** de la boucle et éviter le bouclage infini. Ce point sera détaillé dans le cours d'algorithmique.      \n",
    "    Dans le cas précédent, la condition est: $i<10$. Or, $i$ est un entier qui augmente de 1 à chaque tour de boucle. Lorsqu'on aura atteint $i=10$ la condition ne sera plus vérifiée et on sortira de la boucle.  "
   ]
  },
  {
   "cell_type": "markdown",
   "metadata": {},
   "source": [
    "### La boucle inconditionnelle ou *bornée*   "
   ]
  },
  {
   "cell_type": "markdown",
   "metadata": {},
   "source": [
    "Lorsque le **nombre d'itérations est connu d'avance** la boucle devient **inconditionnelle**. On l'appelle encore boucle bornée ou **boucle pour** en français (*for loop* en anglais).  \n",
    "En python, la syntaxe de la boucle `for`est la suivante:\n",
    "\n",
    "```python\n",
    "for variable_compteur in sequence:\n",
    "    bloc_instructions\n",
    "```\n",
    "\n",
    "!!! note \"Remarques\"\n",
    "    *  `sequence` est une suite d'objets, comme des entiers, des caractères d'une chaine, etc, (d'autres séquences seront vus dans les prochains cours); typiquement une séquence d'entiers est obtenue avec l'objet `range(a, b)` qui fourni les entiers allant de $a$ à $b-1$.\n",
    "    *  Le bloc d'instructions doit être indenté.  \n",
    "\n",
    "**Exemple**"
   ]
  },
  {
   "cell_type": "code",
   "execution_count": 4,
   "metadata": {},
   "outputs": [
    {
     "name": "stdout",
     "output_type": "stream",
     "text": [
      "1  x  10  =  10\n",
      "2  x  10  =  20\n",
      "3  x  10  =  30\n",
      "4  x  10  =  40\n",
      "5  x  10  =  50\n",
      "6  x  10  =  60\n",
      "7  x  10  =  70\n",
      "8  x  10  =  80\n",
      "9  x  10  =  90\n"
     ]
    }
   ],
   "source": [
    "tab = 10\n",
    "\n",
    "for i in range(1, tab): # i est la variable compteur, range(tab) est la sequence d'entiers\n",
    "    print(i, \" x \", tab, \" = \", i*tab)"
   ]
  },
  {
   "cell_type": "markdown",
   "metadata": {},
   "source": [
    "## Diversité et unité des langages"
   ]
  },
  {
   "cell_type": "markdown",
   "metadata": {},
   "source": [
    "Les langages de programmations sont très nombreux. Ils peuvent être classés suivant leur *style* ou **paradigme** (façon de modéliser les problèmes et les résoudre).  \n",
    "\n",
    "Plusieurs paradigmes (orienté objet ou fonctionnel) seront abordés en terminale. En 1re, on peut se limiter au style **impératif**, dans lequel les problèmes sont résolus de manière séquentielle, en procédant à des modifications de la mémoire. Il est fait usage de *variables*, de *boucles*, etc.  \n",
    "\n",
    "Passer d'un langage à un autre peut être facile à l'intérieur d'un même paradigme car les constructions sont souvent assez proches.  \n",
    "\n",
    "On peut aussi distinguer les langages suivant le fait qu'ils soient:  \n",
    "\n",
    "* interprété[^in] ou  compilé[^com];\n",
    "* à typage dynamique[^dy] ou statique[^st];\n",
    "\n",
    "[^in]: un programme annexe lit le code source et exécute les instructions; c'est le cas du langage Python (l'interpréteur le plus courant s'appelle CPython).\n",
    "\n",
    "[^com]: un programme annexe transforme le code source en langage machine (une fois) avant son exécution.\n",
    "\n",
    "[^dy]: une variable n'a pas besoin d'être déclarée et peut changer de type au cours du programme (exemple en python).\n",
    "\n",
    "[^st]: les variables doivent être déclarées et ne peuvent changer de type.\n",
    "\n",
    "**Exemples**\n",
    "\n",
    "```javascript\n",
    "/* Le test alternatif en Javascript */\n",
    "const N = 50\n",
    "\n",
    "if (N % 2 === 0) {\n",
    "\tconsole.log(N + \" est pair\")\n",
    "    console.log(\"Sa moitié vaut \" + N/2)\n",
    "} else {\n",
    "\tconsole.log(N + \" est impair\")\n",
    "}\n",
    "```\n",
    "\n",
    "```c\n",
    "/* Le test alternatif en C */\n",
    "\n",
    "#include <stdio.h>\n",
    "\n",
    "int main(void) {\n",
    "\tint N = 50;\n",
    "\t\n",
    "\tif ((N % 2) == 0){\n",
    "\t\tprintf(\"%d est pair\\n\", N);\n",
    "\t\tprintf(\"Sa moitié vaut %d\\n\", N/2);\n",
    "\t\t}\n",
    "\telse {\n",
    "\t\tprintf(\"%d est impair\\n\", N);\n",
    "\t\t}\n",
    "\treturn 0;\n",
    "}\n",
    "```"
   ]
  },
  {
   "cell_type": "markdown",
   "metadata": {
    "deletable": false,
    "editable": false
   },
   "source": [
    "*Bruno DARID* 2020-2021  \n",
    "\n",
    "![licence](img/licence.svg.png)"
   ]
  }
 ],
 "metadata": {
  "celltoolbar": "Format de la Cellule Texte Brut",
  "kernelspec": {
   "display_name": "Python 3",
   "language": "python",
   "name": "python3"
  },
  "language_info": {
   "codemirror_mode": {
    "name": "ipython",
    "version": 3
   },
   "file_extension": ".py",
   "mimetype": "text/x-python",
   "name": "python",
   "nbconvert_exporter": "python",
   "pygments_lexer": "ipython3",
   "version": "3.8.8"
  },
  "toc": {
   "base_numbering": 1,
   "nav_menu": {},
   "number_sections": true,
   "sideBar": true,
   "skip_h1_title": true,
   "title_cell": "Table of Contents",
   "title_sidebar": "Contents",
   "toc_cell": false,
   "toc_position": {
    "height": "calc(100% - 180px)",
    "left": "10px",
    "top": "150px",
    "width": "247.575px"
   },
   "toc_section_display": true,
   "toc_window_display": true
  }
 },
 "nbformat": 4,
 "nbformat_minor": 4
}
