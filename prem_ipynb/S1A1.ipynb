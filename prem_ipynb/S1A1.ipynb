{
 "cells": [
  {
   "cell_type": "markdown",
   "id": "optimum-medicaid",
   "metadata": {
    "deletable": false,
    "editable": false
   },
   "source": [
    "Activité 1 constructions élémentaires & langages\n",
    "========================================"
   ]
  },
  {
   "cell_type": "markdown",
   "id": "recreational-amino",
   "metadata": {
    "deletable": false,
    "editable": false
   },
   "source": [
    "Adam à lui que dans la grande majorité des langage de programmation on retrouve les mêmes construction élémentaires.Les deux premières constructions élémentaires auquel il s'intéresse sont les affectations et les séquences d'instruction qui sont présentes dans la fonction Python suivante: "
   ]
  },
  {
   "cell_type": "code",
   "execution_count": 1,
   "id": "serial-robin",
   "metadata": {
    "deletable": false,
    "editable": false
   },
   "outputs": [],
   "source": [
    "def conversion(duree_en_minute):\n",
    "    heure = duree_en_minute // 60\n",
    "    minutes = duree_en_minute % 60\n",
    "    return heures, minutes"
   ]
  },
  {
   "cell_type": "markdown",
   "id": "ambient-objective",
   "metadata": {
    "deletable": false,
    "editable": false
   },
   "source": [
    "Donner les lignes où on peut trouver:\n",
    "\n",
    "* une affectation;\n",
    "* une séquence d'instructions."
   ]
  },
  {
   "cell_type": "markdown",
   "id": "surprising-immune",
   "metadata": {},
   "source": [
    "Réponses\n"
   ]
  },
  {
   "cell_type": "markdown",
   "id": "fluid-delivery",
   "metadata": {
    "deletable": false,
    "editable": false
   },
   "source": [
    "Parmi les deux fonctions suivantes, laquelle contient une boucle bornée ? une boucle non bornée ? *Préciser les mots clés utilisés*."
   ]
  },
  {
   "cell_type": "code",
   "execution_count": 2,
   "id": "operating-consolidation",
   "metadata": {
    "deletable": false,
    "editable": false
   },
   "outputs": [],
   "source": [
    "def estimer_quantite(quantite_initiale, annee):\n",
    "    resultat = quantite_initiale\n",
    "    while resultat <= quantite_initiale * 3:\n",
    "        resultat = resultat * 1.33\n",
    "        annee = annee + 1\n",
    "    return annee\n",
    "\n",
    "def augmentation(quantite_initiale):\n",
    "    resultat = quantite_initiale\n",
    "    for i in range(5):\n",
    "        resultat = resultat * 1.33\n",
    "    return resultat"
   ]
  },
  {
   "cell_type": "markdown",
   "id": "typical-simpson",
   "metadata": {},
   "source": [
    "Réponses\n"
   ]
  },
  {
   "cell_type": "markdown",
   "id": "after-steal",
   "metadata": {
    "deletable": false,
    "editable": false
   },
   "source": [
    "On considère maintenant les 6 fonctions suivantes. "
   ]
  },
  {
   "cell_type": "code",
   "execution_count": 3,
   "id": "driven-settle",
   "metadata": {
    "deletable": false,
    "editable": false
   },
   "outputs": [],
   "source": [
    "def maximum(a, b):\n",
    "    if a > b:\n",
    "        return a\n",
    "    else:\n",
    "        return b\n",
    "\n",
    "def maximum2(a, b, c, d):\n",
    "    return maximum(maximum(a, b), maximum(c, d))\n",
    "\n",
    "def positive(valeur):\n",
    "    if valeur < 0:\n",
    "        valeur = -valeur\n",
    "    return valeur\n",
    "\n",
    "def conversion(en_bit):\n",
    "    en_octet = en_bit / 8\n",
    "    return en_octet\n",
    "\n",
    "def racine(a):\n",
    "    x = 1\n",
    "    for i in range(10):\n",
    "        x = (x + a / x) / 2\n",
    "    return x\n",
    "\n",
    "def compte_bits(valeur):\n",
    "    nb_bits = 1\n",
    "    while valeur > 2**nb_bits:\n",
    "        nb_bits = nb_bits + 1\n",
    "    return nb_bits    "
   ]
  },
  {
   "cell_type": "markdown",
   "id": "appointed-network",
   "metadata": {
    "deletable": false,
    "editable": false
   },
   "source": [
    "Dans quelle(s) fonction(s) retrouve-t-on:  \n",
    "\n",
    "1. une séquence d'instruction ?\n",
    "2. une ou des affectations ?\n",
    "3. un test ?\n",
    "4. une boucle bornée ?\n",
    "5. une boucle non bornée ?\n",
    "6. un appel de fonction ?"
   ]
  },
  {
   "cell_type": "markdown",
   "id": "marked-composition",
   "metadata": {},
   "source": [
    "Réponses\n"
   ]
  },
  {
   "cell_type": "markdown",
   "id": "humanitarian-orchestra",
   "metadata": {
    "deletable": false,
    "editable": false
   },
   "source": [
    "---"
   ]
  },
  {
   "cell_type": "markdown",
   "id": "black-lunch",
   "metadata": {
    "deletable": false,
    "editable": false
   },
   "source": [
    "Adam s'attache maintenant à écrire certaines fonctions précédentes avec le langage **JavaScript** afin de les comparer à celle écrite en Python. Il commence par écrire la fonction nommée `maximum()`. "
   ]
  },
  {
   "cell_type": "markdown",
   "id": "electronic-pressure",
   "metadata": {
    "deletable": false,
    "editable": false
   },
   "source": [
    "```javascript\n",
    "function maximum(a, b){\n",
    "    if (a > b) {\n",
    "        return a\n",
    "    } else {\n",
    "        return b\n",
    "    }\n",
    "}\n",
    "```"
   ]
  },
  {
   "cell_type": "markdown",
   "id": "lined-carrier",
   "metadata": {
    "deletable": false,
    "editable": false
   },
   "source": [
    "Citer les points communs avec le langage Python et repérer dans cet exemple 3 points particuliers du langage JavaScript. "
   ]
  },
  {
   "cell_type": "markdown",
   "id": "widespread-import",
   "metadata": {},
   "source": [
    "Réponses\n"
   ]
  },
  {
   "cell_type": "markdown",
   "id": "younger-patient",
   "metadata": {
    "deletable": false,
    "editable": false
   },
   "source": [
    "Adam écrit à présent cette fonction sans les indentations (version 1) et sur une seule ligne (version 2. "
   ]
  },
  {
   "cell_type": "markdown",
   "id": "junior-sleep",
   "metadata": {
    "deletable": false,
    "editable": false
   },
   "source": [
    "```javascript\n",
    "/* Version 1 */\n",
    "function maximum(a, b) {\n",
    "if (a < b) {\n",
    "return a\n",
    "} else {\n",
    "return b\n",
    "}\n",
    "}\n",
    "\n",
    "/* Version 2 */\n",
    "function maximum(a,b){ if(a<b) { return a } else { return b } }\n",
    "```"
   ]
  },
  {
   "cell_type": "markdown",
   "id": "subject-breathing",
   "metadata": {
    "deletable": false,
    "editable": false
   },
   "source": [
    "Sachant que les deux écritures de la fonction `maximum()` sont correctes, quelles hypothèses peut-on formuler quant aux indentations et aux retours à la ligne en javascript ? Quel signe de ponctuation est utilisé en Javascript pour remplacer les indentations en python ?"
   ]
  },
  {
   "cell_type": "markdown",
   "id": "wireless-county",
   "metadata": {},
   "source": [
    "Réponses\n"
   ]
  },
  {
   "cell_type": "markdown",
   "id": "ahead-twelve",
   "metadata": {
    "deletable": false,
    "editable": false
   },
   "source": [
    "En gardant les indentations qui améliore la lisibilité du code, Adam s'intéresse à présent à la fonction `augmentation()`.  \n",
    "\n",
    "En considérant le programme JavaScript `augmentation()` ci-dessous, citer deux nouveaux points communs et repérer deux différences entre les langages Python et JavaScript.\n",
    "\n",
    "```javascript\n",
    "function augmentation(quantite_initiale) {\n",
    "    let resultat = quantite_initiale\n",
    "    for(let i=0; i<5; i++) {\n",
    "        resultat = resultat * 1.33\n",
    "    }\n",
    "    return resultat\n",
    "}\n",
    "```"
   ]
  },
  {
   "cell_type": "markdown",
   "id": "sealed-replica",
   "metadata": {},
   "source": [
    "Réponses\n"
   ]
  },
  {
   "cell_type": "markdown",
   "id": "employed-semiconductor",
   "metadata": {
    "deletable": false,
    "editable": false
   },
   "source": [
    "Formuler une hypothèse sur l'utilité d'écrire le mot clé `let` au ligne 2 et 3. "
   ]
  },
  {
   "cell_type": "markdown",
   "id": "victorian-family",
   "metadata": {},
   "source": [
    "Réponses\n"
   ]
  },
  {
   "cell_type": "markdown",
   "id": "extensive-configuration",
   "metadata": {
    "deletable": false,
    "editable": false
   },
   "source": [
    "Adam réécrit également la première fonction de cette activité, `conversion()`, en javascript.  \n",
    "\n",
    "```javascript\n",
    "function conversion(duree_en_minute) {\n",
    "    let heures = Math.floor(duree_en_minute / 60)\n",
    "    let minutes = duree_en_minute % 60\n",
    "    return [heures, minutes]\n",
    "}\n",
    "```\n",
    "\n",
    "En javascript une fonction ne peut pas renvoyer un couple de valeur (en fait un *n-uplet*). Comment Adam a-t-il choisi de renvoyer le résultat ? "
   ]
  },
  {
   "cell_type": "markdown",
   "id": "crazy-sessions",
   "metadata": {},
   "source": [
    "Réponse\n"
   ]
  },
  {
   "cell_type": "markdown",
   "id": "charged-incidence",
   "metadata": {
    "deletable": false,
    "editable": false
   },
   "source": [
    "L'opérateur qui calcule le reste de la division euclidienne est identique en python et en javascript: `%`. En revanche, il n'existe pas d'opérateur en javascript pour calculer le quotient de la division euclidienne. Il faut calculer le quotient de la division et récupérer sa partie entière en faisant appel à une fonction native du langage JavaScript qui s'appelle `floor()`. \n",
    "\n",
    "Adam se rappelle avoir déjà utilisé une fonction Python qui avait le même nom. D'une manière générale, quelles difficultés peut-on rencontrer quand on utilise un nouveau langage de programmation ?"
   ]
  },
  {
   "cell_type": "markdown",
   "id": "comparable-disclaimer",
   "metadata": {},
   "source": [
    "Réponses\n"
   ]
  }
 ],
 "metadata": {
  "kernelspec": {
   "display_name": "Python 3",
   "language": "python",
   "name": "python3"
  },
  "language_info": {
   "codemirror_mode": {
    "name": "ipython",
    "version": 3
   },
   "file_extension": ".py",
   "mimetype": "text/x-python",
   "name": "python",
   "nbconvert_exporter": "python",
   "pygments_lexer": "ipython3",
   "version": "3.8.8"
  },
  "toc": {
   "base_numbering": 1,
   "nav_menu": {},
   "number_sections": true,
   "sideBar": true,
   "skip_h1_title": true,
   "title_cell": "Table of Contents",
   "title_sidebar": "Contents",
   "toc_cell": false,
   "toc_position": {
    "height": "calc(100% - 180px)",
    "left": "10px",
    "top": "150px",
    "width": "165px"
   },
   "toc_section_display": true,
   "toc_window_display": true
  }
 },
 "nbformat": 4,
 "nbformat_minor": 5
}
