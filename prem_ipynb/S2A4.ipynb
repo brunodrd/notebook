{
 "cells": [
  {
   "cell_type": "markdown",
   "id": "chinese-paper",
   "metadata": {},
   "source": [
    "SEQUENCE 2\n",
    "==========="
   ]
  },
  {
   "cell_type": "markdown",
   "id": "secure-undergraduate",
   "metadata": {},
   "source": [
    "## ACTIVITE 4 - Modifications des droits"
   ]
  },
  {
   "cell_type": "markdown",
   "id": "possible-southeast",
   "metadata": {},
   "source": [
    "Angie veut donner plus de droits à son petit frère Matéi afin qu'il puisse avoir un accès complet à certains fichiers \n",
    "contenant des informations sur son jeu vidéo préféré et les modifier lui-même.  \n",
    "(*Le système linux simplifié doit être démarré pour cette activité*: `docker run -it --rm nsilinux:1.6`)"
   ]
  },
  {
   "cell_type": "markdown",
   "id": "greek-blade",
   "metadata": {},
   "source": [
    "!!! hint \"Commande\"\n",
    "    La commande `chmod droits nom_fichier_repertoire` (de l'anglais *change mode*) permet de modifier les permissions d'accès à un fichier ou à un répertoire nommé `nom_fichier_repertoire`. La syntaxe de `droits` est détaillée ci-dessous."
   ]
  },
  {
   "cell_type": "markdown",
   "id": "alike-converter",
   "metadata": {},
   "source": [
    "**Exemple**  \n",
    "\n",
    "la commande `chmod ug+x nom_fichier` ajoute le droit d'exécution du fichier `nom_fichier` **au propriétaire** et aux **utilisateurs faisant partie du groupe** du fichier.  \n",
    "\n",
    "![chmod](img/chmod_2.jpg.png)"
   ]
  },
  {
   "cell_type": "markdown",
   "id": "twenty-criticism",
   "metadata": {},
   "source": [
    "!!! question \"A faire\"\n",
    "    * À l'aide de la commande `ls -l`, trouver les droits du fichier `Personnages` puis modifier ses droits afin qu'il soit modifiable par le frère d'Angie, qui est dans le même groupe que le propriétaire. Vérifier enfin que les droits ont bien été changés.\n",
    "    * Tester la commande `chmod u=rw,go=r Mondes`. Faire une hypothèse sur l'utilité de la virgule."
   ]
  },
  {
   "cell_type": "markdown",
   "id": "grateful-microphone",
   "metadata": {},
   "source": [
    "Au lieu de modifier les fichiers un par un, Angie a découvert, en utilisant la commande `man chmod`, que \n",
    "l'option `-R` (de l'anglais *recursive*) modifie les autorisations de tout le contenu d'un répertoire.  \n",
    "\n",
    "!!! question \"A faire\"\n",
    "    Tester, puis écrire la commande qui permet d'ajouter au répertoire `Saisons` et à tout ce qu'il contient les droits en lecture et en écriture au groupe du fichier. Supprimer les droits en lecture aux utilisateurs qui ne font pas partie du groupe."
   ]
  }
 ],
 "metadata": {
  "kernelspec": {
   "display_name": "Python 3",
   "language": "python",
   "name": "python3"
  },
  "language_info": {
   "codemirror_mode": {
    "name": "ipython",
    "version": 3
   },
   "file_extension": ".py",
   "mimetype": "text/x-python",
   "name": "python",
   "nbconvert_exporter": "python",
   "pygments_lexer": "ipython3",
   "version": "3.8.8"
  }
 },
 "nbformat": 4,
 "nbformat_minor": 5
}
