{
 "cells": [
  {
   "cell_type": "markdown",
   "metadata": {
    "hideOutput": false
   },
   "source": [
    "CODAGE DES NOMBRES DECIMAUX\n",
    "==============================="
   ]
  },
  {
   "cell_type": "markdown",
   "metadata": {},
   "source": [
    "## Conversion décimal - binaire d'un nombre en virgule fixe"
   ]
  },
  {
   "cell_type": "markdown",
   "metadata": {},
   "source": [
    "Pour passer du binaire au décimal, la méthode consiste à considérer deux parties:  \n",
    "\n",
    "* la première, composéee de puissances positives et qui correspond à la partie entière;\n",
    "* la seconde, composée de puissances négatives et qui correspond à la la partie fractionnaire.\n",
    "\n",
    "Ces deux parties étant séparées par la virgule *qui est fixe dans ce cas*.  \n",
    "La conversion binaire $\\rightarrow$ décimale est obtenue en additionnant les termes de la décomposition en base 2.  \n",
    "\n",
    "??? tip \"Exemple\"\n",
    "\n",
    "    | $2^2$ \t| $2^1$ \t| $2^0$ \t| $2^{-1}$ \t| $2^{-2}$ \t| $2^{-3}$ \t| $2^{-4}$ \t|\n",
    "    |-------\t|-------\t|-------\t|----------\t|----------\t|----------\t|----------\t|\n",
    "    |1      \t|0      \t|  1     \t|  1       \t|  1       \t|  0       \t|  1       \t|\n",
    "    \n",
    "    Ce nombre vaut $2^2+1+\\dfrac{1}{2}+\\dfrac{1}{4}+\\dfrac{1}{16}=5.8125$"
   ]
  },
  {
   "cell_type": "markdown",
   "metadata": {},
   "source": [
    "Pour passer du décimal au binaire, on peut utiliser l'algorithme ci-dessous.  \n",
    "\n",
    "<figure>\n",
    "    <img alt=\"algo\" src=\"img/virgulefixe.png\" width=\"80%\">\n",
    "</figure>\n",
    "\n",
    "!!! bug \"ATTENTION\"\n",
    "    Cet algorithme est destiné à être *déroulé à la main*. En effet, il peut boucler indéfiniment. Ce cas se produit pour des nombres qui ne peuvent être représentés en machine. La valeur retenue est forcément **approchée**.\n"
   ]
  },
  {
   "cell_type": "markdown",
   "metadata": {},
   "source": [
    "??? tip \"Exemple\"\n",
    "    Convertir en binaire 6,6875. En appliquant l'algorithme (la conversion de 6 en binaire est immédiate et \n",
    "    n'est pas détaillée):\n",
    "    \n",
    "    | r     | f      | resultat |\n",
    "    |-------|--------|----------|\n",
    "    |       | 0,6875 | 110,     |\n",
    "    | 1,375 | 0,375  | 110,1    |\n",
    "    | 0,75  | 0,75   | 110,10   |\n",
    "    | 1,5   | 0,5    | 110,101  |\n",
    "    | 1,0   | 0      | 110,1011 |\n",
    "    \n",
    "    Par conséquent $6,6875=110,1011_2$ en virgule fixe.\n",
    "    "
   ]
  },
  {
   "cell_type": "markdown",
   "metadata": {},
   "source": [
    "## Conversion d'un nombre décimal en binaire - virgule flottante  "
   ]
  },
  {
   "cell_type": "markdown",
   "metadata": {},
   "source": [
    "Il s'agit de découvrir ici la façon dont on représente **de manière approximative** les nombres décimaux ou **nombres flottants** en machine. Il s'agit de la **représentation en virgule flottante**."
   ]
  },
  {
   "cell_type": "markdown",
   "metadata": {},
   "source": [
    "### Le format et les notations"
   ]
  },
  {
   "cell_type": "markdown",
   "metadata": {},
   "source": [
    "Cette deuxième façon d'encoder un nombre décimal est inspirée de la notation scientifique: $\\pm m\\times 10^n$ avec $1\\leq m<10$ et $n$ un entier.  \n",
    "De manière similaire, en base 2, on va écrire les nombres sous la forme $\\pm m\\times 2^n$ avec $1\\leq m \\lt 2$ et $n$ un entier.  \n",
    "Le codage d'un nombre décimal en base 2 nécessite trois informations binaires:  \n",
    "\n",
    "*  une pour le signe $s$;\n",
    "*  une pour l'exposant $n$;\n",
    "*  une pour $m$ qu'on appelle encore **mantisse**. "
   ]
  },
  {
   "cell_type": "markdown",
   "metadata": {},
   "source": [
    "### Représentation en simple ou double précision"
   ]
  },
  {
   "cell_type": "markdown",
   "metadata": {},
   "source": [
    "Le format précédent a été détaillé dans une norme appelée [IEEE754](https://fr.wikipedia.org/wiki/IEEE_754). Plusieurs niveaux de précisions sont définis dans cette norme. On ne s'intéressera ici qu'à la représentation en **simple précision sur 32 bits** et **double précision sur 64 bits**."
   ]
  },
  {
   "cell_type": "markdown",
   "metadata": {},
   "source": [
    "#### Le signe"
   ]
  },
  {
   "cell_type": "markdown",
   "metadata": {},
   "source": [
    "Un seul bit est nécessaire pour coder le signe $s$. On garde la convention déjà rencontrée: 0 pour le signe `+` et 1 pour le signe `-` ."
   ]
  },
  {
   "cell_type": "markdown",
   "metadata": {},
   "source": [
    "#### L'exposant"
   ]
  },
  {
   "cell_type": "markdown",
   "metadata": {},
   "source": [
    "La norme prévoit **8 bits en simple précision** et **11 bits en double précision** pour l'exposant. Les valeurs de $n$ possibles seraient donc comprises entre 0 et 255 ou 0 et 2047. C'est un problème car cela nous empêche de travailler avec des nombres proches de zéro.  \n",
    "\n",
    "Pour y remédier, on a eu recours à l'astuce suivante: l'exposant est *biaisé* ou *décalé* de 127 en simple précision et 1023 en double précision. **La conséquence est que l'exposant** $n$  **ne correspond pas à la valeur codée** $e$ mais à:  \n",
    "\n",
    "* $e-127$ en simple précision;\n",
    "* $e-1023$ en double précision.\n",
    "\n",
    "Ainsi, sur 8 bits, la valeur codée $e$ variant de $0000\\ 0000=0$ à $1111\\ 1111=255$ va correspondre à un exposant allant de $0-127=-127$ à $255-127=128$."
   ]
  },
  {
   "cell_type": "markdown",
   "metadata": {},
   "source": [
    "#### La mantisse"
   ]
  },
  {
   "cell_type": "markdown",
   "metadata": {},
   "source": [
    "Avec le format décrit, $1\\leq m \\lt 2$, on aura toujours $m=1,\\dots$. La mantisse commence toujours par $1$ (*sauf cas particuliers qui ne seront pas traités ici*). De ce fait, on ne code jamais le 1 et **les 23 ou 52 bits restants sont utilisés pour coder la partie fractionnaire** $f$ **de la mantisse**.  \n",
    "\n",
    "!!! tip \"Remarque\"\n",
    "    $m=1+f$"
   ]
  },
  {
   "cell_type": "markdown",
   "metadata": {},
   "source": [
    "#### Résumé"
   ]
  },
  {
   "cell_type": "markdown",
   "metadata": {},
   "source": [
    "Un nombre décimal sera codé de la manière suivante: *signe* | *exposant* $e$ | *partie fractionnaire* $f$ \n",
    "\n",
    "| précision \t| exposant $e$ \t|partie frac. $f$       \t| expression de la valeur en décimal                    \t|\n",
    "|-----------\t|--------------\t|--------------\t|-------------------------------------\t|\n",
    "| 32 bits   \t| 8 bits       \t| 23 bits      \t| $(-1)^s\\times (1+f)\\times 2^{e-127}$  \t|\n",
    "| 64 bits   \t| 11 bits      \t| 52 bits      \t| $(-1)^s\\times (1+f)\\times 2^{e-1023}$ \t|"
   ]
  },
  {
   "cell_type": "markdown",
   "metadata": {},
   "source": [
    "!!! note \"En marge du programme\"\n",
    "    D'après le programme officiel aucune connaissance **précise** de la norme IEEE754 n'est exigible. Les deux exemples qui suivent complètent le cours (*notamment pour les plus curieux*) mais **ne feront pas l'objet d'évaluation**.\n",
    "\n",
    "### Exemple de conversion décimal - flottant\n",
    "Soit à convertir $N=17,25$ en flottant, format simple précision. Il s'agit de touver les trois composantes $s,e \\mbox{ et}f$ de la représentation en virgule flottante.  \n",
    "\n",
    "**Signe**  \n",
    "Le nombre est positif donc $s=0$.  \n",
    "\n",
    "**Mantisse et code de l'exposant**  \n",
    "En virgule fixe on a $N=10001,01$. Après décalage de la virgule de 4 rangs vers la gauche (cela revient à multiplier par $2^4$), on obtient:  \n",
    "\n",
    "$$ N=1,000101 \\times 2^4$$\n",
    "\n",
    "On a fait apparaître la partie fractionnaire $f=000101$ soit, sur 23 bits, $f=00010100\\ 00000000\\ 0000000$.  \n",
    "L'exposant réel est $n=4$. La valeur codée $e$ sera:  \n",
    "\n",
    "$$ n=e - 127 = 4 \\iff e=131=10000011_2$$\n",
    "\n",
    "**Ecriture selon la norme IEEE754 simple précision**  \n",
    "\n",
    "$$N= 0\\ 10000011\\ 00010100 00000000 0000000$$\n",
    "\n",
    "### Exemple de conversion flottant - décimal\n",
    "Soit à convertir $1\\ 10000110\\ 10101101100000000000000$  \n",
    "**Signe**  \n",
    "$s=(-1)^1=-1$;  \n",
    "\n",
    "**Exposant**  \n",
    "En simple précision, $n=e-127$. Or on peut lire $e=10000110_2 = 134_{10}$; on a donc $n=134-127=7$.  \n",
    "\n",
    "**Mantisse**\n",
    "$m=1+f$ avec $f=2^{-1}+2^{-3}+2^{-5}+2^{-6}+2^{-8}+2^{-9}$, soit $m=1,677734375$.  \n",
    "\n",
    "Finalement, ce nombre vaut en décimal:\n",
    "\n",
    "$$-1,677734375\\times 2^7=-214,75$$"
   ]
  },
  {
   "cell_type": "markdown",
   "metadata": {},
   "source": [
    "### Cas particuliers\n",
    "Lorsque tous les bits sont à zéros, cela correspond à la valeur zéro. Lorsque tous les bits de l'exposant sont à 1 et que la partie fractionnaire est nulle, cela correspond à l'infini (plus ou moins, cela dépend du bit de signe).\n",
    "Enfin, pour les nombres très petits (inférieurs à $2^{-126}$) il existe une forme dénormalisée, qui ne sera pas étudiée ici."
   ]
  },
  {
   "cell_type": "markdown",
   "metadata": {},
   "source": [
    "## Caractère approchée de la représentation\n",
    "\n",
    "=== \"Problème\"\n",
    "    Quel constat peut-on faire concernant les représentations binaires de certains nombres comme 0.2 et 0.3 par exemple ?\n",
    "\n",
    "=== \"Réponse\"\n",
    "    En déroulant l'algorithme proposé à la main, on constate rapidement que la partie fractionnaire est constituée d'une **répétition infinie** du motif `1001`.\n",
    "\n",
    "Un ordinateur qui ne peut stocker qu'un **nombre fini de chiffre**, ne peut représenter correctement certains nombres réels et utilise par conséquent une valeur approchée. Par exemple:  \n",
    "\n",
    "*  `1.2* 3` donne 3.5999999999999996;\n",
    "*  `0.1 + 0.2 == 0.3` donne False  \n",
    "    \n",
    "Par ailleurs, des propriétés comme l'associativité de l'addition ne sont plus valables"
   ]
  },
  {
   "cell_type": "code",
   "execution_count": 14,
   "metadata": {},
   "outputs": [
    {
     "data": {
      "text/plain": [
       "6.5"
      ]
     },
     "execution_count": 14,
     "metadata": {},
     "output_type": "execute_result"
    }
   ],
   "source": [
    "1.6 +(3.2 + 1.7)"
   ]
  },
  {
   "cell_type": "code",
   "execution_count": 15,
   "metadata": {},
   "outputs": [
    {
     "data": {
      "text/plain": [
       "6.500000000000001"
      ]
     },
     "execution_count": 15,
     "metadata": {},
     "output_type": "execute_result"
    }
   ],
   "source": [
    "(1.6 + 3.2) + 1.7"
   ]
  },
  {
   "cell_type": "markdown",
   "metadata": {},
   "source": [
    "!!! danger \"CONSEQUENCE IMPORTANTE\"\n",
    "    Il faut éviter de tester l'égalité entre deux nombres flottants."
   ]
  },
  {
   "cell_type": "markdown",
   "metadata": {},
   "source": [
    "!!! warning \"A retenir\"\n",
    "    Les nombres flottants sont une représentation approximatives des nombres réels dans les ordinateurs. Une norme internationale IEEE754 définit un encodage en simple ou double précision (32 ou 64 bits). Les opérations arithmétiques sur les nombres flottants n'ont pas toujours les mêmes propriétés que ces mêmes opérations sur les nombres réels."
   ]
  }
 ],
 "metadata": {
  "kernelspec": {
   "display_name": "Python 3",
   "language": "python",
   "name": "python3"
  },
  "language_info": {
   "codemirror_mode": {
    "name": "ipython",
    "version": 3
   },
   "file_extension": ".py",
   "mimetype": "text/x-python",
   "name": "python",
   "nbconvert_exporter": "python",
   "pygments_lexer": "ipython3",
   "version": "3.8.8"
  },
  "latex_envs": {
   "LaTeX_envs_menu_present": true,
   "autoclose": false,
   "autocomplete": true,
   "bibliofile": "biblio.bib",
   "cite_by": "apalike",
   "current_citInitial": 1,
   "eqLabelWithNumbers": true,
   "eqNumInitial": 1,
   "hotkeys": {
    "equation": "Ctrl-E",
    "itemize": "Ctrl-I"
   },
   "labels_anchors": false,
   "latex_user_defs": false,
   "report_style_numbering": false,
   "user_envs_cfg": false
  },
  "toc": {
   "base_numbering": 1,
   "nav_menu": {},
   "number_sections": true,
   "sideBar": true,
   "skip_h1_title": true,
   "title_cell": "Table of Contents",
   "title_sidebar": "Contents",
   "toc_cell": false,
   "toc_position": {},
   "toc_section_display": true,
   "toc_window_display": true
  }
 },
 "nbformat": 4,
 "nbformat_minor": 2
}
