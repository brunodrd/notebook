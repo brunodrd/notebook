{
 "cells": [
  {
   "cell_type": "markdown",
   "id": "soviet-platform",
   "metadata": {},
   "source": [
    "Exercices S1\n",
    "==========="
   ]
  },
  {
   "cell_type": "markdown",
   "id": "protected-insight",
   "metadata": {},
   "source": [
    "## Exercice 1: quelques pièges de l'affectation"
   ]
  },
  {
   "cell_type": "markdown",
   "id": "assured-study",
   "metadata": {},
   "source": [
    "On définit la fonction `calcul_v1()` suivante: "
   ]
  },
  {
   "cell_type": "code",
   "execution_count": 7,
   "id": "spectacular-livestock",
   "metadata": {},
   "outputs": [],
   "source": [
    "def calcul_v1(n):\n",
    "    resultat = 0\n",
    "    for i in range(n):\n",
    "        resultat = resultat + 1\n",
    "    return resultat"
   ]
  },
  {
   "cell_type": "markdown",
   "id": "essential-plumbing",
   "metadata": {},
   "source": [
    "1. Donner deux constructions élémentaires différentes ainsi que le numéro de la ligne où elles apparaissent."
   ]
  },
  {
   "cell_type": "markdown",
   "id": "aboriginal-equality",
   "metadata": {},
   "source": [
    "2. On modifie légèrement la fonction précédente, pour obtenir une autre version:  \n",
    "\n",
    "```python\n",
    "def calcul_v2(n):\n",
    "    for i in range(n):\n",
    "        resultat = resultat + 1\n",
    "    return resultat\n",
    "```\n",
    "\n",
    "L'exécution de `calcul_v2(0)` provoque cette fois-ci l'erreur suivante:  \n",
    "\n",
    "```python\n",
    "---------------------------------------------------------------------------\n",
    "UnboundLocalError                         Traceback (most recent call last)\n",
    "<ipython-input-5-e000315c4ef2> in <module>\n",
    "----> 1 calcul_v2(0)\n",
    "\n",
    "<ipython-input-4-012f1c01c96b> in calcul_v2(n)\n",
    "      2     for i in range(n):\n",
    "      3         resultat = resultat + 1\n",
    "----> 4     return resultat\n",
    "\n",
    "UnboundLocalError: local variable 'resultat' referenced before assignment\n",
    "```\n",
    "\n",
    "En comparant avec la première version, donner l'origine cette erreur. Proposer une explication de la situation."
   ]
  },
  {
   "cell_type": "markdown",
   "id": "expressed-venture",
   "metadata": {},
   "source": [
    "3. Un élève exécute la séquence d'instructions suivante:  \n",
    "\n",
    "```python\n",
    "calcul_v1(100)\n",
    "somme_100 = resultat\n",
    "```\n",
    "\n",
    "Malheureusement cette séquence échoue. L'interpréteur python affiche l'erreur\n",
    "\n",
    "```python\n",
    "NameError: name 'resultat' is not defined\n",
    "```\n",
    "\n",
    "Cette erreur semble curieuse à priori car la variable `resultat` a été déclarée et affectée dans la fonction `calcul_v1`.  \n",
    "\n",
    "Faire une hypothèse sur la *visibilité* d'une variable déclarée à l'intérieur d'une fonction."
   ]
  },
  {
   "cell_type": "markdown",
   "id": "bronze-spirituality",
   "metadata": {},
   "source": [
    "---"
   ]
  },
  {
   "cell_type": "markdown",
   "id": "russian-malpractice",
   "metadata": {},
   "source": [
    "## Exercice 2: des étoiles en boucle"
   ]
  },
  {
   "cell_type": "markdown",
   "id": "major-cricket",
   "metadata": {},
   "source": [
    "### Préambule: compléments sur les chaînes de caractère"
   ]
  },
  {
   "cell_type": "markdown",
   "id": "enormous-objective",
   "metadata": {},
   "source": [
    "*Utilisation des opérateurs `+` et `*`*"
   ]
  },
  {
   "cell_type": "code",
   "execution_count": 49,
   "id": "greater-cancellation",
   "metadata": {},
   "outputs": [
    {
     "name": "stdout",
     "output_type": "stream",
     "text": [
      "_/\\_\n"
     ]
    }
   ],
   "source": [
    "ch = '_/\\_'\n",
    "print(ch)"
   ]
  },
  {
   "cell_type": "markdown",
   "id": "moderate-reception",
   "metadata": {},
   "source": [
    "L'opérateur `+` permet de concaténer deux chaînes."
   ]
  },
  {
   "cell_type": "code",
   "execution_count": 50,
   "id": "appreciated-means",
   "metadata": {},
   "outputs": [
    {
     "name": "stdout",
     "output_type": "stream",
     "text": [
      "_/\\__/\\__/\\_\n"
     ]
    }
   ],
   "source": [
    "print(ch + ch + ch)"
   ]
  },
  {
   "cell_type": "markdown",
   "id": "political-moisture",
   "metadata": {},
   "source": [
    "On peut aussi utiliser l'opérateur `*` entre une chaîne et un entier."
   ]
  },
  {
   "cell_type": "code",
   "execution_count": 51,
   "id": "selected-marketing",
   "metadata": {},
   "outputs": [
    {
     "name": "stdout",
     "output_type": "stream",
     "text": [
      "_/\\__/\\__/\\_\n"
     ]
    }
   ],
   "source": [
    "ch = ch * 3\n",
    "print(ch)"
   ]
  },
  {
   "cell_type": "markdown",
   "id": "wireless-storage",
   "metadata": {},
   "source": [
    "Dans ce dernier exemple `ch` référence un nouvel objet résultant de la concaténation `_/\\_`+`_/\\_`+`_/\\_`."
   ]
  },
  {
   "cell_type": "markdown",
   "id": "manual-firmware",
   "metadata": {},
   "source": [
    "*Le caractère d'échappement* `\\`"
   ]
  },
  {
   "cell_type": "markdown",
   "id": "double-fabric",
   "metadata": {},
   "source": [
    "Sa présence dans une chaîne modifie le caractère qui le suit. Ainsi `\\n` ne désigne pas `n` mais un saut de ligne."
   ]
  },
  {
   "cell_type": "code",
   "execution_count": 52,
   "id": "constitutional-folks",
   "metadata": {},
   "outputs": [
    {
     "name": "stdout",
     "output_type": "stream",
     "text": [
      "100\n",
      "200\n",
      "300\n"
     ]
    }
   ],
   "source": [
    "print('100\\n200\\n300')"
   ]
  },
  {
   "cell_type": "markdown",
   "id": "affiliated-individual",
   "metadata": {},
   "source": [
    "### Enoncé\n",
    "On considère la fonction `etoilef` suivante, dont la documentation est incomplète."
   ]
  },
  {
   "cell_type": "code",
   "execution_count": 61,
   "id": "passing-garage",
   "metadata": {},
   "outputs": [],
   "source": [
    "\n",
    "def etoilef(n):\n",
    "    \"\"\"\n",
    "    A compléter\n",
    "    \"\"\"\n",
    "    a = ''\n",
    "    for i in range(1, n+1):\n",
    "        a = a + '*' * i + '\\n'\n",
    "    return a"
   ]
  },
  {
   "cell_type": "markdown",
   "id": "chinese-heaven",
   "metadata": {},
   "source": [
    "1. Que réalise cette fonction? En cas de difficulté, on peut réaliser quelques appels `print(etoilef(n))`, `n` étant un entier naturel supérieur ou égal à 1.\n",
    "2. Compléter la documentation de la fonction.\n",
    "3. Sur la $i$-ème ligne, $i$ étant un entier supérieur à 1, combien a-t-on d'étoiles ?\n",
    "4. Transformer la fonction `etoilef` en une fonction `etoilew` qui utilise une boucle conditionnelle (`while`) et qui répond aux mêmes spécifications."
   ]
  },
  {
   "cell_type": "markdown",
   "id": "quality-secretary",
   "metadata": {},
   "source": [
    "---"
   ]
  },
  {
   "cell_type": "markdown",
   "id": "instructional-tract",
   "metadata": {},
   "source": [
    "## Exercice 3: diversité des langages"
   ]
  },
  {
   "cell_type": "markdown",
   "id": "historic-training",
   "metadata": {},
   "source": [
    "*Aucune connaissance des langages cités ci-dessous n'est nécessaire pour résoudre l'exercice. Il s'agit d'un travail sur les similitudes et les différences existant entre ces langages*."
   ]
  },
  {
   "cell_type": "markdown",
   "id": "embedded-prescription",
   "metadata": {},
   "source": [
    "Le mélange de Fisher-Yates est un algorithme qui permet de mélanger des objets (voir [sa description sur Wikipedia](https://fr.wikipedia.org/wiki/M%C3%A9lange_de_Fisher-Yates)). On se propose de traduire cet algorithme dans divers langages de programmation."
   ]
  },
  {
   "cell_type": "markdown",
   "id": "blond-brand",
   "metadata": {},
   "source": [
    "`Pascal (1970)`\n",
    "\n",
    "```pascal\n",
    "procedure shuffleList(var tab: tableau);\n",
    "var\n",
    "    i, j, tmp : integer;\n",
    "begin\n",
    "    for i := 1 to High(tab) - Low(tab) do begin\n",
    "        j := random(i + 1);\n",
    "        if j < i then\n",
    "            tmp := tab[i + Low(tab)];\n",
    "            tab[i + Low(tab)] := tab[j + Low(tab)];\n",
    "            tab[j + Low(tab)] := tmp\n",
    "        end;\n",
    "    end;\n",
    "end;\n",
    "```"
   ]
  },
  {
   "cell_type": "markdown",
   "id": "noticed-venice",
   "metadata": {},
   "source": [
    "`C (1972)`\n",
    "\n",
    "```C\n",
    "void shuffle(int tab[], int n) {\n",
    "    int i;\n",
    "    for (i = 1; i < n; ++i) {\n",
    "        int j = random(i + 1);\n",
    "        if (j < i) {\n",
    "            int tmp = tab[i];\n",
    "            tab[i] = tab[j];\n",
    "            tab[j] = tmp;\n",
    "        }\n",
    "    }\n",
    "}\n",
    "```"
   ]
  },
  {
   "cell_type": "markdown",
   "id": "coordinate-feature",
   "metadata": {},
   "source": [
    "`Go (2009)`  \n",
    "\n",
    "```Go\n",
    "func shuffle(tab []int) {\n",
    "    for i := 1; i < len(tab); i++ {\n",
    "        j := rand.Intn(i + 1)\n",
    "        if j < i {\n",
    "            tmp := tab[i]\n",
    "            tab[i] := tab[j]\n",
    "            tab[j] := tmp\n",
    "        }\n",
    "    }\n",
    "}\n",
    "```"
   ]
  },
  {
   "cell_type": "markdown",
   "id": "fuzzy-christmas",
   "metadata": {},
   "source": [
    "`ECMAScript (Javascript) ES 6 (2015)`\n",
    " \n",
    "```Javascript\n",
    "const shuffle = (tab) => {\n",
    "for (let i = 1; i < tab.length; i++) {\n",
    "    let j = Math.floor((i + 1) * Math.random())\n",
    "    if (j < i) {\n",
    "        let temp = tab[j]\n",
    "        tab[j] = tab[i]\n",
    "        tab[i] = temp\n",
    "        }\n",
    "    }\n",
    "}\n",
    "```"
   ]
  },
  {
   "cell_type": "markdown",
   "id": "rational-mirror",
   "metadata": {},
   "source": [
    "`Python (1991)`\n",
    "\n",
    "```python\n",
    "def shuffle(tab):\n",
    "    for i in range(1, len(tab)):\n",
    "        j = random.randint(0, i)\n",
    "        if j < i:\n",
    "            tab[i], tab[j] = tab[j], tab[i]\n",
    "```"
   ]
  },
  {
   "cell_type": "markdown",
   "id": "hourly-printer",
   "metadata": {},
   "source": [
    "1. Comment sont délimités les blocs d'instructions ?\n",
    "2. Est-il nécessaire de déclarer les variables *locales* dans une fonction ?\n",
    "3. Comment est structurée une boucle `for` ?\n",
    "4. A partir des informations proposées, de quel(s) langage(s), le `Go` est-il proche ?"
   ]
  },
  {
   "cell_type": "markdown",
   "id": "experienced-japanese",
   "metadata": {},
   "source": [
    "Réponses  \n",
    "\n",
    "|                      \t| Pascal \t| C \t| Go \t| Python \t| Javascript (ES 6) \t|\n",
    "|----------------------\t|--------\t|---\t|----\t|--------\t|-------------------\t|\n",
    "| Délimiteurs          \t|        \t|   \t|    \t|        \t|                   \t|\n",
    "| Variables locales    \t|        \t|   \t|    \t|        \t|                   \t|\n",
    "| Structure boucle for \t|        \t|   \t|    \t|        \t|                   \t|"
   ]
  },
  {
   "cell_type": "markdown",
   "id": "hybrid-shield",
   "metadata": {},
   "source": [
    "---"
   ]
  },
  {
   "cell_type": "markdown",
   "id": "treated-prison",
   "metadata": {},
   "source": [
    "## Exercice 4: spécifier une fonction et tests"
   ]
  },
  {
   "cell_type": "markdown",
   "id": "express-czech",
   "metadata": {},
   "source": [
    "Lucas a déjà eu 3 notes sur 20 en NSI:  \n",
    "\n",
    "* 14 coef. 1\n",
    "* 15 coef. 2\n",
    "* 16 coef. 2\n",
    "\n",
    "La dernière évaluation prévue sera affectée d'un coefficient 5. Lucas veut prévoir sa moyenne trimestrielle en écrivant une fonction `moyenne` qui prendra en paramètre sa dernière note et qui renvoie sa moyenne trimestrielle."
   ]
  },
  {
   "cell_type": "markdown",
   "id": "former-vocabulary",
   "metadata": {},
   "source": [
    "1. Ecrire les spécifications de la fonction `moyenne`.\n",
    "2. Donner une assertion qui permet de garantir la précondition."
   ]
  },
  {
   "cell_type": "markdown",
   "id": "alien-literacy",
   "metadata": {},
   "source": [
    "Lucas a bien pris note des bonnes pratiques de programmation. Il commence par écrire une fonction de tests de sa fonction `moyenne`:  \n",
    "\n",
    "```python\n",
    "def test_moyenne():\n",
    "    # Cas limites\n",
    "    assert moyenne(0) == ...\n",
    "    assert moyenne(20) == ...\n",
    "    # Cas typique\n",
    "    assert moyenne(10) == ...\n",
    "    return 'Tests OK'\n",
    "```\n",
    "\n",
    "3. Compléter cette fonction de test.\n",
    "4. Ecrire la fonction `moyenne` et tester la."
   ]
  },
  {
   "cell_type": "markdown",
   "id": "accredited-pitch",
   "metadata": {},
   "source": [
    "## Exercice 5: divisibilité"
   ]
  },
  {
   "cell_type": "markdown",
   "id": "interior-disney",
   "metadata": {},
   "source": [
    "Un moyen simple pour savoir si un entier naturel $a$ est divisible par un entier naturel $k$ non nul, est de tester le reste de la division de $a$ par $k$. S'il est nul alors $a$ est divisible par $k$. La fonction `est_divisible` ci-dessous code cette propriété."
   ]
  },
  {
   "cell_type": "code",
   "execution_count": 9,
   "id": "inappropriate-robertson",
   "metadata": {},
   "outputs": [],
   "source": [
    "def est_divisible(a, k):\n",
    "    \"\"\" \n",
    "    Renvoie vrai (True) si a est divisible par k, faux (False) sinon.\n",
    "    a: entier naturel\n",
    "    k: entier naturel strictement positif\n",
    "    \"\"\"\n",
    "    assert isinstance(a, int), \"Erreur, a entier\"\n",
    "    assert a >= 0, \"Erreur, a entier naturel\"\n",
    "    assert isinstance(k, int), \"Erreur, k entier\"\n",
    "    assert k > 0, \"Erreur, k strictement positif\"\n",
    "    \n",
    "    return a % k == 0\n",
    "\n",
    "def test_divisible():\n",
    "    assert est_divisible(0, 1) is True\n",
    "    assert est_divisible(2, 1) is True\n",
    "    assert est_divisible(10, 3) is False\n",
    "    return 'Tests OK'"
   ]
  },
  {
   "cell_type": "markdown",
   "id": "eight-genesis",
   "metadata": {},
   "source": [
    "1. Combien de paramètres requiert la fonction `est_divisible` ?\n",
    "2. Quel est l'intérêt des lignes 7 à 10 ?\n",
    "3. Tester la fonction `est_divisible`.\n",
    "4. Prévoir le résultat renvoyé par l'appel `test_divisible()` si on rajoute avant la ligne `return ...` l'instruction:\n",
    "\n",
    "```python\n",
    "assert est_divisible(10, 0) is False\n",
    "```"
   ]
  },
  {
   "cell_type": "markdown",
   "id": "fuzzy-demonstration",
   "metadata": {},
   "source": [
    "## Exercice 6: année bissextile"
   ]
  },
  {
   "cell_type": "markdown",
   "id": "german-yemen",
   "metadata": {},
   "source": [
    "Dans le calendrier grégorien, une année est bissextile si (voir [article wikipedia](https://fr.wikipedia.org/wiki/Ann%C3%A9e_bissextile)) on se trouve dans un des cas suivants:  \n",
    "\n",
    "* l'année est divisible par 4 et non divisible par 100 ;\n",
    "* l'année est divisible par 400\n",
    "\n",
    "On souhaite coder une fonction `est_bissextile` qui prend en paramètre une année et qui renvoie le résultat logique vrai ou faux (`True` ou `False` en python) selon que l'année est bissextile ou non. Pour simplifier, on considère que le passage au calendrier grégorien a eu lieu en 1583.  \n",
    "\n",
    "1. Compléter les spécifications de la fonction `est_bissextile` ci-dessous. Seuls les `...` sont à compléter. Ne pas supprimer l'instruction `pass` qui sera remplacé par votre code plus tard."
   ]
  },
  {
   "cell_type": "code",
   "execution_count": null,
   "id": "distant-farmer",
   "metadata": {},
   "outputs": [],
   "source": [
    "# A compléter\n",
    "\n",
    "def est_bissextile(...):\n",
    "    \"\"\"\n",
    "    ...\n",
    "    \"\"\"\n",
    "    pass"
   ]
  },
  {
   "cell_type": "markdown",
   "id": "floppy-progress",
   "metadata": {},
   "source": [
    "2. Ecrire une fonction de tests `test_bissextile` en utilisant les résultats disponibles sur la [page wikipedia](https://fr.wikipedia.org/wiki/Ann%C3%A9e_bissextile)."
   ]
  },
  {
   "cell_type": "code",
   "execution_count": 11,
   "id": "restricted-collective",
   "metadata": {},
   "outputs": [],
   "source": [
    "# A compléter après avoir supprimer l'instruction pass\n",
    "\n",
    "def test_bissextile():\n",
    "    pass"
   ]
  },
  {
   "cell_type": "markdown",
   "id": "sunrise-gauge",
   "metadata": {},
   "source": [
    "3. Compléter la fonction `est_bissextile` en remplaçant l'instruction `pass` par votre code et en utilisant avantageusement la fonction `est_divisble` de l'exercice précédent."
   ]
  },
  {
   "cell_type": "markdown",
   "id": "special-prerequisite",
   "metadata": {},
   "source": [
    "4. Tester votre fonction."
   ]
  },
  {
   "cell_type": "markdown",
   "id": "municipal-retreat",
   "metadata": {},
   "source": [
    "## Exercice 7: préparer un argumentaire"
   ]
  },
  {
   "cell_type": "markdown",
   "id": "specific-planning",
   "metadata": {},
   "source": [
    "Pourquoi existe-t-il plus de 730 langages de programmation dont certains sont plus utilisés que d'autres?"
   ]
  }
 ],
 "metadata": {
  "kernelspec": {
   "display_name": "Python 3",
   "language": "python",
   "name": "python3"
  },
  "language_info": {
   "codemirror_mode": {
    "name": "ipython",
    "version": 3
   },
   "file_extension": ".py",
   "mimetype": "text/x-python",
   "name": "python",
   "nbconvert_exporter": "python",
   "pygments_lexer": "ipython3",
   "version": "3.8.8"
  }
 },
 "nbformat": 4,
 "nbformat_minor": 5
}
