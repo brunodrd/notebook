{
 "cells": [
  {
   "cell_type": "markdown",
   "id": "partial-tiger",
   "metadata": {},
   "source": [
    "Simulations logiques\n",
    "================="
   ]
  },
  {
   "cell_type": "markdown",
   "id": "electrical-disorder",
   "metadata": {},
   "source": [
    "*Les fichiers de simulation sont à récupérer* [ici](doc/fichiers_simulation.zip)"
   ]
  },
  {
   "cell_type": "markdown",
   "id": "religious-county",
   "metadata": {},
   "source": [
    "## Opérateurs and, or et not\n",
    "\n",
    "!!! question \"A faire\"\n",
    "    Simuler avec le logiciel *Digital* du [professeur Helmut Neemann](https://github.com/hneemann/Digital) les \n",
    "    opérations logiques `and`, `or` et `not`. &Eacute;tablir leur table de vérité.  "
   ]
  },
  {
   "cell_type": "markdown",
   "id": "popular-ground",
   "metadata": {},
   "source": [
    "## Lois de De Morgan\n",
    "\n",
    "1. Dresser la table de vérité de l'expression `not (A or B)`;\n",
    "2. Vérifier les résultats par simulation;\n",
    "3. Proposer une expression équivalente;\n",
    "4. Reprendre les questions 1, 2 et 3 avec l'expression `not (A and B)`"
   ]
  },
  {
   "cell_type": "markdown",
   "id": "exposed-garden",
   "metadata": {},
   "source": [
    "## Une opération logique très utilisée\n",
    "\n",
    "Ouvrir le circuit `Dilemme.dig`.  \n",
    "![dilemme](img/Dilemme.png)\n",
    "\n",
    "Réaliser la simulation. &Eacute;tablir et commenter sa table de vérité.  \n",
    "Cette opération très utilisée a pour symbole (*US*):  \n",
    "\n",
    "![ouex](img/ouex.png)"
   ]
  },
  {
   "cell_type": "markdown",
   "id": "eight-equilibrium",
   "metadata": {},
   "source": [
    "## Addition binaire\n",
    "### Demi additionneur\n",
    "Le demi additionneur est un circuit combinatoire qui permet de réaliser la **somme arithmétique de deux nombres A et B chacun sur un bit**.  \n",
    "\n",
    "![halfadder](img/halfAdder.png)\n",
    "\n",
    "A la sortie on va avoir la somme S et une éventuelle retenue R.  \n",
    "\n",
    "1. Ouvrir le fichier `halfAdder.dig` et passer en mode simulation. Dresser alors la table de vérité de ce circuit.\n",
    "2. En déduire la table d'addition binaire.\n",
    "3. En utilisant la fonction d'analyse du logiciel, donner l'expression booléenne de la sortie S et de la retenue R."
   ]
  },
  {
   "cell_type": "markdown",
   "id": "worth-double",
   "metadata": {},
   "source": [
    "### Additionneur complet\n",
    "Lorsqu'on souhaite effectuer l'addition binaire sur un bit de deux nombres $A_i$ et $B_i$, il faut tenir compte d'une éventuelle retenue $R_{i-1}$ provenant du calcul du rang précédent. On a alors un additionneur complet, qui est réalisé avec deux demi-additionneurs.  \n",
    "\n",
    "![fullAdder](img/fullAdder.png)  \n",
    "\n",
    "A la sortie on va avoir la somme $S_i$ et une éventuelle retenue $R_i$.  \n",
    "Ouvrir le fichier `fullAdder.dig` et passer en mode simulation. Dresser la table de vérité de l'additionneur complet."
   ]
  }
 ],
 "metadata": {
  "kernelspec": {
   "display_name": "Python 3",
   "language": "python",
   "name": "python3"
  },
  "language_info": {
   "codemirror_mode": {
    "name": "ipython",
    "version": 3
   },
   "file_extension": ".py",
   "mimetype": "text/x-python",
   "name": "python",
   "nbconvert_exporter": "python",
   "pygments_lexer": "ipython3",
   "version": "3.8.8"
  }
 },
 "nbformat": 4,
 "nbformat_minor": 5
}
