{
 "cells": [
  {
   "cell_type": "markdown",
   "metadata": {},
   "source": [
    "TRAVAILLER EN BASE 2, 10 ET 16\n",
    "============================"
   ]
  },
  {
   "cell_type": "markdown",
   "metadata": {},
   "source": [
    "## Repères historiques\n",
    "L'invention du système binaire est souvent attribué à tort au savant allemand [Wilhelm Gottfried Leibniz](https://fr.wikipedia.org/wiki/Gottfried_Wilhelm_Leibniz#Syst%C3%A8me_binaire) (1646-1716). \n",
    "\n",
    "En effet, le mathématicien et astronome anglais [Thomas Harriot](https://images.math.cnrs.fr/L-edition-electronique-des-manuscrits-de-Thomas-Harriot-1560-1621) (1560-1621) avait déjà travaillé sur les systèmes non décimaux. Voir une [publication en ligne des manuscrits de Harriot](https://digilib.mpiwg-berlin.mpg.de/digitallibrary/jquery/digilib.html?fn=/permanent/library/TRMFCPMB/pageimg&pn=693&ww=0.7143&wh=0.7143) \n",
    "\n",
    "Leibniz s'inspira des figures de le l'empereur chinois Fuxi (-3000) que l'on peut considérer comme la première expression d'un codage binaire.  \n",
    "![Trigramme](img/trigramme_200px.png)"
   ]
  },
  {
   "cell_type": "markdown",
   "metadata": {},
   "source": [
    "## Comment représenter des informations sur une machine numérique ? \n",
    "### Unité d'information\n",
    "Les machines numériques sont composées d'éléments manipulant l'information sous forme de **deux états distincts**. C'est la raison pour laquelle on les appelle machine **binaire**. Par convention, ces états sont notés $0$ ou $1$. En anglais, ces informations élémentaires sont appelées *binary digit* ou **bit**.  \n",
    "Un bit permet de représenter $2^1=2$ informations.  \n",
    "\n",
    "On peut généraliser: $n$ bits permettent de représenter $2^n$ informations. "
   ]
  },
  {
   "cell_type": "markdown",
   "metadata": {},
   "source": [
    "Les machines numériques manipulent habituellement des groupes de bits. Ainsi, un groupe de 8 bits forment un **octet**.  \n",
    "\n",
    "!!! danger \"ATTENTION\"\n",
    "    en anglais un **octet** est traduit par **BYTE**. \n",
    "    \n",
    "Au delà de 8 bits on utilise le terme **mot**. On parle par exemple de mot de 16 bits, de mot de 32 bits (on trouve aussi le terme *double mot*) ou de mot de 64 bits (ou *quadruple mot*)."
   ]
  },
  {
   "cell_type": "markdown",
   "metadata": {},
   "source": [
    "Les quantités d'informations stockées ou manipulées s'expriment avec les préfixes habituels reliés aux puissances de 10 (1 kilooctet (ko) $= 1\\times10^3$ octets, 1 mégaoctet (Mo) $= 1\\times10^6$ octets, 1 gigaoctet (Go) $= 1\\times10^9$ octets etc).  \n",
    "\n",
    "!!! info \"Remarque\"\n",
    "    Certains informaticiens/électroniciens utilisent encore des définitions de ces quantités exprimées en puissances de 2 ($2^{10}$, $2^{20}$, $2^{30}$, etc). Pour éviter les confusions, l'International Electrotechnical Commission (IEC) a normalisé ces appellations en décembre 1998. Voir [lien](https://physics.nist.gov/cuu/Units/binary.html)."
   ]
  },
  {
   "cell_type": "markdown",
   "metadata": {},
   "source": [
    "## Représentation binaire des entiers naturels\n",
    "###  Représentation positionnelle\n",
    "On présente les nombres entiers de manière classique en *représentation positionnelle*. Par exemple en base 10, la suite 123 signifie $1\\times 10^2+2\\times 10^1+3\\times 10^0$. En base 2, la suite 10011 signifie $1\\times 2^4+0\\times 2^3+0\\times 2^2+1\\times 2^1+1\\times 2^0$.  \n",
    "\n",
    "Dans un motif binaire, le bit le plus à droite est le **bit de poids faible** ou **LSB** (*Least Significant Bit*). A l'opposé, le bit le plus à gauche est le **bit de poids fort** ou **MSB** (*Most Significant Bit*). \n",
    "\n",
    "!!! hint \"Astuce\"\n",
    "    Le bit de poids faible peut être utilisé pour trouver la parité du nombre: $0$ indique un nombre pair et $1$ un nombre impair."
   ]
  },
  {
   "cell_type": "markdown",
   "metadata": {},
   "source": [
    "### Conversion binaire - décimal \n",
    "La conversion binaire - décimale d'un entier naturel découle simplement du mode de représentation positionnelle: on **additionne les puissances de 2 présentes dans le motif binaire**. Ainsi, pour l'exemple précédent on a:  \n",
    "$10011_2=(1\\times 2^4+0\\times 2^3+0\\times 2^2+1\\times 2^1+1\\times 2^0)_{10}=19_{10}$  \n",
    "\n",
    "!!! info \"Remarque\"\n",
    "    La base a été indiquée ici en indice, on peut l'omettre lorsqu'il n'y a pas d'ambiguité."
   ]
  },
  {
   "cell_type": "markdown",
   "metadata": {},
   "source": [
    "### Conversion décimal - binaire\n",
    "On **décompose le nombre entier en une somme de puissance de 2** par divisions entières successives tant que le quotient n'est pas nul. Le résultat est alors constitué des restes de chaque division, en commençant par la dernière.  "
   ]
  },
  {
   "cell_type": "markdown",
   "metadata": {},
   "source": [
    "## Représentation hexadécimale\n",
    "La représentation binaire devient rapidement encombrante. On lui préfère souvent la représentation *hexadécimale* (base 16). L'utilisation de cette base nécessite 16 caractères. Le tableau ci-dessous présente ces caractères ainsi que leur équivalence en base 10 et 2.  \n",
    "![Caractères hexadécimaux](img/caracteres_hexa.png)\n",
    "\n",
    "### Conversion décimal - hexadécimale\n",
    "De la même façon qu'en binaire, on décompose le nombre entier en une somme de puissance de 16, par divisions successives par 16 tant que le quotient n'est pas nul.  \n",
    "\n",
    "### Conversion hexadécimale - décimale\n",
    "On additionne les puissances de 16 présentes dans le motif hexadécimal.\n",
    "\n",
    "### Conversions binaire - hexadécimal\n",
    "Pour passer du binaire à l'hexadécimal il suffit de grouper les bits par 4 et de les remplacer par leur équivalent hexdécimal (*voir tableau ci-dessus*). "
   ]
  }
 ],
 "metadata": {
  "celltoolbar": "Hide code",
  "kernelspec": {
   "display_name": "Python 3",
   "language": "python",
   "name": "python3"
  },
  "language_info": {
   "codemirror_mode": {
    "name": "ipython",
    "version": 3
   },
   "file_extension": ".py",
   "mimetype": "text/x-python",
   "name": "python",
   "nbconvert_exporter": "python",
   "pygments_lexer": "ipython3",
   "version": "3.8.8"
  },
  "toc": {
   "base_numbering": 1,
   "nav_menu": {},
   "number_sections": true,
   "sideBar": true,
   "skip_h1_title": false,
   "title_cell": "Table of Contents",
   "title_sidebar": "Contents",
   "toc_cell": false,
   "toc_position": {},
   "toc_section_display": true,
   "toc_window_display": true
  }
 },
 "nbformat": 4,
 "nbformat_minor": 2
}
