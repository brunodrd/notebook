{
 "cells": [
  {
   "cell_type": "markdown",
   "id": "lyric-strategy",
   "metadata": {},
   "source": [
    "SEQUENCE 2\n",
    "==========="
   ]
  },
  {
   "cell_type": "markdown",
   "id": "heated-scene",
   "metadata": {},
   "source": [
    "## ACTIVITE 1 - Interface en ligne de commande d'un sytème d'exploitation libre"
   ]
  },
  {
   "cell_type": "markdown",
   "id": "single-price",
   "metadata": {},
   "source": [
    "### Systèmes d'exploitations"
   ]
  },
  {
   "cell_type": "markdown",
   "id": "faced-saturday",
   "metadata": {},
   "source": [
    "#### Repères historiques\n",
    "\n",
    "Prendre connaissance des vidéos suivantes:  \n",
    "\n",
    "* [Histoire des systèmes d'exploitation](https://tube-outremer.beta.education.fr/videos/watch/412ad19b-5bf2-45df-aa13-ed2da7bf312b)\n",
    "* [Le(s) système(s) de type UNIX](https://tube-outremer.beta.education.fr/videos/watch/4f139750-6c2a-440e-85b2-483f5cf05afa)"
   ]
  },
  {
   "cell_type": "markdown",
   "id": "primary-uniform",
   "metadata": {},
   "source": [
    "#### Systèmes libres ou propriétaires\n",
    "\n",
    "!!! question \"A faire\"\n",
    "    En s'aidant éventuellement de [cette page wikipedia](https://fr.wikipedia.org/wiki/Logiciel_propri%C3%A9taire), rappelez les 4 différences fondamentales entre un logiciel libre et un logiciel propriétaire. Quelles sont les conséquences du statut propriétaire de Microsoft Windows ?"
   ]
  },
  {
   "cell_type": "markdown",
   "id": "interstate-oxygen",
   "metadata": {},
   "source": [
    "### Le système Linux\n",
    "\n",
    "[Histoire du système d'exploitation Linux](https://tube-outremer.beta.education.fr/videos/watch/84f7b96e-e4f9-46f5-947a-ae7cc87bb914)"
   ]
  },
  {
   "cell_type": "markdown",
   "id": "competitive-finding",
   "metadata": {},
   "source": [
    "### Système de fichiers de Linux"
   ]
  },
  {
   "cell_type": "markdown",
   "id": "noted-weather",
   "metadata": {},
   "source": [
    "Pour interagir avec l'utilisateur, les \n",
    "systèmes d'exploitation peuvent avoir une \n",
    "interface graphique (comme par \n",
    "exemple Windows) et très certainement une interface en ligne de commande pour saisir en texte les commandes que le système d'exploitation doit effectuer.  \n",
    "\n",
    "Avec Linux, comme dans Microsoft Windows, les données sont stockées dans des fichiers, eux-mêmes contenus dans \n",
    "des dossiers appelés **répertoires**.  \n",
    "\n",
    "En revanche, il n'existe pas de notion de « disque `C:\\` ou `D:\\` ou autre» sous Linux. Un exemple d'organisation des principaux fichiers et \n",
    "répertoires appelée **arborescence** est représentée en version simplifiée ci-dessous."
   ]
  },
  {
   "cell_type": "markdown",
   "id": "finite-october",
   "metadata": {},
   "source": [
    "![arbre](img/arblinux.png)"
   ]
  },
  {
   "cell_type": "markdown",
   "id": "civil-probability",
   "metadata": {},
   "source": [
    "Dans le système de fichiers de Linux, tous les \n",
    "répertoires nécessaires au fonctionnement du \n",
    "système d'exploitation (`etc`, `dev`, `tmp`, etc.) sont \n",
    "accessibles depuis le répertoire racine `/`.  \n",
    "\n",
    "Les répertoires des utilisateurs d'une machine Linux, sont situés dans le répertoire `home`. Dans notre exemple il s'agit des répertoires `Angie` et `Matei`. Attention, le système d'exploitation Linux est **sensible à la casse**, il faut donc, être vigilant aux éventuelles majuscules.  \n",
    "\n",
    "Pour naviguer dans le système de fichiers, nous \n",
    "devons définir les **chemins absolus** et **relatifs**.  \n",
    "\n",
    "Un chemin d'accès absolu part toujours du répertoire racine `/` suivi des noms de répertoires rencontrés jusqu'à la destination, séparés par des symboles `/` (slash).  \n",
    "**Exemple**  \n",
    "\n",
    "Le chemin absolu vers le répertoire `Exos` de `Matéi` est `/home/Matei/Math/Exos`.  \n",
    "\n",
    "!!! question \"A faire\"\n",
    "    Écrire le chemin absolu vers le répertoire `NSI` d'`Angie`.\n",
    "\n",
    "Lorsque l'on se déplace dans l'*arborescence de fichiers*, le répertoire dans lequel on se situe s'appelle le **répertoire courant** et est noté `.` (point).  \n",
    "\n",
    "Un chemin relatif fait référence au répertoire courant et donne la liste des noms du ou des répertoire(s) rencontrés jusqu'à la destination, séparés par des `/`.   \n",
    "**Exemple**  \n",
    "\n",
    "Le chemin relatif vers le répertoire `Exos` de `Matei` depuis le répertoire courant `home` est  `./Matei/Math/Exos`.  \n",
    "\n",
    "!!! question \"A faire\"\n",
    "    Écrire le chemin relatif vers le répertoire `NSI` d'`Angie` à partir du répertoire courant `home`.\n",
    "\n",
    "Pour remonter d'un niveau dans l'arborescence de fichiers, il faut utiliser le **répertoire parent** `..` .  \n",
    "**Exemple**  \n",
    "\n",
    "Le chemin relatif depuis le répertoire courant d'Angie (`/home/Angie`) vers le répertoire `Math` de `Matei` est `../Matei/Math`.\n",
    "\n",
    "!!! question \"A faire\"\n",
    "    Écrire le chemin relatif vers le répertoire `Jeux` d'`Angie` à partir du répertoire courant `NSI`\n"
   ]
  },
  {
   "cell_type": "markdown",
   "id": "divided-flooring",
   "metadata": {},
   "source": [
    "### Structure d'une commande sous Linux"
   ]
  },
  {
   "cell_type": "markdown",
   "id": "magnetic-memorabilia",
   "metadata": {},
   "source": [
    "Pour découvrir comment interagir avec le système d'exploitation en ligne de commandes, nous allons utiliser un *système Linux simplifié spécialement adapté pour cette activité*.\n",
    "\n",
    "!!! question \"A faire\"\n",
    "    Lancer un **terminal** sous Ubuntu. A l'intérieur de ce terminal, on saisira la commande:  \n",
    "    `docker run -it --rm nsilinux:1.1`. Un système Linux démarre dans le terminal et la connexion est automatiquement faite sur le compte d'Angie. Pour quitter, on utilisera la séquence de touches ++ctrl+d++ .\n",
    "    \n",
    "!!! hint \"Commande\"\n",
    "    La commande `ls` (de l'anglais *list*) permet d'afficher la liste des répertoires et des fichiers dans le répertoire courant.  \n",
    "\n",
    "!!! question \"A faire\"\n",
    "    Saisir la commande `ls`. Commenter.\n",
    "    \n",
    "!!! hint \"Commande\"\n",
    "    La commande `pwd` (de l'anglais *print working directory*) affiche le répertoire courant. La commande `cd` (de l'anglais *change directory*) permet de changer de répertoire courant.\n",
    "\n",
    "!!! question \"A faire\"\n",
    "    Tester La commande `pwd`, puis écrire et tester les commandes appropriées afin de\n",
    "    vérifier vos réponses aux questions de la section *Système de fichiers de Linux* précédente."
   ]
  },
  {
   "cell_type": "markdown",
   "id": "complimentary-parliament",
   "metadata": {},
   "source": [
    "---"
   ]
  },
  {
   "cell_type": "markdown",
   "id": "exceptional-divide",
   "metadata": {},
   "source": [
    "## ACTIVITE 2 - Commandes de base avec arguments"
   ]
  },
  {
   "cell_type": "markdown",
   "id": "progressive-miniature",
   "metadata": {},
   "source": [
    "Angie veut mettre de l'ordre dans son repertoire personnel. Son système de fichiers est le même que celui de l'activité précédente.\n",
    "\n",
    "!!! hint \"Commande\"\n",
    "    La commande `cat` suivie d'un `nom_de_fichier` (de l'anglais *catenate*) affiche dans la console le contenu du fichier `nom_de_fichier` donné en argument.\n",
    "\n",
    "!!! question \"A faire\"\n",
    "    Se connecter au système linux précédent (`docker run --rm -it nsilinux:1.1`). A l'aide de la commande `cd`, aller dans le répertoire `NSI` puis afficher le contenu du fichier `Modules`. Écrire les commandes saisies dans la console."
   ]
  },
  {
   "cell_type": "markdown",
   "id": "informal-spirit",
   "metadata": {},
   "source": [
    "### Créer des répertoires\n",
    "\n",
    "!!! hint \"Commande\"\n",
    "    La commande `mkdir` suivie d'un `nom_de_repertoire` (de l'anglais *make directory*) permet de créer un répertoire nommé `nom_de_repertoire` dans le répertoire courant.\n",
    "\n",
    "!!! question \"A faire\"\n",
    "    Créer le répertoire `OS` dans le répertoire `NSI` à l'aide de la commande `mkdir` et vérifier sa création \n",
    "    avec la commande `ls`. Écrire les commandes nécessaires."
   ]
  },
  {
   "cell_type": "markdown",
   "id": "satellite-pickup",
   "metadata": {},
   "source": [
    "On peut également créer un répertoire dans un autre répertoire en précisant le chemin relatif:  \n",
    "\n",
    "`mkdir chemin_relatif/nom_de_repertoire`.  \n",
    "\n",
    "!!! question \"A faire\"\n",
    "    En restant dans le répertoire `NSI`, créer le répertoire `Linux` dans le répertoire `Angie`. Écrire les commandes nécessaires. "
   ]
  },
  {
   "cell_type": "markdown",
   "id": "suspended-vampire",
   "metadata": {},
   "source": [
    "### Déplacer et copier des fichiers / répertoires\n",
    "\n",
    "!!! hint \"Commande\"\n",
    "    La commande `mv source destination` (de l'anglais *move*) permet de déplacer et/ou de renommer des fichiers et des répertoires. Les arguments `source` et `destination` sont constitués du nom du fichier ou du répertoire, précédés éventuellement du chemin.\n",
    "    \n",
    "!!! question \"A faire\"\n",
    "    * A l'aide de la commande `cd` aller dans le répertoire `Angie`. Déplacer le répertoire `Types` d'Angie dans le répertoire `NSI` à l'aide de la commande `mv`. Écrire les commandes nécessaires.\n",
    "    * Quel est le résultat de la commande `mv Encodage NSI/Encodage` ?"
   ]
  },
  {
   "cell_type": "markdown",
   "id": "operating-narrative",
   "metadata": {},
   "source": [
    "!!! hint \"Commande\"\n",
    "    La commande `cp source destination` (de l'anglais *copy*) permet de copier des fichiers ou des répertoires `source` vers la `destination`."
   ]
  },
  {
   "cell_type": "markdown",
   "id": "after-movement",
   "metadata": {},
   "source": [
    "!!! question \"A faire\"\n",
    "    Sans changer de répertoire courant (`Angie`), créer un répertoire `Programmation` dans le répertoire `NSI`, puis copier le fichier `Modules` dans le répertoire `Programmation`. Écrire les commandes nécessaires."
   ]
  },
  {
   "cell_type": "markdown",
   "id": "exciting-monkey",
   "metadata": {},
   "source": [
    "### Supprimer des fichiers et des répertoires "
   ]
  },
  {
   "cell_type": "markdown",
   "id": "completed-aspect",
   "metadata": {},
   "source": [
    "!!! hint \"Commande\"\n",
    "    La commande `rm chemin/nom_de_fichier` (de l'anglais *remove*) permet de supprimer un ou des fichiers."
   ]
  },
  {
   "cell_type": "markdown",
   "id": "built-retrieval",
   "metadata": {},
   "source": [
    "!!! question \"A faire\"\n",
    "    * Supprimer le fichier `Modules` du répertoire `NSI`. Écrire La commande nécessaire.\n",
    "    * Tester la commande `rm Danse`. Que remarquez-vous ?Justifier.    "
   ]
  },
  {
   "cell_type": "markdown",
   "id": "accompanied-clinic",
   "metadata": {},
   "source": [
    "!!! hint \"Commande\"\n",
    "    Pour avoir accès à la documentation d'une commande, suffit de saisir `man nom_de_la_commande`."
   ]
  },
  {
   "cell_type": "markdown",
   "id": "skilled-volleyball",
   "metadata": {},
   "source": [
    "!!! question \"A faire\"\n",
    "    Tester la commande `rm -r Danse`. Après avoir consulter la documentation de `rm` conclure sur l'utilité de l'option `-r`."
   ]
  }
 ],
 "metadata": {
  "kernelspec": {
   "display_name": "Python 3",
   "language": "python",
   "name": "python3"
  },
  "language_info": {
   "codemirror_mode": {
    "name": "ipython",
    "version": 3
   },
   "file_extension": ".py",
   "mimetype": "text/x-python",
   "name": "python",
   "nbconvert_exporter": "python",
   "pygments_lexer": "ipython3",
   "version": "3.8.8"
  }
 },
 "nbformat": 4,
 "nbformat_minor": 5
}
