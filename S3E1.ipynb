{
 "cells": [
  {
   "cell_type": "markdown",
   "id": "italic-cookbook",
   "metadata": {},
   "source": [
    "Séquence 3 - exercices\n",
    "==================="
   ]
  },
  {
   "cell_type": "markdown",
   "id": "widespread-westminster",
   "metadata": {},
   "source": [
    "## Exercice 1 - Codage d'une information numérique"
   ]
  },
  {
   "cell_type": "markdown",
   "id": "fluid-innocent",
   "metadata": {},
   "source": [
    "*  Citer un système qui nécessite **un** bit pour coder son information.  \n",
    "*  Combien de bits sont nécessaires pour distinguer les 4 familles d'un jeu de cartes? \n",
    "*  Combien de bits sont nécessaires pour distinguer les 26 lettres de l'alphabet ?  \n",
    "*  Justifier le fait qu'à l'origine 7 bits étaient suffisants pour coder du texte (*en anglais!*)"
   ]
  },
  {
   "cell_type": "markdown",
   "id": "yellow-finder",
   "metadata": {},
   "source": [
    "## Exercice 2 - Manipuler les bases 2, 10 et 16"
   ]
  },
  {
   "cell_type": "markdown",
   "id": "hungarian-original",
   "metadata": {},
   "source": [
    "Compléter le tableau suivant:  \n",
    "\n",
    "| Base    \t| Valeur \t| Valeur    \t| Valeur \t|\n",
    "|---------\t|--------\t|-----------\t|--------\t|\n",
    "| Base 10 \t| 16     \t|           \t|        \t|\n",
    "| Base 2  \t|        \t| 0110 1101 \t|        \t|\n",
    "| Base 16 \t|        \t|           \t| 44     \t|"
   ]
  },
  {
   "cell_type": "markdown",
   "id": "pointed-ability",
   "metadata": {},
   "source": [
    "## Exercice 3 - Adresse IPv6"
   ]
  },
  {
   "cell_type": "markdown",
   "id": "athletic-heather",
   "metadata": {},
   "source": [
    "Une adresse IPv6 est composée de 8 champs de 4 valeurs hexadécimales, délimitées par des `:` pour la rendre plus lisible. Par exemple, l'adresse IPv6 de `facebook.com` est `2a03:2880:f130:83:face:b00c:0:25de`.  \n",
    "\n",
    "Calculer le nombre de bits nécessaire pour écrire une adresse IPv6 en binaire."
   ]
  },
  {
   "cell_type": "markdown",
   "id": "interpreted-candidate",
   "metadata": {},
   "source": [
    "## Exercice 4 - Bug 2038"
   ]
  },
  {
   "cell_type": "markdown",
   "id": "spoken-bookmark",
   "metadata": {},
   "source": [
    "Les machines UNIX :™️: suivent la norme IEEE 1003 (ou norme POSIX) qui spécifie, entre autres, que le temps est compté en secondes à partir du 1er janvier 1970 à 00:00:00 temps universel.  \n",
    "\n",
    "De nombreux systèmes de fichiers codent ce temps en un entier codé sur 32 bits. Expliquer pourquoi ces systèmes pourraient connaître un bug en 2038."
   ]
  },
  {
   "cell_type": "code",
   "execution_count": null,
   "id": "grateful-request",
   "metadata": {},
   "outputs": [],
   "source": []
  }
 ],
 "metadata": {
  "kernelspec": {
   "display_name": "Python 3",
   "language": "python",
   "name": "python3"
  },
  "language_info": {
   "codemirror_mode": {
    "name": "ipython",
    "version": 3
   },
   "file_extension": ".py",
   "mimetype": "text/x-python",
   "name": "python",
   "nbconvert_exporter": "python",
   "pygments_lexer": "ipython3",
   "version": "3.8.8"
  }
 },
 "nbformat": 4,
 "nbformat_minor": 5
}
