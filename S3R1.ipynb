{
 "cells": [
  {
   "cell_type": "markdown",
   "id": "contained-amsterdam",
   "metadata": {},
   "source": [
    "L'ESSENTIEL DE LA SEQUENCE 3\n",
    "============================"
   ]
  },
  {
   "cell_type": "markdown",
   "id": "played-pastor",
   "metadata": {},
   "source": [
    "### Ce qu’il faut savoir\n",
    "\n",
    "- en base 10 nous avons 10 symboles (chiffres) : 0, 1, 2, 3, 4, 5….9\n",
    "\n",
    "- en base 2 (binaire) nous avons 2 symboles (chiffres) : 0 et 1\n",
    "\n",
    "- en base 16 (hexadécimal) nous avons 16 symboles : 0, 1, 2….8, 9, A, B, C, D, E, F\n",
    "\n",
    "- il serait judicieux de connaître *par coeur* (ou au moins être capable de les retrouver\n",
    "rapidement) les nombres jusqu’à 15 :  \n",
    "\n",
    "![Caractères hexadécimaux](img/caracteres_hexa.png)\n",
    "\n",
    "- on peut coder $2^n$ valeurs avec $n$ bits\n",
    "\n",
    "\n",
    "- connaître le principe du complément à 2 (voir cours)\n",
    "- savoir que pour une représentation sur $n$ bits, il sera possible de coder des valeurs comprises entre $-2^{n-1}$ et $+2^{n-1}- 1$.\n",
    "\n",
    "- la représentation en machine des nombres réels (on parle souvent en informatique\n",
    "de *nombres flottants* ou *nombre à virgule flottante*) diffère de la représentation en machine des entiers\n",
    "\n",
    "- la norme IEEE 754 est la norme la plus employée pour la représentation des\n",
    "nombres à virgule flottante dans le domaine informatique.\n",
    "\n",
    "- il existe 2 formats associés à la norme IEEE 754 : le format simple précision (le\n",
    "nombre est représenté sur 32 bits) et le format double précision (le nombre est\n",
    "représenté sur 64 bits)\n",
    "\n",
    "- que cela soit en simple précision ou en double précision, la norme IEEE754 utilise :\n",
    "\n",
    "\t- 1 bit de signe (1 si le nombre est négatif et 0 si le nombre est positif)\n",
    "\t\n",
    "\t- des bits consacrés à l'exposant (8 bits pour la simple précision et 11 bits pour la double précision)\n",
    "\t\n",
    "\t- des bits consacrés à la mantisse (23 bits pour la simple précision et 52 bits pour la double précision)\n",
    "\t\n",
    "- à cause de la taille fixe de la mantisse on peut, dans certains cas, avoir des erreurs d’arrondies, par exemple 0.1 + 0.2 n’est pas égal à 0.3. On évitera de tester l’égalité entre 2 flottants (par exemple `0.1 + 0.2 == 0.3` renvoie `False` en python!)\n",
    "\n",
    "---\n",
    "\n",
    "### Ce qu’il faut savoir faire\n",
    "\n",
    "- convertir décimal vers binaire\n",
    "- convertir binaire vers décimal\n",
    "- convertir décimal vers hexadécimal\n",
    "- convertir hexadécimal vers décimal\n",
    "- convertir binaire vers hexadécimal\n",
    "- convertir hexadécimal vers binaire\n",
    "\n",
    "\n",
    "- Vous devez savoir représenter un entier (positif ou négatif) en utilisant le complément à 2 sur\n",
    "$n$ bits (représentation binaire $\\longrightarrow$ représentation décimale et représentation décimale $\\longrightarrow$ représentation binaire).\n",
    "\n",
    "\n",
    "- vous devez être capable de trouver la représentation en binaire d’un nombre réel (par exemple 0.1, 0.25 ou encore 1/3)\n",
    "- vous n’avez pas à savoir écrire un nombre flottant en utilisant la norme IEEE754, vous devez juste connaitre les grands principes de cette norme (bit de signe, exposant, mantisse)\n"
   ]
  },
  {
   "cell_type": "code",
   "execution_count": null,
   "id": "separated-decimal",
   "metadata": {},
   "outputs": [],
   "source": []
  }
 ],
 "metadata": {
  "kernelspec": {
   "display_name": "Python 3",
   "language": "python",
   "name": "python3"
  },
  "language_info": {
   "codemirror_mode": {
    "name": "ipython",
    "version": 3
   },
   "file_extension": ".py",
   "mimetype": "text/x-python",
   "name": "python",
   "nbconvert_exporter": "python",
   "pygments_lexer": "ipython3",
   "version": "3.8.8"
  }
 },
 "nbformat": 4,
 "nbformat_minor": 5
}
