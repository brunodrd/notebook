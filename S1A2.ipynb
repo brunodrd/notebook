{
 "cells": [
  {
   "cell_type": "markdown",
   "id": "obvious-tenant",
   "metadata": {},
   "source": [
    "Activités 2 Mise au point de programmes\n",
    "================================="
   ]
  },
  {
   "cell_type": "markdown",
   "id": "czech-beatles",
   "metadata": {},
   "source": [
    "## Spécification d'une fonction"
   ]
  },
  {
   "cell_type": "markdown",
   "id": "native-contrary",
   "metadata": {},
   "source": [
    "En tant que développeur python, on vous demande d'écrire une fonction de calcul de la racine carrée d'un nombre. L'entreprise dans laquelle vous travaillez demande que chaque fonction soit documentée selon le plan suivant: "
   ]
  },
  {
   "cell_type": "markdown",
   "id": "verbal-launch",
   "metadata": {},
   "source": [
    "1. Quel est le nom de la fonction ?\n",
    "2. Combien de paramètres sont acceptés en entrée ? Préciser leur type.\n",
    "3. Quel est le domaine valide des valeurs des paramètres?\n",
    "4. Combien de valeurs sont renvoyées en sortie ? Préciser leur type.\n",
    "5. Quel est le domaine valide de la valeur renvoyée en sortie ?"
   ]
  },
  {
   "cell_type": "markdown",
   "id": "mineral-haven",
   "metadata": {},
   "source": [
    "Si vos souvenirs sont bons en mathématiques, **la racine carrée** d'un nombre est toujours **positive ou nulle** et ne peut-être calculée **que pour des valeurs positives ou nulles**."
   ]
  },
  {
   "cell_type": "markdown",
   "id": "regular-estate",
   "metadata": {},
   "source": [
    "Répondre aux questions du plan en tenant compte des informations fournies. "
   ]
  },
  {
   "cell_type": "markdown",
   "id": "expensive-dominican",
   "metadata": {},
   "source": [
    "Réponses\n"
   ]
  },
  {
   "cell_type": "markdown",
   "id": "geological-arcade",
   "metadata": {},
   "source": [
    "Les points 1, 2 et 4 du plan forment le **prototype** de la fonction car ils définissent le minimum d'informations à connaître pour pouvoir l'utiliser.  \n",
    "\n",
    "A quoi servent les points 3 et 5 ? Comment ces informations pourraient-elles être utilisées ? \n"
   ]
  },
  {
   "cell_type": "markdown",
   "id": "breeding-genre",
   "metadata": {},
   "source": [
    "Réponses\n",
    "\n"
   ]
  },
  {
   "cell_type": "markdown",
   "id": "acoustic-toner",
   "metadata": {},
   "source": [
    "Vous vous écrivez le programme suivant:"
   ]
  },
  {
   "cell_type": "code",
   "execution_count": 5,
   "id": "conscious-elimination",
   "metadata": {},
   "outputs": [],
   "source": [
    "def racine(a):\n",
    "    # méthode de Héron\n",
    "    assert a >= 0\n",
    "    x = 1\n",
    "    for i in range(10):\n",
    "        x = (x + a / x) / 2\n",
    "    assert x >= 0\n",
    "    return x"
   ]
  },
  {
   "cell_type": "markdown",
   "id": "inner-supplier",
   "metadata": {},
   "source": [
    "Pour chaque question du plan, indiquer la ligne du programme qui apporte la réponse."
   ]
  },
  {
   "cell_type": "markdown",
   "id": "sophisticated-pitch",
   "metadata": {},
   "source": [
    "Réponses\n",
    "\n"
   ]
  },
  {
   "cell_type": "markdown",
   "id": "assumed-innocent",
   "metadata": {},
   "source": [
    "Tester la fonction `racine()` avec un argument invalide en entrée, comme par exemple la valeur $-2$. Que se passe-t-il ?"
   ]
  },
  {
   "cell_type": "code",
   "execution_count": null,
   "id": "loose-target",
   "metadata": {},
   "outputs": [],
   "source": [
    "# Appel de la fonction racine avec argument invalide\n"
   ]
  },
  {
   "cell_type": "markdown",
   "id": "unlike-gamma",
   "metadata": {},
   "source": [
    "Réponse\n"
   ]
  },
  {
   "cell_type": "markdown",
   "id": "collect-fashion",
   "metadata": {},
   "source": [
    "On souhaite ignorer la ligne 3 de la fonction `racine()`. Il suffit de la commenter comme suit `# assert a >= 0`. Tester à nouveau la fonction avec la valeur $-2$. Que se passe-t-il ? "
   ]
  },
  {
   "cell_type": "markdown",
   "id": "thermal-guidance",
   "metadata": {},
   "source": [
    "Réponse\n"
   ]
  },
  {
   "cell_type": "markdown",
   "id": "afraid-monkey",
   "metadata": {},
   "source": [
    "Préciser alors le rôle de l'assertion utilisée à la ligne 3."
   ]
  },
  {
   "cell_type": "markdown",
   "id": "turkish-median",
   "metadata": {},
   "source": [
    "Réponse\n"
   ]
  },
  {
   "cell_type": "markdown",
   "id": "nominated-combination",
   "metadata": {},
   "source": [
    "---"
   ]
  },
  {
   "cell_type": "markdown",
   "id": "three-alexandria",
   "metadata": {},
   "source": [
    "## Utiliser des jeux de test "
   ]
  },
  {
   "cell_type": "markdown",
   "id": "hindu-pressure",
   "metadata": {},
   "source": [
    "En tant que développeur python, on vous demande de vérifier le bon comportement de chaque fonction écrite. Pour cela, il faut écrire une deuxième fonction, dit de *vérification* ou de *test*."
   ]
  },
  {
   "cell_type": "markdown",
   "id": "spatial-toyota",
   "metadata": {},
   "source": [
    "La fonction à écrire, qui sera ensuite vérifiée, doit calculer un prix après remise: si le prix est de 100 € ou moins, il n'y a pas de réduction. Sinon, la réduction sur le prix total est de 10 €.  \n",
    "\n",
    "Vous écrivez donc les deux fonctions suivantes:"
   ]
  },
  {
   "cell_type": "code",
   "execution_count": 3,
   "id": "objective-rebel",
   "metadata": {},
   "outputs": [],
   "source": [
    "def reduction(prix):\n",
    "    if prix < 100:\n",
    "        return prix\n",
    "    else:\n",
    "        return prix -10\n",
    "    \n",
    "    \n",
    "def test_reduction():\n",
    "    if not reduction(50) == 50:\n",
    "        return False\n",
    "    elif not reduction(150) == 140:\n",
    "        return False\n",
    "    else:\n",
    "        return True"
   ]
  },
  {
   "cell_type": "markdown",
   "id": "comparable-referral",
   "metadata": {},
   "source": [
    "1. Si la fonction de test renvoie `False`, que peut-on en déduire sur le fonctionnement de `reduction(prix)`? "
   ]
  },
  {
   "cell_type": "markdown",
   "id": "informal-toyota",
   "metadata": {},
   "source": [
    "Réponse\n"
   ]
  },
  {
   "cell_type": "markdown",
   "id": "unnecessary-darwin",
   "metadata": {},
   "source": [
    "2. Que renvoie l'appel `test_reduction` ? Est-il nécessaire que le test renvoie `True` pour que la fonction soit correcte ?"
   ]
  },
  {
   "cell_type": "markdown",
   "id": "black-disabled",
   "metadata": {},
   "source": [
    "Réponse\n"
   ]
  },
  {
   "cell_type": "markdown",
   "id": "promising-security",
   "metadata": {},
   "source": [
    "3. Dans le jeu de test, quelles sont finalement les seules valeurs testées? "
   ]
  },
  {
   "cell_type": "markdown",
   "id": "cordless-riverside",
   "metadata": {},
   "source": [
    "Réponse"
   ]
  },
  {
   "cell_type": "markdown",
   "id": "spoken-insertion",
   "metadata": {},
   "source": [
    "4. Confiant dans l'exactitude de votre fonction, vous l'intégrez dans le logiciel qui doit l'utiliser. On s'aperçoit par la suite que la réduction est appliquée pour un prix égal à 100 €. Selon vous, d'où vient le problème ? "
   ]
  },
  {
   "cell_type": "markdown",
   "id": "presidential-waste",
   "metadata": {},
   "source": [
    "Réponse\n"
   ]
  },
  {
   "cell_type": "markdown",
   "id": "designing-armor",
   "metadata": {},
   "source": [
    "5. La fonction de test est-elle suffisante ? Expliquer pourquoi."
   ]
  },
  {
   "cell_type": "markdown",
   "id": "angry-czech",
   "metadata": {},
   "source": [
    "Réponse\n"
   ]
  },
  {
   "cell_type": "markdown",
   "id": "documentary-albania",
   "metadata": {},
   "source": [
    "6. Est-il réaliste de vouloir tester tous les cas possibles ? "
   ]
  },
  {
   "cell_type": "markdown",
   "id": "pleasant-thread",
   "metadata": {},
   "source": [
    "Réponse\n"
   ]
  },
  {
   "cell_type": "markdown",
   "id": "coordinated-python",
   "metadata": {},
   "source": [
    "7. Commenter la citation de l'algorithmicien très connu E. Dijkstra: *le test de programmes peut-être une façon très efficace de montrer la présence de bugs mais est désespérément inadéquate pour prouver leur absence*."
   ]
  },
  {
   "cell_type": "markdown",
   "id": "formal-satisfaction",
   "metadata": {},
   "source": [
    "Réponse\n"
   ]
  },
  {
   "cell_type": "markdown",
   "id": "certain-stake",
   "metadata": {},
   "source": [
    "8. Plus tard, un autre développeur modifie votre fonction pour ajouter une réduction supplémentaire si le prix dépasse 200 €. L'appel `test_reduction()` renvoie désormais `False`. Que faut-il en déduire? Quel est l'intérêt d'avoir écrit cette fonction de test ? "
   ]
  },
  {
   "cell_type": "markdown",
   "id": "macro-singer",
   "metadata": {},
   "source": [
    "Réponses\n"
   ]
  }
 ],
 "metadata": {
  "kernelspec": {
   "display_name": "Python 3",
   "language": "python",
   "name": "python3"
  },
  "language_info": {
   "codemirror_mode": {
    "name": "ipython",
    "version": 3
   },
   "file_extension": ".py",
   "mimetype": "text/x-python",
   "name": "python",
   "nbconvert_exporter": "python",
   "pygments_lexer": "ipython3",
   "version": "3.8.8"
  }
 },
 "nbformat": 4,
 "nbformat_minor": 5
}
