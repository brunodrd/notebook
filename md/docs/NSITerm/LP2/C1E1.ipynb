{
 "cells": [
  {
   "cell_type": "markdown",
   "metadata": {},
   "source": [
    "Exercices - Récursivité\n",
    "==================="
   ]
  },
  {
   "cell_type": "markdown",
   "metadata": {},
   "source": [
    "## Rappels - compléments sur les chaines de caractères en python\n",
    "### Déclaration\n",
    "\n",
    "**Rappel**: une chaîne de caractère python peut être initialisée avec une déclaration du type:  \n",
    "```python\n",
    "ma_chaine1 = 'caracteres'\n",
    "```  \n",
    "Si la chaîne contient un apostrophe, il vaut mieux utiliser une paire de doubles quotes:  \n",
    "```python\n",
    "ma_chaine2 = \"l'apostrophe n'est pas interprété comme délimiteur de chaine ici\"\n",
    "```  \n",
    "Enfin, si la chaîne occupe plusieurs lignes, on utilisera une paire de triple quotes:  \n",
    "```python\n",
    "ma_chaine3 = \"\"\"\n",
    "ligne 1\n",
    "ligne 2\n",
    "etc.\n",
    "\"\"\"\n",
    "```"
   ]
  },
  {
   "cell_type": "code",
   "execution_count": 41,
   "metadata": {},
   "outputs": [
    {
     "data": {
      "text/plain": [
       "str"
      ]
     },
     "execution_count": 41,
     "metadata": {},
     "output_type": "execute_result"
    }
   ],
   "source": [
    "ma_chaine1 = 'caracteres'\n",
    "type(ma_chaine1)"
   ]
  },
  {
   "cell_type": "markdown",
   "metadata": {},
   "source": [
    "### Indexation et longueur"
   ]
  },
  {
   "cell_type": "markdown",
   "metadata": {},
   "source": [
    "On peut accéder aux différents caractères de la chaîne en utilisant une indexation comme pour les tableaux.  Une particularité de python est de permettre une indexation négative. Ainsi l'index -1 correspond au dernier caractère."
   ]
  },
  {
   "cell_type": "code",
   "execution_count": 45,
   "metadata": {},
   "outputs": [
    {
     "name": "stdout",
     "output_type": "stream",
     "text": [
      "l\n",
      "i\n"
     ]
    }
   ],
   "source": [
    "ma_chaine2 = \"l'apostrophe n'est pas interprété comme délimiteur de chaine ici\"\n",
    "print(ma_chaine2[0])\n",
    "print(ma_chaine2[-1])"
   ]
  },
  {
   "cell_type": "markdown",
   "metadata": {},
   "source": [
    "On obtient la longueur de la chaîne avec la fonction `len`."
   ]
  },
  {
   "cell_type": "code",
   "execution_count": 43,
   "metadata": {},
   "outputs": [
    {
     "name": "stdout",
     "output_type": "stream",
     "text": [
      "64\n"
     ]
    }
   ],
   "source": [
    "print(len(ma_chaine2))"
   ]
  },
  {
   "cell_type": "markdown",
   "metadata": {},
   "source": [
    "### Les chaines: objets non mutables"
   ]
  },
  {
   "cell_type": "markdown",
   "metadata": {},
   "source": [
    "Les chaînes de caractères sont des objets non mutables (on dit aussi *immuables*)."
   ]
  },
  {
   "cell_type": "code",
   "execution_count": 50,
   "metadata": {},
   "outputs": [
    {
     "ename": "TypeError",
     "evalue": "'str' object does not support item assignment",
     "output_type": "error",
     "traceback": [
      "\u001b[0;31m---------------------------------------------------------------------------\u001b[0m",
      "\u001b[0;31mTypeError\u001b[0m                                 Traceback (most recent call last)",
      "\u001b[0;32m<ipython-input-50-f4b20dca7b9a>\u001b[0m in \u001b[0;36m<module>\u001b[0;34m\u001b[0m\n\u001b[0;32m----> 1\u001b[0;31m \u001b[0mma_chaine2\u001b[0m\u001b[0;34m[\u001b[0m\u001b[0;36m0\u001b[0m\u001b[0;34m]\u001b[0m \u001b[0;34m=\u001b[0m \u001b[0;34m'L'\u001b[0m\u001b[0;34m\u001b[0m\u001b[0;34m\u001b[0m\u001b[0m\n\u001b[0m",
      "\u001b[0;31mTypeError\u001b[0m: 'str' object does not support item assignment"
     ]
    }
   ],
   "source": [
    "ma_chaine2[0] = 'L'"
   ]
  },
  {
   "cell_type": "markdown",
   "metadata": {},
   "source": [
    "### Tranches (non exigible en NSI)"
   ]
  },
  {
   "cell_type": "markdown",
   "metadata": {},
   "source": [
    "On peut sélectionner des *tranches* dans une chaîne. Par exemple, pour récupérer les caractères situés entre les index $i$ (*inclus*) et $j$ (**exclus**) d'une chaîne `ch`, on utilise la syntaxe: `ch[i:j]`."
   ]
  },
  {
   "cell_type": "code",
   "execution_count": 49,
   "metadata": {},
   "outputs": [
    {
     "data": {
      "text/plain": [
       "\"l'apostrophe\""
      ]
     },
     "execution_count": 49,
     "metadata": {},
     "output_type": "execute_result"
    }
   ],
   "source": [
    "ma_chaine2[0:12]#récupère les caractères entre les index 0 (inclus) et 12 (exclus)"
   ]
  },
  {
   "cell_type": "markdown",
   "metadata": {},
   "source": [
    "### Concaténation"
   ]
  },
  {
   "cell_type": "markdown",
   "metadata": {},
   "source": [
    "On peut utiliser le signe '+' pour concaténer (mettre bout à bout) deux chaînes. Le résultat est une nouvelle chaîne."
   ]
  },
  {
   "cell_type": "code",
   "execution_count": 52,
   "metadata": {},
   "outputs": [
    {
     "name": "stdout",
     "output_type": "stream",
     "text": [
      "Les caracteres\n"
     ]
    }
   ],
   "source": [
    "new_chaine = 'Les ' + ma_chaine1\n",
    "print(new_chaine)"
   ]
  },
  {
   "cell_type": "markdown",
   "metadata": {},
   "source": [
    "## Exercice 1 - Fonction factorielle"
   ]
  },
  {
   "cell_type": "markdown",
   "metadata": {},
   "source": [
    "La traditionnelle fonction factorielle (pratiquement systématiquement présentée lorsqu'on aborde la récursivité) est définie par: $fact(n)=n!=1\\times 2\\times \\cdots \\times n$. Par ailleurs, $0!=1$.  \n",
    "\n",
    "!!! question \"A faire\"\n",
    "    Coder une fonction factorielle `fact(n)` de **manière récursive**. Coup de pouce: revoir le codage de la fonction puissance."
   ]
  },
  {
   "cell_type": "code",
   "execution_count": 2,
   "metadata": {},
   "outputs": [],
   "source": [
    "def fact(n):\n",
    "    # Supprimer l'instruction 'pass' et compléter avec votre code\n",
    "    pass"
   ]
  },
  {
   "cell_type": "markdown",
   "metadata": {},
   "source": [
    "## Exercice 2 - Inversion de chaîne  \n",
    "\n",
    "On souhaite écrire une fonction `inversechaine` qui inverse tous les caractères d'une chaîne non vide `c`. Par exemple, l'appel `inversechaine('bonjour')` renvoie `'ruojnob'`. Plusieurs méthodes de programmation sont possibles. **On impose ici une méthode récursive**.  \n",
    "\n",
    "* Le cas de base est simple à identifier: il s'agit d'une chaîne de longueur 1 ! Lorsque ce cas se produit, il suffit de renvoyer la chaîne;\n",
    "* Pour les autres cas, on s'appuie sur le constat suivant: l'inverse d'une chaîne c'est tout simplement la concaténation du dernier caractère de celle-ci avec l'inverse du reste de la chaîne.  \n",
    "\n",
    "!!! question \"A faire\"\n",
    "    Compléter la fonction suivante qui inverse `c` de manière récursive. Puis tester la fonction en exécutant la cellule prévue à cet effet."
   ]
  },
  {
   "cell_type": "code",
   "execution_count": 8,
   "metadata": {},
   "outputs": [],
   "source": [
    "def inversechaine(c, fin):\n",
    "    # Supprimer l'instruction 'pass' et compléter avec votre code\n",
    "    pass   "
   ]
  },
  {
   "cell_type": "code",
   "execution_count": null,
   "metadata": {},
   "outputs": [],
   "source": [
    "# Tests\n",
    "assert inversechaine('a', 0) == 'a'\n",
    "assert inversechaine('moteur') == 'ruetom'"
   ]
  },
  {
   "cell_type": "markdown",
   "metadata": {},
   "source": [
    "## Exercice 3 - Conversion binaire (encore)\n",
    "On a vu en première qu'on pouvait obtenir la conversion en binaire d'un entier naturel en réalisant les divisions successives de son quotient par 2. Exprimons cette idée de manière à faire émerger une méthode récursive.  \n",
    "On peut voir la **décomposition en binaire** d'un nombre $N$ comme la **concaténation** de la **décomposition en binaire** du quotient de $N$ par $2$, avec son reste. Le cas de base étant obtenu lorsque le nombre $N$ est nul, dans ce cas on renvoie une chaîne vide.  \n",
    "\n",
    "!!! question \"A faire\"\n",
    "    Compléter la fonction `binaire(N)` qui prend en paramètre un entier naturel $N$ et qui renvoie une chaîne qui correspond à sa conversion en binaire. Une méthode récursive est exigée."
   ]
  },
  {
   "cell_type": "code",
   "execution_count": 16,
   "metadata": {},
   "outputs": [],
   "source": [
    "def binaire(N):\n",
    "    # Supprimer l'instruction 'pass' et compléter avec votre code\n",
    "    pass"
   ]
  },
  {
   "cell_type": "code",
   "execution_count": null,
   "metadata": {},
   "outputs": [],
   "source": [
    "# Test\n",
    "assert binaire(40) == '101000'"
   ]
  },
  {
   "cell_type": "markdown",
   "metadata": {},
   "source": [
    "## Exercice 4 - La recherche linéaire en version récursive"
   ]
  },
  {
   "cell_type": "markdown",
   "metadata": {},
   "source": [
    "L'algorithme de recherche séquentielle ou linéaire dans un tableau $t$ a été vue en [classe de 1re]( https://brunodrd.github.io/documentation/recherche/). Donner une implémentation récursive de cet algorithme.  \n",
    "!!! tip \"Indication\"\n",
    "    $x \\in t$ si $x$ correspond au caractère en cours ou appartient au reste du tableau."
   ]
  },
  {
   "cell_type": "code",
   "execution_count": 23,
   "metadata": {},
   "outputs": [],
   "source": [
    "def appartient(x, t, d, f):\n",
    "    pass   "
   ]
  },
  {
   "cell_type": "code",
   "execution_count": null,
   "metadata": {},
   "outputs": [],
   "source": [
    "# Tests\n",
    "t4 = [1, 2, 10, -5, 8, 6, -2]\n",
    "t2 = []\n",
    "assert appartient(-2, t2, 0, len(t2)-1) == False\n",
    "assert appartient(10, t4, 0, len(t4)-1) == True"
   ]
  },
  {
   "cell_type": "markdown",
   "metadata": {},
   "source": [
    "## Exercice 5 (optionnel) - Le tri par insertion\n",
    "\n",
    "Le tri par insertion a également été vu [en 1re](https://brunodrd.github.io/documentation/tri_insertion_2021/). On se propose ici d'implémenter une version récursive.  \n",
    "\n",
    "### Amener un élément à sa place dans un tableau trié\n",
    "Soit un tableau $t$ de $n$ éléments, trié. C'est quoi *amener un élément* $x$ *à sa place dans* $t$?  \n",
    "\n",
    "* si $t$ est vide, c'est tout simplement un tableau composé du seul élément $x$ (`[x]`);\n",
    "* si $x< t[0]$ (plus petit que le premier élément du tableau) alors c'est le tableau obtenu en ajoutant $x$ au début de $t$;\n",
    "* si $x\\geq t[0]$ c'est la **concaténation** `[t[0]]` avec le tableau résultant du **placement** de $x$ dans `[t[1]...t[n-1]]`.\n",
    "\n",
    "!!! question \"A faire\"\n",
    "    Ecrire une fonction **récursive** `place(x,t)` qui amène $x$ à sa place dans un tableau trié. Cette fonction renvoie un nouveau tableau."
   ]
  },
  {
   "cell_type": "code",
   "execution_count": 50,
   "metadata": {},
   "outputs": [],
   "source": [
    "def place(x, t):\n",
    "    pass"
   ]
  },
  {
   "cell_type": "code",
   "execution_count": null,
   "metadata": {},
   "outputs": [],
   "source": [
    "# Tests\n",
    "t=[-5, -3,4,12,15,20]\n",
    "assert place(8, t) == [-5, -3, 4, 8, 12, 15, 20]"
   ]
  },
  {
   "cell_type": "markdown",
   "metadata": {},
   "source": [
    "### Trier par insertion\n",
    "\n",
    "C'est quoi trier un tableau $t$ de $n$ éléments par insertion ?\n",
    "\n",
    "* si $t$ est vide alors il s'agit d'un tableau vide;\n",
    "* sinon c'est **placer** `t[0]` dans le tableau de $n-1$ éléments `[t[1]...t[n-1]` **trié par insertion**.\n",
    "\n",
    "!!! question \"A faire\"\n",
    "    Ecrire la fonction récursive `triInsert(t)` qui trie $t$ par insertion."
   ]
  },
  {
   "cell_type": "code",
   "execution_count": 52,
   "metadata": {},
   "outputs": [],
   "source": [
    "def triInsert(t):\n",
    "    pass"
   ]
  },
  {
   "cell_type": "code",
   "execution_count": null,
   "metadata": {},
   "outputs": [],
   "source": [
    "# Tests\n",
    "t4 = [1, 2, 10, -5, 8, 6, -2]\n",
    "assert triInsert(t4) == [-5, -2, 1, 2, 6, 8, 10]\n",
    "assert triInsert([]) == []\n",
    "assert triInsert(triInsert([0,0,0])) == [0,0,0]"
   ]
  },
  {
   "cell_type": "markdown",
   "metadata": {},
   "source": [
    "## Exercice 6 - Un autre tri: le tri fusion"
   ]
  },
  {
   "cell_type": "markdown",
   "metadata": {},
   "source": [
    "**Préambule**  \n",
    "\n",
    "Avant d'aborder l'implémentation d'un nouvel algorithme de tri plus performant que ceux de 1re, on donne les deux fonctions ci-dessous. Malheureusement les spécifications ne sont pas complètes ..."
   ]
  },
  {
   "cell_type": "code",
   "execution_count": 43,
   "metadata": {
    "deletable": false,
    "editable": false
   },
   "outputs": [],
   "source": [
    "def est_trie(t, g, d):\n",
    "    \"\"\"\n",
    "    t: tableau\n",
    "    g,d: entiers naturels\n",
    "    renvoie ...\n",
    "    \"\"\"\n",
    "    # par ordre croissant \n",
    "    return g > d or all(t[i+1] >= t[i] for i in range(g, d))"
   ]
  },
  {
   "cell_type": "code",
   "execution_count": 42,
   "metadata": {
    "deletable": false,
    "editable": false
   },
   "outputs": [],
   "source": [
    "def fusion(t, g, m, d):\n",
    "    \"\"\"\n",
    "    t: tableau\n",
    "    g,m,d: entiers naturels\n",
    "    renvoie ....\n",
    "    \"\"\"\n",
    "    assert est_trie(t, g, m)\n",
    "    assert est_trie(t, m+1, d)\n",
    "    \n",
    "    i, j = g, m + 1\n",
    "    aux = t[:] # réalise une copie de t\n",
    "    for k in range(g, d+1):\n",
    "        if i > m:\n",
    "            t[k] = aux[j]\n",
    "            j += 1\n",
    "        elif j > d:\n",
    "            t[k] = aux[i]\n",
    "            i += 1\n",
    "        elif aux[j] < aux[i]:\n",
    "            t[k] = aux[j]\n",
    "            j += 1\n",
    "        else:\n",
    "            t[k] = aux[i]\n",
    "            i += 1\n",
    "    \n",
    "    assert est_trie(t, g, d)"
   ]
  },
  {
   "cell_type": "code",
   "execution_count": 39,
   "metadata": {
    "deletable": false,
    "editable": false
   },
   "outputs": [
    {
     "name": "stdout",
     "output_type": "stream",
     "text": [
      "[-3, 1, 3, 4, 7, 10, 12]\n"
     ]
    }
   ],
   "source": [
    "# 1er exemple d'appel\n",
    "t1 = [1, 3, 7, -3, 4, 10, 12]\n",
    "fusion(t1, 0, 2, 6)\n",
    "print(t1)"
   ]
  },
  {
   "cell_type": "markdown",
   "metadata": {
    "deletable": false,
    "editable": false
   },
   "source": [
    "```\n",
    "      k\n",
    "      |\n",
    "      v\n",
    "    +---+---+---+---+---+---+--+\n",
    "t   | 1 | 3 | 7 |-3 | 4 |10 |12|\n",
    "    +---+---+---+---+---+---+--+\n",
    "      g       m              d\n",
    "    \n",
    "    +---+---+---+---+---+---+--+\n",
    "aux | 1 | 3 | 7 |-3 | 4 |10 |12|\n",
    "    +---+---+---+---+---+---+--+\n",
    "      ^           ^\n",
    "      |           |\n",
    "      i           j\n",
    "```"
   ]
  },
  {
   "cell_type": "code",
   "execution_count": 40,
   "metadata": {
    "deletable": false,
    "editable": false
   },
   "outputs": [
    {
     "name": "stdout",
     "output_type": "stream",
     "text": [
      "['A', 'C', 'E', 'E', 'E', 'G', 'M', 'R', 'R', 'T']\n"
     ]
    }
   ],
   "source": [
    "# Autre exemple\n",
    "t2 = ['E','E','G','M','R','A','C','E','R','T']\n",
    "fusion(t2,0,4,9)\n",
    "print(t2)"
   ]
  },
  {
   "cell_type": "markdown",
   "metadata": {},
   "source": [
    "!!! question \"A faire\"\n",
    "    * A partir du code et des exemples, dire ce que réalise la fonction `fusion`.\n",
    "    * Quelle est l'utilité de la fonction `est_trie`?"
   ]
  },
  {
   "cell_type": "markdown",
   "metadata": {},
   "source": [
    "**Le tri fusion**  \n",
    "\n",
    "Le tri fusion d'un tableau est basé sur une idée simple:  \n",
    "\n",
    "* séparer le tableau en deux parties égales ou presqu'égales (à un élément près);\n",
    "* trier de manière indépendante et **récursivement** les deux parties;\n",
    "* fusionner les deux parties de tableau triées.\n",
    "\n",
    "Le cas de base se produit lorsqu'on arrive à un tableau à un élément. Dans ce cas, il est forcément trié et on retourne sans plus de traitement.  \n",
    "\n",
    "!!! question \"A faire\"\n",
    "    En utilisant la cellule suivante, coder une fonction `tri_fusion` et tester."
   ]
  },
  {
   "cell_type": "code",
   "execution_count": 48,
   "metadata": {},
   "outputs": [],
   "source": [
    "# A compléter\n",
    "\n",
    "#def tri_fusion(t, g, d):\n",
    "#    if ...: # Cas de base\n",
    "#        return\n",
    "#    else: # cas récursif\n",
    "#        m = g + (d - g) // 2 # sensiblement la moitié du tableau\n",
    "#        ..."
   ]
  },
  {
   "cell_type": "code",
   "execution_count": null,
   "metadata": {},
   "outputs": [],
   "source": [
    "# Cellule de test\n",
    "t1 = [3, -8, 10,1, 3, -5, 12, 7, 6]\n",
    "t2 = []\n",
    "tri_fusion(t1, 0, 8)\n",
    "tri_fusion(t2, 0, 0)\n",
    "assert t1 == [-8, -5, 1, 3, 3, 6, 7, 10, 12]\n",
    "assert t2 == []"
   ]
  },
  {
   "cell_type": "markdown",
   "metadata": {},
   "source": [
    "## Problème classique: les tours de Hanoï"
   ]
  },
  {
   "cell_type": "markdown",
   "metadata": {},
   "source": [
    "*Origine: wikipedia*\n",
    "\n",
    "Le problème mathématique des tours de Hanoï a été inventé par Édouard Lucas. Il est publié dans le tome 3 de ses Récréations mathématiques, parues à titre posthume en 1892. Il annonce que ce problème est dû à un de ses amis, N. Claus de Siam (anagramme de Lucas d'Amiens, Amiens étant sa ville de naissance), prétendument professeur au collège de Li-Sou-Stian (anagramme de Saint Louis, le lycée où Lucas enseignait).\n",
    "\n",
    "Sous le titre « Les brahmes tombent », Lucas relate que « N. Claus de Siam a vu, dans ses voyages pour la publication des écrits de l'illustre Fer-Fer-Tam-Tam, dans le grand temple de Bénarès, au-dessous du dôme qui marque le centre du monde, trois aiguilles de diamant, plantées dans une dalle d'airain, hautes d'une coudée et grosses comme le corps d'une abeille. Sur une de ces aiguilles, Dieu enfila au commencement des siècles, 64 disques d'or pur, le plus large reposant sur l'airain, et les autres, de plus en plus étroits, superposés jusqu'au sommet. C'est la tour sacrée du Brahmâ. Nuit et jour, les prêtres se succèdent sur les marches de l'autel, occupés à transporter la tour de la première aiguille sur la troisième, sans s'écarter des règles fixes que nous venons d'indiquer, et qui ont été imposées par Brahma. Quand tout sera fini, la tour et les brahmes tomberont, et ce sera la fin des mondes1 ! ».\n",
    "\n",
    "Comme indiqué ci-dessous, un jeu à 64 disques requiert un minimum de $2^{64}-1$ déplacements. En admettant qu'il faille 1 seconde pour déplacer un disque, ce qui fait 86 400 déplacements par jour, la fin du jeu aurait lieu au bout d'environ 213 000 milliards de jours, ce qui équivaut à peu près à 584,5 milliards d'années, soit 43 fois l'âge estimé de l'univers (13,7 milliards d'années selon certaines sources)."
   ]
  },
  {
   "cell_type": "code",
   "execution_count": 1,
   "metadata": {},
   "outputs": [
    {
     "data": {
      "image/jpeg": "[encoded data removed]",
      "text/html": [
       "\n",
       "        <iframe\n",
       "            width=\"800\"\n",
       "            height=\"450\"\n",
       "            src=\"https://www.youtube.com/embed/U3nGNJTxYc4\"\n",
       "            frameborder=\"0\"\n",
       "            allowfullscreen\n",
       "        ></iframe>\n",
       "        "
      ],
      "text/plain": [
       "<IPython.lib.display.YouTubeVideo at 0x7fb2015f0f70>"
      ]
     },
     "execution_count": 1,
     "metadata": {},
     "output_type": "execute_result"
    }
   ],
   "source": [
    "from IPython.display import YouTubeVideo\n",
    "\n",
    "\n",
    "YouTubeVideo('U3nGNJTxYc4', width=800, height=450)"
   ]
  },
  {
   "cell_type": "markdown",
   "metadata": {},
   "source": [
    "L'objectif est de résoudre ce casse-tête en utilisant une méthode récursive. Le cas de base est obtenu lorsque le nombre $n$ de disques à déplacer est nul. Dans ce cas on retourne.  \n",
    "Le cas récursif est à faire apparaître avec la remarque suivante: pour déplacer $n$ disques d'une tour A vers une tour C, il faut:  \n",
    "\n",
    "* déplacer les $n-1$ premiers disques vers une tour intermédiaire (B par exemple);\n",
    "* déplacer le plus grand disque restant vers sa destination (ici tour C);\n",
    "* déplacer les $n-1$ disques de la première étape vers C.  \n",
    "\n",
    "!!! question \"A faire\"\n",
    "    Proposer une solution récursive, en python, du problème des tours de Hanoï. La fonction pourrait avoir une signature du type: `hanoi(nb_disques, tour_depart, tour interm, tour_arrivee)`."
   ]
  },
  {
   "cell_type": "code",
   "execution_count": 4,
   "metadata": {},
   "outputs": [],
   "source": [
    "def hanoi(n, start='A', inter='B', stop='C'):\n",
    "    # Supprimer l'instruction 'pass' et compléter avec votre code\n",
    "    pass "
   ]
  }
 ],
 "metadata": {
  "celltoolbar": "Format de la Cellule Texte Brut",
  "kernelspec": {
   "display_name": "Python 3",
   "language": "python",
   "name": "python3"
  },
  "language_info": {
   "codemirror_mode": {
    "name": "ipython",
    "version": 3
   },
   "file_extension": ".py",
   "mimetype": "text/x-python",
   "name": "python",
   "nbconvert_exporter": "python",
   "pygments_lexer": "ipython3",
   "version": "3.8.8"
  },
  "toc": {
   "base_numbering": 1,
   "nav_menu": {},
   "number_sections": true,
   "sideBar": true,
   "skip_h1_title": false,
   "title_cell": "Table of Contents",
   "title_sidebar": "Contents",
   "toc_cell": false,
   "toc_position": {},
   "toc_section_display": true,
   "toc_window_display": true
  }
 },
 "nbformat": 4,
 "nbformat_minor": 4
}
