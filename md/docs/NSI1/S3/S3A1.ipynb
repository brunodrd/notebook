{
 "cells": [
  {
   "cell_type": "markdown",
   "id": "excited-formula",
   "metadata": {},
   "source": [
    "Compter en base 2, 10 et 16\n",
    "=======================\n",
    "\n",
    "## Base 10 (décimale)\n",
    "\n",
    "De façon naturelle, on travaille avec des nombres écrits le plus souvent en base 10, avec ses 10 chiffres de 0 à 9 (à cause de nos 10 doigts ?). \n",
    "Ainsi, chaque nombre est décomposé suivant des *unités* (rang 0), *dizaines* (rang 1), *centaines* (rang 2), etc. \n",
    "On peut aussi utiliser les puissances de 10.  \n",
    "**Exemple**  \n",
    "Le nombre 125 est égal une centaine plus deux dizaines plus cinq unités, ce qui \n",
    "peut être écrit aussi:  \n",
    "$125=1\\times 10^2+2\\times 10^1+5\\times 10^0$\n",
    "\n",
    "!!! question \"A faire\"\n",
    "    Décomposer 63 en base 10."
   ]
  },
  {
   "cell_type": "markdown",
   "id": "outdoor-teacher",
   "metadata": {},
   "source": []
  },
  {
   "cell_type": "markdown",
   "id": "suburban-switzerland",
   "metadata": {},
   "source": [
    "## Base 2 (binaire)\n",
    "Dans un ordinateur, la base naturelle est la base 2 ou **binaire** (l'état d'un composé électronique ne prend que deux valeurs: allumé ou éteint).  Deux chiffres seulement sont nécessaires: le zéro et le un. Comme en base 10, un nombre peut être décomposé en *unité* (rang 0), *deuzaine* (rang 1), *quatraine* (rang 2), *huitaine* (rang 3) etc.  \n",
    "\n",
    "??? info\n",
    "    Le nom des adjectifs numéraux peut être consulté sur [cette page wikipedia](https://fr.wikipedia.org/wiki/Nom_num%C3%A9ral).\n",
    "    \n",
    "Comme en base 10 encore, on peut utiliser les puissances de la base, ici 2.  \n",
    "**Exemple**  \n",
    "Le nombre 17 peut être décomposé en une seizaine plus une unité:  \n",
    "\n",
    "| seizaine \t| huitaine \t| quatraine \t| deuzaine \t| unité \t|\n",
    "|----------\t|----------\t|-----------\t|----------\t|-------\t|\n",
    "| 2^4=16   \t| 2^3=8    \t| 2^2=4     \t| 2^1=2    \t| 2^0=1 \t|\n",
    "| 1        \t| 0        \t| 0         \t| 0        \t| 1     \t|\n",
    "\n",
    "De ce fait, 17 s'écrit $10001_2$ en base 2 (le deux en indice indique la base et évite les ambiguités).\n"
   ]
  },
  {
   "cell_type": "markdown",
   "id": "sustained-mention",
   "metadata": {},
   "source": [
    "!!! question \"A faire\"\n",
    "    Le nombre 14 est égal à une huitaine plus une quatraine plus une deuzaine. Décomposer 14 sur la base 2. "
   ]
  },
  {
   "cell_type": "code",
   "execution_count": null,
   "id": "characteristic-operator",
   "metadata": {},
   "outputs": [],
   "source": []
  },
  {
   "cell_type": "markdown",
   "id": "coastal-staff",
   "metadata": {},
   "source": [
    "Techniquement, la décomposition en puissance de 2 peut se faire en réalisant des divisions euclidienne par 2.  \n",
    "\n",
    "!!! important \"Rappel important\"\n",
    "    Le vocabulaire employé lorsqu'on *pose* une division (avec la potence):  \n",
    "    ![division](img/vocabulaire.png)\n",
    "\n",
    "Il s'agit de **réaliser des divisions successives par 2 du quotient, tant que  celui-ci n'est pas nul**.  \n",
    "\n",
    "**Exemple**\n",
    "Soit à convertir 25 en binaire en utilisant les divisions successives par 2.  \n",
    "\n",
    "![ex_25](img/division.png)  \n",
    "\n",
    "Le résultat est obtenu en faisant une lecture des **restes de bas en haut**: $11001_2$.\n",
    "\n",
    "!!! question \"A faire\"\n",
    "    Ecrire le nombre 19 en binaire en utilisant la technique des divisions successives par 2."
   ]
  },
  {
   "cell_type": "markdown",
   "id": "atlantic-simon",
   "metadata": {},
   "source": []
  },
  {
   "cell_type": "markdown",
   "id": "hungry-fraud",
   "metadata": {},
   "source": [
    "Pour connaître la valeur d'un nombre écrit en binaire, en base 10, il suffit de faire la somme de sa décomposition en puissances de deux.  \n",
    "\n",
    "**Exemple**  \n",
    "$1101_2=1\\times 2^3+1\\times 2^2+1\\times 2^0=8+4+1=13$\n",
    "\n",
    "| $2^3$ \t| $2^2$ \t| $2^1$ \t| $2^0$ \t|\n",
    "|-------\t|-------\t|-------\t|-------\t|\n",
    "| 1     \t| 1     \t| 0     \t| 1     \t|"
   ]
  },
  {
   "cell_type": "markdown",
   "id": "portable-concentration",
   "metadata": {},
   "source": [
    "!!! question \"A faire\"\n",
    "    Convertir $110110_2$ en base 10."
   ]
  },
  {
   "cell_type": "code",
   "execution_count": null,
   "id": "signed-kuwait",
   "metadata": {},
   "outputs": [],
   "source": []
  },
  {
   "cell_type": "markdown",
   "id": "dimensional-opposition",
   "metadata": {},
   "source": [
    "## Base 16 (hexadécimale)\n",
    "\n",
    "La base 16 est également très utilisée en informatique. Dans cette base, seize symboles (chiffres) sont nécessaires. On utilise les dix chiffres de la base 10 plus les six lettres A, B, C, D, E et F.  \n",
    "\n",
    "| Base 16 \t| 0 \t| 1 \t| 2 \t| 3 \t| 4 \t| 5 \t| 6 \t| 7 \t| 8 \t| 9 \t| A  \t| B  \t| C  \t| D  \t| E  \t| F  \t|\n",
    "|---------\t|---\t|---\t|---\t|---\t|---\t|---\t|---\t|---\t|---\t|---\t|----\t|----\t|----\t|----\t|----\t|----\t|\n",
    "| Base 10 \t| 0 \t| 1 \t| 2 \t| 3 \t| 4 \t| 5 \t| 6 \t| 7 \t| 8 \t| 9 \t| 10 \t| 11 \t| 12 \t| 13 \t| 14 \t| 15 \t|\n",
    "\n",
    "Les principes de conversions vus précédemment sont toujours valables.  \n",
    "\n",
    "* Conversion de la base 10 vers la base 16  \n",
    "    On effectue des divisions successives du quotient tant que celui-ci n'est pas nul.  \n",
    "    **Exemple**  \n",
    "    Soit le nombre $480_{10}$ à écrire en base 16.  \n",
    "    ![dechex](img/base_10_16.png)  \n",
    "    La flêche indique le sens de lecture: $480_{10}=1\\mathrm{E}0_{16}$\n",
    "* Conversion de la base 16 vers la base 10  \n",
    "    On effectue la somme de la décomposition du nombre en puissance de 16.  \n",
    "    **Exemple**  \n",
    "    \n",
    "    | $16^2$ \t| $16^1$ \t| $16^0$ \t|\n",
    "    |--------\t|--------\t|--------\t|\n",
    "    | 1      \t| E      \t| 0      \t|\n",
    "    \n",
    "    $1\\mathrm{E}0_{16}= 1\\times 16^2+14\\times 16^1+0\\times 16^0=256+224=480$\n",
    "\n",
    "!!! question \"A faire\"\n",
    "    Fanny a choisi comme couleur de fond de la page d'accueil de son site web la valeur `#F34DC1`. Dans cette syntaxe, chaque paire de caractère correspond à nombre hexadécimal associé à une nuance de rouge, de vert ou de bleu (codage RGB). Ici, la nuance de rouge est codé par le nombre `F3`. La nuance de vert est associé à `4D` et celle du bleu à `C1`.  \n",
    "    \n",
    "    * Donner chaque nuance de couleur en base 10;\n",
    "    * Les autres pages du site auront une couleur de fond codée en décimal par le triplet RGB (241, 19, 126). Donner le code hexadécimal de cette couleur."
   ]
  },
  {
   "cell_type": "code",
   "execution_count": null,
   "id": "fleet-prototype",
   "metadata": {},
   "outputs": [],
   "source": []
  },
  {
   "cell_type": "markdown",
   "id": "weekly-flood",
   "metadata": {},
   "source": [
    "## Conversion hexadécimale - binaire"
   ]
  },
  {
   "cell_type": "markdown",
   "id": "looking-atlanta",
   "metadata": {},
   "source": [
    "Pour passer de l'hexadécimal au binaire il suffit de remplacer chaque chiffre hexadécimal par son code binaire.  \n",
    "\n",
    "| Hexadécimal \t| 0    \t| 1    \t| 2    \t| 3    \t| 4    \t| 5    \t| 6    \t| 7    \t| 8    \t| 9    \t| A    \t| B    \t| C    \t| D    \t| E    \t| F    \t|\n",
    "|-------------\t|------\t|------\t|------\t|------\t|------\t|------\t|------\t|------\t|------\t|------\t|------\t|------\t|------\t|------\t|------\t|------\t|\n",
    "| Binaire     \t| 0000 \t| 0001 \t| 0010 \t| 0011 \t| 0100 \t| 0101 \t| 0110 \t| 0111 \t| 1000 \t| 1001 \t| 1010 \t| 1011 \t| 1100 \t| 1101 \t| 1110 \t| 1111 \t|\n",
    "\n",
    "!!! question \"A faire\"\n",
    "    Quelle est la valeur en binaire, du code de la couleur de la page d'accueil du site de Fanny ?"
   ]
  },
  {
   "cell_type": "code",
   "execution_count": null,
   "id": "coated-scale",
   "metadata": {},
   "outputs": [],
   "source": []
  },
  {
   "cell_type": "markdown",
   "id": "burning-monday",
   "metadata": {},
   "source": [
    "Pour passer d'une écriture binaire à l'hexadécimale, on fait des groupes de 4 chiffres binaires de la droite vers la gauche (si besoin on complète avec des zéros). On fait correspondre à chaque groupe le chiffre hexadécimal correct (voir tableau ci-dessus.  \n",
    "**Exemple**  \n",
    "Que vaut $111\\ 0001\\ 1010_2$ en hexadécimal ? Réponse: $71\\mathrm{A}$ \n",
    "\n",
    "!!! question \"A faire\"\n",
    "    Ecrire $10\\ 1111\\ 1101\\ 1010\\ 0111\\ 1011_2$ en hexadécimal"
   ]
  },
  {
   "cell_type": "code",
   "execution_count": null,
   "id": "growing-chain",
   "metadata": {},
   "outputs": [],
   "source": []
  }
 ],
 "metadata": {
  "kernelspec": {
   "display_name": "Python 3",
   "language": "python",
   "name": "python3"
  },
  "language_info": {
   "codemirror_mode": {
    "name": "ipython",
    "version": 3
   },
   "file_extension": ".py",
   "mimetype": "text/x-python",
   "name": "python",
   "nbconvert_exporter": "python",
   "pygments_lexer": "ipython3",
   "version": "3.8.8"
  }
 },
 "nbformat": 4,
 "nbformat_minor": 5
}
