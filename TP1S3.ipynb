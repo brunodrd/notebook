{
 "cells": [
  {
   "cell_type": "markdown",
   "metadata": {},
   "source": [
    "Travailler en base 2, 10 ou 16 - Applications\n",
    "==================================="
   ]
  },
  {
   "cell_type": "markdown",
   "metadata": {},
   "source": [
    "## Manipulations binaires en python\n",
    "### Préambule: types natifs\n",
    "Python possède trois types d'objets numériques natifs, parmi lesquels on peux citer le type `int` (*integer*) pour manipuler les entiers relatifs  et le type `float` pour manipuler les nombres décimaux à virgule flottante.  \n",
    "Pour manipuler les chaînes de caractères, on dispose du type `str` (*string*). Ces dernières sont déclarées en étant entourées de double quotes `\" \"` ou de simples quotes `' '`  (s'il n'y a pas d'ambiguités avec l'apostrophe). Par exemple \n",
    "\n",
    "```python\n",
    "mavariable = \"programmation\"\n",
    "```\n",
    "\n",
    "Pour accéder au type d'un objet `obj`on utilise la fonction native `type()` sur cet objet:  \n",
    "```python\n",
    "type(obj)\n",
    "```\n",
    "\n",
    "!!! question \"A faire\"\n",
    "    Donner le type des objets suivants: 11, 11.0 et \"11\". Représentent-ils le même objet ?"
   ]
  },
  {
   "cell_type": "code",
   "execution_count": null,
   "metadata": {},
   "outputs": [],
   "source": []
  },
  {
   "cell_type": "markdown",
   "metadata": {},
   "source": [
    "### Convertisseur decimal binaire\n",
    "Python possède une fonction native qui permet la conversion d'un entier en binaire: la fonction `bin()`.  "
   ]
  },
  {
   "cell_type": "code",
   "execution_count": 70,
   "metadata": {},
   "outputs": [
    {
     "data": {
      "text/plain": [
       "'0b1001101'"
      ]
     },
     "execution_count": 70,
     "metadata": {},
     "output_type": "execute_result"
    }
   ],
   "source": [
    "bin(77)"
   ]
  },
  {
   "cell_type": "markdown",
   "metadata": {},
   "source": [
    "On constate que le résultat est:  \n",
    "\n",
    "* une chaîne de caractères;\n",
    "* préfixé des caractères `0b` pour indiquer du binaire.  \n",
    "\n",
    "On se propose d'écrire ici notre propre fonction de conversion en python, en suivant l'algorithme écrit en pseudo-code ci-après.  \n",
    "\n",
    "<figure>\n",
    "<img alt=\"algobinaire\" src=\"img/dec2bin.png\" width=\"72%\">\n",
    "</figure>\n",
    "\n",
    "Dans cet algorithme, l'affectation est notée $\\leftarrow$ (flêche gauche) et la chaine de caractères vide `\"\"`.  \n",
    "Par ailleurs, en python:  \n",
    "\n",
    "  *  le reste `r` de la division d'un entier naturel $a$ par un entier naturel $b$ est obtenu par `r = a % b`; \n",
    "  *  le quotient `q` de la division euclidienne de $a$ par $b$ s'obtient par `q = a // b`;\n",
    "  *  la transformation d'un nombre $x$ en chaine de caractères `\"x\"` est réalisée par `str(x)`.  "
   ]
  },
  {
   "cell_type": "code",
   "execution_count": 2,
   "metadata": {
    "deletable": false,
    "editable": false
   },
   "outputs": [
    {
     "name": "stdout",
     "output_type": "stream",
     "text": [
      "quotient: 8 , reste: 1\n",
      "concaténation de 'r' et '00': 100\n"
     ]
    }
   ],
   "source": [
    "# Réaliser des divisions euclidiennes en python\n",
    "a = 17\n",
    "b = 2\n",
    "q = a // b\n",
    "r = a % b\n",
    "print(\"quotient:\", q, \", reste:\", r)\n",
    "print(\"concaténation de 'r' et '00':\", str(r) + '00')"
   ]
  },
  {
   "cell_type": "markdown",
   "metadata": {},
   "source": [
    "!!! question \"A faire\"\n",
    "    * Ecrire une fonction `dec2bin` qui prend en paramètre un entier naturel `n` et qui renvoit la représentation binaire de `n`sous forme de chaine de caractères, à partir de l'algorithme fourni.\n",
    "    * **Bonus** (*pour les plus rapides*) écrire une fonction `sur_16_bits` qui prend en paramètre une chaine représentant un nombre binaire (*donc formée de 0 et de 1*) et qui renvoit une chaine correspondant au même nombre écrit sur 16 bits. Il faudra donc rajouter, si besoin, des zéros."
   ]
  },
  {
   "cell_type": "markdown",
   "metadata": {},
   "source": [
    "## Application de la numération hexadécimale\n",
    "### Introduction\n",
    "Quelque soit leur type, les fichiers sont stockés en machine sous forme binaire. Celle-ci est peu pratique la plupart du temps. On lui préfère la forme hexadécimale.  \n",
    "\n",
    "!!! question \"A faire\"\n",
    "    * On peut utiliser un outil en ligne de commande pour visualiser le contenu en hexadécimal d'un fichier.  Dans un terminal (++ctrl+alt+t++), saisir la commande `hexdump -C -n 64 logo.bmp` qui affiche les 64 premiers octets du fichier `logo.bmp` en hexadécimal. On s'intéressera uniquement à la colonne centrale où chaque ligne représente 16 octets.\n",
    "    * Donner la valeur des 6 premiers octets.\n",
    "    * On peut aussi convertir un nombre hexadécimal en décimal via la ligne de commande en penant soin de le préfixé par `0x`. Exemple de syntaxe: `echo $((0x7F))` qui donne 127. Convertir le nombre héxadécimal `B104` en décimal."
   ]
  },
  {
   "cell_type": "code",
   "execution_count": null,
   "metadata": {},
   "outputs": [],
   "source": []
  },
  {
   "cell_type": "markdown",
   "metadata": {},
   "source": [
    "### Notion de boutisme\n",
    "Pour une donnée qui occupent au moins deux octets, la question de sa représentation en mémoire (on dit aussi de son boutisme) se pose. En effet, on a deux possibilités pour l'écrire:  \n",
    "\n",
    "* de l'octet de poids fort vers l'octet de poids faible; c'est la représentation *gros-boutisme* ou *big-endian*;\n",
    "* de l'octet de poids faible vers l'octet de poids fort; c'est la représentation *petit-boutisme* ou *little-endian*;\n",
    "\n",
    "Le choix du boutisme est typiquement fixé par l'architecture du processeur ou le protocole. Pour ce TP, au lycée, c'est la représentation *little-endian* qui prévaut.  \n",
    "\n",
    "**Exemple**  \n",
    "Le nombre hexadécimal `0x1A597C` occupe trois octets, `1A` est l'octet de poids fort et `7C` l'octet de poids faible. Sur une architecture *little-endian* ce nombre sera représenté par `7C 59 1A`.  \n",
    "\n",
    "!!! question \"A faire\"\n",
    "    * Saisir la commande `hexdump -C -n 14 logo.bmp` qui affiche les 14 premiers octets du fichier. Relever les 4 octets allant du n°2 au n°5 (attention, on compte à partir de 0);\n",
    "    * Sachant que c'est la représentation *little-endian* qui est utilisée, quel est le nombre hexadécimal correspondant ?"
   ]
  },
  {
   "cell_type": "code",
   "execution_count": null,
   "metadata": {},
   "outputs": [],
   "source": []
  },
  {
   "cell_type": "markdown",
   "metadata": {},
   "source": [
    "### Caractéristiques d'une image au format BMP\n",
    "Les fichiers images au format [BMP](https://en.wikipedia.org/wiki/BMP_file_format) sont bien documentés. On peut aisemment consulter les informations avec un éditeur hexadecimal. Les 2 premiers octets servent à identifier le fichier. Pour une image BMP, on doit avoir 'BM' soit `42 4D` en hexadécimal.  \n",
    "\n",
    "Les **4 octets suivants nous donnent la taille du fichier**, en hexadécimal.  \n",
    "\n",
    "!!! question \"A faire\"\n",
    "    * A partir d'un relevé fait avec `hexdump` et compte tenu du boutisme, donner la taille du fichier en hexadécimal puis en décimal. Est-ce cohérent avec la valeur fourni par la commande `ls -l`?\n",
    "    * Avec des options appropriées, la commande `hexdump` nous permet de récupérer $n$ octets à partir d'une adresse $s$ (appelée aussi *offset*) par rapport au début du fichier. Ainsi, `hexdump -n 4 -s 2 logo.bmp` affichera 4 octets à partir de l'octet n° 2 (*offset*). Tester.\n",
    "    * La documentation du format BMP est résumée en annexe et est disponible sur [wikipedia](https://en.wikipedia.org/wiki/BMP_file_format). A partir de toutes ces informations et des questions précédentes:\n",
    "        * donner la valeur en hexadécimal **et** en décimal de la largeur (en anglais *width*) de l'image;\n",
    "        * donner la valeur en hexadécimal **et** en décimal de la hauteur (en anglais *height*) de l'image;\n",
    "        * dire si l'image est compressée ou non. Justifier avec la lecture d'octets bien particuliers."
   ]
  },
  {
   "cell_type": "markdown",
   "metadata": {},
   "source": []
  }
 ],
 "metadata": {
  "celltoolbar": "Éditer les Méta-Données",
  "kernelspec": {
   "display_name": "Python 3",
   "language": "python",
   "name": "python3"
  },
  "language_info": {
   "codemirror_mode": {
    "name": "ipython",
    "version": 3
   },
   "file_extension": ".py",
   "mimetype": "text/x-python",
   "name": "python",
   "nbconvert_exporter": "python",
   "pygments_lexer": "ipython3",
   "version": "3.8.8"
  },
  "toc": {
   "base_numbering": 1,
   "nav_menu": {},
   "number_sections": true,
   "sideBar": true,
   "skip_h1_title": false,
   "title_cell": "Table of Contents",
   "title_sidebar": "Contents",
   "toc_cell": false,
   "toc_position": {},
   "toc_section_display": true,
   "toc_window_display": false
  }
 },
 "nbformat": 4,
 "nbformat_minor": 4
}
