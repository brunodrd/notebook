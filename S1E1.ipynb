{
 "cells": [
  {
   "cell_type": "markdown",
   "id": "soviet-platform",
   "metadata": {},
   "source": [
    "Exercices S1\n",
    "==========="
   ]
  },
  {
   "cell_type": "markdown",
   "id": "protected-insight",
   "metadata": {},
   "source": [
    "## Exercice 1: quelques pièges de l'affectation"
   ]
  },
  {
   "cell_type": "markdown",
   "id": "assured-study",
   "metadata": {},
   "source": [
    "On définit la fonction `calcul_v1()` suivante: "
   ]
  },
  {
   "cell_type": "code",
   "execution_count": 7,
   "id": "spectacular-livestock",
   "metadata": {},
   "outputs": [],
   "source": [
    "def calcul_v1(n):\n",
    "    resultat = 0\n",
    "    for i in range(n):\n",
    "        resultat = resultat + 1\n",
    "    return resultat"
   ]
  },
  {
   "cell_type": "markdown",
   "id": "essential-plumbing",
   "metadata": {},
   "source": [
    "1. Donner deux constructions élémentaires différentes ainsi que leur numéro de la ligne où elles apparaissent."
   ]
  },
  {
   "cell_type": "markdown",
   "id": "aboriginal-equality",
   "metadata": {},
   "source": [
    "2. On modifie légèrement la fonction précédente, pour obtenir une autre version:  \n",
    "\n",
    "```python\n",
    "def calcul_v2(n):\n",
    "    for i in range(n):\n",
    "        resultat = resultat + 1\n",
    "    return resultat\n",
    "```\n",
    "\n",
    "L'exécution de `calcul_v2(0)` provoque cette fois-ci l'erreur suivante:  \n",
    "\n",
    "```python\n",
    "---------------------------------------------------------------------------\n",
    "UnboundLocalError                         Traceback (most recent call last)\n",
    "<ipython-input-5-e000315c4ef2> in <module>\n",
    "----> 1 calcul_v2(0)\n",
    "\n",
    "<ipython-input-4-012f1c01c96b> in calcul_v2(n)\n",
    "      2     for i in range(n):\n",
    "      3         resultat = resultat + 1\n",
    "----> 4     return resultat\n",
    "\n",
    "UnboundLocalError: local variable 'resultat' referenced before assignment\n",
    "```\n",
    "\n",
    "En comparant avec la première version, donner l'origine cette erreur. Proposer une explication de la situation."
   ]
  },
  {
   "cell_type": "markdown",
   "id": "expressed-venture",
   "metadata": {},
   "source": [
    "3. Un élève exécute la séquence d'instructions suivante:  \n",
    "\n",
    "```python\n",
    "calcul_v1(100)\n",
    "somme_100 = resultat\n",
    "```\n",
    "\n",
    "Malheureusement cette séquence échoue. L'interpréteur python affiche l'erreur\n",
    "\n",
    "```python\n",
    "NameError: name 'resultat' is not defined\n",
    "```\n",
    "\n",
    "Cette erreur semble curieuse à priori car la variable `resultat` a été déclarée et affectée dans la fonction `calcul_v1`.  \n",
    "\n",
    "Faire une hypothèse sur la *visibilité* d'une variable déclarée à l'intérieur d'une fonction."
   ]
  },
  {
   "cell_type": "markdown",
   "id": "bronze-spirituality",
   "metadata": {},
   "source": [
    "---"
   ]
  },
  {
   "cell_type": "markdown",
   "id": "russian-malpractice",
   "metadata": {},
   "source": [
    "## Exercice 2: les boucles"
   ]
  },
  {
   "cell_type": "markdown",
   "id": "baking-burke",
   "metadata": {},
   "source": [
    "On propose les deux fonctions python suivantes:"
   ]
  },
  {
   "cell_type": "code",
   "execution_count": 13,
   "id": "every-scheme",
   "metadata": {},
   "outputs": [],
   "source": [
    "def augmentation(quantite_initiale):\n",
    "    quantite_finale = quantite_initiale\n",
    "    for i in range(5):\n",
    "        quantite_finale = quantite_initiale * 1.33\n",
    "    return quantite_finale\n",
    "\n",
    "def estimer_annee(quantite_initiale, annee):\n",
    "    quantite_finale = quantite_initiale\n",
    "    while quantite_finale <= quantite_initiale * 3:\n",
    "        quantite_finale = quantite_finale * 1.33\n",
    "        annee = annee + 1\n",
    "    return annee"
   ]
  },
  {
   "cell_type": "markdown",
   "id": "right-norfolk",
   "metadata": {},
   "source": [
    "1. Transformer la fonction `augmentation` de manière à faire apparaître une boucle conditionnelle.\n",
    "2. Peut-on transformer de manière **simple** (c'est-à-dire sans introduire de calculs supplémentaires) la boucle de la fonction `estimer_annee` en boucle bornée ? Expliquer."
   ]
  },
  {
   "cell_type": "markdown",
   "id": "quality-secretary",
   "metadata": {},
   "source": [
    "---"
   ]
  },
  {
   "cell_type": "markdown",
   "id": "instructional-tract",
   "metadata": {},
   "source": [
    "## Exercice 3: diversité des langages"
   ]
  },
  {
   "cell_type": "markdown",
   "id": "historic-training",
   "metadata": {},
   "source": [
    "*Aucune connaissance des langages cités ci-dessous n'est nécessaire pour résoudre l'exercice. Il s'agit d'un travail sur les similitudes et les différences existant entre ces langages*."
   ]
  },
  {
   "cell_type": "markdown",
   "id": "embedded-prescription",
   "metadata": {},
   "source": [
    "Le mélange de Fisher-Yates est un algorithme qui permet de mélanger des objets (voir [sa description sur Wikipedia](https://fr.wikipedia.org/wiki/M%C3%A9lange_de_Fisher-Yates)). On se propose de traduire cet algorithme dans divers langages de programmation."
   ]
  },
  {
   "cell_type": "markdown",
   "id": "blond-brand",
   "metadata": {},
   "source": [
    "`Pascal (1970)`\n",
    "\n",
    "```pascal\n",
    "procedure shuffleList(var tab: tableau);\n",
    "var\n",
    "    i, j, tmp : integer;\n",
    "begin\n",
    "    for i := 1 to High(tab) - Low(tab) do begin\n",
    "        j := random(i + 1);\n",
    "        if j < i then\n",
    "            tmp := tab[i + Low(tab)];\n",
    "            tab[i + Low(tab)] := tab[j + Low(tab)];\n",
    "            tab[j + Low(tab)] := tmp\n",
    "        end;\n",
    "    end;\n",
    "end;\n",
    "```"
   ]
  },
  {
   "cell_type": "markdown",
   "id": "noticed-venice",
   "metadata": {},
   "source": [
    "`C (1972)`\n",
    "\n",
    "```C\n",
    "void shuffle(int tab[], int n) {\n",
    "    int i;\n",
    "    for (i = 1; i < n; ++i) {\n",
    "        int j = random(i + 1);\n",
    "        if (j < i) {\n",
    "            int tmp = tab[i];\n",
    "            tab[i] = tab[j];\n",
    "            tab[j] = tmp;\n",
    "        }\n",
    "    }\n",
    "}\n",
    "```"
   ]
  },
  {
   "cell_type": "markdown",
   "id": "coordinate-feature",
   "metadata": {},
   "source": [
    "`Go (2009)`  \n",
    "\n",
    "```Go\n",
    "func shuffle(tab []int) {\n",
    "    for i := 1; i < len(tab); i++ {\n",
    "        j := rand.Intn(i + 1)\n",
    "        if j < i {\n",
    "            tmp := tab[i]\n",
    "            tab[i] := tab[j]\n",
    "            tab[j] := tmp\n",
    "        }\n",
    "    }\n",
    "}\n",
    "```"
   ]
  },
  {
   "cell_type": "markdown",
   "id": "fuzzy-christmas",
   "metadata": {},
   "source": [
    "`ECMAScript (Javascript) ES 6 (2015)`\n",
    " \n",
    "```Javascript\n",
    "const shuffle = (tab) => {\n",
    "for (let i = 1; i < tab.length; i++) {\n",
    "    let j = Math.floor((i + 1) * Math.random())\n",
    "    if (j < i) {\n",
    "        let temp = tab[j]\n",
    "        tab[j] = tab[i]\n",
    "        tab[i] = temp\n",
    "        }\n",
    "    }\n",
    "}\n",
    "```"
   ]
  },
  {
   "cell_type": "markdown",
   "id": "rational-mirror",
   "metadata": {},
   "source": [
    "`Python (1991)`\n",
    "\n",
    "```python\n",
    "def shuffle(tab):\n",
    "    for i in range(1, len(tab)):\n",
    "        j = random.randint(0, i)\n",
    "        if j < i:\n",
    "            tab[i], tab[j] = tab[j], tab[i]\n",
    "```"
   ]
  },
  {
   "cell_type": "markdown",
   "id": "hourly-printer",
   "metadata": {},
   "source": [
    "1. Comment sont délimités les blocs d'instructions ?\n",
    "2. Est-il nécessaire de déclarer les variables *locales* dans une fonction ?\n",
    "3. Comment est structurée une boucle `for` ?\n",
    "4. A partir des informations proposées, de quel(s) langage(s), le `Go` est-il proche ?"
   ]
  },
  {
   "cell_type": "markdown",
   "id": "experienced-japanese",
   "metadata": {},
   "source": [
    "Réponses  \n",
    "\n",
    "|                      \t| Pascal \t| C \t| Go \t| Python \t| Javascript (ES 6) \t|\n",
    "|----------------------\t|--------\t|---\t|----\t|--------\t|-------------------\t|\n",
    "| Délimiteurs          \t|        \t|   \t|    \t|        \t|                   \t|\n",
    "| Variables locales    \t|        \t|   \t|    \t|        \t|                   \t|\n",
    "| Structure boucle for \t|        \t|   \t|    \t|        \t|                   \t|"
   ]
  },
  {
   "cell_type": "markdown",
   "id": "hybrid-shield",
   "metadata": {},
   "source": [
    "---"
   ]
  },
  {
   "cell_type": "code",
   "execution_count": null,
   "id": "boxed-bachelor",
   "metadata": {},
   "outputs": [],
   "source": []
  }
 ],
 "metadata": {
  "kernelspec": {
   "display_name": "Python 3",
   "language": "python",
   "name": "python3"
  },
  "language_info": {
   "codemirror_mode": {
    "name": "ipython",
    "version": 3
   },
   "file_extension": ".py",
   "mimetype": "text/x-python",
   "name": "python",
   "nbconvert_exporter": "python",
   "pygments_lexer": "ipython3",
   "version": "3.8.8"
  }
 },
 "nbformat": 4,
 "nbformat_minor": 5
}
