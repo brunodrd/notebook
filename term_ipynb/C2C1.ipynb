{
 "cells": [
  {
   "cell_type": "markdown",
   "metadata": {},
   "source": [
    "# Structures de données: implémentation et interface "
   ]
  },
  {
   "cell_type": "markdown",
   "metadata": {},
   "source": [
    "## Les tableaux (le retour)"
   ]
  },
  {
   "cell_type": "markdown",
   "metadata": {},
   "source": [
    "En classe de première on a rencontré et utilisé les tableaux. En toute rigueur, ce sont des structures ayant une taille fixe et contenant des objets de même type.  \n",
    "Cependant, Python n'implémente pas des tableaux répondant à ces critères (du moins pas sans module spécialisé). A la place, on trouve des structures plus complexes: les tableaux dynamiques (*les fameuses \"listes de python\"*) qui ont la propriété de pouvoir être agrandis, à droite.  \n",
    "On peut ajouter ou retirer des éléments d'une *liste de python* avec les méthodes `append` et `pop`."
   ]
  },
  {
   "cell_type": "code",
   "execution_count": 46,
   "metadata": {},
   "outputs": [
    {
     "name": "stdout",
     "output_type": "stream",
     "text": [
      "[10, 20, 30, 50, 70]\n"
     ]
    }
   ],
   "source": [
    "t = [10, 20, 30]\n",
    "t.append(50)\n",
    "t.append(70)\n",
    "print(t)"
   ]
  },
  {
   "cell_type": "code",
   "execution_count": 47,
   "metadata": {},
   "outputs": [
    {
     "data": {
      "text/plain": [
       "70"
      ]
     },
     "execution_count": 47,
     "metadata": {},
     "output_type": "execute_result"
    }
   ],
   "source": [
    "t.pop()"
   ]
  },
  {
   "cell_type": "code",
   "execution_count": 48,
   "metadata": {},
   "outputs": [
    {
     "name": "stdout",
     "output_type": "stream",
     "text": [
      "[10, 20, 30, 50]\n"
     ]
    }
   ],
   "source": [
    "print(t)"
   ]
  },
  {
   "cell_type": "markdown",
   "metadata": {},
   "source": [
    "On peut éventuellement agrandir le tableau \"par la gauche\" avec la méthode `insert`:"
   ]
  },
  {
   "cell_type": "code",
   "execution_count": 49,
   "metadata": {},
   "outputs": [
    {
     "name": "stdout",
     "output_type": "stream",
     "text": [
      "[-20, 10, 20, 30, 50]\n"
     ]
    }
   ],
   "source": [
    "t.insert(0, -20)\n",
    "print(t)"
   ]
  },
  {
   "cell_type": "markdown",
   "metadata": {},
   "source": [
    "On **évitera autant que possible cette pratique à cause de ses médiocres performances**, notamment sur les tableaux de grande taille.  \n",
    "Enfin, l'accès à la **dernière valeur du tableau** est très simple avec l'index **-1**:"
   ]
  },
  {
   "cell_type": "code",
   "execution_count": 50,
   "metadata": {},
   "outputs": [
    {
     "name": "stdout",
     "output_type": "stream",
     "text": [
      "50\n"
     ]
    }
   ],
   "source": [
    "print(t[-1])"
   ]
  },
  {
   "cell_type": "markdown",
   "metadata": {},
   "source": [
    "## Une première structure simple: la pile"
   ]
  },
  {
   "cell_type": "markdown",
   "metadata": {},
   "source": [
    "### Introduction\n",
    "\n",
    "<figure>\n",
    "    <img alt=\"assiette\" src=\"img/assiette.png\" width=\"40%\")>\n",
    "</figure>\n",
    "    \n",
    "Dans une pile d'assiettes, les manipulations **enlever** ou **déposer** une nouvelle assiette, ne peuvent se faire qu'au sommet. Une propriété remarquable est qu'une assiette ne peut être enlevée qu'après avoir enlevé toutes celles qui se trouvaient au dessus.  Il s'agit d'une structure de type **LIFO**, qui signifie *Last In First Out*.\n",
    "\n",
    "En informatique, il existe une structure de donnée appelée *pile* (*stack* en anglais) dont le fonctionnnement peut rappeler celui de la pile d'assiette. Les applications sont très nombreuses. Citons par exemple, le problème de l'annulation de la dernière action enregistrée de nombreux logiciels (le fameux ++ctrl+z++). Il s'agit de sauvegarder les actions de l'utilisateur et de pouvoir restaurer la dernière si besoin. Il existe énormément de [ressources de vulgarisation](https://www.youtube.com/watch?v=1SWr7q121gc) sur Internet permettant de découvrir son fonctionnement  "
   ]
  },
  {
   "cell_type": "markdown",
   "metadata": {},
   "source": [
    "### Réalisation (implémentation) simple\n",
    "\n",
    "Une première réalisation possible d'une pile (*bornée*) peut se faire avec un tableau (de taille fixe $N+1$). La première case du tableau (index 0) stockera le nombre $n$ d'éléments de la pile, permettant ainsi d'avoir accès au **sommet**.  \n",
    "\n",
    "![tableaupile](img/tableau.png)  \n"
   ]
  },
  {
   "cell_type": "code",
   "execution_count": null,
   "metadata": {},
   "outputs": [],
   "source": [
    "N = 5 #la taille choisie est arbitraire\n",
    "\n",
    "# Création d'un pile vide capable d'accueillir N éléments par défaut\n",
    "def creer_pile(n=N):\n",
    "    p = [None for _ in range(n + 1)]\n",
    "    p[0] = 0\n",
    "    return p"
   ]
  },
  {
   "cell_type": "markdown",
   "metadata": {},
   "source": [
    "Les opérations d'insertions et de suppressions, qu'on nommera ici **empiler** et **dépiler**, se font au sommet.  \n",
    "Il est évident qu'on ne peut pas dépiler une pile vide ou empiler une pile pleine ! Il faut donc gérer ces cas.   On peut éventuellement prévoir une fonction `est_pilevide`."
   ]
  },
  {
   "cell_type": "code",
   "execution_count": 2,
   "metadata": {},
   "outputs": [],
   "source": [
    "def est_pilevide(p):\n",
    "    return p[0] == 0\n",
    "\n",
    "def depiler(p):\n",
    "    n = p[0]\n",
    "    assert not est_pilevide(p), \"Erreur: pile vide\"\n",
    "    p[0] -= 1 # ne pas oublier de réajuster le sommet\n",
    "    return p[n]\n",
    "\n",
    "def empiler(p, val):\n",
    "    n = p[0]\n",
    "    assert n < len(p) - 1, \"Erreur: pile pleine\"\n",
    "    n += 1 # la pile va contenir un élément de plus\n",
    "    p[0] = n\n",
    "    p[n] = val"
   ]
  },
  {
   "cell_type": "markdown",
   "metadata": {},
   "source": [
    "Enfin, il est courant d'avoir une fonction `sommet` qui récupère le seul élément accessible de la pile."
   ]
  },
  {
   "cell_type": "code",
   "execution_count": 3,
   "metadata": {},
   "outputs": [],
   "source": [
    "def sommet(p):\n",
    "    assert not est_pilevide(p), \"Erreur: pile vide\"\n",
    "    return p[p[0]]"
   ]
  },
  {
   "cell_type": "markdown",
   "metadata": {},
   "source": [
    "??? question \"Application\"\n",
    "    Donner la situation de la pile après chacune des opérations suivantes:\n",
    "    \n",
    "    ```python\n",
    "    p = creer_pile()\n",
    "    empiler(p, 5)\n",
    "    empiler(p, 15)\n",
    "    empiler(p, 25)\n",
    "    depiler(p)\n",
    "    ```\n",
    "    Quelle valeur se trouve au sommet de la pile? Le vérifier."
   ]
  },
  {
   "cell_type": "markdown",
   "metadata": {},
   "source": [
    "On peut aussi réaliser une pile (*non bornée*) avec des *listes de python* et leurs méthodes `append` et `pop`.  \n",
    "\n",
    "!!! question \"A faire\"\n",
    "    Compléter les fonctions `depiler` , `empiler` et `sommet`."
   ]
  },
  {
   "cell_type": "code",
   "execution_count": 57,
   "metadata": {},
   "outputs": [],
   "source": [
    "def creer_pile():\n",
    "    return []\n",
    "\n",
    "def est_pilevide(p):\n",
    "    return len(p) == 0\n",
    "\n",
    "def depiler(p):\n",
    "    # A compléter\n",
    "    pass\n",
    "    \n",
    "def empiler(p, val):\n",
    "    # A compléter\n",
    "    pass\n",
    "    \n",
    "def sommet(p):\n",
    "    # A compléter\n",
    "    pass"
   ]
  },
  {
   "cell_type": "code",
   "execution_count": 58,
   "metadata": {},
   "outputs": [
    {
     "name": "stdout",
     "output_type": "stream",
     "text": [
      "15\n",
      "5\n"
     ]
    }
   ],
   "source": [
    "p = creer_pile()\n",
    "empiler(p, 5)\n",
    "empiler(p, 15)\n",
    "empiler(p, 25)\n",
    "depiler(p)\n",
    "print(sommet(p))\n",
    "depiler(p)\n",
    "print(sommet(p))"
   ]
  },
  {
   "cell_type": "markdown",
   "metadata": {},
   "source": [
    "!!! important \"A retenir\"\n",
    "    Les opérations réalisables sur une pile peuvent donner lieu à des réalisations (on dit aussi \n",
    "    implémentations) différentes."
   ]
  },
  {
   "cell_type": "markdown",
   "metadata": {},
   "source": [
    "## Une deuxième structure: la file"
   ]
  },
  {
   "cell_type": "markdown",
   "metadata": {},
   "source": [
    "![attente](img/attente.png)\n",
    "\n",
    "La file est une structure qui diffère de la pile dans le sens où l'insertion et la suppression ne se font pas du même côté (penser à une *file d'attente* devant un guichet). Ces opérations sont nommées **enfiler** et **défiler**.  Les files sont par exemple utilisées dans les gestionnaires d'impression (des imprimantes).  Il s'agit d'une structure de type **FIFO**, pour *First In First Out*.\n",
    "\n",
    "Une implémentation triviale peut être réalisée avec des *listes de python*. \n",
    "\n",
    "!!! question \"A faire\"\n",
    "    Compléter le code suivant. *Coup de pouce*: utiliser les méthodes `append` , `pop` et `insert`."
   ]
  },
  {
   "cell_type": "code",
   "execution_count": 64,
   "metadata": {},
   "outputs": [],
   "source": [
    "def creer_file():\n",
    "    return []\n",
    "\n",
    "def est_filevide(f):\n",
    "    return len(f) == 0\n",
    "\n",
    "def defiler(f):\n",
    "    # A compléter\n",
    "    pass\n",
    "    \n",
    "def enfiler(f, val):\n",
    "    # A compléter\n",
    "    pass"
   ]
  },
  {
   "cell_type": "markdown",
   "metadata": {},
   "source": [
    "Vérifier que l'on a bien une structure de file en exécutant la cellule suivante"
   ]
  },
  {
   "cell_type": "code",
   "execution_count": 65,
   "metadata": {},
   "outputs": [
    {
     "name": "stdout",
     "output_type": "stream",
     "text": [
      "5 15 25 "
     ]
    }
   ],
   "source": [
    "f = creer_file()\n",
    "enfiler(f, 5)\n",
    "enfiler(f, 15)\n",
    "enfiler(f, 25)\n",
    "while not est_filevide(f):\n",
    "    print(defiler(f), end=' ')"
   ]
  },
  {
   "cell_type": "code",
   "execution_count": 66,
   "metadata": {},
   "outputs": [
    {
     "ename": "AssertionError",
     "evalue": "Erreur: file vide",
     "output_type": "error",
     "traceback": [
      "\u001b[0;31m---------------------------------------------------------------------------\u001b[0m",
      "\u001b[0;31mAssertionError\u001b[0m                            Traceback (most recent call last)",
      "\u001b[0;32m<ipython-input-66-cbba2ba98b42>\u001b[0m in \u001b[0;36m<module>\u001b[0;34m\u001b[0m\n\u001b[0;32m----> 1\u001b[0;31m \u001b[0mdefiler\u001b[0m\u001b[0;34m(\u001b[0m\u001b[0mf\u001b[0m\u001b[0;34m)\u001b[0m\u001b[0;34m\u001b[0m\u001b[0;34m\u001b[0m\u001b[0m\n\u001b[0m",
      "\u001b[0;32m<ipython-input-64-bfde421bb079>\u001b[0m in \u001b[0;36mdefiler\u001b[0;34m(f)\u001b[0m\n\u001b[1;32m      7\u001b[0m \u001b[0;32mdef\u001b[0m \u001b[0mdefiler\u001b[0m\u001b[0;34m(\u001b[0m\u001b[0mf\u001b[0m\u001b[0;34m)\u001b[0m\u001b[0;34m:\u001b[0m\u001b[0;34m\u001b[0m\u001b[0;34m\u001b[0m\u001b[0m\n\u001b[1;32m      8\u001b[0m     \u001b[0;31m#A compléter\u001b[0m\u001b[0;34m\u001b[0m\u001b[0;34m\u001b[0m\u001b[0;34m\u001b[0m\u001b[0m\n\u001b[0;32m----> 9\u001b[0;31m     \u001b[0;32massert\u001b[0m \u001b[0;32mnot\u001b[0m \u001b[0mest_filevide\u001b[0m\u001b[0;34m(\u001b[0m\u001b[0mf\u001b[0m\u001b[0;34m)\u001b[0m\u001b[0;34m,\u001b[0m \u001b[0;34m\"Erreur: file vide\"\u001b[0m\u001b[0;34m\u001b[0m\u001b[0;34m\u001b[0m\u001b[0m\n\u001b[0m\u001b[1;32m     10\u001b[0m     \u001b[0;32mreturn\u001b[0m \u001b[0mf\u001b[0m\u001b[0;34m.\u001b[0m\u001b[0mpop\u001b[0m\u001b[0;34m(\u001b[0m\u001b[0;34m)\u001b[0m\u001b[0;34m\u001b[0m\u001b[0;34m\u001b[0m\u001b[0m\n\u001b[1;32m     11\u001b[0m \u001b[0;34m\u001b[0m\u001b[0m\n",
      "\u001b[0;31mAssertionError\u001b[0m: Erreur: file vide"
     ]
    }
   ],
   "source": [
    "defiler(f)"
   ]
  },
  {
   "cell_type": "markdown",
   "metadata": {},
   "source": [
    "Une autre réalisation est possible en utilisant 2 piles qu'on nommera `p_in` et `p_out`.  Les opérations `enfiler` et `défiler` sont détaillées ci dessous:\n",
    "\n",
    "**enfiler**  \n",
    "```\n",
    "empiler sur p_in.\n",
    "```\n",
    "\n",
    "**defiler**  \n",
    "```\n",
    "Si p_out est vide:\n",
    "    Tant que p_in n'est pas vide:\n",
    "        depiler p_in et empiler cet élément sur p_out\n",
    "depiler p_out\n",
    "```\n",
    "\n",
    "!!! question \"A faire\"\n",
    "    Compléter l'implémentation d'une file qui utilise deux piles, dans la cellule suivante.        "
   ]
  },
  {
   "cell_type": "code",
   "execution_count": 68,
   "metadata": {},
   "outputs": [],
   "source": [
    "def creer_file():\n",
    "    return (creer_pile(), creer_pile())\n",
    "\n",
    "def enfiler(f, val):\n",
    "    p_in = f[0]\n",
    "    # A compléter\n",
    "    pass\n",
    "    \n",
    "def defiler(f):\n",
    "    assert not est_filevide(f), \"Erreur: file vide\"\n",
    "    # A compléter\n",
    "    pass\n",
    "\n",
    "def est_filevide(f):\n",
    "    p_in, p_out = f[0], f[1]\n",
    "    return est_pilevide(p_in) and est_pilevide(p_out)"
   ]
  },
  {
   "cell_type": "code",
   "execution_count": null,
   "metadata": {},
   "outputs": [],
   "source": [
    "#Cellule de tests à exécuter\n",
    "f = creer_file()\n",
    "enfiler(f, 5)\n",
    "enfiler(f, 15)\n",
    "enfiler(f, 25)\n",
    "while not est_filevide(f):\n",
    "    print(defiler(f), end=' ')"
   ]
  },
  {
   "cell_type": "code",
   "execution_count": 70,
   "metadata": {},
   "outputs": [
    {
     "ename": "AssertionError",
     "evalue": "Erreur: file vide",
     "output_type": "error",
     "traceback": [
      "\u001b[0;31m---------------------------------------------------------------------------\u001b[0m",
      "\u001b[0;31mAssertionError\u001b[0m                            Traceback (most recent call last)",
      "\u001b[0;32m<ipython-input-70-cbba2ba98b42>\u001b[0m in \u001b[0;36m<module>\u001b[0;34m\u001b[0m\n\u001b[0;32m----> 1\u001b[0;31m \u001b[0mdefiler\u001b[0m\u001b[0;34m(\u001b[0m\u001b[0mf\u001b[0m\u001b[0;34m)\u001b[0m\u001b[0;34m\u001b[0m\u001b[0;34m\u001b[0m\u001b[0m\n\u001b[0m",
      "\u001b[0;32m<ipython-input-68-6de1afd1571e>\u001b[0m in \u001b[0;36mdefiler\u001b[0;34m(f)\u001b[0m\n\u001b[1;32m      7\u001b[0m \u001b[0;34m\u001b[0m\u001b[0m\n\u001b[1;32m      8\u001b[0m \u001b[0;32mdef\u001b[0m \u001b[0mdefiler\u001b[0m\u001b[0;34m(\u001b[0m\u001b[0mf\u001b[0m\u001b[0;34m)\u001b[0m\u001b[0;34m:\u001b[0m\u001b[0;34m\u001b[0m\u001b[0;34m\u001b[0m\u001b[0m\n\u001b[0;32m----> 9\u001b[0;31m     \u001b[0;32massert\u001b[0m \u001b[0;32mnot\u001b[0m \u001b[0mest_filevide\u001b[0m\u001b[0;34m(\u001b[0m\u001b[0mf\u001b[0m\u001b[0;34m)\u001b[0m\u001b[0;34m,\u001b[0m \u001b[0;34m\"Erreur: file vide\"\u001b[0m\u001b[0;34m\u001b[0m\u001b[0;34m\u001b[0m\u001b[0m\n\u001b[0m\u001b[1;32m     10\u001b[0m     \u001b[0mp_in\u001b[0m\u001b[0;34m,\u001b[0m \u001b[0mp_out\u001b[0m \u001b[0;34m=\u001b[0m \u001b[0mf\u001b[0m\u001b[0;34m[\u001b[0m\u001b[0;36m0\u001b[0m\u001b[0;34m]\u001b[0m\u001b[0;34m,\u001b[0m \u001b[0mf\u001b[0m\u001b[0;34m[\u001b[0m\u001b[0;36m1\u001b[0m\u001b[0;34m]\u001b[0m\u001b[0;34m\u001b[0m\u001b[0;34m\u001b[0m\u001b[0m\n\u001b[1;32m     11\u001b[0m     \u001b[0;32mif\u001b[0m \u001b[0mest_pilevide\u001b[0m\u001b[0;34m(\u001b[0m\u001b[0mp_out\u001b[0m\u001b[0;34m)\u001b[0m\u001b[0;34m:\u001b[0m\u001b[0;34m\u001b[0m\u001b[0;34m\u001b[0m\u001b[0m\n",
      "\u001b[0;31mAssertionError\u001b[0m: Erreur: file vide"
     ]
    }
   ],
   "source": [
    "defiler(f)"
   ]
  },
  {
   "cell_type": "markdown",
   "metadata": {},
   "source": [
    "**Comme pour la pile, même si les implémentations d'une file peuvent être très différentes les fonctionnalités qu'elles offrent sont identiques**."
   ]
  },
  {
   "cell_type": "markdown",
   "metadata": {},
   "source": [
    "## Vers une abstraction des structures de données"
   ]
  },
  {
   "cell_type": "markdown",
   "metadata": {},
   "source": [
    "Les exemples précédents ont montré qu'on pouvait définir **une structure de données comme étant une description logique de la façon dont on voit ces données et des opérations permises**.  \n",
    "D'un point de vue utilisateur (*c'est-à-dire le programmeur*), manipuler une structure de données c'est se préoccuper de ce que les données représentent et utiliser les opérations autorisées **sans se soucier de leur implémentation**.  \n",
    "\n",
    "![abstraction](img/adt.png)\n",
    "\n",
    "Les détails de mise en oeuvre des structures de données étant cachés à l'utilisateur, celui-ci accède à ces objets par le biais d'une **interface** (ensemble des opérations permises et d'une description informelle de leur effet).  \n",
    "\n",
    "Voici par exemple, les spécifications de la structure de données **pile** précedente:  \n",
    "\n",
    "| Struture de données Pile \t|                                                              \t|\n",
    "|--------------------------\t|--------------------------------------------------------------\t|\n",
    "| Opérations               \t| Description                                                  \t|\n",
    "| creer_pile(n)            \t| Créé une pile vide de taille n optionnelle                   \t|\n",
    "| est_pilevide(p)          \t| retourne un booléen correspondant <br>à l'état de la pile p. \t|\n",
    "| empiler(p, val)          \t| empile val dans la pile p.                                   \t|\n",
    "| depiler(p)               \t| renvoie le sommet de la pile p et le supprime<br>de celle-ci \t|\n",
    "| sommet(p)                \t| renvoie le sommet de la pile p, sans le <br>supprimer        \t|\n",
    "\n",
    "Cette liste de spécifications est souvent appelée **API** pour **A**pplication **P**rogramming **I**nterface."
   ]
  }
 ],
 "metadata": {
  "kernelspec": {
   "display_name": "Python 3",
   "language": "python",
   "name": "python3"
  },
  "language_info": {
   "codemirror_mode": {
    "name": "ipython",
    "version": 3
   },
   "file_extension": ".py",
   "mimetype": "text/x-python",
   "name": "python",
   "nbconvert_exporter": "python",
   "pygments_lexer": "ipython3",
   "version": "3.8.8"
  },
  "toc": {
   "base_numbering": 1,
   "nav_menu": {},
   "number_sections": true,
   "sideBar": true,
   "skip_h1_title": false,
   "title_cell": "Table of Contents",
   "title_sidebar": "Contents",
   "toc_cell": false,
   "toc_position": {},
   "toc_section_display": true,
   "toc_window_display": false
  }
 },
 "nbformat": 4,
 "nbformat_minor": 4
}
