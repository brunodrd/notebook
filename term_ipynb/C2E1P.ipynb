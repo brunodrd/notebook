{
 "cells": [
  {
   "cell_type": "markdown",
   "id": "small-honey",
   "metadata": {},
   "source": [
    "## Exercice 1\n",
    "\n",
    "Reprendre la structure de pile du cours implémentée avec des `list` *de python* et ajouter à l'interface deux opérations:  \n",
    "\n",
    "* `vider(p)` qui vide une pile `p`;\n",
    "* `taille(p)` qui renvoie la taille de la pile `p`."
   ]
  },
  {
   "cell_type": "code",
   "execution_count": 1,
   "id": "collectible-fancy",
   "metadata": {},
   "outputs": [],
   "source": [
    "def creer_pile():\n",
    "    return []\n",
    "\n",
    "def est_pilevide(p):\n",
    "    return len(p) == 0\n",
    "\n",
    "def depiler(p):\n",
    "    # A compléter\n",
    "    assert not est_pilevide(p), 'Erreur pile vide'\n",
    "    v = p.pop()\n",
    "    return v\n",
    "    \n",
    "def empiler(p, val):\n",
    "    # A compléter\n",
    "    p.append(val)\n",
    "    \n",
    "def sommet(p):\n",
    "    # A compléter\n",
    "    assert not est_pilevide(p), 'Erreur pile vide'\n",
    "    return p[-1]\n",
    "\n",
    "def vider(p):\n",
    "    p.clear()\n",
    "    \n",
    "def taille(p):\n",
    "    return len(p)"
   ]
  },
  {
   "cell_type": "code",
   "execution_count": 5,
   "id": "norwegian-sacrifice",
   "metadata": {},
   "outputs": [
    {
     "data": {
      "text/plain": [
       "False"
      ]
     },
     "execution_count": 5,
     "metadata": {},
     "output_type": "execute_result"
    }
   ],
   "source": [
    "p1 = creer_pile()\n",
    "empiler(p1, 10)\n",
    "empiler(p1, 1)\n",
    "empiler(p1, 5)\n",
    "empiler(p1, 4)\n",
    "est_pilevide(p1)"
   ]
  },
  {
   "cell_type": "code",
   "execution_count": 6,
   "id": "mediterranean-albany",
   "metadata": {},
   "outputs": [
    {
     "name": "stdout",
     "output_type": "stream",
     "text": [
      "4\n",
      "True\n"
     ]
    }
   ],
   "source": [
    "print(sommet(p1))\n",
    "vider(p1)\n",
    "print(est_pilevide(p1))"
   ]
  },
  {
   "cell_type": "markdown",
   "id": "floral-ownership",
   "metadata": {},
   "source": [
    "## Exercice 2 - Notation polonaise inverse\n",
    "\n",
    "L'*écriture polonaise inverse* des expressions arithmétiques place l'opérateur **après** ses opérandes.  \n",
    "Cette notation ne nécessite aucune parenthèse, ni aucune règle de priorité. Ainsi l'expression polonaise inverse décrite par la chaîne de caractères  \n",
    "\n",
    "`1 2 3 * + 4 *`  \n",
    "\n",
    "désigne l’expression traditionnellement notée $(1+ 2 \\times 3)\\times 4$.  \n",
    "La valeur d’une telle expression peut être calculée facilement en utilisant une pile pour stocker les résultats intermédiaires. Pour cela, on parcours un à un les éléments de l'expression et on effectue les actions suivantes:  \n",
    "\n",
    "* si on trouve un nombre, on l'empile;\n",
    "* si on trouve un opérateur binaire, on dépile le dernier et l'avant dernier nombre, on leur applique l’opérateur, et on empile résultat.\n",
    "\n",
    "Si l'expression était bien écrite, il y a bien toujours deux nombres sur la pile lorsque l’on voit un opérateur, et à la fin du processus il **reste exactement un nombre sur la pile, qui est le résultat**.  \n",
    "\n",
    "Écrire une fonction prenant en paramètre une chaîne de caractères représentant une expression en notation polonaise inverse composée d’additions et de de multiplications de nombres entiers et renvoyant la valeur de cette expression.  \n",
    "\n",
    "*On supposera que les éléments de l'expression sont séparés par des espaces. Attention, cette fonction ne doit pas renvoyer de résultat si l'expression est mal écrite*."
   ]
  },
  {
   "cell_type": "code",
   "execution_count": 18,
   "id": "expensive-functionality",
   "metadata": {},
   "outputs": [],
   "source": [
    "def npi(c):\n",
    "    exp = c.split()\n",
    "    p = creer_pile()\n",
    "    for elt in exp:\n",
    "        print(f'----Examen de {elt}')\n",
    "        if elt.isdigit():\n",
    "            empiler(p, int(elt))\n",
    "            print(f\"J'ai empilé {int(elt)}\")\n",
    "            print(p)\n",
    "        elif elt in ('+', '*'):\n",
    "            a = depiler(p)\n",
    "            print(f\"J'ai dépilé {a}\")\n",
    "            b = depiler(p)\n",
    "            print(f\"J'ai dépilé {b}\")\n",
    "            r = a + b if elt == '+' else a * b\n",
    "            empiler(p, r)\n",
    "            print(f\"J'ai empilé {r}\")\n",
    "        else:\n",
    "            raise ValueError\n",
    "        print()\n",
    "    assert taille(p) == 1, 'Mal écrit'\n",
    "    return sommet(p)\n",
    "            "
   ]
  },
  {
   "cell_type": "code",
   "execution_count": 20,
   "id": "twenty-vatican",
   "metadata": {},
   "outputs": [
    {
     "name": "stdout",
     "output_type": "stream",
     "text": [
      "----Examen de 1\n",
      "J'ai empilé 1\n",
      "[1]\n",
      "\n",
      "----Examen de 2\n",
      "J'ai empilé 2\n",
      "[1, 2]\n",
      "\n",
      "----Examen de +\n",
      "J'ai dépilé 2\n",
      "J'ai dépilé 1\n",
      "J'ai empilé 3\n",
      "\n",
      "----Examen de 3\n",
      "J'ai empilé 3\n",
      "[3, 3]\n",
      "\n",
      "----Examen de *\n",
      "J'ai dépilé 3\n",
      "J'ai dépilé 3\n",
      "J'ai empilé 9\n",
      "\n",
      "----Examen de 2\n",
      "J'ai empilé 2\n",
      "[9, 2]\n",
      "\n",
      "----Examen de +\n",
      "J'ai dépilé 2\n",
      "J'ai dépilé 9\n",
      "J'ai empilé 11\n",
      "\n",
      "----Examen de 4\n",
      "J'ai empilé 4\n",
      "[11, 4]\n",
      "\n",
      "----Examen de *\n",
      "J'ai dépilé 4\n",
      "J'ai dépilé 11\n",
      "J'ai empilé 44\n",
      "\n"
     ]
    },
    {
     "data": {
      "text/plain": [
       "44"
      ]
     },
     "execution_count": 20,
     "metadata": {},
     "output_type": "execute_result"
    }
   ],
   "source": [
    "npi('1 2 + 3 * 2 + 4 *')"
   ]
  },
  {
   "cell_type": "markdown",
   "id": "following-distance",
   "metadata": {},
   "source": [
    "## Exercice 3 - Chaînes bien parenthésées\n",
    "\n",
    "On considère considère une chaîne de caractères incluant à la\n",
    "la fois fois des parenthèses rondes `(` et `)` et des parenthèses carrées `[` et `]` . La chaîne est bien parenthésée si chaque ouvrante est associée à une unique fermante de même forme, et réciproquement.  \n",
    "\n",
    "Écrire une fonction prenant en paramètre une chaîne de caractères contenant, entre autres, les parenthèses décrites et qui renvoie `True` si la chaîne est bien parenthésée et `False` sinon."
   ]
  },
  {
   "cell_type": "code",
   "execution_count": 28,
   "id": "recovered-equality",
   "metadata": {},
   "outputs": [],
   "source": [
    "par = {'(': ')', '[': ']'}\n",
    "\n",
    "def est_bien_parent(c):\n",
    "    p = creer_pile()\n",
    "    for elt in c:\n",
    "        if elt in par:\n",
    "            empiler(p, elt)\n",
    "        elif elt in par.values():\n",
    "            s = depiler(p)\n",
    "            if s not in par or par[s] != elt:\n",
    "                return False\n",
    "    return taille(p) == 0\n",
    "            \n",
    "            "
   ]
  },
  {
   "cell_type": "code",
   "execution_count": 29,
   "id": "other-agent",
   "metadata": {},
   "outputs": [
    {
     "data": {
      "text/plain": [
       "True"
      ]
     },
     "execution_count": 29,
     "metadata": {},
     "output_type": "execute_result"
    }
   ],
   "source": [
    "est_bien_parent('1*3+(2-[2/5])')"
   ]
  },
  {
   "cell_type": "markdown",
   "id": "neural-butter",
   "metadata": {},
   "source": [
    "## Exercice 4 - File bornée\n",
    "\n",
    "\n",
    "On propose ici une autre réalisation possible d'une file bornée à partir d'un tableau.  La file sera repérée par deux index `tete` et `queue`. On enfile par la queue et défile par la tête.  \n",
    "\n",
    "Soit $N$ la capacité de la file. On prévoit un tableau de taille $N+3$ car on souhaite stocker également:\n",
    "\n",
    "* la position de la tête (index 0);  \n",
    "* la position de la queue (index 1);  \n",
    "* la longueur effective de la file (index 3)  \n",
    "\n",
    "La position de la queue indique l'endroit où sera enfilée la prochaine donnée.  \n",
    "La figure (a) ci-dessous montre une file `f` de ce type et de capacité maximale 7, dans laquelle figurent déjà 4 éléments. A partir de cette situation et après les opérations:  \n",
    "\n",
    "```python\n",
    "defiler(f)\n",
    "defiler(f)\n",
    "enfiler(f, 4)\n",
    "enfiler(f, 17)\n",
    "enfiler(f, 10)\n",
    "```\n",
    "on se trouve dans la situation (b).\n",
    "\n",
    "![file](img/file_tab.png)\n"
   ]
  },
  {
   "cell_type": "code",
   "execution_count": 29,
   "id": "every-personality",
   "metadata": {},
   "outputs": [],
   "source": [
    "MAXFILE = 8 # Capacité de la pile\n",
    "\n",
    "\n",
    "def creer_file(n=MAXFILE):\n",
    "    return [3, 3, 0] + [None] * n\n",
    "\n",
    "def enfiler(f, x):\n",
    "    assert not est_pleine(f), 'Erreur: file pleine'\n",
    "    \n",
    "    queue, taille = f[1], f[2] # Pour la lisibilité\n",
    "    \n",
    "    f[queue] = x\n",
    "    f[2] = taille + 1 # la file comporte un elt supplémentaire    \n",
    "    # Déplacement de la queue - modèle circulaire\n",
    "    if queue == len(f) -1:\n",
    "            queue = 3\n",
    "    else:\n",
    "        queue += 1\n",
    "    f[1] = queue\n",
    "\n",
    "def est_pleine(f):\n",
    "    return f[2] == len(f) - 3\n",
    "                                   \n",
    "def est_vide(f):\n",
    "    return f[2] == 0\n",
    "\n",
    "def defiler(f):\n",
    "    assert not est_vide(f), 'Erreur: file vide'\n",
    "    \n",
    "    tete = f[0]\n",
    "    v = f[tete]\n",
    "    f[tete] = None # Optionnel\n",
    "    f[2] -= 1 # la file a un elt de moins\n",
    "    # Déplacement de la tete - modèle circulaire\n",
    "    if tete == len(f) - 1:\n",
    "        tete = 3\n",
    "    else:\n",
    "        tete += 1\n",
    "    f[0] = tete\n",
    "    return v"
   ]
  },
  {
   "cell_type": "code",
   "execution_count": 30,
   "id": "advanced-flour",
   "metadata": {},
   "outputs": [
    {
     "name": "stdout",
     "output_type": "stream",
     "text": [
      "[3, 3, 0, None, None, None, None, None, None, None, None]\n",
      "[3, 4, 1, 3, None, None, None, None, None, None, None]\n",
      "[3, 5, 2, 3, -1, None, None, None, None, None, None]\n",
      "[3, 6, 3, 3, -1, 100, None, None, None, None, None]\n"
     ]
    }
   ],
   "source": [
    "f = creer_file()\n",
    "#f[0], f[1], f[2] = 4, 8, 4\n",
    "#f[4], f[5], f[6], f[7] = 15, 6, 9, 8\n",
    "print(f)\n",
    "enfiler(f, 3)\n",
    "print(f)\n",
    "enfiler(f, -1)\n",
    "print(f)\n",
    "enfiler(f, 100)\n",
    "print(f)\n",
    "enfiler(f, 8)"
   ]
  },
  {
   "cell_type": "markdown",
   "id": "blocked-growing",
   "metadata": {},
   "source": [
    "1. A partir des informations disponibles:  \n",
    "  * dire combien d'opérations sont autorisées sur cette structure;\n",
    "  * rédiger leur spécification.\n",
    "  \n",
    "2. Prévoir les réponses de l'interpréteur python après les séquences de commandes suivantes (*qui se suivent!*):  \n",
    "\n",
    "Séquence 1\n",
    "```python\n",
    "f1 = creer_file()\n",
    "est_filevide(f1)\n",
    "```  \n",
    "\n",
    "Séquence 2\n",
    "```python\n",
    "enfiler(f1, 5)\n",
    "est_filevide(f1)\n",
    "```\n",
    "\n",
    "Séquence 3\n",
    "```python\n",
    "enfiler(f1, -10)\n",
    "enfiler(f1, 25)\n",
    "enfiler(f1, -35)\n",
    "while not est_filevide(f1):\n",
    "    print(defiler(f1), end=' ')\n",
    "```\n",
    "\n",
    "Séquence 4\n",
    "```python\n",
    "f2 = creer_file(3)\n",
    "enfiler(f2, 10)\n",
    "enfiler(f2, 100)\n",
    "enfiler(f2, 1000)\n",
    "enfiler(f2, 50)\n",
    "```\n",
    "\n",
    "3. Proposer une implémentation pour `enfiler` et `defiler`."
   ]
  },
  {
   "cell_type": "code",
   "execution_count": 10,
   "id": "hired-darwin",
   "metadata": {},
   "outputs": [
    {
     "name": "stdout",
     "output_type": "stream",
     "text": [
      "[3, 3, 0, None, None, None, None, None]\n",
      "False\n",
      "[6, 6, 0, None, None, None, None, None]\n"
     ]
    }
   ],
   "source": [
    "f = creer_file(5)\n",
    "print(f)\n",
    "enfiler(f, 5)\n",
    "#print(f)\n",
    "enfiler(f, 10)\n",
    "#print(f)\n",
    "enfiler(f, -1)\n",
    "#print(f)\n",
    "print(est_pleine(f))\n",
    "defiler(f)\n",
    "#print(f)\n",
    "defiler(f)\n",
    "#print(f)\n",
    "defiler(f)\n",
    "print(f)"
   ]
  },
  {
   "cell_type": "code",
   "execution_count": 12,
   "id": "mineral-syria",
   "metadata": {},
   "outputs": [
    {
     "data": {
      "text/plain": [
       "True"
      ]
     },
     "execution_count": 12,
     "metadata": {},
     "output_type": "execute_result"
    }
   ],
   "source": [
    "f1 = creer_file()\n",
    "est_filevide(f1)"
   ]
  },
  {
   "cell_type": "code",
   "execution_count": 13,
   "id": "sixth-print",
   "metadata": {},
   "outputs": [
    {
     "data": {
      "text/plain": [
       "False"
      ]
     },
     "execution_count": 13,
     "metadata": {},
     "output_type": "execute_result"
    }
   ],
   "source": [
    "enfiler(f1, 5)\n",
    "est_filevide(f1)"
   ]
  },
  {
   "cell_type": "code",
   "execution_count": 14,
   "id": "sensitive-decrease",
   "metadata": {},
   "outputs": [
    {
     "name": "stdout",
     "output_type": "stream",
     "text": [
      "5 -10 25 -35 "
     ]
    }
   ],
   "source": [
    "enfiler(f1, -10)\n",
    "enfiler(f1, 25)\n",
    "enfiler(f1, -35)\n",
    "while not est_filevide(f1):\n",
    "    print(defiler(f1), end=' ')"
   ]
  },
  {
   "cell_type": "code",
   "execution_count": 15,
   "id": "alternate-insider",
   "metadata": {},
   "outputs": [
    {
     "ename": "AssertionError",
     "evalue": "Erreur: file pleine",
     "output_type": "error",
     "traceback": [
      "\u001b[0;31m---------------------------------------------------------------------------\u001b[0m",
      "\u001b[0;31mAssertionError\u001b[0m                            Traceback (most recent call last)",
      "\u001b[0;32m<ipython-input-15-c43f6bea7b7e>\u001b[0m in \u001b[0;36m<module>\u001b[0;34m\u001b[0m\n\u001b[1;32m      3\u001b[0m \u001b[0menfiler\u001b[0m\u001b[0;34m(\u001b[0m\u001b[0mf2\u001b[0m\u001b[0;34m,\u001b[0m \u001b[0;36m100\u001b[0m\u001b[0;34m)\u001b[0m\u001b[0;34m\u001b[0m\u001b[0;34m\u001b[0m\u001b[0m\n\u001b[1;32m      4\u001b[0m \u001b[0menfiler\u001b[0m\u001b[0;34m(\u001b[0m\u001b[0mf2\u001b[0m\u001b[0;34m,\u001b[0m \u001b[0;36m1000\u001b[0m\u001b[0;34m)\u001b[0m\u001b[0;34m\u001b[0m\u001b[0;34m\u001b[0m\u001b[0m\n\u001b[0;32m----> 5\u001b[0;31m \u001b[0menfiler\u001b[0m\u001b[0;34m(\u001b[0m\u001b[0mf2\u001b[0m\u001b[0;34m,\u001b[0m \u001b[0;36m50\u001b[0m\u001b[0;34m)\u001b[0m\u001b[0;34m\u001b[0m\u001b[0;34m\u001b[0m\u001b[0m\n\u001b[0m",
      "\u001b[0;32m<ipython-input-11-a90013406bf0>\u001b[0m in \u001b[0;36menfiler\u001b[0;34m(f, x)\u001b[0m\n\u001b[1;32m      6\u001b[0m \u001b[0;34m\u001b[0m\u001b[0m\n\u001b[1;32m      7\u001b[0m \u001b[0;32mdef\u001b[0m \u001b[0menfiler\u001b[0m\u001b[0;34m(\u001b[0m\u001b[0mf\u001b[0m\u001b[0;34m,\u001b[0m \u001b[0mx\u001b[0m\u001b[0;34m)\u001b[0m\u001b[0;34m:\u001b[0m\u001b[0;34m\u001b[0m\u001b[0;34m\u001b[0m\u001b[0m\n\u001b[0;32m----> 8\u001b[0;31m     \u001b[0;32massert\u001b[0m \u001b[0;32mnot\u001b[0m \u001b[0mest_pleine\u001b[0m\u001b[0;34m(\u001b[0m\u001b[0mf\u001b[0m\u001b[0;34m)\u001b[0m\u001b[0;34m,\u001b[0m \u001b[0;34m'Erreur: file pleine'\u001b[0m\u001b[0;34m\u001b[0m\u001b[0;34m\u001b[0m\u001b[0m\n\u001b[0m\u001b[1;32m      9\u001b[0m \u001b[0;34m\u001b[0m\u001b[0m\n\u001b[1;32m     10\u001b[0m     \u001b[0mqueue\u001b[0m\u001b[0;34m,\u001b[0m \u001b[0mtaille\u001b[0m \u001b[0;34m=\u001b[0m \u001b[0mf\u001b[0m\u001b[0;34m[\u001b[0m\u001b[0;36m1\u001b[0m\u001b[0;34m]\u001b[0m\u001b[0;34m,\u001b[0m \u001b[0mf\u001b[0m\u001b[0;34m[\u001b[0m\u001b[0;36m2\u001b[0m\u001b[0;34m]\u001b[0m \u001b[0;31m# Pour la lisibilité\u001b[0m\u001b[0;34m\u001b[0m\u001b[0;34m\u001b[0m\u001b[0m\n",
      "\u001b[0;31mAssertionError\u001b[0m: Erreur: file pleine"
     ]
    }
   ],
   "source": [
    "f2 = creer_file(3)\n",
    "enfiler(f2, 10)\n",
    "enfiler(f2, 100)\n",
    "enfiler(f2, 1000)\n",
    "enfiler(f2, 50)"
   ]
  },
  {
   "cell_type": "code",
   "execution_count": null,
   "id": "daily-alaska",
   "metadata": {},
   "outputs": [],
   "source": []
  }
 ],
 "metadata": {
  "kernelspec": {
   "display_name": "Python 3",
   "language": "python",
   "name": "python3"
  },
  "language_info": {
   "codemirror_mode": {
    "name": "ipython",
    "version": 3
   },
   "file_extension": ".py",
   "mimetype": "text/x-python",
   "name": "python",
   "nbconvert_exporter": "python",
   "pygments_lexer": "ipython3",
   "version": "3.8.8"
  }
 },
 "nbformat": 4,
 "nbformat_minor": 5
}
