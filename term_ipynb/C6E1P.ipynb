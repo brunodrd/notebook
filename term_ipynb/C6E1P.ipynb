{
 "cells": [
  {
   "cell_type": "markdown",
   "metadata": {},
   "source": [
    "Structures linéaires 2 : Exercices - listes\n",
    "================================="
   ]
  },
  {
   "cell_type": "markdown",
   "metadata": {},
   "source": [
    "## Problème 1 - La concaténation de deux listes chainées"
   ]
  },
  {
   "cell_type": "markdown",
   "metadata": {},
   "source": [
    "On reprend la structure de liste chainée vue en cours, avec des cellules."
   ]
  },
  {
   "cell_type": "code",
   "execution_count": 1,
   "metadata": {},
   "outputs": [],
   "source": [
    "class Cell:\n",
    "    \"\"\" Une classe pour les listes chainées\"\"\"\n",
    "    \n",
    "    def __init__(self, v, s):\n",
    "        self.val = v\n",
    "        self.suiv = s"
   ]
  },
  {
   "cell_type": "markdown",
   "metadata": {},
   "source": [
    "L'objectif de cet exercice est de coder une fonction permettant de **concaténer** (*mettre bout à bout*) deux listes."
   ]
  },
  {
   "cell_type": "markdown",
   "metadata": {},
   "source": [
    "### Solution autorisant les effets de bords"
   ]
  },
  {
   "cell_type": "markdown",
   "metadata": {},
   "source": [
    "Soient deux listes chainées `l1` et `l2`."
   ]
  },
  {
   "cell_type": "code",
   "execution_count": 17,
   "metadata": {},
   "outputs": [],
   "source": [
    "l1 = Cell(1, Cell(3, Cell(5, None)))\n",
    "l2 = Cell(7, Cell(10, None))"
   ]
  },
  {
   "cell_type": "markdown",
   "metadata": {},
   "source": [
    "Une première idée pour résoudre le problème posé est de trouver la dernière cellule de `l1` et de la chaîner à `l2`.  \n",
    "\n",
    "1. Compléter la fonction `dernier` ci-après de manière à renvoyer la dernière cellule d'une liste `l` passée en paramètre. Tester votre code."
   ]
  },
  {
   "cell_type": "code",
   "execution_count": 11,
   "metadata": {},
   "outputs": [],
   "source": [
    "def dernier(l):\n",
    "    \"\"\" renvoie la dernière cellule de l\"\"\"\n",
    "    assert l is not None\n",
    "    cellule_courante = l\n",
    "    # A compléter avec votre code\n",
    "    while cellule_courante.suiv is not None:\n",
    "        cellule_courante = cellule_courante.suiv\n",
    "    return cellule_courante"
   ]
  },
  {
   "cell_type": "code",
   "execution_count": 12,
   "metadata": {},
   "outputs": [],
   "source": [
    "# Cellule de tests - A EXECUTER\n",
    "assert dernier(l1).val == 5\n",
    "assert dernier(l2).val == 10"
   ]
  },
  {
   "cell_type": "markdown",
   "metadata": {},
   "source": [
    "2. Coder une fonction `concat` qui prend en paramètres deux listes `l1` et `l2` et qui procède à leur concaténation, c'est-à-dire qui place `l2` au bout de `l1`. La fonction ne renvoie rien. *Coup de pouce: pensez à réutiliser la fonction* `dernier`."
   ]
  },
  {
   "cell_type": "code",
   "execution_count": 20,
   "metadata": {},
   "outputs": [],
   "source": [
    "def concat(l1, l2):\n",
    "    \"\"\" renvoie la concaténation de l1 et l2\"\"\"\n",
    "    # Supprimer l'instruction 'pass' et compléter avec votre code.\n",
    "    c = dernier(l1)\n",
    "    c.suiv = l2"
   ]
  },
  {
   "cell_type": "code",
   "execution_count": 21,
   "metadata": {},
   "outputs": [
    {
     "name": "stdout",
     "output_type": "stream",
     "text": [
      "10\n"
     ]
    }
   ],
   "source": [
    "concat(l1, l2)\n",
    "print(dernier(l1).val)\n",
    "#print(l2.val)"
   ]
  },
  {
   "cell_type": "code",
   "execution_count": 22,
   "metadata": {},
   "outputs": [],
   "source": [
    "# Cellule de tests - A EXECUTER\n",
    "assert l1.val == 1\n",
    "assert dernier(l1).val == 10"
   ]
  },
  {
   "cell_type": "markdown",
   "metadata": {},
   "source": [
    "3. Quel(s) est(sont) le(s) problème(s) avec cette façon de procéder ? En cas de difficulté, penser à utiliser pythontutor en vue d'obtenir un résultat proche de la figure suivante.  \n",
    "![concat](img/concat1.png)"
   ]
  },
  {
   "cell_type": "markdown",
   "metadata": {},
   "source": [
    "### Structure interdisant les effets de bords non souhaités"
   ]
  },
  {
   "cell_type": "markdown",
   "metadata": {},
   "source": [
    "Afin d'éviter les problèmes identifiés précédémment, on choisit de travailler sur des copies des listes passées en paramètre. Le code d'une fonction copie est donnée ci-dessous. "
   ]
  },
  {
   "cell_type": "code",
   "execution_count": 23,
   "metadata": {},
   "outputs": [],
   "source": [
    "def copie_rec(l):\n",
    "    \"\"\" construit récursivement une nouvelle liste qui est la copie de l,\n",
    "    et la renvoie.\"\"\"\n",
    "    \n",
    "    if l is None: \n",
    "        return None\n",
    "    else:\n",
    "        return Cell(l.val, copie_rec(l.suiv))"
   ]
  },
  {
   "cell_type": "markdown",
   "metadata": {},
   "source": [
    "Coder une fonction `concat2` qui prend deux listes `l1` et `l2` en paramètres et qui renvoie une **nouvelle** liste résultant de la concaténation de `l1` et `l2`.  Tester.\n",
    "\n",
    "Ci-dessous, une vue de la situation àprès un appel `l3 = concat2(l1, l2)`.\n",
    "\n",
    "![concat3](img/concat3.png)"
   ]
  },
  {
   "cell_type": "code",
   "execution_count": 24,
   "metadata": {},
   "outputs": [],
   "source": [
    "def concat2(l1, l2):\n",
    "    # A compléter\n",
    "    liste1 = copie_rec(l1)\n",
    "    liste2 = copie_rec(l2)\n",
    "    dernier(liste1).suiv = liste2\n",
    "    return liste1"
   ]
  },
  {
   "cell_type": "code",
   "execution_count": 25,
   "metadata": {},
   "outputs": [],
   "source": [
    "# TESTS - A EXECUTER\n",
    "l1 = Cell(1, Cell(3, Cell(5, None)))\n",
    "l2 = Cell(7, Cell(10, None))\n",
    "l3 = concat2(l1, l2)\n",
    "\n",
    "assert l3.val == l1.val\n",
    "assert dernier(l3).val == dernier(l2).val\n",
    "assert l3 is not l1"
   ]
  },
  {
   "cell_type": "markdown",
   "metadata": {},
   "source": [
    "## Exercice 1 - Recherche séquentielle dans une liste chaînée\n",
    "\n",
    "Ecrire une fonction `trouve(x, lst)` qui renvoie l'index de la première occurence de `x` dans la liste chaînée `lst` ou `None` si non trouvé. On donnera deux versions: récursive et itérative. Tester."
   ]
  },
  {
   "cell_type": "code",
   "execution_count": 52,
   "metadata": {},
   "outputs": [],
   "source": [
    "def parcours(x, lst, acc=0):\n",
    "    if lst is None:\n",
    "        return\n",
    "    else:\n",
    "        if lst.val == x:\n",
    "            return acc\n",
    "        else:\n",
    "            return parcours(x, lst.suiv, acc+1)\n",
    "\n",
    "def trouve(x, lst):\n",
    "    return parcours(x, lst, 0)\n",
    "    \n",
    "def trouve2(x, lst):\n",
    "    nb = 0\n",
    "    while lst is not None:\n",
    "        if lst.val == x:\n",
    "            return nb\n",
    "        else:\n",
    "            lst = lst.suiv\n",
    "            nb += 1\n",
    "    return # renvoie None, car non trouvé"
   ]
  },
  {
   "cell_type": "code",
   "execution_count": 55,
   "metadata": {},
   "outputs": [
    {
     "name": "stdout",
     "output_type": "stream",
     "text": [
      "3\n"
     ]
    }
   ],
   "source": [
    "print(trouve2(7, l3))"
   ]
  },
  {
   "cell_type": "markdown",
   "metadata": {},
   "source": [
    "## Exercice 2 - Insertion dans une liste triée"
   ]
  },
  {
   "cell_type": "markdown",
   "metadata": {},
   "source": [
    "Ecrire une fonction `inserer(x, lst)` qui prend en paramètres un entier `x` et une liste chaînée `lst` d'entiers, supposée triée par ordre croissant et qui renvoie **une nouvelle liste** dans laquelle `x` a été inséré *à sa place*. Ainsi, si `lst` est la liste suivante  \n",
    "\n",
    "![lstorig](img/lst_orig.png)\n",
    "\n",
    "l'appel `insert(3, lst)` renverra\n",
    "\n",
    "![lst_mod](img/lst_mod.png)\n",
    "\n",
    "!!! hint \"Coup de pouce\"\n",
    "    Pensez à revoir l'exercice 5 (optionnel) du chapitre 1. On pourra réutiliser la fonction `copie_rec` du \n",
    "    problème 1."
   ]
  },
  {
   "cell_type": "code",
   "execution_count": 58,
   "metadata": {},
   "outputs": [],
   "source": [
    "def insert(x, lst):\n",
    "    if lst is None:\n",
    "        return Cell(x, None)\n",
    "    if x < lst.val:\n",
    "        return Cell(x, copie_rec(lst))\n",
    "    else:\n",
    "        return Cell(lst.val, copie_rec(insert(x, lst.suiv)))"
   ]
  },
  {
   "cell_type": "code",
   "execution_count": 62,
   "metadata": {},
   "outputs": [
    {
     "name": "stdout",
     "output_type": "stream",
     "text": [
      "1\n",
      "1.7\n",
      "2\n",
      "5\n",
      "8\n"
     ]
    }
   ],
   "source": [
    "lst = Cell(1, Cell(2, Cell(5, Cell(8, None))))\n",
    "l = insert(1.7, lst)\n",
    "while l:\n",
    "    print(l.val)\n",
    "    l = l.suiv"
   ]
  },
  {
   "cell_type": "markdown",
   "metadata": {},
   "source": [
    "### Exercice 3 - Listes identiques"
   ]
  },
  {
   "cell_type": "markdown",
   "metadata": {},
   "source": [
    "Ecrire une fonction `identiques(l1, l2)` qui renvoie un booléen indiquant si les listes `l1` et `l2` sont identiques c'est-à-dire contiennent les mêmes éléments, dans le même ordre."
   ]
  },
  {
   "cell_type": "code",
   "execution_count": 68,
   "metadata": {},
   "outputs": [],
   "source": [
    "def identiques(l1, l2):\n",
    "    if l1 is None:\n",
    "        return l2 is None\n",
    "    elif l2 is None:\n",
    "        return l1 is None\n",
    "    elif l1.val != l2.val:\n",
    "        print(l1.val, l2.val)\n",
    "        return False\n",
    "    else:\n",
    "        return identiques(l1.suiv, l2.suiv)"
   ]
  },
  {
   "cell_type": "code",
   "execution_count": 70,
   "metadata": {},
   "outputs": [
    {
     "name": "stdout",
     "output_type": "stream",
     "text": [
      "passage 3\n",
      "passage 3\n",
      "passage 1\n"
     ]
    },
    {
     "data": {
      "text/plain": [
       "True"
      ]
     },
     "execution_count": 70,
     "metadata": {},
     "output_type": "execute_result"
    }
   ],
   "source": [
    "l1 = Cell(1, Cell(2, Cell(5, Cell(8, None))))\n",
    "l2 = Cell(7, Cell(10, None))\n",
    "l3 = Cell(7, Cell(10, None))\n",
    "l4 = Cell(7, Cell(10, Cell(5, None)))\n",
    "\n",
    "identiques(l2, l3)"
   ]
  },
  {
   "cell_type": "markdown",
   "metadata": {},
   "source": [
    "## Problème 2 - Création d'une classe Pile avec une liste chaînée"
   ]
  },
  {
   "cell_type": "markdown",
   "metadata": {},
   "source": [
    "L'interface de la structure de données `Pile` comporte (*rappels !*) les opérations suivantes:  \n",
    "\n",
    "* est_pile_vide;\n",
    "* empiler;\n",
    "* dépiler;\n",
    "\n",
    "On se propose de donner une réalisation possible à base de cellules, en adoptant le paradigme objet."
   ]
  },
  {
   "cell_type": "code",
   "execution_count": 2,
   "metadata": {},
   "outputs": [],
   "source": [
    "class Cell:\n",
    "    \"\"\" Une classe pour les listes chainées\"\"\"\n",
    "    \n",
    "    def __init__(self, v, s):\n",
    "        self.val = v\n",
    "        self.suiv = s"
   ]
  },
  {
   "cell_type": "markdown",
   "metadata": {},
   "source": [
    "On crée une classe `Pile` qui sera initialisée à `None` (pile vide). Compléter les méthodes de cette classe."
   ]
  },
  {
   "cell_type": "code",
   "execution_count": 8,
   "metadata": {},
   "outputs": [],
   "source": [
    "class Pile:\n",
    "    \"\"\" Une classe pile à base de liste chaînée\"\"\"\n",
    "    \n",
    "    def __init__(self):\n",
    "        self.tete = None\n",
    "        \n",
    "    def est_pile_vide(self):\n",
    "        pass\n",
    "    \n",
    "    def empiler(self, x):\n",
    "        pass\n",
    "        \n",
    "    def depiler(self):\n",
    "        assert not self.est_pile_vide()\n",
    "        # A compléter"
   ]
  },
  {
   "cell_type": "code",
   "execution_count": 9,
   "metadata": {},
   "outputs": [],
   "source": [
    "# TESTS - A EXECUTER\n",
    "p = Pile()\n",
    "p.empiler(10)\n",
    "p.empiler(20)\n",
    "p.empiler(5)\n",
    "\n",
    "assert p.tete.val == 5\n",
    "assert p.tete.suiv.val == 20\n",
    "\n",
    "p.depiler()\n",
    "assert p.tete.val == 20"
   ]
  },
  {
   "cell_type": "markdown",
   "metadata": {},
   "source": []
  }
 ],
 "metadata": {
  "kernelspec": {
   "display_name": "Python 3",
   "language": "python",
   "name": "python3"
  },
  "language_info": {
   "codemirror_mode": {
    "name": "ipython",
    "version": 3
   },
   "file_extension": ".py",
   "mimetype": "text/x-python",
   "name": "python",
   "nbconvert_exporter": "python",
   "pygments_lexer": "ipython3",
   "version": "3.8.8"
  },
  "toc": {
   "base_numbering": 1,
   "nav_menu": {},
   "number_sections": true,
   "sideBar": true,
   "skip_h1_title": false,
   "title_cell": "Table of Contents",
   "title_sidebar": "Contents",
   "toc_cell": false,
   "toc_position": {},
   "toc_section_display": true,
   "toc_window_display": false
  }
 },
 "nbformat": 4,
 "nbformat_minor": 4
}
