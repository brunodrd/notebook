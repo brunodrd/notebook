{
 "cells": [
  {
   "cell_type": "markdown",
   "id": "small-honey",
   "metadata": {},
   "source": [
    "## Exercice 1\n",
    "\n",
    "Reprendre la structure de pile du cours implémentée avec des `list` *de python* et ajouter à l'interface deux opérations:  \n",
    "\n",
    "* `vider(p)` qui vide une pile `p`;\n",
    "* `taille(p)` qui renvoie la taille de la pile `p`."
   ]
  },
  {
   "cell_type": "markdown",
   "id": "floral-ownership",
   "metadata": {},
   "source": [
    "## Exercice 2 - Notation polonaise inverse\n",
    "\n",
    "L'*écriture polonaise inverse* des expressions arithmétiques place l'opérateur **après** ses opérandes.  \n",
    "Cette notation ne nécessite aucune parenthèse, ni aucune règle de priorité. Ainsi l'expression polonaise inverse décrite par la chaîne de caractères  \n",
    "\n",
    "`1 2 3 * + 4 *`  \n",
    "\n",
    "désigne l’expression traditionnellement notée $(1+ 2 \\times 3)\\times 4$.  \n",
    "La valeur d’une telle expression peut être calculée facilement en utilisant une pile pour stocker les résultats intermédiaires. Pour cela, on parcours un à un les éléments de l'expression et on effectue les actions suivantes:  \n",
    "\n",
    "* si on trouve un nombre, on l'empile;\n",
    "* si on trouve un opérateur binaire, on dépile le dernier et l'avant dernier nombre, on leur applique l’opérateur, et on empile résultat.\n",
    "\n",
    "Si l'expression était bien écrite, il y a bien toujours deux nombres sur la pile lorsque l’on voit un opérateur, et à la fin du processus il **reste exactement un nombre sur la pile, qui est le résultat**.  \n",
    "\n",
    "Écrire une fonction prenant en paramètre une chaîne de caractères représentant une expression en notation polonaise inverse composée d’additions et de de multiplications de nombres entiers et renvoyant la valeur de cette expression.  \n",
    "\n",
    "*On supposera que les éléments de l'expression sont séparés par des espaces. Attention, cette fonction ne doit pas renvoyer de résultat si l'expression est mal écrite*."
   ]
  },
  {
   "cell_type": "markdown",
   "id": "following-distance",
   "metadata": {},
   "source": [
    "## Exercice 3 - Chaînes bien parenthésées\n",
    "\n",
    "On considère considère une chaîne de caractères incluant à la\n",
    "la fois fois des parenthèses rondes `(` et `)` et des parenthèses carrées `[` et `]` . La chaîne est bien parenthésée si chaque ouvrante est associée à une unique fermante de même forme, et réciproquement.  \n",
    "\n",
    "Écrire une fonction prenant en paramètre une chaîne de caractères contenant, entre autres, les parenthèses décrites et qui renvoie `True` si la chaîne est bien parenthésée et `False` sinon."
   ]
  },
  {
   "cell_type": "markdown",
   "id": "homeless-circuit",
   "metadata": {},
   "source": [
    "## Exercice 4 - File bornée\n",
    "\n",
    "\n",
    "On propose ici une autre réalisation possible d'une file bornée à partir d'un tableau.  La file sera repérée par deux index `tete` et `queue`. On enfile par la queue et défile par la tête.  \n",
    "\n",
    "Soit `MAXFILE` la capacité de la file. On prévoit un tableau de taille `MAXFILE+3` car on souhaite stocker également:\n",
    "\n",
    "* la position de la tête (index 0);  \n",
    "* la position de la queue (index 1);  \n",
    "* la longueur effective de la file (index 3)  \n",
    "\n",
    "La position de la queue indique l'endroit où sera enfilée la prochaine donnée.  \n",
    "La figure (a) ci-dessous montre l'état d'une file `f` de ce type et de capacité maximale 7, dans laquelle figurent déjà 4 éléments. A partir de cette situation et après les opérations:  \n",
    "\n",
    "```python\n",
    "defiler(f)\n",
    "defiler(f)\n",
    "enfiler(f, 4)\n",
    "enfiler(f, 17)\n",
    "enfiler(f, 10)\n",
    "```\n",
    "on se trouve dans la situation (b).\n",
    "\n",
    "![file](img/file_tab.png)\n"
   ]
  },
  {
   "cell_type": "code",
   "execution_count": 2,
   "id": "regional-auction",
   "metadata": {},
   "outputs": [],
   "source": [
    "MAXFILE = 8 # Capacité de la pile\n",
    "\n",
    "def creer_file(n=MAXFILE):\n",
    "    return [3, 3, 0] + [None] * n\n",
    "\n",
    "def est_vide(f):\n",
    "    return f[2] == 0\n",
    "\n",
    "def est_pleine(f):\n",
    "    return f[2] == len(f) - 3\n",
    "\n",
    "def enfiler(f, val):\n",
    "    # A compléter\n",
    "    pass\n",
    "\n",
    "def defiler(f):\n",
    "    # A compléter\n",
    "    pass\n",
    "\n"
   ]
  },
  {
   "cell_type": "markdown",
   "id": "ongoing-astronomy",
   "metadata": {},
   "source": [
    "1. A partir des informations disponibles:  \n",
    "  * dire combien d'opérations sont autorisées sur cette structure;\n",
    "  * rédiger leur spécification.\n",
    "  \n",
    "2. Prévoir les réponses de l'interpréteur python après les séquences de commandes suivantes (*qui se suivent!*):  \n",
    "\n",
    "Séquence 1\n",
    "```python\n",
    "f1 = creer_file()\n",
    "est_vide(f1)\n",
    "```  \n",
    "\n",
    "Séquence 2\n",
    "```python\n",
    "enfiler(f1, 5)\n",
    "est_vide(f1)\n",
    "```\n",
    "\n",
    "Séquence 3\n",
    "```python\n",
    "enfiler(f1, -10)\n",
    "enfiler(f1, 25)\n",
    "enfiler(f1, -35)\n",
    "while not est_vide(f1):\n",
    "    print(defiler(f1), end=' ')\n",
    "```\n",
    "\n",
    "Séquence 4\n",
    "```python\n",
    "f2 = creer_file(3)\n",
    "enfiler(f2, 10)\n",
    "enfiler(f2, 100)\n",
    "enfiler(f2, 1000)\n",
    "enfiler(f2, 50)\n",
    "```\n",
    "\n",
    "3. Proposer une implémentation pour `enfiler` et `defiler`."
   ]
  }
 ],
 "metadata": {
  "kernelspec": {
   "display_name": "Python 3",
   "language": "python",
   "name": "python3"
  },
  "language_info": {
   "codemirror_mode": {
    "name": "ipython",
    "version": 3
   },
   "file_extension": ".py",
   "mimetype": "text/x-python",
   "name": "python",
   "nbconvert_exporter": "python",
   "pygments_lexer": "ipython3",
   "version": "3.8.8"
  }
 },
 "nbformat": 4,
 "nbformat_minor": 5
}
