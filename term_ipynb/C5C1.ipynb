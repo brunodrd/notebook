{
 "cells": [
  {
   "cell_type": "markdown",
   "metadata": {},
   "source": [
    "Mise au point des programmes - gestion des bugs\n",
    "========================================="
   ]
  },
  {
   "cell_type": "markdown",
   "metadata": {},
   "source": [
    "## Introduction: les bugs en informatique"
   ]
  },
  {
   "cell_type": "markdown",
   "metadata": {},
   "source": [
    "Un bug est une toute petite erreur qui peut avoir des conséquences catastrophiques. La gestion des bugs est un des points fondamentaux de l'informatique.\n",
    "\n",
    "!!! info \"A voir\"\n",
    "    Voir [la vidéo](https://youtu.be/qE0QFxNiQLI) de \n",
    "    l'informaticien [Gérard Berry](https://fr.wikipedia.org/wiki/G%C3%A9rard_Berry) à ce sujet."
   ]
  },
  {
   "cell_type": "markdown",
   "metadata": {},
   "source": [
    "## Eviter les bugs\n",
    "\n",
    "*Rien ne permet vraiment de garantir qu’un programme ne présente aucun bug. Toutefois, certains principes permettent de limiter les risques*. "
   ]
  },
  {
   "cell_type": "markdown",
   "metadata": {},
   "source": [
    "### Commenter le code"
   ]
  },
  {
   "cell_type": "markdown",
   "metadata": {},
   "source": [
    "Un module, un package, une fonction ou une classe **doit** être documenté. Cette documentation ou spécification sera disponible lorsqu'on utilisera la fonction `help` de python.  \n",
    "\n",
    "Le moyen le plus simple pour documenter le code est l'utilisation d'une **docstring**.  \n",
    "\n",
    "!!! info \"Définition\"\n",
    "    Une *docstring* est une chaîne de caractères située entre une paire de triple double quotes `\"\"\" \"\"\"`, au début de l'entité qu'elle renseigne.  \n",
    "    \n",
    "Dans le cas d'une fonction, on y trouve les conditions portant sur les entrées ou **préconditions** ainsi que ce qu'elle renvoie ou **postcondition**.  \n",
    "\n",
    "**Exemple**"
   ]
  },
  {
   "cell_type": "code",
   "execution_count": 20,
   "metadata": {},
   "outputs": [],
   "source": [
    "def max_tab(t):\n",
    "    \"\"\"\n",
    "    renvoie le maximum d'un tableau t;\n",
    "    t: tableau d'éléments comparables, non vide\n",
    "    \"\"\"\n",
    "    m = t[0]\n",
    "    for i in range(1, len(t)):\n",
    "        if t[i] > m:\n",
    "            m = t[i]\n",
    "    return m"
   ]
  },
  {
   "cell_type": "code",
   "execution_count": 21,
   "metadata": {},
   "outputs": [
    {
     "name": "stdout",
     "output_type": "stream",
     "text": [
      "Help on function max_tab in module __main__:\n",
      "\n",
      "max_tab(t)\n",
      "    renvoie le maximum d'un tableau t;\n",
      "    t: tableau d'éléments comparables, non vide\n",
      "\n"
     ]
    }
   ],
   "source": [
    "help(max_tab)"
   ]
  },
  {
   "cell_type": "markdown",
   "metadata": {},
   "source": [
    "### Le typage des données"
   ]
  },
  {
   "cell_type": "markdown",
   "metadata": {},
   "source": [
    "On reprend la fonction `max_tab` précédente avec l'appel:"
   ]
  },
  {
   "cell_type": "code",
   "execution_count": 33,
   "metadata": {},
   "outputs": [
    {
     "ename": "TypeError",
     "evalue": "object of type 'int' has no len()",
     "output_type": "error",
     "traceback": [
      "\u001b[0;31m---------------------------------------------------------------------------\u001b[0m",
      "\u001b[0;31mTypeError\u001b[0m                                 Traceback (most recent call last)",
      "\u001b[0;32m<ipython-input-33-c8d064365998>\u001b[0m in \u001b[0;36m<module>\u001b[0;34m\u001b[0m\n\u001b[0;32m----> 1\u001b[0;31m \u001b[0mmax_tab\u001b[0m\u001b[0;34m(\u001b[0m\u001b[0;36m5\u001b[0m\u001b[0;34m)\u001b[0m\u001b[0;34m\u001b[0m\u001b[0;34m\u001b[0m\u001b[0m\n\u001b[0m",
      "\u001b[0;32m<ipython-input-29-4b5b186e2743>\u001b[0m in \u001b[0;36mmax_tab\u001b[0;34m(t)\u001b[0m\n\u001b[1;32m      4\u001b[0m     \u001b[0mt\u001b[0m\u001b[0;34m:\u001b[0m \u001b[0mtableau\u001b[0m \u001b[0md\u001b[0m\u001b[0;31m'\u001b[0m\u001b[0méléments\u001b[0m \u001b[0mcomparables\u001b[0m\u001b[0;34m,\u001b[0m \u001b[0mnon\u001b[0m \u001b[0mvide\u001b[0m\u001b[0;34m\u001b[0m\u001b[0;34m\u001b[0m\u001b[0m\n\u001b[1;32m      5\u001b[0m     \"\"\"\n\u001b[0;32m----> 6\u001b[0;31m     \u001b[0;32massert\u001b[0m \u001b[0mlen\u001b[0m\u001b[0;34m(\u001b[0m\u001b[0mt\u001b[0m\u001b[0;34m)\u001b[0m \u001b[0;34m>\u001b[0m \u001b[0;36m0\u001b[0m\u001b[0;34m,\u001b[0m \u001b[0;34m\"Erreur: tableau vide\"\u001b[0m \u001b[0;31m# précondition\u001b[0m\u001b[0;34m\u001b[0m\u001b[0;34m\u001b[0m\u001b[0m\n\u001b[0m\u001b[1;32m      7\u001b[0m     \u001b[0mm\u001b[0m \u001b[0;34m=\u001b[0m \u001b[0mt\u001b[0m\u001b[0;34m[\u001b[0m\u001b[0;36m0\u001b[0m\u001b[0;34m]\u001b[0m\u001b[0;34m\u001b[0m\u001b[0;34m\u001b[0m\u001b[0m\n\u001b[1;32m      8\u001b[0m     \u001b[0;32mfor\u001b[0m \u001b[0mi\u001b[0m \u001b[0;32min\u001b[0m \u001b[0mrange\u001b[0m\u001b[0;34m(\u001b[0m\u001b[0;36m1\u001b[0m\u001b[0;34m,\u001b[0m \u001b[0mlen\u001b[0m\u001b[0;34m(\u001b[0m\u001b[0mt\u001b[0m\u001b[0;34m)\u001b[0m\u001b[0;34m)\u001b[0m\u001b[0;34m:\u001b[0m\u001b[0;34m\u001b[0m\u001b[0;34m\u001b[0m\u001b[0m\n",
      "\u001b[0;31mTypeError\u001b[0m: object of type 'int' has no len()"
     ]
    }
   ],
   "source": [
    "max_tab(5)"
   ]
  },
  {
   "cell_type": "markdown",
   "metadata": {},
   "source": [
    "On obtient une erreur de type `TypeError`. Il s'agit d'une erreur très courante. \n",
    "\n",
    "Certains langages vérifient avant l'exécution les problèmes de typage.  De par sa nature, Python ne le fait pas (du moins pas directement). Cependant, depuis la version 3.5, on peut **annoter** les programmes de manière à bien préciser les types des variables utilisées ainsi que celui du résultat renvoyé.  \n",
    "\n",
    "D'un point de vue syntaxique, il suffit de rajouter le **type** précédé de:  \n",
    "\n",
    "* `:` juste après le nom du paramètre ou de la variable;\n",
    "* `->` si c'est la valeur renvoyée par la fonction."
   ]
  },
  {
   "cell_type": "code",
   "execution_count": 22,
   "metadata": {},
   "outputs": [],
   "source": [
    "def max_tab(t: list) -> int:\n",
    "    \"\"\"\n",
    "    renvoie le maximum d'un tableau t;\n",
    "    t: tableau d'éléments comparables, non vide\n",
    "    \"\"\"\n",
    "    m = t[0]\n",
    "    for i in range(1, len(t)):\n",
    "        if t[i] > m:\n",
    "            m = t[i]\n",
    "    return m"
   ]
  },
  {
   "cell_type": "code",
   "execution_count": 23,
   "metadata": {},
   "outputs": [
    {
     "name": "stdout",
     "output_type": "stream",
     "text": [
      "Help on function max_tab in module __main__:\n",
      "\n",
      "max_tab(t: list) -> int\n",
      "    renvoie le maximum d'un tableau t;\n",
      "    t: tableau d'éléments comparables, non vide\n",
      "\n"
     ]
    }
   ],
   "source": [
    "help(max_tab)"
   ]
  },
  {
   "cell_type": "markdown",
   "metadata": {},
   "source": [
    "Le module `typing` de la bibliothèque standard permet d'aller encore plus loin dans l'annotation en précisant le type d'objet présent dans le tableau `t`."
   ]
  },
  {
   "cell_type": "code",
   "execution_count": 26,
   "metadata": {},
   "outputs": [],
   "source": [
    "from typing import List\n",
    "\n",
    "\n",
    "def max_tab(t: List[int]) -> int:\n",
    "    \"\"\"\n",
    "    renvoie le maximum d'un tableau t;\n",
    "    t: tableau d'entiers, non vide\n",
    "    \"\"\"\n",
    "    m = t[0]\n",
    "    for i in range(1, len(t)):\n",
    "        if t[i] > m:\n",
    "            m = t[i]\n",
    "    return m"
   ]
  },
  {
   "cell_type": "code",
   "execution_count": 27,
   "metadata": {},
   "outputs": [
    {
     "name": "stdout",
     "output_type": "stream",
     "text": [
      "Help on function max_tab in module __main__:\n",
      "\n",
      "max_tab(t: List[int]) -> int\n",
      "    renvoie le maximum d'un tableau t;\n",
      "    t: tableau d'entiers, non vide\n",
      "\n"
     ]
    }
   ],
   "source": [
    "help(max_tab)"
   ]
  },
  {
   "cell_type": "markdown",
   "metadata": {},
   "source": [
    "!!! hint \"Remarques\"\n",
    "    * Le type du tableau est ici **List** avec un 'l' majuscule;\n",
    "    * On a modifié la spécification de la fonction, notamment sa précondition, en précisant qu'on travaillait \n",
    "    avec un tableau d'entiers."
   ]
  },
  {
   "cell_type": "markdown",
   "metadata": {},
   "source": [
    "!!! warning \"Hors programme\"\n",
    "    On peut aller encore plus loin (*non exigible en terminale*) en faisant une vérification des types avec un\n",
    "    outil externe `mypy`. \n",
    "    Utilisation: on copie la fonction précédente dans le fichier `max_tab.py` par exemple et on exécute la\n",
    "    commande ci-dessous."
   ]
  },
  {
   "cell_type": "code",
   "execution_count": null,
   "metadata": {},
   "outputs": [],
   "source": [
    "!mypy max_tab.py"
   ]
  },
  {
   "cell_type": "markdown",
   "metadata": {},
   "source": [
    "![mypy](img/mypy.png)"
   ]
  },
  {
   "cell_type": "markdown",
   "metadata": {},
   "source": [
    "### Les tests"
   ]
  },
  {
   "cell_type": "markdown",
   "metadata": {},
   "source": [
    "On a vu en 1re qu'une bonne pratique de développement consistait à écrire des procédures de tests suffisamment exhaustifs pour couvrir les cas normaux d'utilisation notamment aux limites ainsi que les cas anormaux.  \n",
    "\n",
    "On s'intéresse ici aux **tests unitaires**, dont l'objectif est de tester indépendamment chaque fonction. il existe plusieurs outils permettant de réaliser des tests unitaires. On en utilisera deux principalement.  \n",
    "\n",
    "!!! danger \"ATTENTION - Rappel\"\n",
    "    Un test ne garantit jamais la correction d’un programme.  Une réussite du test n’est pas significative, alors qu'un échec établit de manière certaine la présence d’un bug."
   ]
  },
  {
   "cell_type": "markdown",
   "metadata": {},
   "source": [
    "#### Les assertions\n",
    "\n",
    "Une **assertion** échoue si l'expression booléenne qui suit le mot clé `assert` est fausse. L'exception **AssertionError** est alors levée. Si elle est vraie, l'exécution continue.  \n",
    "\n",
    "**Exemples**"
   ]
  },
  {
   "cell_type": "code",
   "execution_count": 35,
   "metadata": {},
   "outputs": [],
   "source": [
    "def max_tab(t):\n",
    "    \"\"\"\n",
    "    renvoie le maximum d'un tableau t;\n",
    "    t: tableau d'éléments comparables, non vide\n",
    "    \"\"\"\n",
    "    assert len(t) > 0, \"Erreur: tableau vide\" # précondition\n",
    "    m = t[0]\n",
    "    for i in range(1, len(t)):\n",
    "        if t[i] > m:\n",
    "            m = t[i]\n",
    "    assert all(t[i] <= m for i in range(len(t))) # postcondition\n",
    "    return m"
   ]
  },
  {
   "cell_type": "code",
   "execution_count": 36,
   "metadata": {},
   "outputs": [],
   "source": [
    "# Tests\n",
    "assert max_tab([1,1,1]) == 1\n",
    "assert max_tab([0]) == 0\n",
    "assert max_tab([-2,-1,0]) == 0\n",
    "assert max_tab([1,2,3]) == 3"
   ]
  },
  {
   "cell_type": "markdown",
   "metadata": {},
   "source": [
    "!!! hint \"Remarque\"\n",
    "    On peut utiliser également `assert` au sein du code afin de vérifier les préconditions et postconditions."
   ]
  },
  {
   "cell_type": "markdown",
   "metadata": {},
   "source": [
    "#### Le module pytest\n",
    "\n",
    "Le module `pytest` permet de faire des tests plus complets et plus explicites. Dans *Jupyter Notebook* on exécute d'abord la cellule ci-dessous, puis on écrit ses fonctions de tests qui doivent commencer par `test_`."
   ]
  },
  {
   "cell_type": "code",
   "execution_count": 37,
   "metadata": {},
   "outputs": [],
   "source": [
    "import ipytest\n",
    "ipytest.autoconfig()"
   ]
  },
  {
   "cell_type": "code",
   "execution_count": null,
   "metadata": {},
   "outputs": [],
   "source": [
    "%%ipytest\n",
    "import pytest\n",
    "from random import randint\n",
    "from tri import  tri_insertion\n",
    "\n",
    "\n",
    "def test_tab_neg_1():\n",
    "    t = [-1,-1,-1]\n",
    "    tri_insertion(t)\n",
    "    assert  t == [-1,-1,-1]\n",
    "    \n",
    "def test_inverse_2():\n",
    "    t = [14,10,5,1]\n",
    "    tri_insertion(t)\n",
    "    assert  t == [1,5,10,14]\n",
    "    \n",
    "def test_vide_0():\n",
    "    with pytest.raises(ValueError):\n",
    "        tri_insertion([])\n",
    "\n",
    "def test_deja_tri_3():\n",
    "    t = [1,2,3,4,5]\n",
    "    tri_insertion(t)\n",
    "    assert  t == [1,2,3,4,5]\n",
    "\n",
    "def test_random_4():    \n",
    "    t = [randint(-20, 20) for _ in range(10)]\n",
    "    tri_insertion(t)\n",
    "    assert all(t[i] <= t[i + 1] for i in range(9))\n",
    "    \n",
    "def test_en_place_5():\n",
    "    assert tri_insertion([1,2,3]) is None\n",
    "    "
   ]
  },
  {
   "cell_type": "markdown",
   "metadata": {},
   "source": [
    "![pytest](img/pytest.png)"
   ]
  },
  {
   "cell_type": "markdown",
   "metadata": {},
   "source": [
    "## Quand le bug est là"
   ]
  },
  {
   "cell_type": "markdown",
   "metadata": {},
   "source": [
    "Quand le bug survient, il faut alors :  \n",
    "\n",
    "* savoir mettre en évidence le bug et le reproduire;\n",
    "* comprendre la cause du bug;\n",
    "* corriger le bug.\n",
    "\n",
    "C’est ce qu’on appelle la mise au point, ou le débuggage. Parmi les erreurs classiques, on trouve notamment:  \n",
    "\n",
    "* division par zero : `ZeroDivisionError`\n",
    "* accès hors des bornes d’une liste : `IndexError`\n",
    "* erreur de nom de variable : `NameError`\n",
    "* erreur de nom de méthode ou d’attribut : `AttributeError`\n",
    "* appel récursif trop profond : `RecursionError`\n",
    "* modification d’un objet non mutable : `TypeError`"
   ]
  }
 ],
 "metadata": {
  "kernelspec": {
   "display_name": "Python 3",
   "language": "python",
   "name": "python3"
  },
  "language_info": {
   "codemirror_mode": {
    "name": "ipython",
    "version": 3
   },
   "file_extension": ".py",
   "mimetype": "text/x-python",
   "name": "python",
   "nbconvert_exporter": "python",
   "pygments_lexer": "ipython3",
   "version": "3.8.8"
  },
  "toc": {
   "base_numbering": 1,
   "nav_menu": {},
   "number_sections": true,
   "sideBar": true,
   "skip_h1_title": false,
   "title_cell": "Table of Contents",
   "title_sidebar": "Contents",
   "toc_cell": false,
   "toc_position": {},
   "toc_section_display": true,
   "toc_window_display": false
  }
 },
 "nbformat": 4,
 "nbformat_minor": 4
}
