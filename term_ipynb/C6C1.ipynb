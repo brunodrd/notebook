{
 "cells": [
  {
   "cell_type": "markdown",
   "metadata": {},
   "source": [
    "Structure de données linéaires 2: les listes\n",
    "==================================="
   ]
  },
  {
   "cell_type": "markdown",
   "metadata": {},
   "source": [
    "## Repère historique  \n",
    "[John McCarthy](https://fr.wikipedia.org/wiki/John_McCarthy), prix Turing en 1971, créa en 1958 le langage [Lisp](https://fr.wikipedia.org/wiki/Lisp) qui signifie **LIS**t **P**rocessor.  Les listes constituent le fondement de Lisp.\n"
   ]
  },
  {
   "cell_type": "markdown",
   "metadata": {},
   "source": [
    "## Introduction"
   ]
  },
  {
   "cell_type": "markdown",
   "metadata": {},
   "source": [
    "!!! info \"Définitions\"\n",
    "    Une liste est une collection finie d’éléments qui se suivent. C’est une structure de données **linéaire**. \n",
    "    Une liste qui ne contient aucun élément est une **liste vide**.  \n",
    "    \n",
    "Les doublons sont possibles. On formalisera cette définition dans un premier temps, avant de donner des implémentations possibles des opérations fondamentales sur les listes.  \n",
    "\n",
    "Enfin, on fera une comparaison entre l'opération de recherche d'un élément dans une liste chainée et dans un dictionnaire."
   ]
  },
  {
   "cell_type": "markdown",
   "metadata": {},
   "source": [
    "## Comment formaliser une liste ?"
   ]
  },
  {
   "cell_type": "markdown",
   "metadata": {},
   "source": [
    "Supposons une liste composée de trois éléments, ici des entiers: $\\ell = [3, 7, 9]$. Une façon de décrire cette liste consiste à voir $\\ell$ comme l'association:  \n",
    "\n",
    "* d'un premier élément 3 qu’on nomme élément de tête;\n",
    "* et d'une liste $\\ell_1 = [7, 9]$ des éléments qui suivent (liste qu’on nomme souvent *reste*).  \n",
    "\n",
    "Cette description de $\\ell$ est aussi valable pour $\\ell_1$ qui est constituée:  \n",
    "\n",
    "* d’un élément de tête : 7,\n",
    "* et d’un reste : $\\ell_2 = [9]$.\n",
    "\n",
    "De la même façon que précédemment, la liste $\\ell_2$ est constituée:  \n",
    "\n",
    "* d’un élément de tête : 9,\n",
    "* et d’un reste : $\\ell_3 = []$.  \n",
    "\n",
    "La liste $\\ell_3$ étant vide, elle ne possède pas d’élement de tête, et ne peut donc pas être décomposée\n",
    "comme nous venons de le faire à trois reprises.  \n",
    "\n",
    "!!! info \"Définition\"\n",
    "    Une liste $\\ell$ d'éléments d'un ensemble $E$, est:  \n",
    "    \n",
    "    * soit une liste vide;\n",
    "    * soit un couple $(x,L)$ formé d'un élément de tête $x\\in E$ et d'une liste $L$ d'éléments de $E$: \n",
    "\n",
    "Cette définition est récursive."
   ]
  },
  {
   "cell_type": "markdown",
   "metadata": {},
   "source": [
    "## Implémentation avec des listes chainées"
   ]
  },
  {
   "cell_type": "markdown",
   "metadata": {},
   "source": [
    "Une liste peut être implémentée de différentes façons. Python, par exemple, utilise des *tableaux dynamiques redimensionnables* pour son type `list`. On va voir ici d'autres réalisations possibles à base de **listes chainées**."
   ]
  },
  {
   "cell_type": "markdown",
   "metadata": {},
   "source": [
    "### La base: une cellule"
   ]
  },
  {
   "cell_type": "markdown",
   "metadata": {},
   "source": [
    "Dans cette réalisation concrète d'une liste, les éléments sont chainés entre eux.  \n",
    "\n",
    "![liste](img/cellule.png)  \n",
    "\n",
    "Chaque élément, qu'on nomme ici **cellule**, contient une valeur et une **référence** (*qui peut être vue comme l'adresse mémoire*) vers l'élément suivant.  \n",
    "On va représenter une cellule par une **classe** `Cell`."
   ]
  },
  {
   "cell_type": "code",
   "execution_count": 1,
   "metadata": {},
   "outputs": [],
   "source": [
    "class Cell:\n",
    "    \"\"\" Une classe pour les listes chainées\"\"\"\n",
    "    \n",
    "    def __init__(self, v, s):\n",
    "        self.val = v\n",
    "        self.suiv = s"
   ]
  },
  {
   "cell_type": "markdown",
   "metadata": {},
   "source": [
    "Une cellule est initialisée avec une valeur et une référence vers la cellule suivante. Si on considère que la liste vide est réalisée avec l'instruction `None`, la construction de la liste ci-dessus est alors facile:"
   ]
  },
  {
   "cell_type": "code",
   "execution_count": 2,
   "metadata": {},
   "outputs": [],
   "source": [
    "list1 = Cell(3, Cell(7, Cell(9, None)))"
   ]
  },
  {
   "cell_type": "markdown",
   "metadata": {},
   "source": [
    "### Opérations sur les listes"
   ]
  },
  {
   "cell_type": "markdown",
   "metadata": {},
   "source": [
    "#### Construire une liste"
   ]
  },
  {
   "cell_type": "code",
   "execution_count": 3,
   "metadata": {},
   "outputs": [],
   "source": [
    "list1 = Cell(3, Cell(7, Cell(9, Cell(8, Cell(1, None)))))"
   ]
  },
  {
   "cell_type": "markdown",
   "metadata": {},
   "source": [
    "On peut visualiser le résultat dans [Pythontutor](http://pythontutor.com/visualize.html#code=class%20Cell%3A%0A%20%20%20%20%22%22%22%20Une%20classe%20pour%20les%20listes%20chain%C3%A9es%22%22%22%0A%20%20%20%20%0A%20%20%20%20def%20__init__%28self,%20v,%20s%29%3A%0A%20%20%20%20%20%20%20%20self.val%20%3D%20v%0A%20%20%20%20%20%20%20%20self.suiv%20%3D%20s%0A%0Alist1%20%3D%20Cell%283,%20Cell%287,%20Cell%289,%20Cell%288,%20Cell%281,%20None%29%29%29%29%29&cumulative=false&curInstr=22&heapPrimitives=nevernest&mode=display&origin=opt-frontend.js&py=3&rawInputLstJSON=%5B%5D&textReferences=false)."
   ]
  },
  {
   "cell_type": "markdown",
   "metadata": {},
   "source": [
    "<figure>\n",
    "    <img alt=\"liste\" src=\"img/chap6_1.png\" width=\"80%\">\n",
    "</figure>"
   ]
  },
  {
   "cell_type": "markdown",
   "metadata": {},
   "source": [
    "#### Déterminer si la liste est vide"
   ]
  },
  {
   "cell_type": "code",
   "execution_count": 6,
   "metadata": {},
   "outputs": [],
   "source": [
    "def estvide(l):\n",
    "    return l is None"
   ]
  },
  {
   "cell_type": "code",
   "execution_count": 7,
   "metadata": {},
   "outputs": [
    {
     "data": {
      "text/plain": [
       "False"
      ]
     },
     "execution_count": 7,
     "metadata": {},
     "output_type": "execute_result"
    }
   ],
   "source": [
    "estvide(list1)"
   ]
  },
  {
   "cell_type": "markdown",
   "metadata": {},
   "source": [
    "#### Ajouter ou supprimer la tête"
   ]
  },
  {
   "cell_type": "code",
   "execution_count": 8,
   "metadata": {},
   "outputs": [],
   "source": [
    "def ajoute_tete(x, l):\n",
    "    \"\"\" renvoie une liste composée de l'élément x et dont le reste est l\"\"\"\n",
    "    return Cell(x, l)\n",
    "\n",
    "def supprime_tete(l):\n",
    "    \"\"\"renvoie une liste formée du reste de l\"\"\"\n",
    "    return l.suiv    "
   ]
  },
  {
   "cell_type": "markdown",
   "metadata": {},
   "source": [
    "On peut visualiser l'exemple  \n",
    "\n",
    "```python\n",
    "l1 = Cell(4, Cell(16, Cell(256, None)))\n",
    "l2 = ajoute_tete(1, l1)\n",
    "```\n",
    "\n",
    "sur [Pythontutor](http://pythontutor.com/visualize.html#code=class%20Cell%3A%0A%20%20%20%20%22%22%22%20Une%20classe%20pour%20les%20listes%20chain%C3%A9es%22%22%22%0A%20%20%20%20%0A%20%20%20%20def%20__init__%28self,%20v,%20s%29%3A%0A%20%20%20%20%20%20%20%20self.val%20%3D%20v%0A%20%20%20%20%20%20%20%20self.suiv%20%3D%20s%0A%0Adef%20ajoute_tete%28x,%20l%29%3A%0A%20%20%20%20%22%22%22%20renvoie%20une%20liste%20compos%C3%A9e%20de%20l'%C3%A9l%C3%A9ment%20x%20et%20dont%20le%20reste%20est%20l%22%22%22%0A%20%20%20%20return%20Cell%28x,%20l%29%0A%0Adef%20supprime_tete%28l%29%3A%0A%20%20%20%20%22%22%22renvoie%20une%20liste%20form%C3%A9e%20du%20reste%20de%20l%22%22%22%0A%20%20%20%20return%20l.suiv%0A%0Al1%20%3D%20Cell%284,%20Cell%2816,%20Cell%28256,%20None%29%29%29%0Al2%20%3D%20ajoute_tete%281,%20l1%29&cumulative=false&curInstr=24&heapPrimitives=nevernest&mode=display&origin=opt-frontend.js&py=3&rawInputLstJSON=%5B%5D&textReferences=false)."
   ]
  },
  {
   "cell_type": "markdown",
   "metadata": {},
   "source": [
    "<figure>\n",
    "    <img alt=\"liste2\" src=\"img/chap6_2.png\" width=\"80%\">\n",
    "</figure>"
   ]
  },
  {
   "cell_type": "markdown",
   "metadata": {},
   "source": [
    "!!! bug \"Attention aux effets de bords\"\n",
    "    Dans l'exemple ci-dessus, si la valeur de $\\ell_1$ change, alors la liste $\\ell_2$ sera affectée aussi !! \n",
    "    Si on veut éviter cela, il faudra travailler sur des copies de la liste $\\ell$ dans les fonctions. "
   ]
  },
  {
   "cell_type": "markdown",
   "metadata": {},
   "source": [
    "#### Obtenir la longueur de la liste"
   ]
  },
  {
   "cell_type": "markdown",
   "metadata": {},
   "source": [
    "Une première possibilité est coder une fonction récursive:  \n",
    "\n",
    "* si la liste est vide, sa longueur est nulle;\n",
    "* sinon sa longueur vaut 1 plus la longueur de la liste suivante (*rappel: une liste est un élément suivi d'une liste, le reste*). \n"
   ]
  },
  {
   "cell_type": "code",
   "execution_count": 10,
   "metadata": {},
   "outputs": [],
   "source": [
    "def longueur(l):\n",
    "    \"\"\" renvoie la longueur d'une liste l\"\"\"\n",
    "    \n",
    "    if l is None:\n",
    "        return 0\n",
    "    else:\n",
    "        return 1 + longueur(l.suiv)"
   ]
  },
  {
   "cell_type": "code",
   "execution_count": 11,
   "metadata": {},
   "outputs": [
    {
     "data": {
      "text/plain": [
       "5"
      ]
     },
     "execution_count": 11,
     "metadata": {},
     "output_type": "execute_result"
    }
   ],
   "source": [
    "list1 = Cell(3, Cell(7, Cell(9, Cell(8, Cell(1, None)))))\n",
    "longueur(list1)"
   ]
  },
  {
   "cell_type": "markdown",
   "metadata": {},
   "source": [
    "??? question \"A faire\"\n",
    "    Coder une version itérative de la fonction longueur.  \n",
    "    \n",
    "    ```python\n",
    "    def longueur_iter(l):\n",
    "    \"\"\" Version itérative de la fonction 'longueur' \"\"\"\n",
    "    \n",
    "    # Supprimer l'instruction pass et proposer votre code\n",
    "    pass\n",
    "    ```"
   ]
  },
  {
   "cell_type": "markdown",
   "metadata": {},
   "source": [
    "#### Accéder au n-ième élément"
   ]
  },
  {
   "cell_type": "markdown",
   "metadata": {},
   "source": [
    "On souhaite accéder (avoir la valeur) du n-ième élément d'une liste `lst` avec une fonction `nieme(n, lst)`. On procèdera encore de manière récursive:  \n",
    "\n",
    "* si $n=0$, on renvoie simplement la valeur `lst.val`;\n",
    "* sinon, on cherche l'élément d'index $n-1$ dans la liste suivante.  \n",
    "\n",
    "Deux préconditions doivent être vérifiées: la liste ne noit pas être vide et l'index $n$ ne doit pas être négatif.  \n",
    "\n",
    "??? question \"A faire\"\n",
    "    \n",
    "    ```python\n",
    "    def nieme(n, lst):\n",
    "    \"\"\" renvoie le nième élément de la liste lst;\n",
    "    n: entier naturel,\n",
    "    lst: liste non vide\n",
    "    \"\"\"\n",
    "    \n",
    "    assert n >= 0 and l is not None, \"Erreur: accès impossible\"\n",
    "    # Compléter avec votre code\n",
    "    ```"
   ]
  },
  {
   "cell_type": "markdown",
   "metadata": {},
   "source": [
    "#### Concaténer deux listes  \n",
    "A voir en exercice"
   ]
  },
  {
   "cell_type": "markdown",
   "metadata": {},
   "source": [
    "### Encapsulation dans une classe"
   ]
  },
  {
   "cell_type": "markdown",
   "metadata": {},
   "source": [
    "Une pratique courante consiste à créer une classe `Liste`. Les instances auront un attribut `tete` qui indique la tête de la liste ou `None` si la liste est vide. Les méthodes seront bâties à partir des fonctions précédentes.  \n",
    "\n",
    "**Un objet de type Liste**  \n",
    "![classeListe](img/classeListe.png)"
   ]
  },
  {
   "cell_type": "code",
   "execution_count": 19,
   "metadata": {},
   "outputs": [],
   "source": [
    "class Liste:\n",
    "    \"\"\" Une classe fournissant des listes chainées\"\"\"\n",
    "    \n",
    "    def __init__(self):\n",
    "        self.tete = None\n",
    "        \n",
    "    def estvide(self):\n",
    "        return self.tete is None\n",
    "    \n",
    "    def ajoute_tete(self, x):\n",
    "        \"\"\" ajoute l'élément x à la liste courante\"\"\"\n",
    "        self.tete =  Cell(x, self.tete)\n",
    "\n",
    "    def supprime_tete(self):\n",
    "        \"\"\"renvoie une liste formée du reste de la liste courante\"\"\"\n",
    "        self.tete = self.tete.suiv\n",
    "    \n",
    "    def taille(self):\n",
    "        \"\"\" renvoie la longueur d'une liste l\"\"\"\n",
    "        def longueur(l):\n",
    "            if l is None:\n",
    "                return 0\n",
    "            else:\n",
    "                return 1 + longueur(l.suiv)\n",
    "        return longueur(self.tete)\n",
    "    \n",
    "    def acces_nieme(self, n):\n",
    "        \"\"\" renvoie le n-ième élément de la liste courante, les \n",
    "            éléments étant indexés à partir de zéro.\n",
    "        \"\"\"\n",
    "        def nieme(n, lst):\n",
    "            assert n >= 0 and lst is not None, \"Erreur: accès impossible\"\n",
    "            if n == 0:\n",
    "                return lst.val\n",
    "            else:\n",
    "                return nieme(n - 1, lst.suiv)\n",
    "        return nieme(n, self.tete)"
   ]
  },
  {
   "cell_type": "markdown",
   "metadata": {},
   "source": [
    "!!! question \"A faire\"\n",
    "    Voir application en exercice."
   ]
  },
  {
   "cell_type": "markdown",
   "metadata": {},
   "source": [
    "## Rechercher un élément: comparaison dictionnaire / liste"
   ]
  },
  {
   "cell_type": "markdown",
   "metadata": {},
   "source": [
    "Lors de la recherche d'un élément dans un dictionnaire, sa clé est d'abord passée à une fonction (*fonction de hashage*) qui calcule un index permettant sa localisation. La complexité de cette opération est constante ($O(1)$).  \n",
    "![hashtable](img/hash-table2.png).  \n",
    "Lors de la recherche dans une liste, on doit parcourir **séquentiellement** celle-ci, jusqu'à trouver l'élément. Dans le pire des cas, la complexité de cette opération est en $O(n)$."
   ]
  }
 ],
 "metadata": {
  "kernelspec": {
   "display_name": "Python 3",
   "language": "python",
   "name": "python3"
  },
  "language_info": {
   "codemirror_mode": {
    "name": "ipython",
    "version": 3
   },
   "file_extension": ".py",
   "mimetype": "text/x-python",
   "name": "python",
   "nbconvert_exporter": "python",
   "pygments_lexer": "ipython3",
   "version": "3.8.8"
  },
  "toc": {
   "base_numbering": "1",
   "nav_menu": {},
   "number_sections": true,
   "sideBar": true,
   "skip_h1_title": true,
   "title_cell": "Table of Contents",
   "title_sidebar": "Contents",
   "toc_cell": false,
   "toc_position": {},
   "toc_section_display": true,
   "toc_window_display": true
  }
 },
 "nbformat": 4,
 "nbformat_minor": 4
}
