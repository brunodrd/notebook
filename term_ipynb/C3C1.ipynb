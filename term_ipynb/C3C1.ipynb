{
 "cells": [
  {
   "cell_type": "markdown",
   "metadata": {},
   "source": [
    "Vocabulaire de la programmation objet\n",
    "================================"
   ]
  },
  {
   "cell_type": "markdown",
   "metadata": {},
   "source": [
    "## Introduction"
   ]
  },
  {
   "cell_type": "markdown",
   "metadata": {},
   "source": [
    "En python on ne manipule que des objets. On en a rencontré de plusieurs sortes depuis la classe de première. Le type d'un objet peut être obtenu avec la fonction ... `type`!\n",
    "```python\n",
    "ch = 'bonjour'\n",
    "print(type(ch))\n",
    "<class 'str'>\n",
    "\n",
    "l = 3.1\n",
    "print(type(l))\n",
    "<class 'float'>\n",
    "```\n",
    "Même si les types d'objets natifs de Python sont très puissants, on pourra souvent être amené à en créer d'autres.  \n",
    "\n",
    "Les paragraphes qui suivent ont pour objectif de:  \n",
    "\n",
    "* se familiariser avec tout le vocabulaire nécessaire à la compréhension de la construction des objets;\n",
    "* présenter les bases permettant de créer ses propres classes d'objets.  "
   ]
  },
  {
   "cell_type": "markdown",
   "metadata": {},
   "source": [
    "## Voyage en première classe avec les objets"
   ]
  },
  {
   "cell_type": "markdown",
   "metadata": {},
   "source": [
    "### Descritption d'une classe"
   ]
  },
  {
   "cell_type": "markdown",
   "metadata": {},
   "source": [
    "!!! info \"Définition\"\n",
    "    Une classe est une structure qui peut contenir des variables et des définitions de fonctions. \n",
    "\n",
    "On peut faire l'analogie avec une usine ayant des plans de construction et qui pourra donc construire des **objets**. \n",
    "\n",
    "Dans le cas le plus simple, en python on définit une classe avec le mot clé `class` suivi d'un nom de classe (*qu'on écrit avec une première lettre en majuscule, par convention*) puis des `:` annonçant l'arrivée d'un bloc."
   ]
  },
  {
   "cell_type": "markdown",
   "metadata": {},
   "source": [
    "Construisons notre première classe. Il s'agit d'une classe permettant de construire des objets de type `Rectangle`."
   ]
  },
  {
   "cell_type": "code",
   "execution_count": 2,
   "metadata": {},
   "outputs": [],
   "source": [
    "class Rectangle:\n",
    "    \"\"\" Une classe pour décrire les rectangles\"\"\"\n",
    "    \n",
    "    def __init__(self, longueur, largeur):\n",
    "        self.long = longueur\n",
    "        self.larg = largeur"
   ]
  },
  {
   "cell_type": "markdown",
   "metadata": {},
   "source": [
    "Une bonne habitude est de fournir une documentation. On trouve ensuite une définition de fonction `__init__` qui sera détaillée plus loin.  \n",
    "\n",
    "### Création d'un objet \n",
    "Pour construire un **objet** de type `Rectangle`, on fait suivre le nom de la classe de la liste d'arguments attendus par `__init__` sauf `self`.  "
   ]
  },
  {
   "cell_type": "code",
   "execution_count": 3,
   "metadata": {},
   "outputs": [
    {
     "data": {
      "text/plain": [
       "<__main__.Rectangle at 0x7f70f92fd220>"
      ]
     },
     "execution_count": 3,
     "metadata": {},
     "output_type": "execute_result"
    }
   ],
   "source": [
    "Rectangle(2, 6)"
   ]
  },
  {
   "cell_type": "markdown",
   "metadata": {},
   "source": [
    "L'interpréteur nous informe qu'un objet a été créé. Néanmoins, construire un objet de cette façon n'est pas très utile. On va plutôt affecter l'objet créé à une variable."
   ]
  },
  {
   "cell_type": "code",
   "execution_count": 8,
   "metadata": {},
   "outputs": [],
   "source": [
    "r1 = Rectangle(6, 4)\n",
    "r2 = Rectangle(5, 2)"
   ]
  },
  {
   "cell_type": "markdown",
   "metadata": {},
   "source": [
    "La classe permet de créer des objets. Ce processus de création d'objet est appelé **instanciation** et l'objet créé est une **instance** de la classe."
   ]
  },
  {
   "cell_type": "markdown",
   "metadata": {},
   "source": [
    "A ce stade, voici la situation relevée avec [Pythontutor](http://pythontutor.com/visualize.html#code=class%20Rectangle%3A%0A%20%20%20%20%22%22%22%20Une%20classe%20pour%20d%C3%A9crire%20les%20rectangles%22%22%22%0A%20%20%20%20%0A%20%20%20%20def%20__init__%28self,%20longueur,%20largeur%29%3A%0A%20%20%20%20%20%20%20%20self.long%20%3D%20longueur%0A%20%20%20%20%20%20%20%20self.larg%20%3D%20largeur%0A%0Ar1%20%3D%20Rectangle%286,%204%29%0Ar2%20%3D%20Rectangle%285,%202%29&cumulative=false&curInstr=11&heapPrimitives=nevernest&mode=display&origin=opt-frontend.js&py=3&rawInputLstJSON=%5B%5D&textReferences=false).  \n",
    "\n",
    "![classe1](img/classe2.png)"
   ]
  },
  {
   "cell_type": "markdown",
   "metadata": {},
   "source": [
    "Chaque objet `Rectangle` créé possède ses **propres variables** `larg` et `long`. Ce sont les **attributs** de l'objet. On dit aussi *attributs d'instance*."
   ]
  },
  {
   "cell_type": "markdown",
   "metadata": {},
   "source": [
    "On peut accéder aux attributs *faisant partie de l'interface* de l'objet avec la notation `objet.attribut`. "
   ]
  },
  {
   "cell_type": "code",
   "execution_count": 9,
   "metadata": {},
   "outputs": [
    {
     "name": "stdout",
     "output_type": "stream",
     "text": [
      "4\n"
     ]
    }
   ],
   "source": [
    "print(r1.larg)"
   ]
  },
  {
   "cell_type": "markdown",
   "metadata": {},
   "source": [
    "Les attributs des objets sont mutables en python. Néanmoins, on évitera de recourir à cette propriété et on privilégiera l'interaction avec les objets via des *méthodes* (voir ci-dessous)."
   ]
  },
  {
   "cell_type": "markdown",
   "metadata": {},
   "source": [
    "### Manipuler les données"
   ]
  },
  {
   "cell_type": "markdown",
   "metadata": {},
   "source": [
    "Supposons que l'on veuille calculer l'aire ou la diagonale du rectangle correspondant à l'objet `r1`. On peut utiliser les attributs de `r1`."
   ]
  },
  {
   "cell_type": "code",
   "execution_count": 10,
   "metadata": {},
   "outputs": [
    {
     "name": "stdout",
     "output_type": "stream",
     "text": [
      "A =  24\n",
      "d =  7.211102550927978\n"
     ]
    }
   ],
   "source": [
    "from math import sqrt\n",
    "\n",
    "print(\"A = \", r1.larg * r1.long)\n",
    "print(\"d = \", sqrt(r1.larg**2 + r1.long**2))"
   ]
  },
  {
   "cell_type": "markdown",
   "metadata": {},
   "source": [
    "Cependant, cela ne correspond pas au style de la programmation orientée objet. C'est la classe qui doit se charger de définir les traitements possibles sur les objets. Cela se fait par le biais de **méthodes**.  \n",
    "\n",
    "!!! info \"Définition\"\n",
    "    Une méthode est fonction rattachée à une classe.  \n",
    "\n",
    "On peut compléter la classe rectangle."
   ]
  },
  {
   "cell_type": "code",
   "execution_count": 27,
   "metadata": {},
   "outputs": [],
   "source": [
    "class Rectangle:\n",
    "    \"\"\" Une classe pour décrire les rectangles\"\"\"\n",
    "    \n",
    "    def __init__(self, longueur, largeur):\n",
    "        self.long = longueur\n",
    "        self.larg = largeur\n",
    "        \n",
    "    def surface(self):\n",
    "        return self.long * self.larg\n",
    "    \n",
    "    def diagonale(self):\n",
    "        return sqrt(self.larg**2 + self.long**2)"
   ]
  },
  {
   "cell_type": "code",
   "execution_count": 28,
   "metadata": {},
   "outputs": [
    {
     "name": "stdout",
     "output_type": "stream",
     "text": [
      "A = 24 ; d = 7.211102550927978\n"
     ]
    }
   ],
   "source": [
    "r1 = Rectangle(6, 4)\n",
    "print(\"A =\", r1.surface(), \"; d =\", r1.diagonale())"
   ]
  },
  {
   "cell_type": "markdown",
   "metadata": {},
   "source": [
    "Une méthode destinée à manipuler les objets se définit dans la classe comme une fonction ordinaire. L'interpréteur le confirme."
   ]
  },
  {
   "cell_type": "code",
   "execution_count": 23,
   "metadata": {},
   "outputs": [
    {
     "data": {
      "text/plain": [
       "<function __main__.Rectangle.surface(self)>"
      ]
     },
     "execution_count": 23,
     "metadata": {},
     "output_type": "execute_result"
    }
   ],
   "source": [
    "Rectangle.surface"
   ]
  },
  {
   "cell_type": "markdown",
   "metadata": {},
   "source": [
    "Par contre, on doit **impérativement** définir comme premier paramètre `self`. Il s'agit d'une **référence** vers l'objet sur lequel on opère.  \n",
    "\n",
    "!!! tip \"Remarque\"\n",
    "    `self` est juste une convention adoptée par la communauté python, on aurait pu nommer ce paramètre autrement.\n",
    "    \n",
    "Lors de l'appel de la méthode sur l'objet, on ne fait pas apparaître `self`. En réalité, quand on écrit `r1.surface()`, c'est un raccourci pour `Rectangle.surface(r1)` où `r1` est associé à `self`."
   ]
  },
  {
   "cell_type": "markdown",
   "metadata": {},
   "source": [
    "### Méthodes spéciales"
   ]
  },
  {
   "cell_type": "markdown",
   "metadata": {},
   "source": [
    "Lors de la création d'un objet, python appelle *automatiquement* deux méthodes spéciales. L'une d'entre elle `__init__` est chargée d'initialiser les attributs de l'objet. Son premier paramètre est aussi `self`.  \n",
    "\n",
    "Il existe d'autres méthodes spéciales, reconnaissables à leur syntaxe: elles commencent et se terminent par un double *souligné* (*underscore* en anglais) `__`. Elles ne sont pas spécifiquement au programmes de NSI mais seront quelques fois rencontrées dans des exercices.  \n",
    "A titre d'exemple, montrons une utilisation de la méthode `__str__` qui est automatiquement appelé par `print`."
   ]
  },
  {
   "cell_type": "code",
   "execution_count": 29,
   "metadata": {},
   "outputs": [
    {
     "name": "stdout",
     "output_type": "stream",
     "text": [
      "<__main__.Rectangle object at 0x7f70e36f0490>\n"
     ]
    }
   ],
   "source": [
    "# Affichage de l'objet r1\n",
    "print(r1)"
   ]
  },
  {
   "cell_type": "markdown",
   "metadata": {},
   "source": [
    "Ce n'est pas très explicite, on va définir la méthode `__str__`."
   ]
  },
  {
   "cell_type": "code",
   "execution_count": 30,
   "metadata": {},
   "outputs": [],
   "source": [
    "class Rectangle:\n",
    "    \"\"\" Une classe pour décrire les rectangles\"\"\"\n",
    "    \n",
    "    def __init__(self, longueur, largeur):\n",
    "        self.long = longueur\n",
    "        self.larg = largeur\n",
    "        \n",
    "    def surface(self):\n",
    "        return self.long * self.larg\n",
    "    \n",
    "    def diagonale(self):\n",
    "        return sqrt(self.larg**2 + self.long**2)\n",
    "    \n",
    "    def __str__(self):\n",
    "        return f'Rect({self.long} X {self.larg})'"
   ]
  },
  {
   "cell_type": "code",
   "execution_count": 31,
   "metadata": {},
   "outputs": [
    {
     "name": "stdout",
     "output_type": "stream",
     "text": [
      "Rect(8 X 3)\n"
     ]
    }
   ],
   "source": [
    "r2 = Rectangle(8,3)\n",
    "print(r2)"
   ]
  }
 ],
 "metadata": {
  "kernelspec": {
   "display_name": "Python 3",
   "language": "python",
   "name": "python3"
  },
  "language_info": {
   "codemirror_mode": {
    "name": "ipython",
    "version": 3
   },
   "file_extension": ".py",
   "mimetype": "text/x-python",
   "name": "python",
   "nbconvert_exporter": "python",
   "pygments_lexer": "ipython3",
   "version": "3.8.8"
  },
  "latex_envs": {
   "LaTeX_envs_menu_present": true,
   "autoclose": false,
   "autocomplete": true,
   "bibliofile": "biblio.bib",
   "cite_by": "apalike",
   "current_citInitial": 1,
   "eqLabelWithNumbers": true,
   "eqNumInitial": 1,
   "hotkeys": {
    "equation": "Ctrl-E",
    "itemize": "Ctrl-I"
   },
   "labels_anchors": false,
   "latex_user_defs": false,
   "report_style_numbering": false,
   "user_envs_cfg": false
  },
  "toc": {
   "base_numbering": 1,
   "nav_menu": {},
   "number_sections": true,
   "sideBar": true,
   "skip_h1_title": false,
   "title_cell": "Table of Contents",
   "title_sidebar": "Contents",
   "toc_cell": false,
   "toc_position": {},
   "toc_section_display": true,
   "toc_window_display": false
  }
 },
 "nbformat": 4,
 "nbformat_minor": 4
}
