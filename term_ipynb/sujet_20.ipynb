{
 "cells": [
  {
   "cell_type": "markdown",
   "id": "rental-windows",
   "metadata": {},
   "source": [
    "Epreuve pratique - Sujet n°20\n",
    "============================="
   ]
  },
  {
   "cell_type": "markdown",
   "id": "corrected-amateur",
   "metadata": {},
   "source": [
    "## Exercice 1"
   ]
  },
  {
   "cell_type": "markdown",
   "id": "answering-arctic",
   "metadata": {},
   "source": [
    "Cet exercice ne présente aucune difficulté particulière. On utilise ici l'annotation de type vu dans le chapitre *Mise au point de programmes*, ce n'était **pas explicitement exigé** par le sujet. Il faut voir cette utilisation comme un prétexte de révision.  \n",
    "\n",
    "Il est raisonnable d'exiger comme préconditions que les tableaux passés en paramètres ne soient pas vides et qu'ils soient de même taille."
   ]
  },
  {
   "cell_type": "code",
   "execution_count": 8,
   "id": "recognized-happening",
   "metadata": {},
   "outputs": [],
   "source": [
    "from typing import List, Tuple\n",
    "\n",
    "\n",
    "def mini(t_moy: List[float], annees: List[int]) -> Tuple[float, int]:\n",
    "    \"\"\" Renvoie un tuple composé de la plus basse temperature et de l'année correspondante\"\"\"\n",
    "    \n",
    "    assert len(t_moy) != 0 and len(annees) != 0, \"Erreur liste(s) vide(s)\"\n",
    "    assert len(t_moy) == len(annees), \"Erreur entree des données\"\n",
    "    idxmini = 0\n",
    "    for i in range(1, len(t_moy)):\n",
    "        if t_moy[i] < t_moy[idxmini]:\n",
    "            idxmini = i\n",
    "    return t_moy[idxmini], annees[idxmini]"
   ]
  },
  {
   "cell_type": "code",
   "execution_count": 9,
   "id": "welcome-cuisine",
   "metadata": {},
   "outputs": [
    {
     "data": {
      "text/plain": [
       "(12.5, 2016)"
      ]
     },
     "execution_count": 9,
     "metadata": {},
     "output_type": "execute_result"
    }
   ],
   "source": [
    "t_moy = [14.9, 13.3, 13.1, 12.5, 13.0, 13.6, 13.7]\n",
    "annees = [2013, 2014, 2015, 2016, 2017, 2018, 2019]\n",
    "\n",
    "mini(t_moy, annees)"
   ]
  },
  {
   "cell_type": "markdown",
   "id": "requested-niger",
   "metadata": {},
   "source": [
    "---"
   ]
  },
  {
   "cell_type": "markdown",
   "id": "alpine-banana",
   "metadata": {},
   "source": [
    "!!! warning \"Remarque n°1 - Hors programme\"\n",
    "    Python possède une fonction native `enumerate` -**non exigée à l'examen**- qui permet de réaliser la boucle `for` tout en ayant accès à l'élément **et** \n",
    "    l'indice de l'élément."
   ]
  },
  {
   "cell_type": "code",
   "execution_count": 10,
   "id": "congressional-uncle",
   "metadata": {},
   "outputs": [],
   "source": [
    "def mini_v2(t_moy: List[float], annees: List[int]) -> Tuple[float, int]:\n",
    "    \"\"\" Renvoie un tuple composé de la plus basse temperature et de l'année correspondante\"\"\"\n",
    "    \n",
    "    assert len(t_moy) != 0 and len(annees) != 0, \"Erreur liste(s) vide(s)\"\n",
    "    assert len(t_moy) == len(annees), \"Erreur entree des données\"\n",
    "    idxmini = 0\n",
    "    for i, valeur in enumerate(t_moy):\n",
    "        if valeur < t_moy[idxmini]:\n",
    "            idxmini = i\n",
    "    return t_moy[idxmini], annees[idxmini]"
   ]
  },
  {
   "cell_type": "markdown",
   "id": "framed-december",
   "metadata": {},
   "source": [
    "!!! warning \"Remarque n°2 - Hors programme\"\n",
    "    On peut utiliser aussi la fonction `zip` qui permet d'itérer sur les deux listes simultanément. Cela va créer un itérateur qui produira un tuple des valeurs de `t_moy` et `annees`. La concision du programme obtenue est remarquable. L'instruction `lambda` permet de définir une fonction *anonyme*."
   ]
  },
  {
   "cell_type": "code",
   "execution_count": 13,
   "id": "original-biography",
   "metadata": {},
   "outputs": [],
   "source": [
    "mini_v3 = lambda t_moy, annees: min(zip(t_moy, annees))"
   ]
  },
  {
   "cell_type": "markdown",
   "id": "collaborative-twist",
   "metadata": {},
   "source": [
    "!!! warning \"Remarque n°3 - Hors programme\"\n",
    "    On peut comparer les performances des 3 solutions"
   ]
  },
  {
   "cell_type": "code",
   "execution_count": 11,
   "id": "entertaining-round",
   "metadata": {},
   "outputs": [
    {
     "name": "stdout",
     "output_type": "stream",
     "text": [
      "857 ns ± 2.05 ns per loop (mean ± std. dev. of 7 runs, 1000000 loops each)\n"
     ]
    }
   ],
   "source": [
    "%timeit mini(t_moy, annees)"
   ]
  },
  {
   "cell_type": "code",
   "execution_count": 12,
   "id": "premier-cutting",
   "metadata": {},
   "outputs": [
    {
     "name": "stdout",
     "output_type": "stream",
     "text": [
      "803 ns ± 5.79 ns per loop (mean ± std. dev. of 7 runs, 1000000 loops each)\n"
     ]
    }
   ],
   "source": [
    "%timeit mini_v2(t_moy, annees)"
   ]
  },
  {
   "cell_type": "code",
   "execution_count": 14,
   "id": "scientific-daniel",
   "metadata": {},
   "outputs": [
    {
     "name": "stdout",
     "output_type": "stream",
     "text": [
      "660 ns ± 3.26 ns per loop (mean ± std. dev. of 7 runs, 1000000 loops each)\n"
     ]
    }
   ],
   "source": [
    "%timeit mini_v3(t_moy, annees)"
   ]
  },
  {
   "cell_type": "markdown",
   "id": "limited-phenomenon",
   "metadata": {},
   "source": [
    "---"
   ]
  },
  {
   "cell_type": "markdown",
   "id": "atomic-faith",
   "metadata": {},
   "source": [
    "## Exercice 2"
   ]
  },
  {
   "cell_type": "code",
   "execution_count": 16,
   "id": "blond-offer",
   "metadata": {},
   "outputs": [],
   "source": [
    "def inverse_chaine(chaine):\n",
    "    result = \"\"\n",
    "    for caractere in chaine:\n",
    "        result = caractere + result\n",
    "    return result"
   ]
  },
  {
   "cell_type": "code",
   "execution_count": 17,
   "id": "exotic-studio",
   "metadata": {},
   "outputs": [],
   "source": [
    "def est_palindrome(chaine):\n",
    "    inverse = inverse_chaine(chaine)\n",
    "    return inverse == chaine"
   ]
  },
  {
   "cell_type": "code",
   "execution_count": 18,
   "id": "overhead-homework",
   "metadata": {},
   "outputs": [],
   "source": [
    "def est_nbre_palindrome(nbre):\n",
    "    chaine = str(nbre)\n",
    "    return est_palindrome(chaine)"
   ]
  },
  {
   "cell_type": "code",
   "execution_count": 19,
   "id": "engaged-expansion",
   "metadata": {},
   "outputs": [
    {
     "data": {
      "text/plain": [
       "'cab'"
      ]
     },
     "execution_count": 19,
     "metadata": {},
     "output_type": "execute_result"
    }
   ],
   "source": [
    "inverse_chaine('bac')"
   ]
  },
  {
   "cell_type": "code",
   "execution_count": 20,
   "id": "incomplete-survivor",
   "metadata": {},
   "outputs": [
    {
     "data": {
      "text/plain": [
       "False"
      ]
     },
     "execution_count": 20,
     "metadata": {},
     "output_type": "execute_result"
    }
   ],
   "source": [
    "est_palindrome('NSI')"
   ]
  },
  {
   "cell_type": "code",
   "execution_count": 21,
   "id": "convinced-adobe",
   "metadata": {},
   "outputs": [
    {
     "data": {
      "text/plain": [
       "True"
      ]
     },
     "execution_count": 21,
     "metadata": {},
     "output_type": "execute_result"
    }
   ],
   "source": [
    "est_palindrome('ISN-NSI')"
   ]
  },
  {
   "cell_type": "code",
   "execution_count": 22,
   "id": "outside-thickness",
   "metadata": {},
   "outputs": [
    {
     "data": {
      "text/plain": [
       "False"
      ]
     },
     "execution_count": 22,
     "metadata": {},
     "output_type": "execute_result"
    }
   ],
   "source": [
    "est_nbre_palindrome(214312)"
   ]
  },
  {
   "cell_type": "code",
   "execution_count": 23,
   "id": "modified-constitutional",
   "metadata": {},
   "outputs": [
    {
     "data": {
      "text/plain": [
       "True"
      ]
     },
     "execution_count": 23,
     "metadata": {},
     "output_type": "execute_result"
    }
   ],
   "source": [
    "est_nbre_palindrome(213312)"
   ]
  },
  {
   "cell_type": "markdown",
   "id": "advisory-spectrum",
   "metadata": {},
   "source": [
    "!!! info \"Remarque\"\n",
    "    La construction `return inverse == chaine` évite les lourdeurs comme:  \n",
    "    \n",
    "    ```python\n",
    "    if inverse == chaine:\n",
    "        return True\n",
    "    else:\n",
    "        return False\n",
    "    ```"
   ]
  }
 ],
 "metadata": {
  "kernelspec": {
   "display_name": "Python 3",
   "language": "python",
   "name": "python3"
  },
  "language_info": {
   "codemirror_mode": {
    "name": "ipython",
    "version": 3
   },
   "file_extension": ".py",
   "mimetype": "text/x-python",
   "name": "python",
   "nbconvert_exporter": "python",
   "pygments_lexer": "ipython3",
   "version": "3.8.8"
  }
 },
 "nbformat": 4,
 "nbformat_minor": 5
}
