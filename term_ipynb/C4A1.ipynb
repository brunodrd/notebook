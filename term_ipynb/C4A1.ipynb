{
 "cells": [
  {
   "cell_type": "markdown",
   "metadata": {},
   "source": [
    "Méthodes de programmation modulaire\n",
    "================================"
   ]
  },
  {
   "cell_type": "markdown",
   "metadata": {},
   "source": [
    "## Avantages d'une programmation modulaire"
   ]
  },
  {
   "cell_type": "markdown",
   "metadata": {},
   "source": [
    "En première on a introduit les fonctions en réponse à la répétition de code au sein d'un programme. Cependant, la répétition des fonctions entre programmes est encore possible. Une solution est de regrouper ces fonctions et classes dans un **module**. On **décompose** ainsi une application en module(s) qui peuvent être **développés indépendamment** et **réutilisés** dans d'autres applications.  \n",
    "\n",
    "Par ailleurs, cette organisation limite ou **supprime les doublons** de code, facilitant ainsi la maintenance (*un bug est corrigé une fois*).   \n",
    "\n",
    "Enfin, la programmation modulaire permet d'une certaine façon de **cacher des détails d'implémentation**, l'interaction utilisateur-module se faisant par le biais de l'interface.\n",
    "\n",
    "Il s'agira dans l'activité 1, de se placer en temps qu'utilisateur de modules en se référant à leur API, puis en temps que concepteur d'un module simple, dans la suivante."
   ]
  },
  {
   "cell_type": "markdown",
   "metadata": {},
   "source": [
    "## Activité 1: traitement de données au format JSON"
   ]
  },
  {
   "cell_type": "markdown",
   "metadata": {},
   "source": [
    "### Présentation rapide du format json\n",
    "Le fichier `json` est un fichier texte contenant de l'information structurée, très utilisé sur internet. Cette structuration est assurée par deux types d'éléments:  \n",
    "\n",
    "* des paires clé/valeur (qui rappelle les dictionnaires de python);\n",
    "* de listes ordonnées de valeurs.  \n",
    "\n",
    "Voir [json sur wikipedia](https://fr.wikipedia.org/wiki/JavaScript_Object_Notation). Voici un exemple de données au format `json`:  \n",
    "```json\n",
    "{\n",
    "    \"menu\": {\n",
    "        \"id\": \"file\",\n",
    "        \"value\": \"File\",\n",
    "        \"popup\": {\n",
    "            \"menuitem\": [\n",
    "                { \"value\": \"New\", \"onclick\": \"CreateNewDoc()\" },\n",
    "                { \"value\": \"Open\", \"onclick\": \"OpenDoc()\" },\n",
    "                { \"value\": \"Close\", \"onclick\": \"CloseDoc()\" }\n",
    "            ]\n",
    "        }\n",
    "    }\n",
    "}\n",
    "```"
   ]
  },
  {
   "cell_type": "markdown",
   "metadata": {},
   "source": [
    "### Découvrir la structure d'un fichier réel"
   ]
  },
  {
   "cell_type": "markdown",
   "metadata": {},
   "source": [
    "Le [site openweathermap](https://openweathermap.org/) permet d'obtenir des informations météo dans beaucoup de villes du monde entier. Pour obtenir le temps dans une ville donnée, il faut fournir un identifiant unique ou la paire lattitude/longitude. Openweathermap propose un fichier `json` contenant ces informations. Ce fichier est disponible ici: `./json/city.list.json`.  \n",
    "\n",
    "!!! danger \"ATTENTION\"\n",
    "    Ne pas double-cliquer pour ouvrir avec l'application par défaut, le fichier a une taille de 33 Mo et plus de 2 millions de lignes!!\n",
    "\n",
    "On préfèrera un traitement en ligne de commande pour voir la structure du fichier. On rappelle que l'utilisation de la ligne de commande est possible dans une cellule `jupyter notebook`, il suffit de préfixer la commande avec le caractère `!`.  \n",
    "\n",
    "Enfin, pour plus de précisions sur une commande `bash`, ne pas hésiter à consulter le manuel (exemple: `man sed`)."
   ]
  },
  {
   "cell_type": "code",
   "execution_count": 5,
   "metadata": {},
   "outputs": [
    {
     "name": "stdout",
     "output_type": "stream",
     "text": [
      "2095791\r\n"
     ]
    }
   ],
   "source": [
    "# Nombre de lignes\n",
    "!cat ./json/city.list.json | wc -l"
   ]
  },
  {
   "cell_type": "code",
   "execution_count": 6,
   "metadata": {},
   "outputs": [
    {
     "name": "stdout",
     "output_type": "stream",
     "text": [
      "238646:    \"country\": \"RE\",\r\n",
      "238656:    \"country\": \"RE\",\r\n"
     ]
    }
   ],
   "source": [
    "# 2 premières lignes concernant la Réunion\n",
    "!cat ./json/city.list.json | grep -n \"RE\" | head -n 2"
   ]
  },
  {
   "cell_type": "code",
   "execution_count": 7,
   "metadata": {},
   "outputs": [
    {
     "name": "stdout",
     "output_type": "stream",
     "text": [
      "  {\r\n",
      "    \"id\": 935146,\r\n",
      "    \"name\": \"Les Trois-Bassins\",\r\n",
      "    \"state\": \"\",\r\n",
      "    \"country\": \"RE\",\r\n",
      "    \"coord\": {\r\n",
      "      \"lon\": 55.299999,\r\n",
      "      \"lat\": -21.1\r\n",
      "    }\r\n",
      "  },\r\n",
      "  {\r\n",
      "    \"id\": 935210,\r\n",
      "    \"name\": \"Salazie\",\r\n",
      "    \"state\": \"\",\r\n",
      "    \"country\": \"RE\",\r\n",
      "    \"coord\": {\r\n",
      "      \"lon\": 55.539001,\r\n",
      "      \"lat\": -21.02734\r\n",
      "    }\r\n",
      "  },\r\n",
      "  {\r\n"
     ]
    }
   ],
   "source": [
    "# Affichage de 20 lignes autour du 1er résultat\n",
    "!sed -n \"238642,+20p\" ./json/city.list.json"
   ]
  },
  {
   "cell_type": "markdown",
   "metadata": {},
   "source": [
    "### Objectifs\n",
    "\n",
    "Le but de cette première activité est d'extraire de ce fichier uniquement les informations concernant les villes de la Réunion et de les sauvegarder dans un fichier au format json. Le fichier obtenu devrait être nettement moins lourd et plus facilement utilisable (une soixantaine d'entrées au lieu de plus de 200 000 dans le fichier original).  \n",
    "\n",
    "??? tip \"Rappels de 1re\"\n",
    "    Pour importer un module, on peut utiliser la syntaxe `import mon_super_module`; ce qui nous obligera à \n",
    "    préfixer chaque appel de fonction par `mon_super_module.ma_fonction()`. On peut *raccourcir* les appels en \n",
    "    utilisant un alias lors de l'import: `import mon_super_module as msp`, on appelle alors \n",
    "    `msp.ma_fonction()`.  \n",
    "    Enfin, on peut cibler une fonction précise à importer. Dans ce cas, on utilisera la syntaxe: `from \n",
    "    mon_super_module import ma_fonction` et l'appel se fera directement par `ma_fonction()` sans préfixe."
   ]
  },
  {
   "cell_type": "markdown",
   "metadata": {},
   "source": [
    "### Travail à réaliser"
   ]
  },
  {
   "cell_type": "markdown",
   "metadata": {},
   "source": [
    "!!! question \"A faire\"\n",
    "    Prendre connaissance de l'api du module json, en ligne sur \n",
    "    [python.org](https://docs.python.org/fr/3.8/library/json.html) ou à défaut dans une cellule de Jupyter en \n",
    "    utilisant les fonctions `dir` et `help`."
   ]
  },
  {
   "cell_type": "code",
   "execution_count": null,
   "metadata": {},
   "outputs": [],
   "source": [
    "import json\n",
    "\n",
    "\n",
    "dir(json)"
   ]
  },
  {
   "cell_type": "markdown",
   "metadata": {},
   "source": [
    "!!! question \"A faire\"\n",
    "    Quelles sont les deux fonctions du module `json` susceptibles de nous intéresser en vue d'une ouverture et \n",
    "    d'une écriture de fichiers json ? \n",
    "    Pour obtenir de l'aide sur une fonction présente dans un module on \n",
    "    utilise la fonction `help` (par exemple `help(json.xxxx)` où `xxxx` est le nom d'une fonction du module \n",
    "    `json`).  "
   ]
  },
  {
   "cell_type": "code",
   "execution_count": 107,
   "metadata": {},
   "outputs": [],
   "source": [
    "#Réponse"
   ]
  },
  {
   "cell_type": "markdown",
   "metadata": {},
   "source": [
    "!!! question \"A faire\"\n",
    "    On va extraire que les informations concernant les villes de la Réunion. Quelle fonction doit-on utiliser \n",
    "    pour transformer le fichier `city.list.json` en une structure utilisable en python ? Réaliser cette \n",
    "    opération en complétant le code ci-dessous.   "
   ]
  },
  {
   "cell_type": "code",
   "execution_count": 7,
   "metadata": {},
   "outputs": [],
   "source": [
    "import json\n",
    "\n",
    "# Création d'un objet fichier f lié à city.list.json\n",
    "with open('./json/city.list.json', 'r') as f:\n",
    "    #A compléter (supprimer la ligne 'pass')\n",
    "    pass"
   ]
  },
  {
   "cell_type": "markdown",
   "metadata": {},
   "source": [
    "!!! question \"A faire\"\n",
    "    Quelle est le type de la structure obtenue et combien d'entrées possède-t-elle? "
   ]
  },
  {
   "cell_type": "code",
   "execution_count": null,
   "metadata": {},
   "outputs": [],
   "source": [
    "#Réponse"
   ]
  },
  {
   "cell_type": "markdown",
   "metadata": {},
   "source": [
    "!!! question \"A faire\"\n",
    "    Afficher la 1ere entrée."
   ]
  },
  {
   "cell_type": "code",
   "execution_count": null,
   "metadata": {},
   "outputs": [],
   "source": [
    "#Réponse"
   ]
  },
  {
   "cell_type": "markdown",
   "metadata": {},
   "source": [
    "!!! question \"A faire\"\n",
    "    Proposer un code permettant de sauver les entrées qui ne concernent que la Réunion dans un tableau."
   ]
  },
  {
   "cell_type": "code",
   "execution_count": 20,
   "metadata": {},
   "outputs": [],
   "source": [
    "#Réponse\n",
    "villes_RE = []\n",
    "#A compléter"
   ]
  },
  {
   "cell_type": "markdown",
   "metadata": {},
   "source": [
    "!!! question \"A faire\"\n",
    "    Combien d'entrée possède ce nouveau tableau ?"
   ]
  },
  {
   "cell_type": "code",
   "execution_count": null,
   "metadata": {},
   "outputs": [],
   "source": [
    "#Réponse"
   ]
  },
  {
   "cell_type": "markdown",
   "metadata": {},
   "source": [
    "!!! question \"A faire\"\n",
    "    Quelle fonction devra-t-on utilser pour transformer ce tableau et le sauver dans un fichier json ?"
   ]
  },
  {
   "cell_type": "code",
   "execution_count": null,
   "metadata": {},
   "outputs": [],
   "source": [
    "#Réponse"
   ]
  },
  {
   "cell_type": "markdown",
   "metadata": {},
   "source": [
    "!!! question \"A faire\"\n",
    "    Proposer un code qui réalise la sauvergarde du tableau `villes_RE` dans un fichier json \n",
    "    `villes_RE.json`."
   ]
  },
  {
   "cell_type": "code",
   "execution_count": 6,
   "metadata": {},
   "outputs": [],
   "source": [
    "#Réponse\n",
    "\n",
    "# Création d'un objet fichier f lié à villes_RE.json\n",
    "with open(\"./json/villes_RE.json\", \"w\") as f:\n",
    "    #à compléter ici\n",
    "    pass           "
   ]
  },
  {
   "cell_type": "code",
   "execution_count": null,
   "metadata": {},
   "outputs": [],
   "source": []
  }
 ],
 "metadata": {
  "kernelspec": {
   "display_name": "Python 3",
   "language": "python",
   "name": "python3"
  },
  "language_info": {
   "codemirror_mode": {
    "name": "ipython",
    "version": 3
   },
   "file_extension": ".py",
   "mimetype": "text/x-python",
   "name": "python",
   "nbconvert_exporter": "python",
   "pygments_lexer": "ipython3",
   "version": "3.8.8"
  },
  "toc": {
   "base_numbering": 1,
   "nav_menu": {},
   "number_sections": true,
   "sideBar": true,
   "skip_h1_title": false,
   "title_cell": "Table of Contents",
   "title_sidebar": "Contents",
   "toc_cell": false,
   "toc_position": {},
   "toc_section_display": true,
   "toc_window_display": false
  }
 },
 "nbformat": 4,
 "nbformat_minor": 4
}
