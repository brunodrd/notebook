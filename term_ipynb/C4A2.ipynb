{
 "cells": [
  {
   "cell_type": "markdown",
   "id": "continued-thousand",
   "metadata": {},
   "source": [
    "Activité 2: créer son propre module\n",
    "============================="
   ]
  },
  {
   "cell_type": "markdown",
   "id": "temporal-expression",
   "metadata": {},
   "source": [
    "Comme il a été précisé en introduction, il est important de découper son code en modules afin de pouvoir le réutiliser facilement et d'en assurer une maintenance aisée.  \n",
    "\n",
    "## Qu'est-ce qu'un module?\n",
    "\n",
    "!!! info \"Définition\"\n",
    "    Un module est un fichier texte, d'extension `.py` (ou un fichier binaire `.pyc` qui ne sera pas abordé\n",
    "    ici). Il peut contenir des variables, des fonctions des classes ou d'autres modules.  \n",
    "\n",
    "Une bonne pratique en python consiste à placer des commentaires (*docstring*) au début:  \n",
    "\n",
    "* des fichiers, pour informer l'utilisateur des diverses fonctionnalités du module;\n",
    "* des fonctions afin d'en donner les spécifications.  \n",
    "\n",
    "\n",
    "## Où placer un module personnel?\n",
    "\n",
    "Le plus simple, mais pas forcément le plus recommandé, est de placer le module dans le même dossier que les programmes qui en feront appel."
   ]
  },
  {
   "cell_type": "markdown",
   "id": "moving-acrobat",
   "metadata": {},
   "source": [
    "!!! question \"A faire\"\n",
    "    1. Créer un module `pile`, correctement documenté, qui regroupe l'implémentation des opérations courantes \n",
    "    sur une structure de donnée de type pile (voir leçon précédente).\n",
    "    2. En faire de même en créant un module `file`.\n",
    "    3. Créer une file nommée `f` puis enfiler successivement les valeurs 3, 9 et 27. Vérifier si la file f est \n",
    "    vide. Enfin, défiler `f` 4 fois de suite. Les résultats sont-ils cohérents?"
   ]
  },
  {
   "cell_type": "code",
   "execution_count": 4,
   "id": "center-beatles",
   "metadata": {},
   "outputs": [],
   "source": [
    "import pile, file\n",
    "\n",
    "\n",
    "# Tests - A compléter"
   ]
  },
  {
   "cell_type": "markdown",
   "id": "subject-schema",
   "metadata": {},
   "source": [
    "## Comment créer un package?\n",
    "\n",
    "!!! info \"Définition\"\n",
    "    Un package ou librairie en français est un dossier *spécial* dans lequel on regroupe des modules.\n",
    "\n",
    "Supposons que l'on dispose de 4 modules nommés `algo`, `langage`, `machine` et `information`. On souhaite créer un package `nsi` qui regroupe ces 4 modules. La procédure est la suivante:  \n",
    "\n",
    "* créer dans le dossier où se situe le programme appelant un dossier nommé `nsi` (en ligne de commande `mkdir nsi`);\n",
    "* créer dans le dossier `nsi` un fichier vide `__init__.py` (en ligne de commande `touch nsi/__init__.py`, attention à la présence des 2 caractères 'souligné' en début et fin de nom);\n",
    "* déplacer les 4 fichiers `py` des modules dans le dossier `nsi`.  \n",
    "\n",
    "Pour utiliser une fonction `tri` du module `algo`, on utilisera la syntaxe:  \n",
    "\n",
    "```python\n",
    "from nsi.algo import tri\n",
    "```\n",
    "ou `from nsi.algo import *` (**déconseillé**)"
   ]
  },
  {
   "cell_type": "markdown",
   "id": "extra-highland",
   "metadata": {},
   "source": [
    "!!! question \"A faire\"\n",
    "    1. Réaliser un package nommé `sdd` constitué des modules `pile` et `file`.\n",
    "    2. Tester le bon fonctionnement des imports en indiquant les commandes utilisées dans la cellule suivante."
   ]
  }
 ],
 "metadata": {
  "kernelspec": {
   "display_name": "Python 3",
   "language": "python",
   "name": "python3"
  },
  "language_info": {
   "codemirror_mode": {
    "name": "ipython",
    "version": 3
   },
   "file_extension": ".py",
   "mimetype": "text/x-python",
   "name": "python",
   "nbconvert_exporter": "python",
   "pygments_lexer": "ipython3",
   "version": "3.8.8"
  }
 },
 "nbformat": 4,
 "nbformat_minor": 5
}
