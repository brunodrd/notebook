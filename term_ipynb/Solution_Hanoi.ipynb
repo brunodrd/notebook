{
 "cells": [
  {
   "cell_type": "code",
   "execution_count": 1,
   "metadata": {},
   "outputs": [],
   "source": [
    "from affiche_hanoi import gen_disk, deplacer, affiche"
   ]
  },
  {
   "cell_type": "code",
   "execution_count": 2,
   "metadata": {},
   "outputs": [
    {
     "name": "stdout",
     "output_type": "stream",
     "text": [
      "Help on function gen_disk in module affiche_hanoi:\n",
      "\n",
      "gen_disk(n, total_disk)\n",
      "    génère un disque de taille n, en renvoyant une chaine de caractères de largeur\n",
      "    2*total_disk+1 et composée de 2n caractères '=', 2(total_disk-n) caractères ' ' (espaces)\n",
      "    et d'un caractère '|' au centre.\n",
      "    Exemple: gen_disk(3, 4) renvoie ' ===|=== '.\n",
      "\n"
     ]
    }
   ],
   "source": [
    "help(gen_disk)"
   ]
  },
  {
   "cell_type": "code",
   "execution_count": 3,
   "metadata": {},
   "outputs": [
    {
     "data": {
      "text/plain": [
       "'  ========|========  '"
      ]
     },
     "execution_count": 3,
     "metadata": {},
     "output_type": "execute_result"
    }
   ],
   "source": [
    "gen_disk(8, 10)"
   ]
  },
  {
   "cell_type": "code",
   "execution_count": 4,
   "metadata": {},
   "outputs": [
    {
     "name": "stdout",
     "output_type": "stream",
     "text": [
      "Help on function deplacer in module affiche_hanoi:\n",
      "\n",
      "deplacer(jeu, orig, dest)\n",
      "    déplace le dernier disque de la tour 'orig' de 'jeu', vers la tour\n",
      "    'dest' de destination.\n",
      "    jeu: dictionnaire de la forme {'A':[], 'B':[], 'C':[]}\n",
      "    orig, dest: clés du dictionnaire jeu.\n",
      "\n"
     ]
    }
   ],
   "source": [
    "help(deplacer)"
   ]
  },
  {
   "cell_type": "code",
   "execution_count": 5,
   "metadata": {},
   "outputs": [],
   "source": [
    "def hanoi(jeu, n, depart='A', inter='B', fin='C'):\n",
    "    if n == 0:\n",
    "        return\n",
    "    else:\n",
    "        hanoi(jeu, n-1, depart, fin, inter)\n",
    "        \n",
    "        #print(depart, \"-->\", fin)\n",
    "        deplacer(jeu, depart, fin)\n",
    "        affiche(jeu, N)\n",
    "        \n",
    "        hanoi(jeu, n-1, inter, depart, fin)"
   ]
  },
  {
   "cell_type": "code",
   "execution_count": 6,
   "metadata": {},
   "outputs": [
    {
     "name": "stdout",
     "output_type": "stream",
     "text": [
      "     |               |              =|=    \n",
      "     |               |             ==|==   \n",
      "     |               |            ===|===  \n",
      "     |               |           ====|==== \n",
      "     |               |          =====|=====\n",
      "---------------------------------------------\n",
      "\n"
     ]
    }
   ],
   "source": [
    "N = 5\n",
    "\n",
    "jeu = {'C': [i for i in range(N, 0, -1)],\n",
    "       'A': [],\n",
    "       'B': []}\n",
    "affiche(jeu, N)"
   ]
  },
  {
   "cell_type": "code",
   "execution_count": 7,
   "metadata": {},
   "outputs": [
    {
     "name": "stdout",
     "output_type": "stream",
     "text": [
      "     |               |               |     \n",
      "     |               |             ==|==   \n",
      "     |               |            ===|===  \n",
      "     |               |           ====|==== \n",
      "    =|=              |          =====|=====\n",
      "---------------------------------------------\n",
      "\n",
      "     |               |               |     \n",
      "     |               |               |     \n",
      "     |               |            ===|===  \n",
      "     |               |           ====|==== \n",
      "    =|=            ==|==        =====|=====\n",
      "---------------------------------------------\n",
      "\n",
      "     |               |               |     \n",
      "     |               |               |     \n",
      "     |               |            ===|===  \n",
      "     |              =|=          ====|==== \n",
      "     |             ==|==        =====|=====\n",
      "---------------------------------------------\n",
      "\n",
      "     |               |               |     \n",
      "     |               |               |     \n",
      "     |               |               |     \n",
      "     |              =|=          ====|==== \n",
      "  ===|===          ==|==        =====|=====\n",
      "---------------------------------------------\n",
      "\n",
      "     |               |               |     \n",
      "     |               |               |     \n",
      "     |               |              =|=    \n",
      "     |               |           ====|==== \n",
      "  ===|===          ==|==        =====|=====\n",
      "---------------------------------------------\n",
      "\n",
      "     |               |               |     \n",
      "     |               |               |     \n",
      "     |               |              =|=    \n",
      "   ==|==             |           ====|==== \n",
      "  ===|===            |          =====|=====\n",
      "---------------------------------------------\n",
      "\n",
      "     |               |               |     \n",
      "     |               |               |     \n",
      "    =|=              |               |     \n",
      "   ==|==             |           ====|==== \n",
      "  ===|===            |          =====|=====\n",
      "---------------------------------------------\n",
      "\n",
      "     |               |               |     \n",
      "     |               |               |     \n",
      "    =|=              |               |     \n",
      "   ==|==             |               |     \n",
      "  ===|===        ====|====      =====|=====\n",
      "---------------------------------------------\n",
      "\n",
      "     |               |               |     \n",
      "     |               |               |     \n",
      "     |               |               |     \n",
      "   ==|==            =|=              |     \n",
      "  ===|===        ====|====      =====|=====\n",
      "---------------------------------------------\n",
      "\n",
      "     |               |               |     \n",
      "     |               |               |     \n",
      "     |               |               |     \n",
      "     |              =|=            ==|==   \n",
      "  ===|===        ====|====      =====|=====\n",
      "---------------------------------------------\n",
      "\n",
      "     |               |               |     \n",
      "     |               |               |     \n",
      "     |               |              =|=    \n",
      "     |               |             ==|==   \n",
      "  ===|===        ====|====      =====|=====\n",
      "---------------------------------------------\n",
      "\n",
      "     |               |               |     \n",
      "     |               |               |     \n",
      "     |               |              =|=    \n",
      "     |            ===|===          ==|==   \n",
      "     |           ====|====      =====|=====\n",
      "---------------------------------------------\n",
      "\n",
      "     |               |               |     \n",
      "     |               |               |     \n",
      "     |               |               |     \n",
      "     |            ===|===          ==|==   \n",
      "    =|=          ====|====      =====|=====\n",
      "---------------------------------------------\n",
      "\n",
      "     |               |               |     \n",
      "     |               |               |     \n",
      "     |             ==|==             |     \n",
      "     |            ===|===            |     \n",
      "    =|=          ====|====      =====|=====\n",
      "---------------------------------------------\n",
      "\n",
      "     |               |               |     \n",
      "     |              =|=              |     \n",
      "     |             ==|==             |     \n",
      "     |            ===|===            |     \n",
      "     |           ====|====      =====|=====\n",
      "---------------------------------------------\n",
      "\n",
      "     |               |               |     \n",
      "     |              =|=              |     \n",
      "     |             ==|==             |     \n",
      "     |            ===|===            |     \n",
      "=====|=====      ====|====           |     \n",
      "---------------------------------------------\n",
      "\n",
      "     |               |               |     \n",
      "     |               |               |     \n",
      "     |             ==|==             |     \n",
      "     |            ===|===            |     \n",
      "=====|=====      ====|====          =|=    \n",
      "---------------------------------------------\n",
      "\n",
      "     |               |               |     \n",
      "     |               |               |     \n",
      "     |               |               |     \n",
      "   ==|==          ===|===            |     \n",
      "=====|=====      ====|====          =|=    \n",
      "---------------------------------------------\n",
      "\n",
      "     |               |               |     \n",
      "     |               |               |     \n",
      "    =|=              |               |     \n",
      "   ==|==          ===|===            |     \n",
      "=====|=====      ====|====           |     \n",
      "---------------------------------------------\n",
      "\n",
      "     |               |               |     \n",
      "     |               |               |     \n",
      "    =|=              |               |     \n",
      "   ==|==             |               |     \n",
      "=====|=====      ====|====        ===|===  \n",
      "---------------------------------------------\n",
      "\n",
      "     |               |               |     \n",
      "     |               |               |     \n",
      "     |               |               |     \n",
      "   ==|==            =|=              |     \n",
      "=====|=====      ====|====        ===|===  \n",
      "---------------------------------------------\n",
      "\n",
      "     |               |               |     \n",
      "     |               |               |     \n",
      "     |               |               |     \n",
      "     |              =|=            ==|==   \n",
      "=====|=====      ====|====        ===|===  \n",
      "---------------------------------------------\n",
      "\n",
      "     |               |               |     \n",
      "     |               |               |     \n",
      "     |               |              =|=    \n",
      "     |               |             ==|==   \n",
      "=====|=====      ====|====        ===|===  \n",
      "---------------------------------------------\n",
      "\n",
      "     |               |               |     \n",
      "     |               |               |     \n",
      "     |               |              =|=    \n",
      " ====|====           |             ==|==   \n",
      "=====|=====          |            ===|===  \n",
      "---------------------------------------------\n",
      "\n",
      "     |               |               |     \n",
      "     |               |               |     \n",
      "    =|=              |               |     \n",
      " ====|====           |             ==|==   \n",
      "=====|=====          |            ===|===  \n",
      "---------------------------------------------\n",
      "\n",
      "     |               |               |     \n",
      "     |               |               |     \n",
      "    =|=              |               |     \n",
      " ====|====           |               |     \n",
      "=====|=====        ==|==          ===|===  \n",
      "---------------------------------------------\n",
      "\n",
      "     |               |               |     \n",
      "     |               |               |     \n",
      "     |               |               |     \n",
      " ====|====          =|=              |     \n",
      "=====|=====        ==|==          ===|===  \n",
      "---------------------------------------------\n",
      "\n",
      "     |               |               |     \n",
      "     |               |               |     \n",
      "  ===|===            |               |     \n",
      " ====|====          =|=              |     \n",
      "=====|=====        ==|==             |     \n",
      "---------------------------------------------\n",
      "\n",
      "     |               |               |     \n",
      "     |               |               |     \n",
      "  ===|===            |               |     \n",
      " ====|====           |               |     \n",
      "=====|=====        ==|==            =|=    \n",
      "---------------------------------------------\n",
      "\n",
      "     |               |               |     \n",
      "   ==|==             |               |     \n",
      "  ===|===            |               |     \n",
      " ====|====           |               |     \n",
      "=====|=====          |              =|=    \n",
      "---------------------------------------------\n",
      "\n",
      "    =|=              |               |     \n",
      "   ==|==             |               |     \n",
      "  ===|===            |               |     \n",
      " ====|====           |               |     \n",
      "=====|=====          |               |     \n",
      "---------------------------------------------\n",
      "\n"
     ]
    }
   ],
   "source": [
    "hanoi(jeu, N, 'C', 'B', 'A')"
   ]
  },
  {
   "cell_type": "code",
   "execution_count": 8,
   "metadata": {},
   "outputs": [
    {
     "data": {
      "text/plain": [
       "'    =|=    '"
      ]
     },
     "execution_count": 8,
     "metadata": {},
     "output_type": "execute_result"
    }
   ],
   "source": [
    "gen_disk(1,5)"
   ]
  },
  {
   "cell_type": "code",
   "execution_count": 9,
   "metadata": {},
   "outputs": [],
   "source": [
    "tourA = [gen_disk(i, 4) for i in range(4,0,-1)]"
   ]
  },
  {
   "cell_type": "code",
   "execution_count": 10,
   "metadata": {},
   "outputs": [
    {
     "data": {
      "text/plain": [
       "['====|====', ' ===|=== ', '  ==|==  ', '   =|=   ']"
      ]
     },
     "execution_count": 10,
     "metadata": {},
     "output_type": "execute_result"
    }
   ],
   "source": [
    "tourA"
   ]
  },
  {
   "cell_type": "code",
   "execution_count": null,
   "metadata": {},
   "outputs": [],
   "source": []
  }
 ],
 "metadata": {
  "kernelspec": {
   "display_name": "Python 3",
   "language": "python",
   "name": "python3"
  },
  "language_info": {
   "codemirror_mode": {
    "name": "ipython",
    "version": 3
   },
   "file_extension": ".py",
   "mimetype": "text/x-python",
   "name": "python",
   "nbconvert_exporter": "python",
   "pygments_lexer": "ipython3",
   "version": "3.8.5"
  },
  "toc": {
   "base_numbering": 1,
   "nav_menu": {},
   "number_sections": true,
   "sideBar": true,
   "skip_h1_title": false,
   "title_cell": "Table of Contents",
   "title_sidebar": "Contents",
   "toc_cell": false,
   "toc_position": {},
   "toc_section_display": true,
   "toc_window_display": false
  }
 },
 "nbformat": 4,
 "nbformat_minor": 4
}
