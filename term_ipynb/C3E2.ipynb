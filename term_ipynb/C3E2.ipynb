{
 "cells": [
  {
   "cell_type": "markdown",
   "id": "hired-preparation",
   "metadata": {},
   "source": [
    "Implémentation des piles et files avec des classes\n",
    "========================================="
   ]
  },
  {
   "cell_type": "markdown",
   "id": "expensive-geneva",
   "metadata": {},
   "source": [
    "## Les piles"
   ]
  },
  {
   "cell_type": "markdown",
   "id": "logical-leeds",
   "metadata": {},
   "source": [
    "On se propose de créer une classe `Pile` répondant à l'interface suivante:\n",
    "\n",
    "| Opération  \t| Description                                           \t|\n",
    "|------------\t|-------------------------------------------------------\t|\n",
    "| est_vide() \t| renvoie un booléen correspondant à l'état de la pile  \t|\n",
    "| empiler(x) \t| empile la valeur x;                                   \t|\n",
    "| depiler()  \t| renvoie le sommet de la pile **SI** elle est non vide \t|\n",
    "\n",
    "La création d'une pile vide (initialisation) se fera avec un objet de type `list` de python, vide. On pourra utiliser les méthodes `pop` et append.  \n",
    "Ré-écrire la méthode `__str__` de manière à ce qu'après les opérations suivantes:  \n",
    "\n",
    "```python\n",
    "p = Pile()\n",
    "p.empiler(4)\n",
    "p.empiler(8)\n",
    "p.empiler(12)\n",
    "print(p)\n",
    "```\n",
    "on obtienne une sortie du genre:  \n",
    "\n",
    "```python\n",
    "12 <- Sommet\n",
    "8\n",
    "4\n",
    "____________\n",
    "```"
   ]
  },
  {
   "cell_type": "markdown",
   "id": "affecting-meaning",
   "metadata": {},
   "source": [
    "## Les files"
   ]
  },
  {
   "cell_type": "markdown",
   "id": "adult-mortgage",
   "metadata": {},
   "source": [
    "Implémenter une classe `File` avec deux piles."
   ]
  }
 ],
 "metadata": {
  "kernelspec": {
   "display_name": "Python 3",
   "language": "python",
   "name": "python3"
  },
  "language_info": {
   "codemirror_mode": {
    "name": "ipython",
    "version": 3
   },
   "file_extension": ".py",
   "mimetype": "text/x-python",
   "name": "python",
   "nbconvert_exporter": "python",
   "pygments_lexer": "ipython3",
   "version": "3.8.8"
  }
 },
 "nbformat": 4,
 "nbformat_minor": 5
}
