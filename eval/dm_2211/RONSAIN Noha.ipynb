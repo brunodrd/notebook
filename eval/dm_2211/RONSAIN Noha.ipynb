{
 "cells": [
  {
   "cell_type": "code",
   "execution_count": 2,
   "metadata": {},
   "outputs": [],
   "source": [
    "tab = [9, 17, 13, 22, 10, 14, 19, 34, 9, 11]"
   ]
  },
  {
   "cell_type": "code",
   "execution_count": 1,
   "metadata": {},
   "outputs": [],
   "source": [
    "\n",
    "def recherche(x, t):\n",
    "    \"\"\"\n",
    "    recherche un element x dans un tableau d'arbe binaire et\n",
    "    renvoie True si x est dans le tableau et False dans le \n",
    "    cas contraire\n",
    "    \"\"\"\n",
    "    i = 1                #On declare i a 1 car dans les tableaux d'arbe binaire, i[i] correspond a la racine\n",
    "    while i < len(t):    \n",
    "        if x == t[i]:\n",
    "            return True\n",
    "        if x < t[i]:\n",
    "            i = 2 * i\n",
    "        elif x > t[i]:\n",
    "            i = 2 * i + 1\n",
    "        if i >= len(t):\n",
    "            return False        \n",
    "        "
   ]
  },
  {
   "cell_type": "code",
   "execution_count": 9,
   "metadata": {},
   "outputs": [
    {
     "data": {
      "text/plain": [
       "True"
      ]
     },
     "execution_count": 9,
     "metadata": {},
     "output_type": "execute_result"
    }
   ],
   "source": [
    "recherche(17, tab)"
   ]
  },
  {
   "cell_type": "code",
   "execution_count": 5,
   "metadata": {},
   "outputs": [
    {
     "data": {
      "text/plain": [
       "True"
      ]
     },
     "execution_count": 5,
     "metadata": {},
     "output_type": "execute_result"
    }
   ],
   "source": [
    "recherche(9, tab)"
   ]
  },
  {
   "cell_type": "markdown",
   "metadata": {},
   "source": [
    "Observations:  \n",
    "La construction lignes 16-17 n'est pas utile! Pourquoi ne pas simplifier par:  \n",
    "\n",
    "```python\n",
    "def recherche(x, t):\n",
    "    \"\"\"\n",
    "    recherche un element x dans un tableau d'arbe binaire et\n",
    "    renvoie True si x est dans le tableau et False dans le \n",
    "    cas contraire\n",
    "    \"\"\"\n",
    "    i = 1                #On declare i a 1 car dans les tableaux d'arbe binaire, i[i] correspond a la racine\n",
    "    while i < len(t):    \n",
    "        if x == t[i]:\n",
    "            return True\n",
    "        if x < t[i]:\n",
    "            i = 2 * i\n",
    "        else x > t[i]:\n",
    "            i = 2 * i + 1\n",
    "    return False\n",
    "```\n",
    "\n",
    "Note: 9.75/10"
   ]
  },
  {
   "cell_type": "code",
   "execution_count": null,
   "metadata": {},
   "outputs": [],
   "source": []
  }
 ],
 "metadata": {
  "kernelspec": {
   "display_name": "Python 3",
   "language": "python",
   "name": "python3"
  },
  "language_info": {
   "codemirror_mode": {
    "name": "ipython",
    "version": 3
   },
   "file_extension": ".py",
   "mimetype": "text/x-python",
   "name": "python",
   "nbconvert_exporter": "python",
   "pygments_lexer": "ipython3",
   "version": "3.8.8"
  }
 },
 "nbformat": 4,
 "nbformat_minor": 4
}
