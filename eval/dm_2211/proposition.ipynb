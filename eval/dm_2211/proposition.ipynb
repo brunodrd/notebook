{
 "cells": [
  {
   "cell_type": "code",
   "execution_count": null,
   "metadata": {},
   "outputs": [],
   "source": [
    "def recherche(arbre, element):\n",
    "    \"\"\" Recherche la présence de 'element' dans un arbre binaire 'arbre' \n",
    "    arbre: tableau d'éléments. Renvoie un booléen.\n",
    "    element: de même type que les éléments du tableau\n",
    "    \"\"\"\n",
    "    taille = len(arbre)\n",
    "    i = 1\n",
    "    while i < taille:\n",
    "        if arbre[i] == element:\n",
    "            return True\n",
    "        if element < arbre[i]:\n",
    "            i = 2*i\n",
    "        else:\n",
    "            i = 2*i+1\n",
    "    return False"
   ]
  }
 ],
 "metadata": {
  "kernelspec": {
   "display_name": "Python 3",
   "language": "python",
   "name": "python3"
  },
  "language_info": {
   "codemirror_mode": {
    "name": "ipython",
    "version": 3
   },
   "file_extension": ".py",
   "mimetype": "text/x-python",
   "name": "python",
   "nbconvert_exporter": "python",
   "pygments_lexer": "ipython3",
   "version": "3.8.5"
  }
 },
 "nbformat": 4,
 "nbformat_minor": 4
}
