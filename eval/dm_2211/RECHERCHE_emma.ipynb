{
 "cells": [
  {
   "cell_type": "code",
   "execution_count": 6,
   "metadata": {},
   "outputs": [],
   "source": [
    "def rech(elm,tab):\n",
    "    a = 1\n",
    "    while a < len(tab):\n",
    "        if elm == tab[a]:\n",
    "            return True\n",
    "        if elm < tab[a]:\n",
    "            a = 2 * a\n",
    "        elif elm > tab[a]:\n",
    "            a = (2*a) + 1\n",
    "        if a >= len(tab):\n",
    "            return False"
   ]
  },
  {
   "cell_type": "code",
   "execution_count": 17,
   "metadata": {},
   "outputs": [
    {
     "data": {
      "text/plain": [
       "False"
      ]
     },
     "execution_count": 17,
     "metadata": {},
     "output_type": "execute_result"
    }
   ],
   "source": [
    "rech(33,arbre1)"
   ]
  },
  {
   "cell_type": "code",
   "execution_count": 10,
   "metadata": {},
   "outputs": [],
   "source": [
    "arbre1 = ('n', 12,11,22,7,11,20,3,5,3)"
   ]
  },
  {
   "cell_type": "markdown",
   "metadata": {},
   "source": [
    "Observations:   \n",
    "\n",
    "```python\n",
    "if a >= len(tab):\n",
    "    return False\n",
    "```\n",
    "\n",
    "... pas beau !\n",
    "\n",
    "Pas de doc-string !\n",
    "\n",
    "Note: 9.75/10"
   ]
  },
  {
   "cell_type": "code",
   "execution_count": null,
   "metadata": {},
   "outputs": [],
   "source": []
  }
 ],
 "metadata": {
  "kernelspec": {
   "display_name": "Python 3",
   "language": "python",
   "name": "python3"
  },
  "language_info": {
   "codemirror_mode": {
    "name": "ipython",
    "version": 3
   },
   "file_extension": ".py",
   "mimetype": "text/x-python",
   "name": "python",
   "nbconvert_exporter": "python",
   "pygments_lexer": "ipython3",
   "version": "3.8.8"
  }
 },
 "nbformat": 4,
 "nbformat_minor": 4
}
