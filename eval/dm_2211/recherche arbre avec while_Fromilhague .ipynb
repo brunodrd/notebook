{
 "cells": [
  {
   "cell_type": "code",
   "execution_count": 3,
   "metadata": {},
   "outputs": [],
   "source": [
    "def recherche (elt, tableau):\n",
    "    a = 1\n",
    "    while a < len(tab):\n",
    "        if elt == tableau[a]:\n",
    "            return True\n",
    "        if elt < tableau[a]:\n",
    "            a = 2 * a\n",
    "        elif elt > tableau[a]:\n",
    "            a = (2*a) + 1\n",
    "        if a >=(len(tableau)):\n",
    "            return False "
   ]
  },
  {
   "cell_type": "markdown",
   "metadata": {},
   "source": [
    "Observations:  \n",
    "\n",
    "Pas de doc-string! On aurait pu faire l'économie du dernier test et l'éliminer de la boucle `while`!  \n",
    "\n",
    "Note: 9.75/10"
   ]
  }
 ],
 "metadata": {
  "kernelspec": {
   "display_name": "Python 3",
   "language": "python",
   "name": "python3"
  },
  "language_info": {
   "codemirror_mode": {
    "name": "ipython",
    "version": 3
   },
   "file_extension": ".py",
   "mimetype": "text/x-python",
   "name": "python",
   "nbconvert_exporter": "python",
   "pygments_lexer": "ipython3",
   "version": "3.8.8"
  }
 },
 "nbformat": 4,
 "nbformat_minor": 4
}
