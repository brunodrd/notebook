{
 "cells": [
  {
   "cell_type": "code",
   "execution_count": 4,
   "metadata": {},
   "outputs": [
    {
     "data": {
      "text/plain": [
       "False"
      ]
     },
     "execution_count": 4,
     "metadata": {},
     "output_type": "execute_result"
    }
   ],
   "source": [
    "def recherche(arbre,x):\n",
    "    i = 1\n",
    "    while i < len(arbre) - 2:\n",
    "        if arbre[i] == x or arbre[i+1] == x or arbre[i+2] == x:\n",
    "            return True\n",
    "        i += 2\n",
    "    return False\n",
    "\n",
    "\n",
    "a = [1, 0, 1, 3]\n",
    "recherche(a, 2)"
   ]
  },
  {
   "cell_type": "markdown",
   "metadata": {},
   "source": [
    "Observations:  \n",
    "\n",
    "Dans le pire des cas, la boucle est parcourue $\\lfloor \\frac{n}{2}\\rfloor$ fois si $n$ est la taille du tableau, avec 3 tests effectués à chaque fois. D'où une complexité dans le pire des cas en $\\mathcal{O}(n)$.  \n",
    "\n",
    "On peut résoudre le problème en $\\mathcal{O}(\\log_2 n)$ ...  \n",
    "\n",
    "Note: 9.75/10"
   ]
  },
  {
   "cell_type": "code",
   "execution_count": null,
   "metadata": {},
   "outputs": [],
   "source": []
  }
 ],
 "metadata": {
  "kernelspec": {
   "display_name": "Python 3",
   "language": "python",
   "name": "python3"
  },
  "language_info": {
   "codemirror_mode": {
    "name": "ipython",
    "version": 3
   },
   "file_extension": ".py",
   "mimetype": "text/x-python",
   "name": "python",
   "nbconvert_exporter": "python",
   "pygments_lexer": "ipython3",
   "version": "3.8.5"
  }
 },
 "nbformat": 4,
 "nbformat_minor": 4
}
