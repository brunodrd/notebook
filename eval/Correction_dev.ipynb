{
 "cells": [
  {
   "cell_type": "markdown",
   "metadata": {},
   "source": [
    "Exercice 1\n",
    "========"
   ]
  },
  {
   "cell_type": "markdown",
   "metadata": {},
   "source": [
    "*Le code qui suit n'était pas demandé, mais sera utile pour les tests notamments*."
   ]
  },
  {
   "cell_type": "code",
   "execution_count": 1,
   "metadata": {},
   "outputs": [],
   "source": [
    "def creer_pile_vide():\n",
    "    return []\n",
    "\n",
    "def est_vide(p):\n",
    "    return len(p) == 0\n",
    "\n",
    "def empiler(p, x):\n",
    "    p.append(x)\n",
    "    \n",
    "def depiler(p):\n",
    "    assert not est_vide(p)\n",
    "    return p.pop()"
   ]
  },
  {
   "cell_type": "markdown",
   "metadata": {},
   "source": [
    "## Question 1"
   ]
  },
  {
   "cell_type": "markdown",
   "metadata": {},
   "source": [
    "La pile Q aura l'allure suivante:\n",
    "\n",
    "```\n",
    "| 8 |\n",
    "+---+\n",
    "| 5 |\n",
    "+---+\n",
    "| 2 |\n",
    "+---+\n",
    "| 4 |\n",
    "+---+\n",
    "```"
   ]
  },
  {
   "cell_type": "markdown",
   "metadata": {},
   "source": [
    "## Question 2"
   ]
  },
  {
   "cell_type": "markdown",
   "metadata": {},
   "source": [
    "### Fonction hauteur_pile"
   ]
  },
  {
   "cell_type": "code",
   "execution_count": 4,
   "metadata": {},
   "outputs": [],
   "source": [
    "def hauteur_pile(p):\n",
    "    q = creer_pile_vide()\n",
    "    n = 0\n",
    "    while not est_vide(p):\n",
    "        n += 1\n",
    "        x = depiler(p)\n",
    "        empiler(q, x)\n",
    "    while not est_vide(q):\n",
    "        x = depiler(q)\n",
    "        empiler(p, x)\n",
    "    return n"
   ]
  },
  {
   "cell_type": "markdown",
   "metadata": {},
   "source": [
    "### Fonction max_pile"
   ]
  },
  {
   "cell_type": "code",
   "execution_count": 7,
   "metadata": {},
   "outputs": [],
   "source": [
    "from math import inf\n",
    "\n",
    "def max_pile(p, i):\n",
    "    \"\"\" renvoie l'index correspondant à la valeur maximale rencontrée jusqu'à l'index i;\n",
    "    p: pile\n",
    "    i: index (int)\n",
    "    \"\"\"\n",
    "    assert 1 <= i <= hauteur_pile(p)\n",
    "    q = creer_pile_vide() # pour restaurer la pile p\n",
    "    j = 1 # initialisation d'un index et de la valeur max trouvée\n",
    "    valmax =  -inf\n",
    "    while j <= i: # on parcours la pile jusqu'à l'élément d'index i\n",
    "        x = depiler(p)\n",
    "        empiler(q, x)\n",
    "        if x > valmax: # dès qu'on trouve une valeur plus grande -> sauvegarde !\n",
    "            valmax = x\n",
    "            jmax = j\n",
    "        j = j + 1\n",
    "    while not est_vide(q): # Avant de quitter, on restaure la pile p\n",
    "        empiler(p, depiler(q))\n",
    "    return jmax"
   ]
  },
  {
   "cell_type": "markdown",
   "metadata": {},
   "source": [
    "*TESTS non demandés*"
   ]
  },
  {
   "cell_type": "code",
   "execution_count": 6,
   "metadata": {},
   "outputs": [],
   "source": [
    "# TESTS\n",
    "P = creer_pile_vide()\n",
    "empiler(P, 28)\n",
    "empiler(P, 5)\n",
    "empiler(P, 2)\n",
    "empiler(P, 4)\n",
    "empiler(P, 18)\n",
    "\n",
    "assert max_pile(P, 2) == 1\n",
    "assert max_pile(P, 1) == 1\n",
    "assert max_pile(P, 5) == 5"
   ]
  },
  {
   "cell_type": "markdown",
   "metadata": {},
   "source": [
    "## Question 3"
   ]
  },
  {
   "cell_type": "code",
   "execution_count": 24,
   "metadata": {},
   "outputs": [],
   "source": [
    "def retourner(p, j):\n",
    "    \"\"\" inverse l'ordre des j derniers éléments empilés;\n",
    "    p: pile\n",
    "    j: index (int)\n",
    "    \"\"\"\n",
    "    assert 1 <= j <= hauteur_pile(p)\n",
    "    valeurs_depilees = [depiler(p) for _ in range(j)]\n",
    "    for elt in valeurs_depilees:\n",
    "        empiler(p, elt)\n",
    "\n",
    "P = creer_pile_vide()\n",
    "empiler(P, 8)\n",
    "empiler(P, 5)\n",
    "empiler(P, 2)\n",
    "empiler(P, 4)\n",
    "\n",
    "retourner(P, 3)"
   ]
  },
  {
   "cell_type": "code",
   "execution_count": 25,
   "metadata": {},
   "outputs": [
    {
     "name": "stdout",
     "output_type": "stream",
     "text": [
      "[8, 4, 2, 5]\n"
     ]
    }
   ],
   "source": [
    "print(P)"
   ]
  },
  {
   "cell_type": "code",
   "execution_count": 20,
   "metadata": {},
   "outputs": [],
   "source": [
    "# Version suggérée par l'énoncé (utilisation de 2 piles auxilliaires)\n",
    "\n",
    "def retourner_v2(p, j):\n",
    "    p_aux1 = creer_pile_vide()\n",
    "    p_aux2 = creer_pile_vide()\n",
    "    i = 1\n",
    "    while i <= j:\n",
    "        empiler(p_aux1, depiler(p))\n",
    "        i += 1\n",
    "    while not est_vide(p_aux1):\n",
    "        empiler(p_aux2, depiler(p_aux1))\n",
    "    while not est_vide(p_aux2):\n",
    "        empiler(p, depiler(p_aux2))"
   ]
  },
  {
   "cell_type": "code",
   "execution_count": 21,
   "metadata": {},
   "outputs": [],
   "source": [
    "P = creer_pile_vide()\n",
    "empiler(P, 8)\n",
    "empiler(P, 5)\n",
    "empiler(P, 2)\n",
    "empiler(P, 4)\n",
    "\n",
    "retourner_v2(P, 3)"
   ]
  },
  {
   "cell_type": "code",
   "execution_count": 22,
   "metadata": {},
   "outputs": [
    {
     "name": "stdout",
     "output_type": "stream",
     "text": [
      "[8, 4, 2, 5]\n"
     ]
    }
   ],
   "source": [
    "print(P)"
   ]
  },
  {
   "cell_type": "markdown",
   "metadata": {},
   "source": [
    "## Tri crèpes"
   ]
  },
  {
   "cell_type": "markdown",
   "metadata": {},
   "source": [
    "L'énoncé fournit l'algorithme."
   ]
  },
  {
   "cell_type": "code",
   "execution_count": 26,
   "metadata": {},
   "outputs": [],
   "source": [
    "def tri_crepes(p):\n",
    "    \"\"\" trie une pile p \"\"\"\n",
    "    h = hauteur_pile(p)\n",
    "    while h >= 1:\n",
    "        j = max_pile(p, h) # Cherche l'index de la plus grande crepe\n",
    "        retourner(p, j) # On met la plus grande au dessus\n",
    "        retourner(p, h) # On retourne le tas de hauteur h => la plus grande au dessous !\n",
    "        h -= 1 # MAJ de la hauteur"
   ]
  },
  {
   "cell_type": "code",
   "execution_count": 28,
   "metadata": {},
   "outputs": [],
   "source": [
    "P = creer_pile_vide()\n",
    "empiler(P, 8)\n",
    "empiler(P, 5)\n",
    "empiler(P, 12)\n",
    "empiler(P, 14)\n",
    "empiler(P, 7)"
   ]
  },
  {
   "cell_type": "code",
   "execution_count": 29,
   "metadata": {},
   "outputs": [
    {
     "data": {
      "text/plain": [
       "[8, 5, 12, 14, 7]"
      ]
     },
     "execution_count": 29,
     "metadata": {},
     "output_type": "execute_result"
    }
   ],
   "source": [
    "P"
   ]
  },
  {
   "cell_type": "code",
   "execution_count": 30,
   "metadata": {},
   "outputs": [],
   "source": [
    "tri_crepes(P)"
   ]
  },
  {
   "cell_type": "code",
   "execution_count": 31,
   "metadata": {},
   "outputs": [
    {
     "data": {
      "text/plain": [
       "[14, 12, 8, 7, 5]"
      ]
     },
     "execution_count": 31,
     "metadata": {},
     "output_type": "execute_result"
    }
   ],
   "source": [
    "P"
   ]
  },
  {
   "cell_type": "code",
   "execution_count": 9,
   "metadata": {},
   "outputs": [],
   "source": [
    "from math import inf\n",
    "\n",
    "def maxpile_avec_liste(p, j):\n",
    "    # création d'une liste contenant les j derniers elt empilés\n",
    "    l = [depiler(p) for _ in range(j)]\n",
    "    maxi = -inf # création d'une sentinelle\n",
    "    for k, v in enumerate(l): # on boucle sur les index et leur valeur associée (en même temps)\n",
    "        if v > maxi:\n",
    "            index_du_max = k\n",
    "            maxi = v\n",
    "    while l != []: # on restaure P\n",
    "        empiler(p, l.pop())\n",
    "    return index_du_max + 1 # les indexes commencent à 1 pour la pile p "
   ]
  },
  {
   "cell_type": "code",
   "execution_count": 10,
   "metadata": {},
   "outputs": [],
   "source": [
    "# TESTS\n",
    "P = creer_pile_vide()\n",
    "empiler(P, 28)\n",
    "empiler(P, 5)\n",
    "empiler(P, 2)\n",
    "empiler(P, 4)\n",
    "empiler(P, 18)\n",
    " \n",
    "assert maxpile_avec_liste(P, 2) == 1\n",
    "assert maxpile_avec_liste(P, 1) == 1\n",
    "assert maxpile_avec_liste(P, 5) == 5\n",
    " \n",
    "#maxpile_avec_liste(P,2)"
   ]
  },
  {
   "cell_type": "code",
   "execution_count": 12,
   "metadata": {},
   "outputs": [],
   "source": [
    "import math\n",
    "\n",
    "\n",
    "buf = bytearray(100)\n",
    "for i in range(len(buf)):\n",
    "    buf[i] = 128 + int(127 * math.sin(2 * math.pi * i / len(buf)))"
   ]
  },
  {
   "cell_type": "code",
   "execution_count": 13,
   "metadata": {},
   "outputs": [
    {
     "data": {
      "text/plain": [
       "bytearray(b'\\x80\\x87\\x8f\\x97\\x9f\\xa7\\xae\\xb6\\xbd\\xc4\\xca\\xd0\\xd6\\xdc\\xe1\\xe6\\xeb\\xef\\xf2\\xf6\\xf8\\xfb\\xfc\\xfd\\xfe\\xff\\xfe\\xfd\\xfc\\xfb\\xf8\\xf6\\xf2\\xef\\xeb\\xe6\\xe1\\xdc\\xd6\\xd0\\xca\\xc4\\xbd\\xb6\\xae\\xa7\\x9f\\x97\\x8f\\x87\\x80yqiaYRJC<60*$\\x1f\\x1a\\x15\\x11\\x0e\\n\\x08\\x05\\x04\\x03\\x02\\x01\\x02\\x03\\x04\\x05\\x08\\n\\x0e\\x11\\x15\\x1a\\x1f$*06<CJRYaiqy')"
      ]
     },
     "execution_count": 13,
     "metadata": {},
     "output_type": "execute_result"
    }
   ],
   "source": [
    "buf"
   ]
  },
  {
   "cell_type": "code",
   "execution_count": 14,
   "metadata": {},
   "outputs": [
    {
     "data": {
      "text/plain": [
       "248"
      ]
     },
     "execution_count": 14,
     "metadata": {},
     "output_type": "execute_result"
    }
   ],
   "source": [
    "buf[20]"
   ]
  },
  {
   "cell_type": "code",
   "execution_count": null,
   "metadata": {},
   "outputs": [],
   "source": []
  }
 ],
 "metadata": {
  "kernelspec": {
   "display_name": "Python 3",
   "language": "python",
   "name": "python3"
  },
  "language_info": {
   "codemirror_mode": {
    "name": "ipython",
    "version": 3
   },
   "file_extension": ".py",
   "mimetype": "text/x-python",
   "name": "python",
   "nbconvert_exporter": "python",
   "pygments_lexer": "ipython3",
   "version": "3.8.8"
  }
 },
 "nbformat": 4,
 "nbformat_minor": 2
}
