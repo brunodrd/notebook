{
 "cells": [
  {
   "cell_type": "markdown",
   "metadata": {},
   "source": [
    "1) SELECT titre from livre;"
   ]
  },
  {
   "cell_type": "markdown",
   "metadata": {},
   "source": [
    "2)SELECT nom FROM usager;"
   ]
  },
  {
   "cell_type": "markdown",
   "metadata": {},
   "source": [
    "3)SELECT DISTINCT nom FROM usager;"
   ]
  },
  {
   "cell_type": "markdown",
   "metadata": {},
   "source": [
    "4)SELECT titre FROM livre WHERE annee < 1980;"
   ]
  },
  {
   "cell_type": "markdown",
   "metadata": {},
   "source": [
    "5) SELECT titre FROM livre WHERE titre like 'A%';"
   ]
  },
  {
   "cell_type": "markdown",
   "metadata": {},
   "source": [
    "6)SELECT isbn from emprunt WHERE retour > '2020-01-01'; ❌"
   ]
  },
  {
   "cell_type": "markdown",
   "metadata": {},
   "source": [
    "7)select nom from auteur ORDER BY nom;"
   ]
  },
  {
   "cell_type": "markdown",
   "metadata": {},
   "source": [
    "8)SELECT nom FROM usager WHERE cp = '75012' OR cp = '75013';\n"
   ]
  },
  {
   "cell_type": "markdown",
   "metadata": {},
   "source": [
    "9) SELECT nom,adresse FROM usager WHERE adresse Not like '%Rue%';"
   ]
  },
  {
   "cell_type": "markdown",
   "metadata": {},
   "source": [
    "10) ❌"
   ]
  },
  {
   "cell_type": "markdown",
   "metadata": {},
   "source": [
    "Exercice 2\n"
   ]
  },
  {
   "cell_type": "markdown",
   "metadata": {},
   "source": [
    "1)SELECT livre.titre FROM emprunt JOIN livre on emprunt.isbn = livre.isbn;"
   ]
  },
  {
   "cell_type": "markdown",
   "metadata": {},
   "source": [
    "2)SELECT livre.titre FROM emprunt JOIN livre on emprunt.isbn = livre.isbn WHERE annee < '2020-03-31';"
   ]
  },
  {
   "cell_type": "markdown",
   "metadata": {},
   "source": [
    "3)SELECT nom,prenom from auteur JOIN auteur_de on auteur.a_id = auteur_de.a_id JOIN livre ON auteur_de.isbn = livre.isbn WHERE titre LIKE '%1984%'; ❌"
   ]
  },
  {
   "cell_type": "markdown",
   "metadata": {},
   "source": [
    "4)SELECT DISTINCT nom,prenom FROM usager JOIN emprunt ON usager.code_barre = emprunt.code_barre;"
   ]
  },
  {
   "cell_type": "markdown",
   "metadata": {},
   "source": [
    "5)SELECT DISTINCT nom,prenom FROM usager JOIN emprunt ON usager.code_barre = emprunt.code_barre ORDER by nom;"
   ]
  }
 ],
 "metadata": {
  "kernelspec": {
   "display_name": "Python 3",
   "language": "python",
   "name": "python3"
  },
  "language_info": {
   "codemirror_mode": {
    "name": "ipython",
    "version": 3
   },
   "file_extension": ".py",
   "mimetype": "text/x-python",
   "name": "python",
   "nbconvert_exporter": "python",
   "pygments_lexer": "ipython3",
   "version": "3.8.8"
  }
 },
 "nbformat": 4,
 "nbformat_minor": 4
}
