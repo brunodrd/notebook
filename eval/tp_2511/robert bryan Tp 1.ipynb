{
 "cells": [
  {
   "cell_type": "markdown",
   "metadata": {},
   "source": [
    "## Exercice 1\n",
    "1) SELECT titre FROM livre;                                                                                     \n",
    "2) SELECT nom FROM usager;    \n",
    "3) SELECT DISTINCT nom FROM `usager`;  \n",
    "4) SELECT titre FROM livre WHERE annee < '1980';                   \n",
    "5) SELECT titre FROM livre WHERE titre LIKE 'A%';                   \n",
    "6) SELECT isbn FROM emprunt WHERE retour ='2020-01-01';  \n",
    "7) SELECT nom FROM auteur ORDER BY nom;  \n",
    "8) SELECT nom FROM usager WHERE cp ='75012' or cp ='75013'; \n",
    "9) SELECT nom,adresse FROM usager WHERE adresse Not like '%Rue%';  \n",
    "10) SELECT annee,titre FROM livre WHERE annee%400 = 0 OR annee%4 = 0; ❌                                        \n",
    "\n",
    "## Exercice 2 \n",
    "\n",
    "1)SELECT livre.titre FROM emprunt JOIN livre on emprunt.isbn = livre.isbn;                                  \n",
    "2)SELECT livre.titre FROM emprunt JOIN livre on emprunt.isbn = livre.isbn WHERE annee < '2020-03-31';        \n",
    "3)SELECT nom,prenom from auteur JOIN auteur_de on auteur.a_id = auteur_de.a_id JOIN livre ON auteur_de.isbn = livre.isbn WHERE titre LIKE '%1984%';  ❌                                                                    \n",
    "4)SELECT DISTINCT nom,prenom FROM usager JOIN emprunt ON usager.code_barre = emprunt.code_barre;            \n",
    "5)SELECT DISTINCT nom,prenom FROM usager JOIN emprunt ON usager.code_barre = emprunt.code_barre ORDER by nom;\n"
   ]
  },
  {
   "cell_type": "code",
   "execution_count": null,
   "metadata": {},
   "outputs": [],
   "source": []
  }
 ],
 "metadata": {
  "kernelspec": {
   "display_name": "Python 3",
   "language": "python",
   "name": "python3"
  },
  "language_info": {
   "codemirror_mode": {
    "name": "ipython",
    "version": 3
   },
   "file_extension": ".py",
   "mimetype": "text/x-python",
   "name": "python",
   "nbconvert_exporter": "python",
   "pygments_lexer": "ipython3",
   "version": "3.8.8"
  }
 },
 "nbformat": 4,
 "nbformat_minor": 4
}
