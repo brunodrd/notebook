{
 "cells": [
  {
   "cell_type": "code",
   "execution_count": null,
   "metadata": {},
   "outputs": [],
   "source": [
    "#1 SELECT titre FROM livre;#\n",
    "#2 SELECT nom FROM usager;\n",
    "#3 SELECT DISTINCT nom FROM usager;\n",
    "#4 SELECT titre FROM livre WHERE annee<1980;\n",
    "#5 SELECT titre FROM livre WHERE titre LIKE 'A'; ❌\n",
    "#6 SELECT isbn FROM emprunt WHERE retour = '2020/01/01'; ❌\n",
    "#7 SELECT nom FROM auteur ORDER BY nom;\n",
    "#8 SELECT nom,cp FROM usager WHERE cp=75012 or cp=754013; ❌\n",
    "#9 SELECT nom, adresse FROM usager WHERE adresse != '%Rue' ❌\n",
    "#10 SELECT annee, titre FROM livre WHERE annee%4=0 AMD annee%100=0 OR annee% ❌\n",
    "\"AVEC JOINTURE\"\n",
    "#1 SELECT titre FROM livre emprunt; ❌\n",
    "#2 SELECT livre.titre FROM emprunt JOIN livre ON emprunt.isbn=livre.isbn WHERE emprunt.retour<'2020/03/31'; ❌\n",
    "#3 SELECT auteur.nom, auteur.prenom FROM auteur JOIN auteur_de, livre WHERE livre.isbn=auteur_de.isbn AND auteur_de.a_id=auteur.a_id AND livre.titre='1984';\n",
    "#4 SELECT DISTINCT nom, prenom FROM usager; ❌\n",
    "#5 SELECT DISTINCT nom, prénom FROM usager ORDER BY nom; ❌"
   ]
  }
 ],
 "metadata": {
  "kernelspec": {
   "display_name": "Python 3",
   "language": "python",
   "name": "python3"
  },
  "language_info": {
   "codemirror_mode": {
    "name": "ipython",
    "version": 3
   },
   "file_extension": ".py",
   "mimetype": "text/x-python",
   "name": "python",
   "nbconvert_exporter": "python",
   "pygments_lexer": "ipython3",
   "version": "3.8.8"
  }
 },
 "nbformat": 4,
 "nbformat_minor": 4
}
