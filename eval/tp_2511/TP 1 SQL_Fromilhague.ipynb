{
 "cells": [
  {
   "cell_type": "markdown",
   "metadata": {},
   "source": [
    "I\n",
    "\n",
    "1 trouver les titres de livres:\n",
    "- SELECT titre FROM livre\n",
    "2 trouver les nom des usager de livre\n",
    "- SELECT nom FROM usager\n",
    "3 trouver les nom des usager de livre sans doublon:\n",
    "- SELECT DISTINCT nom From usager\n",
    "4 trouver les titres des livres avant 1980\n",
    "- SELECT titre FROM livre WHERE annee < '1980' ❌\n",
    "5 trouver les titre des livres qui commence par la lettre A\n",
    "- SELECT titre FROM livre WHERE titre LIKE 'A%'\n",
    "6 Les isbn des livres à rendre pour le 01/01/2020.\n",
    "- SELECT isbn FROM emprunt WHERE retour < '2021-01-01'\n",
    "7 Les noms d'auteurs triés par ordre alphabétique.\n",
    "- SELECT nom FROM auteur ORDER BY nom;\n",
    "8 Les noms d'usagers vivant dans le 12e ou 13e arrondissement de Paris (codes postaux 75012 et 75013).\n",
    "- SELECT nom From usager WHERE cp = '75012' or cp = '75013'\n",
    "9 Les noms et adresses des usagers n'habitant pas dans une rue. (la chaîne « Rue » ne doit pas apparaître dans l'adresse).\n",
    "- ❌\n",
    "10 Les annees et titres des livres publiés lors d'une année bissextile. On rappelle que ce sont les années divisibles par 4, mais pas celles divisibles par 100 sauf si elles sont divisibles par 400.\n",
    "❌\n",
    "II\n",
    "1Le titre des livres empruntés.\n",
    "- ❌\n"
   ]
  },
  {
   "cell_type": "markdown",
   "metadata": {},
   "source": [
    "Travail incomplet 7/15"
   ]
  }
 ],
 "metadata": {
  "kernelspec": {
   "display_name": "Python 3",
   "language": "python",
   "name": "python3"
  },
  "language_info": {
   "codemirror_mode": {
    "name": "ipython",
    "version": 3
   },
   "file_extension": ".py",
   "mimetype": "text/x-python",
   "name": "python",
   "nbconvert_exporter": "python",
   "pygments_lexer": "ipython3",
   "version": "3.8.8"
  }
 },
 "nbformat": 4,
 "nbformat_minor": 4
}
