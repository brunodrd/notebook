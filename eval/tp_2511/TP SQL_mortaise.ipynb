{
 "cells": [
  {
   "cell_type": "markdown",
   "metadata": {},
   "source": [
    "# sans jointure "
   ]
  },
  {
   "cell_type": "markdown",
   "metadata": {},
   "source": [
    "1) Select titre from livre ;\n",
    "2) Select nom from usager \n",
    "3) SELECT DISTINCT usager; ❌\n",
    "4) SELECT titre FROM livre WHERE annee <1980;\n",
    "5) SELECT titre FROM livre WHERE titre LIKE 'A%';\n",
    "6) SELECT isbn FROM emprunt WHERE retour='2020/01/01';\n",
    "7)  SELECT nom FROM auteur ORDER by nom;\n",
    "8) SELECT nom,cp FROM usager WHERE cp=75012 or cp=75013; ❌\n",
    "9) SELECT nom,adresse FROM usager WHERE adresse != '%Rue%'; ❌\n",
    "10) SELECT annee,titre FROM livre WHERE annee%4=0 AND annee%100=0 OR annee%400=0;\n"
   ]
  },
  {
   "cell_type": "markdown",
   "metadata": {},
   "source": [
    "# avec jointure  "
   ]
  },
  {
   "cell_type": "code",
   "execution_count": 1,
   "metadata": {},
   "outputs": [],
   "source": [
    "#1 Select titre FROM livre emprunt;❌\n",
    "#2 SELECT livre.titre FROM emprunt JOIN livre ON emprunt.isbn=livre.isbn WHERE emprunt.retour<'2020-03-31';\n",
    "#3 SELECT auteur.nom, auteur.prenom FROM auteur JOIN auteur_de, livre WHERE livre.isbn=auteur_de.isbn AND auteur_de.a_id=auteur.a_id AND livre.titre='1984';\n",
    "#4 Select DISTINCT nom,prenom FROM usager;❌\n",
    "#5 Select DISTINCT nom,prenom FROM usager ORDER BY nom;❌"
   ]
  },
  {
   "cell_type": "code",
   "execution_count": null,
   "metadata": {},
   "outputs": [],
   "source": []
  }
 ],
 "metadata": {
  "kernelspec": {
   "display_name": "Python 3",
   "language": "python",
   "name": "python3"
  },
  "language_info": {
   "codemirror_mode": {
    "name": "ipython",
    "version": 3
   },
   "file_extension": ".py",
   "mimetype": "text/x-python",
   "name": "python",
   "nbconvert_exporter": "python",
   "pygments_lexer": "ipython3",
   "version": "3.8.8"
  }
 },
 "nbformat": 4,
 "nbformat_minor": 4
}
