{
 "cells": [
  {
   "cell_type": "markdown",
   "metadata": {},
   "source": [
    "1) SELECT titre FROM livre;\n",
    "\n",
    "2) SELECT nom FROM usager;\n",
    "\n",
    "3) SELECT DISTINCT nom FROM usager;\n",
    "\n",
    "4) SELECT titre FROM livre WHERE annee<1980;\n",
    "\n",
    "5) SELECT titre FROM livre WHERE titre LIKE 'A%';\n",
    "\n",
    "6) SELECT isbn FROM emprunt WHERE retour='2020-01-01';\n",
    "\n",
    "7) SELECT nom from auteur ORDER BY nom;\n",
    "\n",
    "8) SELECT nom,cp FROM usager WHERE cp=75012 OR cp=75013;\n",
    "\n",
    "9) SELECT nom, adresse FROM usager WHERE adresse != '%Rue%'; ❌\n",
    "\n",
    "10) SELECT annee, titre FROM livre WHERE annee%4=0 AND annee%100!=0 OR annee%400=0; ❌"
   ]
  },
  {
   "cell_type": "markdown",
   "metadata": {},
   "source": [
    "1) SELECT livre.titre, emprunt.retour FROM emprunt JOIN livre ON emprunt.isbn=livre.isbn;\n",
    "\n",
    "2) SELECT livre.titre FROM emprunt JOIN livre ON emprunt.isbn=livre.isbn WHERE emprunt.retour<'2020-03-31';\n",
    "\n",
    "3) SELECT auteur.nom, auteur.prenom FROM auteur JOIN auteur_de, livre WHERE livre.isbn=auteur_de.isbn AND auteur_de.a_id=auteur.a_id AND livre.titre='1984'; ❌\n",
    "\n",
    "4) SELECT DISTINCT nom, prenom FROM usager; ❌\n",
    "\n",
    "5) SELECT DISTINCT nom, prenom FROM usager ORDER BY nom; ❌"
   ]
  },
  {
   "cell_type": "markdown",
   "metadata": {},
   "source": [
    "---\n",
    "\n",
    "Revoir les jointures !"
   ]
  }
 ],
 "metadata": {
  "kernelspec": {
   "display_name": "Python 3",
   "language": "python",
   "name": "python3"
  },
  "language_info": {
   "codemirror_mode": {
    "name": "ipython",
    "version": 3
   },
   "file_extension": ".py",
   "mimetype": "text/x-python",
   "name": "python",
   "nbconvert_exporter": "python",
   "pygments_lexer": "ipython3",
   "version": "3.8.8"
  }
 },
 "nbformat": 4,
 "nbformat_minor": 4
}
