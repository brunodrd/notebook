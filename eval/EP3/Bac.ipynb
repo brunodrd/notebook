{
 "cells": [
  {
   "cell_type": "markdown",
   "metadata": {},
   "source": [
    "**Observations**  \n",
    "\n",
    "exercice 1 à revoir  \n",
    "Points: 5/8  \n",
    "Note: 12.5/20"
   ]
  },
  {
   "cell_type": "code",
   "execution_count": 1,
   "metadata": {},
   "outputs": [
    {
     "ename": "SyntaxError",
     "evalue": "invalid syntax (<ipython-input-1-467b717ce39b>, line 12)",
     "output_type": "error",
     "traceback": [
      "\u001b[0;36m  File \u001b[0;32m\"<ipython-input-1-467b717ce39b>\"\u001b[0;36m, line \u001b[0;32m12\u001b[0m\n\u001b[0;31m    date_minim = date[n]:\u001b[0m\n\u001b[0m                        ^\u001b[0m\n\u001b[0;31mSyntaxError\u001b[0m\u001b[0;31m:\u001b[0m invalid syntax\n"
     ]
    }
   ],
   "source": [
    "t_moy = [14.9, 13.3, 13.1, 12.5, 13.0, 13.6, 13.7]\n",
    "annees = [2013, 2014, 2015, 2016, 2017, 2018, 2019]\n",
    "\n",
    "def mini(releve, date):\n",
    "    n = 1\n",
    "    m = releve[0]\n",
    "    date_m = date[0]\n",
    "    \n",
    "    for i in range (len(releve)-1):\n",
    "        if releve[n] < m:\n",
    "            m = releve[n] \n",
    "            date_minim = date[n]:\n",
    "                n += 1\n",
    "        else:\n",
    "            n += 1\n",
    "    return m, date_m\n",
    "        \n",
    "    "
   ]
  },
  {
   "cell_type": "code",
   "execution_count": 60,
   "metadata": {},
   "outputs": [
    {
     "data": {
      "text/plain": [
       "(12.5, 2013)"
      ]
     },
     "execution_count": 60,
     "metadata": {},
     "output_type": "execute_result"
    }
   ],
   "source": [
    "mini(t_moy, annees)"
   ]
  },
  {
   "cell_type": "markdown",
   "metadata": {},
   "source": [
    "**Observations**  \n",
    "\n",
    "erreur syntaxique inacceptable en terminale. Resultat faux ! Les lignes 12 à 15 sont incompréhensibles    \n",
    "Points: 1/4"
   ]
  },
  {
   "cell_type": "markdown",
   "metadata": {},
   "source": [
    "---"
   ]
  },
  {
   "cell_type": "code",
   "execution_count": 67,
   "metadata": {},
   "outputs": [],
   "source": [
    "def inverse_chaine(chaine):\n",
    "    result = ''\n",
    "    for caractere in chaine:\n",
    "        result = caractere + result\n",
    "    return result\n",
    "\n",
    "def est_palindrome(chaine):\n",
    "    inverse = inverse_chaine(chaine)\n",
    "    return inverse == chaine\n",
    "\n",
    "def est_nbre_palindrome(nbre):\n",
    "    chaine = str(nbre)\n",
    "    return est_palindrome(chaine)"
   ]
  },
  {
   "cell_type": "code",
   "execution_count": 68,
   "metadata": {},
   "outputs": [
    {
     "data": {
      "text/plain": [
       "'cab'"
      ]
     },
     "execution_count": 68,
     "metadata": {},
     "output_type": "execute_result"
    }
   ],
   "source": [
    "inverse_chaine('bac')"
   ]
  },
  {
   "cell_type": "code",
   "execution_count": 69,
   "metadata": {},
   "outputs": [
    {
     "data": {
      "text/plain": [
       "False"
      ]
     },
     "execution_count": 69,
     "metadata": {},
     "output_type": "execute_result"
    }
   ],
   "source": [
    "est_palindrome('NSI')"
   ]
  },
  {
   "cell_type": "code",
   "execution_count": 70,
   "metadata": {},
   "outputs": [
    {
     "data": {
      "text/plain": [
       "True"
      ]
     },
     "execution_count": 70,
     "metadata": {},
     "output_type": "execute_result"
    }
   ],
   "source": [
    "est_nbre_palindrome('ISN-NSI')"
   ]
  },
  {
   "cell_type": "markdown",
   "metadata": {},
   "source": [
    "**Observations**  \n",
    "\n",
    "Correct  \n",
    "Points: 4/4"
   ]
  },
  {
   "cell_type": "code",
   "execution_count": null,
   "metadata": {},
   "outputs": [],
   "source": []
  }
 ],
 "metadata": {
  "kernelspec": {
   "display_name": "Python 3",
   "language": "python",
   "name": "python3"
  },
  "language_info": {
   "codemirror_mode": {
    "name": "ipython",
    "version": 3
   },
   "file_extension": ".py",
   "mimetype": "text/x-python",
   "name": "python",
   "nbconvert_exporter": "python",
   "pygments_lexer": "ipython3",
   "version": "3.8.8"
  },
  "toc": {
   "base_numbering": 1,
   "nav_menu": {},
   "number_sections": true,
   "sideBar": true,
   "skip_h1_title": false,
   "title_cell": "Table of Contents",
   "title_sidebar": "Contents",
   "toc_cell": false,
   "toc_position": {},
   "toc_section_display": true,
   "toc_window_display": false
  }
 },
 "nbformat": 4,
 "nbformat_minor": 4
}
