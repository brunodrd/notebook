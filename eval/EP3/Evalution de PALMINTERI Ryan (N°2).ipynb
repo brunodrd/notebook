{
 "cells": [
  {
   "cell_type": "markdown",
   "metadata": {},
   "source": [
    "**Observations**  \n",
    "\n",
    "Parfait; 8/8   \n",
    "Note: 20/20"
   ]
  },
  {
   "cell_type": "markdown",
   "metadata": {},
   "source": [
    "# Epreuve de l'enseignement de spécialité NSI : Partie Pratique"
   ]
  },
  {
   "cell_type": "markdown",
   "metadata": {},
   "source": [
    " ## Exercice 1 (4 points)\n",
    " On a relevé les valeurs moyennes annuelles des températures à Paris pour la période allant de 2013 à 2019. Les résultats ont été récupérés sous la forme de deux listes : l'une pour les températures, l'autre pour les années :\n",
    "\n",
    "`t_moy = [14.9, 13.3, 13.1, 12.5, 13.0, 13.6, 13.7]\n",
    "annees = [2013, 2014, 2015, 2016, 2017, 2018, 2019]`\n",
    "\n",
    "Ecrire la fonction `mini` qui prend en paramètres le tableau `releve` des relevés et le tableau `date` des dates et qui renvoie la plus petite valeur relevée au cours de la période et l'année correspondante."
   ]
  },
  {
   "cell_type": "code",
   "execution_count": 8,
   "metadata": {},
   "outputs": [],
   "source": [
    "t_moy = [14.9, 13.3, 13.1, 12.5, 13.0, 13.6, 13.7]\n",
    "annees = [2013, 2014, 2015, 2016, 2017, 2018, 2019]\n",
    "\n",
    "def mini(releve, date):\n",
    "    assert (releve != None) and (annees != None)\n",
    "    assert len(releve) == len(annees)\n",
    "    \n",
    "    result_index = 0\n",
    "    max_it = min(len(releve), len(annees))\n",
    "    \n",
    "    for i in range(0, max_it):\n",
    "        if releve[result_index] > releve[i]:\n",
    "            result_index = i\n",
    "    return (releve[result_index], annees[result_index])"
   ]
  },
  {
   "cell_type": "code",
   "execution_count": 9,
   "metadata": {},
   "outputs": [],
   "source": [
    "# Suite de tests\n",
    "assert mini(t_moy, annees) == (12.5, 2016)"
   ]
  },
  {
   "cell_type": "markdown",
   "metadata": {},
   "source": [
    "**Commentaires**  \n",
    "\n",
    "Code correct. A la ligne 12, on aurait pu commencer l'itération à l'index 1 au lieu de 0 !  \n",
    "Points: 4/4"
   ]
  },
  {
   "cell_type": "markdown",
   "metadata": {},
   "source": [
    "---"
   ]
  },
  {
   "cell_type": "markdown",
   "metadata": {},
   "source": [
    " ## Exercice 2 (4 points)\n",
    " Un mot palindrome peut se lire de la même façon de gauche à droite ou de droite à gauche : `bob`, `radar`, et `non` sont des mots palindromes.\n",
    " \n",
    " De même certains nombres sont eux aussi des palindromes : `33`, `121`, `345543`.\n",
    " \n",
    " L'objectif de cet exercice est d'obtenir un programme Python permettant de tester si un nombre est un nombre palindrome.\n",
    "\n",
    "Pour remplir cette tâche, on vous demande de compléter le code des trois fonctions ci-dessous sachant que la fonction `est_nbre_palindrome` s'appuiera sur la fonction `est_palindrome` qui elle-même s'appuiera sur la fonction `inverse_chaine`.\n",
    "\n",
    "La fonction `inverse_chaine` inverse l'ordre des caractères d'une chaîne de caractères `chaine` et renvoie la chaîne inversée.\n",
    "\n",
    "La fonction `est_palindrome` teste si une chaîne de caractères `chaine` est un palindrome. Elle renvoie `True` si c'est le cas et `False` sinon. Cette fonction s'appuie sur la fonction précédente.\n",
    "\n",
    "La fonction `est_nbre_palindrome` teste si un nombre `nbre` est un palindrome. Elle renvoie `True` si c'est le cas et `False` sinon. Cette fonction s'appuie sur la fonction précédente."
   ]
  },
  {
   "cell_type": "code",
   "execution_count": 10,
   "metadata": {},
   "outputs": [],
   "source": [
    "def inverse_chaine(chaine):\n",
    "    result = \"\"\n",
    "    for caractere in chaine:\n",
    "        result = caractere + result\n",
    "    return result\n",
    "\n",
    "def est_palindrome(chaine):\n",
    "    inverse = inverse_chaine(chaine)\n",
    "    return chaine == inverse\n",
    "\n",
    "def est_nbre_palindrome(nbre):\n",
    "    chaine = str(nbre)\n",
    "    return est_palindrome(chaine)"
   ]
  },
  {
   "cell_type": "code",
   "execution_count": 11,
   "metadata": {},
   "outputs": [],
   "source": [
    "# Suite de tests\n",
    "assert inverse_chaine('bac') == 'cab'\n",
    "assert est_palindrome('NSI') == False\n",
    "assert est_palindrome('ISN-NSI') == True\n",
    "assert est_nbre_palindrome(214312) == False\n",
    "assert est_nbre_palindrome(2133312) == True"
   ]
  },
  {
   "cell_type": "markdown",
   "metadata": {},
   "source": [
    "**Commentaire**  \n",
    "\n",
    "Parfait.  \n",
    "Points: 4/4"
   ]
  }
 ],
 "metadata": {
  "kernelspec": {
   "display_name": "Python 3",
   "language": "python",
   "name": "python3"
  },
  "language_info": {
   "codemirror_mode": {
    "name": "ipython",
    "version": 3
   },
   "file_extension": ".py",
   "mimetype": "text/x-python",
   "name": "python",
   "nbconvert_exporter": "python",
   "pygments_lexer": "ipython3",
   "version": "3.8.8"
  },
  "toc": {
   "base_numbering": 1,
   "nav_menu": {},
   "number_sections": true,
   "sideBar": true,
   "skip_h1_title": false,
   "title_cell": "Table of Contents",
   "title_sidebar": "Contents",
   "toc_cell": false,
   "toc_position": {},
   "toc_section_display": true,
   "toc_window_display": false
  }
 },
 "nbformat": 4,
 "nbformat_minor": 2
}
