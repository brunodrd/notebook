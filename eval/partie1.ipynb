{
 "cells": [
  {
   "cell_type": "markdown",
   "id": "indoor-island",
   "metadata": {},
   "source": [
    "Diversité des langages de programmations\n",
    "==================================="
   ]
  },
  {
   "cell_type": "markdown",
   "id": "alive-surfing",
   "metadata": {},
   "source": [
    "## Question 1\n",
    "De nombreux langages se sont inspirés du langage C. De quelle décennie date ce langage ?  \n",
    "\n",
    "* [ ] 1930\n",
    "* [ ] 1950\n",
    "* [ ] 1970\n",
    "* [ ] 2000"
   ]
  },
  {
   "cell_type": "markdown",
   "id": "alternate-think",
   "metadata": {},
   "source": [
    "## Question 2"
   ]
  },
  {
   "cell_type": "markdown",
   "id": "entertaining-double",
   "metadata": {},
   "source": [
    "L'indentation d'un bloc d'instructions est un élément de syntaxe en python. A la place, en Javascript ou en C, ce bloc d'instructions est entouré par des *signes*. Quels sont ces signes ?  \n",
    "\n",
    "* [ ] des accolades;\n",
    "* [ ] des crochets;\n",
    "* [ ] des guillemets;\n",
    "* [ ] des parenthèses."
   ]
  },
  {
   "cell_type": "markdown",
   "id": "young-nothing",
   "metadata": {},
   "source": [
    "## Question 3\n",
    "Quelle construction élémentaire est absente du code ci-dessous ?\n",
    "\n",
    "```python\n",
    "def calculer():\n",
    "    s = 1\n",
    "    while s < 1000:\n",
    "        s = (s + 1) * s\n",
    "    return s\n",
    "```\n",
    "\n",
    "* [ ] une boucle non bornée;\n",
    "* [ ] une séquence d'instructions;\n",
    "* [ ] un appel de fonction;\n",
    "* [ ] une affectation."
   ]
  },
  {
   "cell_type": "markdown",
   "id": "former-clinic",
   "metadata": {},
   "source": [
    "## Question 4\n",
    "Quelle précondition pourrait-on ajouter à la fonction suivante?  \n",
    "\n",
    "```python\n",
    "def somme(x):\n",
    "    s = 0\n",
    "    for i in range(x):\n",
    "        s = s + 2**i\n",
    "    return s\n",
    "```\n",
    "\n",
    "* [ ] `assert x == 0`\n",
    "* [ ] `assert x > 0`\n",
    "* [ ] `assert x < 0`\n",
    "* [ ] `assert x <= 0`"
   ]
  },
  {
   "cell_type": "markdown",
   "id": "israeli-teaching",
   "metadata": {},
   "source": [
    "## Question 5\n",
    "En python, quelle syntaxe doit-on écrire pour importer uniquement la fonction racine carrée `sqrt` du module `math`?  \n",
    "\n",
    "* [ ] `from math import *`\n",
    "* [ ] `from sqrt import math`\n",
    "* [ ] `from math import sqrt`\n",
    "* [ ] `from sqrt import *`"
   ]
  }
 ],
 "metadata": {
  "kernelspec": {
   "display_name": "Python 3",
   "language": "python",
   "name": "python3"
  },
  "language_info": {
   "codemirror_mode": {
    "name": "ipython",
    "version": 3
   },
   "file_extension": ".py",
   "mimetype": "text/x-python",
   "name": "python",
   "nbconvert_exporter": "python",
   "pygments_lexer": "ipython3",
   "version": "3.8.8"
  }
 },
 "nbformat": 4,
 "nbformat_minor": 5
}
