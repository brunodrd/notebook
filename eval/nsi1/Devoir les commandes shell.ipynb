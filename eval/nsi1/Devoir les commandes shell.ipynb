{
 "cells": [
  {
   "cell_type": "markdown",
   "metadata": {},
   "source": [
    "Connaitre les commandes essentielles du shell - NSI 1re\n",
    "=============================================="
   ]
  },
  {
   "cell_type": "markdown",
   "metadata": {},
   "source": [
    "Nom:OTELLO Nareindra"
   ]
  },
  {
   "cell_type": "markdown",
   "metadata": {
    "deletable": false,
    "editable": false
   },
   "source": [
    "Lancer le container nsilinux avec la commande :  `docker run -it --rm nsilinux:1.6`"
   ]
  },
  {
   "cell_type": "markdown",
   "metadata": {
    "deletable": false,
    "editable": false
   },
   "source": [
    "Combien de répertoire(s) contient le répertoire personnel d'Angie ? Donner la commande du shell permettant de justifier la réponse."
   ]
  },
  {
   "cell_type": "markdown",
   "metadata": {},
   "source": [
    " Le répertoire personnel d'Angie possède 6 répertoires on peut le voir grace à la commande \"tree\"."
   ]
  },
  {
   "cell_type": "markdown",
   "metadata": {
    "deletable": false,
    "editable": false
   },
   "source": [
    "Donner la commande permettant d'afficher le **chemin absolu** vers le répertoire personnel d'Angie."
   ]
  },
  {
   "cell_type": "markdown",
   "metadata": {},
   "source": [
    "La commande permetpwdtant d'afficher le chemin absolue est pwd."
   ]
  },
  {
   "cell_type": "markdown",
   "metadata": {
    "deletable": false,
    "editable": false
   },
   "source": [
    "Afficher la structure du répertoire d'Angie en entrant la commande `tree` dans le shell. Donner alors le **chemin relatif** vers le fichier `Saison1`."
   ]
  },
  {
   "cell_type": "markdown",
   "metadata": {},
   "source": [
    "Le chemin relatif vers le fichier Saison1 est ./Jeux/Saisons/Saison1"
   ]
  },
  {
   "cell_type": "markdown",
   "metadata": {
    "deletable": false,
    "editable": false
   },
   "source": [
    "Quelle commande permet de se rendre dans le dossier `Saisons` ? Exécuter cette commande."
   ]
  },
  {
   "cell_type": "markdown",
   "metadata": {},
   "source": [
    "La commande \"cd ./Jeux/Saisons\" permet de se rendre dans le dossier Saisons"
   ]
  },
  {
   "cell_type": "markdown",
   "metadata": {
    "deletable": false,
    "editable": false
   },
   "source": [
    "Quelle commande permet de connaître le propriétaire des fichiers présents dans `Saisons` ?"
   ]
  },
  {
   "cell_type": "markdown",
   "metadata": {},
   "source": [
    "La commande ls -al"
   ]
  },
  {
   "cell_type": "markdown",
   "metadata": {
    "deletable": false,
    "editable": false
   },
   "source": [
    "Combien de répertoires a-t-on dans `Saisons`?"
   ]
  },
  {
   "cell_type": "markdown",
   "metadata": {},
   "source": [
    "Il n'y a pas de répertoires dans Saisons."
   ]
  },
  {
   "cell_type": "markdown",
   "metadata": {
    "deletable": false,
    "editable": false
   },
   "source": [
    "Les utilisateurs appartenant au groupe `enfants` peuvent-ils modifier le fichier `Saison2`? Justifier."
   ]
  },
  {
   "cell_type": "markdown",
   "metadata": {},
   "source": [
    "Non, les utilisateurs appartenant au groupe enfants ne peuvent pas modifier le fichier saison2 car ils ne possèdent pas le droit \"w\", c'est à dire le droit d'écriture."
   ]
  },
  {
   "cell_type": "markdown",
   "metadata": {
    "deletable": false,
    "editable": false
   },
   "source": [
    "Donner la commande permettant de déplacer le fichier `Modules` dans le répertoire `Encodage`, **quelque soit l'endroit où on se trouve** ?"
   ]
  },
  {
   "cell_type": "markdown",
   "metadata": {},
   "source": [
    "mv ~/NSI/Modules ~/Encodage"
   ]
  },
  {
   "cell_type": "markdown",
   "metadata": {
    "deletable": false,
    "editable": false
   },
   "source": [
    "Quelle commande permet d'effacer l'intégralité du dossier `Jeux` ?"
   ]
  },
  {
   "cell_type": "markdown",
   "metadata": {},
   "source": [
    "rm -r Jeux"
   ]
  },
  {
   "cell_type": "markdown",
   "metadata": {
    "deletable": false,
    "editable": false
   },
   "source": [
    "Donner la commande permettant de créer un répertoire `Evaluation` dans le répertoire `NSI` ?"
   ]
  },
  {
   "cell_type": "markdown",
   "metadata": {},
   "source": [
    "mkdir ~/NSI/Evaluation"
   ]
  }
 ],
 "metadata": {
  "celltoolbar": "Format de la Cellule Texte Brut",
  "kernelspec": {
   "display_name": "Python 3",
   "language": "python",
   "name": "python3"
  },
  "language_info": {
   "codemirror_mode": {
    "name": "ipython",
    "version": 3
   },
   "file_extension": ".py",
   "mimetype": "text/x-python",
   "name": "python",
   "nbconvert_exporter": "python",
   "pygments_lexer": "ipython3",
   "version": "3.8.8"
  }
 },
 "nbformat": 4,
 "nbformat_minor": 2
}
