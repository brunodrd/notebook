{
 "cells": [
  {
   "cell_type": "markdown",
   "metadata": {},
   "source": [
    "Connaitre les commandes essentielles du shell - NSI 1re\n",
    "=============================================="
   ]
  },
  {
   "cell_type": "markdown",
   "metadata": {},
   "source": [
    "Nom: DESCHAMPS Anais "
   ]
  },
  {
   "cell_type": "markdown",
   "metadata": {
    "deletable": false,
    "editable": false
   },
   "source": [
    "Lancer le container nsilinux avec la commande :  `docker run -it --rm nsilinux:1.6`"
   ]
  },
  {
   "cell_type": "markdown",
   "metadata": {
    "deletable": false,
    "editable": false
   },
   "source": [
    "Combien de répertoire(s) contient le répertoire personnel d'Angie ? Donner la commande du shell permettant de justifier la réponse."
   ]
  },
  {
   "cell_type": "markdown",
   "metadata": {},
   "source": [
    "- Le répertoire personnel d'Angie contient 5 répertoires. La commande ls permet de lister les répertoires."
   ]
  },
  {
   "cell_type": "markdown",
   "metadata": {
    "deletable": false,
    "editable": false
   },
   "source": [
    "Donner la commande permettant d'afficher le **chemin absolu** vers le répertoire personnel d'Angie."
   ]
  },
  {
   "cell_type": "markdown",
   "metadata": {},
   "source": [
    "- cd ~"
   ]
  },
  {
   "cell_type": "markdown",
   "metadata": {
    "deletable": false,
    "editable": false
   },
   "source": [
    "Afficher la structure du répertoire d'Angie en entrant la commande `tree` dans le shell. Donner alors le **chemin relatif** vers le fichier `Saison1`."
   ]
  },
  {
   "cell_type": "markdown",
   "metadata": {},
   "source": [
    "- cd "
   ]
  },
  {
   "cell_type": "markdown",
   "metadata": {
    "deletable": false,
    "editable": false
   },
   "source": [
    "Quelle commande permet de se rendre dans le dossier `Saisons` ? Exécuter cette commande."
   ]
  },
  {
   "cell_type": "markdown",
   "metadata": {},
   "source": [
    "- cd Jeux\n",
    "- cd Saisons"
   ]
  },
  {
   "cell_type": "markdown",
   "metadata": {
    "deletable": false,
    "editable": false
   },
   "source": [
    "Quelle commande permet de connaître le propriétaire des fichiers présents dans `Saisons` ?"
   ]
  },
  {
   "cell_type": "markdown",
   "metadata": {},
   "source": [
    "- ls -al"
   ]
  },
  {
   "cell_type": "markdown",
   "metadata": {
    "deletable": false,
    "editable": false
   },
   "source": [
    "Combien de répertoires a-t-on dans `Saisons`?"
   ]
  },
  {
   "cell_type": "markdown",
   "metadata": {},
   "source": [
    "- Dans Saisons il y a 3 fichiers."
   ]
  },
  {
   "cell_type": "markdown",
   "metadata": {
    "deletable": false,
    "editable": false
   },
   "source": [
    "Les utilisateurs appartenant au groupe `enfants` peuvent-ils modifier le fichier `Saison2`? Justifier."
   ]
  },
  {
   "cell_type": "markdown",
   "metadata": {},
   "source": [
    "- Non les utilisateurs n'ont pas le droit de modifier le fichier Saison2 car le groupe n'a pas le droit \"write\"."
   ]
  },
  {
   "cell_type": "markdown",
   "metadata": {
    "deletable": false,
    "editable": false
   },
   "source": [
    "Donner la commande permettant de déplacer le fichier `Modules` dans le répertoire `Encodage`, **quelque soit l'endroit où on se trouve** ?"
   ]
  },
  {
   "cell_type": "markdown",
   "metadata": {},
   "source": [
    "- mv NSI/Modules Encodage"
   ]
  },
  {
   "cell_type": "markdown",
   "metadata": {
    "deletable": false,
    "editable": false
   },
   "source": [
    "Quelle commande permet d'effacer l'intégralité du dossier `Jeux` ?"
   ]
  },
  {
   "cell_type": "markdown",
   "metadata": {},
   "source": [
    "- rm "
   ]
  },
  {
   "cell_type": "markdown",
   "metadata": {
    "deletable": false,
    "editable": false
   },
   "source": [
    "Donner la commande permettant de créer un répertoire `Evaluation` dans le répertoire `NSI` ?"
   ]
  },
  {
   "cell_type": "markdown",
   "metadata": {},
   "source": [
    "- cd NSI\n",
    "- mkdir Evaluation"
   ]
  },
  {
   "cell_type": "code",
   "execution_count": null,
   "metadata": {},
   "outputs": [],
   "source": []
  }
 ],
 "metadata": {
  "celltoolbar": "Format de la Cellule Texte Brut",
  "kernelspec": {
   "display_name": "Python 3",
   "language": "python",
   "name": "python3"
  },
  "language_info": {
   "codemirror_mode": {
    "name": "ipython",
    "version": 3
   },
   "file_extension": ".py",
   "mimetype": "text/x-python",
   "name": "python",
   "nbconvert_exporter": "python",
   "pygments_lexer": "ipython3",
   "version": "3.8.8"
  }
 },
 "nbformat": 4,
 "nbformat_minor": 2
}
