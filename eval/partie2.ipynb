{
 "cells": [
  {
   "cell_type": "markdown",
   "id": "straight-layer",
   "metadata": {},
   "source": [
    "Bonnes pratiques de programmation\n",
    "=============================="
   ]
  },
  {
   "cell_type": "markdown",
   "id": "generous-pickup",
   "metadata": {},
   "source": [
    "## Partie 1"
   ]
  },
  {
   "cell_type": "markdown",
   "id": "committed-agenda",
   "metadata": {},
   "source": [
    "Hugo souhaite placer une certaine somme d'argent sur un compte rémunéré. Le capital ainsi placé augmente chaque année de 5% (c'est-à-dire qu'il est multiplié par 1.05).  \n",
    "\n",
    "On écrit une fonction (voir le code ci-dessous) qui donne le capital disponible sur ce compte, **arrondi à l'euro près**,  au bout de la n-ième année, où `capital_depart` est un nombre positif et `n` est un entier positif correspondant au nombre d'année de placement.\n",
    "\n",
    "Par ailleurs, on sait qu'avec un capital initial de:  \n",
    "\n",
    "* 100 €, on a 162 € au bout de 10 ans;\n",
    "* 1000 € on a 1276 € au bout de 5 ans;"
   ]
  },
  {
   "cell_type": "code",
   "execution_count": 6,
   "id": "guilty-local",
   "metadata": {},
   "outputs": [],
   "source": [
    "def calcul_capital(capital_depart, n):\n",
    "    \"\"\"\n",
    "    \n",
    "    \n",
    "    \n",
    "    \n",
    "    \n",
    "    \"\"\"\n",
    "    c = capital_depart\n",
    "    for i in range(n):\n",
    "        c = c * 1.05\n",
    "    return int(c)"
   ]
  },
  {
   "cell_type": "markdown",
   "id": "small-culture",
   "metadata": {},
   "source": [
    "1. Combien de paramètres possède cette fonction ?\n",
    "2. Ecrire une documentation **complète** pour cette fonction, à l'endroit approprié.\n",
    "3. Qu'est-ce qu'une assertion ? Quel mot clé de python permet de la vérifier?\n",
    "4. A partir de l'énoncé, écrire deux tests pour la fonction `calcul_capital`.\n",
    "5. Rajouter deux tests **pertinents**."
   ]
  },
  {
   "cell_type": "markdown",
   "id": "animated-entrepreneur",
   "metadata": {},
   "source": [
    "## Partie 2\n",
    "On souhaite écrire une fonction qui calcule le nombre d'année nécessaire pour atteindre un certain capital. Le code de cette fonction est partiellement donné ci-dessous. On sait par ailleurs qu'il faut 30 ans pour atteindre un capital de 500 € à partir d'une somme initiale de 120 €."
   ]
  },
  {
   "cell_type": "code",
   "execution_count": 20,
   "id": "intimate-album",
   "metadata": {},
   "outputs": [],
   "source": [
    "def nb_annee(capital_depart, capital_a_atteindre):\n",
    "    \"\"\"\n",
    "    renvoie le nombre d'année nécessaire pour atteindre 'capital_a_atteindre' à \n",
    "    partir d'un capital initial 'capital_depart':\n",
    "    capital_depart: nombre strictement positif\n",
    "    capital_a_atteindre: nombre positif, supérieur au capital de départ.\n",
    "    \"\"\"\n",
    "    #\n",
    "    annee = 0\n",
    "    while calcul_capital(capital_depart, annee) < ...:\n",
    "        annee = ...\n",
    "    return annee"
   ]
  },
  {
   "cell_type": "markdown",
   "id": "opposed-international",
   "metadata": {},
   "source": [
    "1. Comment appelle-t-on la construction élémentaire présente à la ligne 10 (qui commence par `while ...`).\n",
    "2. Compléter la fonction de manière à répondre au problème posé.\n",
    "3. Il existe des préconditions portant sur les paramètres. Proposer des assertions qui assurent ces préconditions.\n",
    "4. Proposer un test de votre fonction."
   ]
  }
 ],
 "metadata": {
  "kernelspec": {
   "display_name": "Python 3",
   "language": "python",
   "name": "python3"
  },
  "language_info": {
   "codemirror_mode": {
    "name": "ipython",
    "version": 3
   },
   "file_extension": ".py",
   "mimetype": "text/x-python",
   "name": "python",
   "nbconvert_exporter": "python",
   "pygments_lexer": "ipython3",
   "version": "3.8.8"
  }
 },
 "nbformat": 4,
 "nbformat_minor": 5
}
