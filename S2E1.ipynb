{
 "cells": [
  {
   "cell_type": "markdown",
   "id": "chinese-paper",
   "metadata": {},
   "source": [
    "SEQUENCE 2\n",
    "==========="
   ]
  },
  {
   "cell_type": "markdown",
   "id": "heated-scene",
   "metadata": {},
   "source": [
    "## ACTIVITE 1 - Interface en ligne de commande d'un sytème d'exploitation libre"
   ]
  },
  {
   "cell_type": "markdown",
   "id": "electronic-complexity",
   "metadata": {},
   "source": [
    "### Systèmes d'exploitations"
   ]
  },
  {
   "cell_type": "markdown",
   "id": "thirty-manufacturer",
   "metadata": {},
   "source": [
    "#### Repères historiques\n",
    "\n",
    "Prendre connaissance des vidéos suivantes:  \n",
    "\n",
    "* [Histoire des systèmes d'exploitation](https://tube-outremer.beta.education.fr/videos/watch/412ad19b-5bf2-45df-aa13-ed2da7bf312b)\n",
    "* [Le(s) système(s) de type UNIX](https://tube-outremer.beta.education.fr/videos/watch/4f139750-6c2a-440e-85b2-483f5cf05afa)\n",
    "\n",
    "!!! question \"A faire\"\n",
    "    Résumer en une phrase courte le rôle d'un système d'exploitation. Vers quelle période sont nés les systèmes d'exploitation ?"
   ]
  },
  {
   "cell_type": "markdown",
   "id": "written-precipitation",
   "metadata": {},
   "source": [
    "#### Systèmes libres ou propriétaires\n",
    "\n",
    "!!! question \"A faire\"\n",
    "    A l'aide de [cette page wikipedia](https://fr.wikipedia.org/wiki/Logiciel_propri%C3%A9taire), rappelez les 4 différences fondamentales entre un logiciel libre et un logiciel propriétaire. Quelles sont les conséquences du statut propriétaire de Microsoft Windows ?"
   ]
  },
  {
   "cell_type": "markdown",
   "id": "stylish-frederick",
   "metadata": {},
   "source": [
    "### Le système Linux\n",
    "\n",
    "[Histoire du système d'exploitation Linux](https://tube-outremer.beta.education.fr/videos/watch/84f7b96e-e4f9-46f5-947a-ae7cc87bb914)\n",
    "\n",
    "!!! question \"A faire\"\n",
    "    Qui a créé Linux ?"
   ]
  },
  {
   "cell_type": "markdown",
   "id": "competitive-finding",
   "metadata": {},
   "source": [
    "### Système de fichiers de Linux"
   ]
  },
  {
   "cell_type": "markdown",
   "id": "noted-weather",
   "metadata": {},
   "source": [
    "Avec Linux, comme dans Microsoft Windows, les données sont stockées dans des fichiers, eux-mêmes contenus dans \n",
    "des dossiers appelés **répertoires**.  \n",
    "\n",
    "En revanche, il n'existe pas de notion de « disque `C:\\` ou `D:\\` ou autre» sous Linux. Un exemple d'organisation des principaux fichiers et \n",
    "répertoires appelée **arborescence** est représentée en version simplifiée ci-dessous."
   ]
  },
  {
   "cell_type": "markdown",
   "id": "finite-october",
   "metadata": {},
   "source": [
    "![arbre](img/arblinux.png)"
   ]
  },
  {
   "cell_type": "markdown",
   "id": "civil-probability",
   "metadata": {},
   "source": [
    "Dans le système de fichiers de Linux, tous les \n",
    "répertoires nécessaires au fonctionnement du \n",
    "système d'exploitation (`usr`, `bin`, `etc`, `dev`, `tmp`, ...) sont \n",
    "accessibles depuis le répertoire racine `/`.  \n",
    "\n",
    "Les répertoires des utilisateurs d'une machine Linux, sont situés dans le répertoire `home`. Dans l'exemple ci-dessus il s'agit des répertoires `Angie` et `Matei`. Attention, le système d'exploitation Linux est **sensible à la casse**, il faut donc être vigilant et distinguer les majuscules des minuscules.  \n",
    "\n",
    "Pour naviguer dans le système de fichiers, nous \n",
    "devons définir les **chemins absolus** et **relatifs**.  \n",
    "\n",
    "Un chemin d'accès absolu part toujours du répertoire racine `/` suivi des noms de répertoires rencontrés jusqu'à la destination, séparés par des symboles `/` (slash).  \n",
    "**Exemple**  \n",
    "\n",
    "Le chemin absolu vers le répertoire `Exos` de `Matéi` est `/home/Matei/Math/Exos`.  \n",
    "\n",
    "!!! question \"A faire\"\n",
    "    Écrire le chemin absolu vers le répertoire `NSI` d'`Angie`.\n",
    "\n",
    "Lorsque l'on se déplace dans l'*arborescence de fichiers*, le répertoire dans lequel on se situe s'appelle le **répertoire courant** et est noté `.` (point).  \n",
    "\n",
    "Un chemin relatif fait référence au répertoire courant et donne la liste des noms du ou des répertoire(s) rencontrés jusqu'à la destination, séparés par des `/`.   \n",
    "**Exemple**  \n",
    "\n",
    "Le chemin relatif vers le répertoire `Exos` de `Matei` depuis le répertoire courant `home` est  `./Matei/Math/Exos`.  \n",
    "\n",
    "!!! question \"A faire\"\n",
    "    Écrire le chemin relatif vers le répertoire `NSI` d'`Angie` à partir du répertoire courant `home`.\n",
    "\n",
    "Pour remonter d'un niveau dans l'arborescence de fichiers, il faut utiliser le **répertoire parent** `..` .  \n",
    "**Exemple**  \n",
    "\n",
    "Le chemin relatif depuis le répertoire courant d'Angie (`/home/Angie`) vers le répertoire `Math` de `Matei` est `../Matei/Math`.\n",
    "\n",
    "!!! question \"A faire\"\n",
    "    Écrire le chemin relatif vers le répertoire `Jeux` d'`Angie` à partir du répertoire courant `NSI`\n",
    "\n",
    "Le chemin vers le répertoire personnel d'un utilisateur est un cas particulier. Il possède un raccourci `~`, que l'on prononce *tilde*. Ainsi, si Angie souhaite rejoindre son répertoire personnel, il lui suffira de taper `cd ~`."
   ]
  },
  {
   "cell_type": "markdown",
   "id": "divided-flooring",
   "metadata": {},
   "source": [
    "### Structure d'une commande sous Linux"
   ]
  },
  {
   "cell_type": "markdown",
   "id": "magnetic-memorabilia",
   "metadata": {},
   "source": [
    "Pour interagir avec l'utilisateur, les systèmes d'exploitation (SE) peuvent avoir une interface graphique, où les manipulations se font essentiellement à la souris dans des fenêtres. Il existe une autre possibilité d'interaction: l'**interface en ligne de commande**. Il s'agit d'un programme qui permet de saisir les commandes que le système d'exploitation doit effectuer, **en mode texte**.  \n",
    "\n",
    "Pour découvrir comment interagir avec le système d'exploitation en ligne de commandes, nous allons utiliser un *système Linux simplifié spécialement adapté pour cette activité*.\n",
    "\n",
    "!!! question \"A faire\"\n",
    "    Lancer un **terminal** sous Ubuntu avec la séquence de touche ++ctrl+alt+t++. A l'intérieur de ce terminal, on saisira la commande:  \n",
    "    `docker run -it --rm nsilinux:1.6`. Un système Linux démarre. La connexion est automatiquement faite sur le compte d'Angie et un programme interpréteur de commande (ici le *shell Bash*) est en attente. Pour quitter, on utilisera la séquence de touches ++ctrl+d++ .\n",
    "    \n",
    "!!! hint \"Commande\"\n",
    "    La commande `ls` (de l'anglais *list*) permet d'afficher la liste des répertoires et des fichiers dans le répertoire courant.  \n",
    "\n",
    "!!! question \"A faire\"\n",
    "    Saisir la commande `ls`. Commenter.\n",
    "    \n",
    "!!! hint \"Commande\"\n",
    "    La commande `pwd` (de l'anglais *print working directory*) affiche le répertoire courant. La commande `cd` (de l'anglais *change directory*) permet de changer de répertoire courant.\n",
    "\n",
    "!!! question \"A faire\"\n",
    "    Tester La commande `pwd`, puis écrire et tester les commandes appropriées afin de\n",
    "    vérifier vos réponses aux questions de la section *Système de fichiers de Linux* précédente."
   ]
  },
  {
   "cell_type": "markdown",
   "id": "plastic-training",
   "metadata": {},
   "source": [
    "---"
   ]
  },
  {
   "cell_type": "markdown",
   "id": "listed-gibraltar",
   "metadata": {},
   "source": [
    "## ACTIVITE 2 - Commandes de base avec arguments"
   ]
  },
  {
   "cell_type": "markdown",
   "id": "above-fancy",
   "metadata": {},
   "source": [
    "Angie veut mettre de l'ordre dans son repertoire personnel. Son système de fichiers est le même que celui de l'activité précédente.\n",
    "\n",
    "!!! hint \"Commande\"\n",
    "    La commande `cat` suivie d'un `nom_de_fichier` (de l'anglais *catenate*) affiche dans la console le contenu du fichier `nom_de_fichier` passé en argument.\n",
    "\n",
    "!!! question \"A faire\"\n",
    "    Se connecter au système linux précédent (`docker run --rm -it nsilinux:1.6`). A l'aide de la commande `cd`, aller dans le répertoire `NSI` puis afficher le contenu du fichier `Modules`. Écrire les commandes saisies dans la console."
   ]
  },
  {
   "cell_type": "markdown",
   "id": "incorrect-steering",
   "metadata": {},
   "source": [
    "### Créer des répertoires\n",
    "\n",
    "!!! hint \"Commande\"\n",
    "    La commande `mkdir` suivie d'un `nom_de_repertoire` (de l'anglais *make directory*) permet de créer un répertoire nommé `nom_de_repertoire` dans le répertoire courant.\n",
    "\n",
    "!!! question \"A faire\"\n",
    "    Créer le répertoire `OS` dans le répertoire `NSI` à l'aide de la commande `mkdir` et vérifier sa création \n",
    "    avec la commande `ls`. Écrire les commandes nécessaires."
   ]
  },
  {
   "cell_type": "markdown",
   "id": "pending-optics",
   "metadata": {},
   "source": [
    "On peut également créer un répertoire dans un autre répertoire en précisant le chemin relatif:  \n",
    "\n",
    "`mkdir chemin_relatif/nom_de_repertoire`.  \n",
    "\n",
    "!!! question \"A faire\"\n",
    "    En restant dans le répertoire `NSI`, créer le répertoire `Linux` dans le répertoire `Angie`. Écrire les commandes nécessaires. "
   ]
  },
  {
   "cell_type": "markdown",
   "id": "authorized-separate",
   "metadata": {},
   "source": [
    "### Déplacer et copier des fichiers / répertoires\n",
    "\n",
    "!!! hint \"Commande\"\n",
    "    La commande `mv source destination` (de l'anglais *move*) permet de déplacer et/ou de renommer des fichiers et des répertoires. Les arguments `source` et `destination` sont constitués du nom du fichier ou du répertoire, précédés éventuellement du chemin.\n",
    "    \n",
    "!!! question \"A faire\"\n",
    "    * A l'aide de la commande `cd` aller dans le répertoire `Angie`. Déplacer le répertoire `Types` d'Angie dans le répertoire `NSI` à l'aide de la commande `mv`. Écrire les commandes nécessaires.\n",
    "    * Quel est le résultat de la commande `mv Encodage NSI/Encodage` ?"
   ]
  },
  {
   "cell_type": "markdown",
   "id": "south-villa",
   "metadata": {},
   "source": [
    "!!! hint \"Commande\"\n",
    "    La commande `cp source destination` (de l'anglais *copy*) permet de copier des fichiers ou des répertoires `source` vers la `destination`."
   ]
  },
  {
   "cell_type": "markdown",
   "id": "inside-rebel",
   "metadata": {},
   "source": [
    "!!! question \"A faire\"\n",
    "    Sans changer de répertoire courant (`Angie`), créer un répertoire `Programmation` dans le répertoire `NSI`, puis copier le fichier `Modules` dans le répertoire `Programmation`. Écrire les commandes nécessaires."
   ]
  },
  {
   "cell_type": "markdown",
   "id": "optional-signal",
   "metadata": {},
   "source": [
    "### Supprimer des fichiers et des répertoires "
   ]
  },
  {
   "cell_type": "markdown",
   "id": "owned-vancouver",
   "metadata": {},
   "source": [
    "!!! hint \"Commande\"\n",
    "    La commande `rm chemin/nom_de_fichier` (de l'anglais *remove*) permet de supprimer **définitivement** un ou des fichiers."
   ]
  },
  {
   "cell_type": "markdown",
   "id": "plain-anchor",
   "metadata": {},
   "source": [
    "!!! question \"A faire\"\n",
    "    * Supprimer le fichier `Modules` du répertoire `NSI`. Écrire La commande nécessaire.\n",
    "    * Tester la commande `rm Danse`. Que remarquez-vous ?Justifier.    "
   ]
  },
  {
   "cell_type": "markdown",
   "id": "alternate-craps",
   "metadata": {},
   "source": [
    "!!! hint \"Commande\"\n",
    "    Pour avoir accès à la documentation d'une commande, suffit de saisir `man nom_de_la_commande`."
   ]
  },
  {
   "cell_type": "markdown",
   "id": "competent-aside",
   "metadata": {},
   "source": [
    "!!! question \"A faire\"\n",
    "    Tester la commande `rm -r Danse`. Après avoir consulter la documentation de `rm` conclure sur l'utilité de l'option `-r`."
   ]
  },
  {
   "cell_type": "markdown",
   "id": "continued-immigration",
   "metadata": {},
   "source": [
    "---"
   ]
  },
  {
   "cell_type": "markdown",
   "id": "economic-phoenix",
   "metadata": {},
   "source": [
    "## ACTIVITE 3 - Etude des droits et permissions"
   ]
  },
  {
   "cell_type": "markdown",
   "id": "stuck-malta",
   "metadata": {},
   "source": [
    "Angie s'intéresse aux droits et aux permissions d'accès à des fichiers contenant des informations sur son jeu vidéo préféré, enregistrées sur l'ordinateur familial, qui a pour système d'exploitation Linux.  \n",
    "\n",
    "![dossiers](img/fig_dossiers_droits.png)\n",
    "\n",
    "!!! question \"A faire\"\n",
    "    Démarrer le système Linux simplifié avec la commande `docker run -it --rm nsilinux:1.6`"
   ]
  },
  {
   "cell_type": "markdown",
   "id": "future-chapter",
   "metadata": {},
   "source": [
    "Quand on saisit un nom de fichier ou de répertoire, la touche ++tab++ permet de compléter automatiquement son nom."
   ]
  },
  {
   "cell_type": "markdown",
   "id": "treated-jordan",
   "metadata": {},
   "source": [
    "!!! question \"A faire\"\n",
    "    À l'aide de la commande `cd`, aller dans le répertoire `Jeux` d'Angie."
   ]
  },
  {
   "cell_type": "markdown",
   "id": "operational-monster",
   "metadata": {},
   "source": [
    "Les options `-al` de la commande `ls` permettent d'afficher plus d'informations, comme les droits et les permissions d'accès de **tous**  les fichiers et les répertoires (cachés ou non) contenus dans le répertoire courant.  \n",
    "Le premier caractère permet de différencier les répertoires des fichiers. Ainsi, le caractère `d` (de l'anglais *directory*) désigne un répertoire et le caractère `-` désigne un fichier ordinaire."
   ]
  },
  {
   "cell_type": "markdown",
   "id": "seasonal-clothing",
   "metadata": {},
   "source": [
    "!!! question \"A faire\"\n",
    "    Saisir la commande `ls -al`, puis identifier les répertoires et les fichiers du répertoire d'Angie."
   ]
  },
  {
   "cell_type": "markdown",
   "id": "cordless-breed",
   "metadata": {},
   "source": [
    "Les caractères ci-dessous correspondent aux droits d'accès et aux permissions.  \n",
    "\n",
    "![droits](img/droits.png)"
   ]
  },
  {
   "cell_type": "markdown",
   "id": "musical-magazine",
   "metadata": {},
   "source": [
    "!!! question \"A faire\"\n",
    "    Quels sont les dix premiers caractères affichés pour le fichier `Mondes` et pour le répertoire `Saisons`.\n",
    "    \n",
    "La présence des lettres `r`, `w` et `x` donne le droit correspondant et `-` l'interdiction.  \n",
    "\n",
    "| Lettre \t| De l'anglais \t| Pour un fichier          \t| Pour un répertoire                              \t|\n",
    "|--------\t|--------------\t|--------------------------\t|-------------------------------------------------\t|\n",
    "| r      \t| read         \t| lire                     \t| afficher la liste des fichiers et répertoires   \t|\n",
    "| w      \t| write        \t| modifier le contenu      \t| créer, supprimer et changer le nom des fichiers \t|\n",
    "| x      \t| execute      \t| exécuter (si exécutable) \t| Ouvrir le répertoire                            \t|\n",
    "\n",
    "L'ordinateur familial est configuré pour qu'Angie et son frère Matei soient dans le même groupe d'utilisateurs, appelé `enfants`.  \n",
    "Leurs parents ont leur propre groupe, différent, appelé `parents`. Sur un fichier ou un répertoire d'Angie, les parents sont considérés comme « autres utilisateurs ».  \n",
    "Enfin, Angie est également « propriétaire » de ses propres fichiers et répertoires."
   ]
  },
  {
   "cell_type": "markdown",
   "id": "pursuant-acquisition",
   "metadata": {},
   "source": [
    "!!! question \"A faire\"\n",
    "    Compléter le tableau ci-dessous avec **oui** ou **non** pour les trois utilisateurs: Angie, Matei et Père."
   ]
  },
  {
   "cell_type": "markdown",
   "id": "strong-physiology",
   "metadata": {},
   "source": [
    "|         \t| Lecture \t| Ecriture \t| Exécution \t|\n",
    "|---------\t|---------\t|----------\t|-----------\t|\n",
    "| Mondes  \t|         \t|          \t|           \t|\n",
    "| Saisons \t|         \t|          \t|           \t|"
   ]
  },
  {
   "cell_type": "markdown",
   "id": "isolated-prerequisite",
   "metadata": {},
   "source": [
    "!!! question \"A faire\"\n",
    "    Quelles actions le père d'Angie peut-il effectuer sur le répertoire `Saisons` ?"
   ]
  },
  {
   "cell_type": "markdown",
   "id": "convertible-titanium",
   "metadata": {},
   "source": [
    "---"
   ]
  },
  {
   "cell_type": "markdown",
   "id": "secure-undergraduate",
   "metadata": {},
   "source": [
    "## ACTIVITE 4 - Modifications des droits"
   ]
  },
  {
   "cell_type": "markdown",
   "id": "possible-southeast",
   "metadata": {},
   "source": [
    "Angie veut donner plus de droits à son petit frère Matéi afin qu'il puisse avoir un accès complet à certains fichiers \n",
    "contenant des informations sur son jeu vidéo préféré et les modifier lui-même.  \n",
    "(*Le système linux simplifié doit être démarré pour cette activité*: `docker run -it --rm nsilinux:1.6`)"
   ]
  },
  {
   "cell_type": "markdown",
   "id": "greek-blade",
   "metadata": {},
   "source": [
    "!!! hint \"Commande\"\n",
    "    La commande `chmod droits nom_fichier_repertoire` (de l'anglais *change mode*) permet de modifier les permissions d'accès à un fichier ou à un répertoire nommé `nom_fichier_repertoire`. La syntaxe de `droits` est détaillée ci-dessous."
   ]
  },
  {
   "cell_type": "markdown",
   "id": "alike-converter",
   "metadata": {},
   "source": [
    "**Exemple**  \n",
    "\n",
    "la commande `chmod ug+x nom_fichier` ajoute le droit d'exécution du fichier `nom_fichier` **au propriétaire** et aux **utilisateurs faisant partie du groupe** du fichier.  \n",
    "\n",
    "![chmod](img/chmod_2.jpg.png)"
   ]
  },
  {
   "cell_type": "markdown",
   "id": "twenty-criticism",
   "metadata": {},
   "source": [
    "!!! question \"A faire\"\n",
    "    * À l'aide de la commande `ls -l`, trouver les droits du fichier `Personnages` puis modifier ses droits afin qu'il soit modifiable par le frère d'Angie, qui est dans le même groupe que le propriétaire. Vérifier enfin que les droits ont bien été changés.\n",
    "    * Tester la commande `chmod u=rw,go=r Mondes`. Faire une hypothèse sur l'utilité de la virgule."
   ]
  },
  {
   "cell_type": "markdown",
   "id": "grateful-microphone",
   "metadata": {},
   "source": [
    "Au lieu de modifier les fichiers un par un, Angie a découvert, en utilisant la commande `man chmod`, que \n",
    "l'option `-R` (de l'anglais *recursive*) modifie les autorisations de tout le contenu d'un répertoire.  \n",
    "\n",
    "!!! question \"A faire\"\n",
    "    Tester, puis écrire la commande qui permet d'ajouter au répertoire `Saisons` et à tout ce qu'il contient les droits en lecture et en écriture au groupe du fichier. Supprimer les droits en lecture aux utilisateurs qui ne font pas partie du groupe."
   ]
  },
  {
   "cell_type": "markdown",
   "id": "imported-mandate",
   "metadata": {},
   "source": [
    "---"
   ]
  },
  {
   "cell_type": "markdown",
   "id": "super-plumbing",
   "metadata": {},
   "source": [
    "## COURS - SYSTEME D'EXPLOITATION"
   ]
  },
  {
   "cell_type": "markdown",
   "id": "technical-semester",
   "metadata": {},
   "source": [
    "### Quel est le rôle d'un système d'exploitation?"
   ]
  },
  {
   "cell_type": "markdown",
   "id": "elect-london",
   "metadata": {},
   "source": [
    "Le système d'exploitation permet:  \n",
    "\n",
    "* l'exécution des applications;\n",
    "* le partage des ressources entre les utilisateurs, les programmes;\n",
    "* la gestion:  \n",
    "\n",
    "    * des périphériques;\n",
    "    * des fichiers;\n",
    "    * des erreurs;\n",
    "    * des performances."
   ]
  },
  {
   "cell_type": "markdown",
   "id": "modular-transcription",
   "metadata": {},
   "source": [
    "### Les différents types de système d'exploitation"
   ]
  },
  {
   "cell_type": "markdown",
   "id": "attractive-mother",
   "metadata": {},
   "source": [
    "On distingue deux grandes familles de système d'exploitation:  \n",
    "\n",
    "* les dérivés d'UNIX (GNU/Linux, BSD, iOS, MacOS, Android, etc.);\n",
    "* les systèmes Microsoft Windows.  \n",
    "\n",
    "Certains sont **libres** (c-à-d ne nécessitant pas le paiement d'une licence d'utilisation, code source disponible, entre autres), d'autres non (on les qualifie de **systèmes propriétaires**).  \n",
    "Conformément au programme, on utilisera un système d'exploitation libre en NSI: GNU/Linux.  \n",
    "\n",
    "L'interaction avec le système d'exploitation peut se faire de deux manières:  \n",
    "\n",
    "* par le biais d'une interface graphique (GUI: Graphical User Interface);\n",
    "* par le biais d'une interface en ligne de commande (CLI: Command Line Interface).  \n",
    "\n",
    "On privilégiera ici l'utilisation de la **ligne de commande**."
   ]
  },
  {
   "cell_type": "markdown",
   "id": "bronze-fortune",
   "metadata": {},
   "source": [
    "### Découvrir la ligne de commande"
   ]
  },
  {
   "cell_type": "markdown",
   "id": "peripheral-advance",
   "metadata": {},
   "source": [
    "#### Un interpréteur de commande : Bash ou shell Bash"
   ]
  },
  {
   "cell_type": "markdown",
   "id": "existing-damage",
   "metadata": {},
   "source": [
    "On a accès à la **ligne de commande** en ouvrant un **terminal** avec le raccourci clavier ++ctrl+alt+t++ . \n",
    "Il s'agit d'un programme appelé *Bash* qui est présent par défaut sur la majorité des sytèmes UNIX."
   ]
  },
  {
   "cell_type": "markdown",
   "id": "violent-glucose",
   "metadata": {},
   "source": [
    "#### Les commandes de base"
   ]
  },
  {
   "cell_type": "markdown",
   "id": "homeless-bibliography",
   "metadata": {},
   "source": [
    "Une fois le terminal démarré, chaque utilisateur se trouve par défaut dans son dossier personnel (en anglais *home directory* ou plus simplement *HOME*) et le *shell Bash* est en attente de commande en affichant une série d'informations: `nom_utilisateur@nom_machine:~$`  \n",
    "\n",
    "![shell](img/shell.png)\n",
    "\n",
    "Le caractère `~` (prononcez tilde, touche ++altgr+2++) correspond au **chemin du répertoire personnel de l'utilisateur**. Le caractère `$` signifie que l'on a affaire à un utilisateur *normal* c-à-d avec des **droits** limités.  \n",
    "\n",
    "Toutes les commandes acceptent de nombreuses options. Pour avoir un inventaire complet des options on doit taper: `man xxx` où xxx est la commande.  \n",
    "\n",
    "Quelques commandes à connaître (liste non exhaustive)\n",
    "\n",
    "| Commande \t| Description                          \t|\n",
    "|----------\t|--------------------------------------\t|\n",
    "| ls       \t| lister le contenu du dossier courant \t|\n",
    "| mkdir    \t| créer un dossier                     \t|\n",
    "| cd       \t| se déplacer dans un dossier          \t|\n",
    "| cp       \t| copier des fichiers ou dossiers      \t|\n",
    "| rm       \t| supprimer des fichiers ou dossiers   \t|\n",
    "| cat      \t| afficher le contenu d'un fichier     \t|\n",
    "| touch    \t| crée un fichier vide                 \t|\n",
    "| clear    \t| efface l'écran                       \t|  \n"
   ]
  },
  {
   "cell_type": "markdown",
   "id": "significant-system",
   "metadata": {},
   "source": [
    "#### Aborescence d'un système Linux"
   ]
  },
  {
   "cell_type": "markdown",
   "id": "matched-novel",
   "metadata": {},
   "source": [
    "Les dossiers du systèmes sont organisés selon une **arborescence** dont la racine est `/`.  \n",
    "\n",
    "![arbre](img/arboresence.png)  \n",
    "\n",
    "Un utilisateur normal n'a pas les droits suffisants pour écrire dans les dossiers systèmes ou y effacer des fichiers. Seul le **superutilisateur** nommé **root** peut tout faire (et même détruire le système) et n'importe où !  \n",
    "\n",
    "Les changements de dossier se font naturellement avec la commande `cd` qui peut prendre comme paramètre:  \n",
    "\n",
    "* un **chemin absolu**, c-à-d **complètement** qualifié depuis racine `/` (par exemple `/home/bruno/Documents`);\n",
    "* un **chemin relatif**, c-à-d par rapport au dossier où on se trouve qui est noté avec le raccourci `.` (point); le dossier parent est noté avec le raccourci `..` (point point). Ainsi, si on est dans `/home/bruno/Documents` et qu'on veut se rendre dans `/home/bruno/Téléchargements` on tapera: \n",
    "\n",
    "```bash\n",
    "cd ../Téléchargements\n",
    "```"
   ]
  },
  {
   "cell_type": "markdown",
   "id": "comfortable-france",
   "metadata": {},
   "source": [
    "### Gestion des droits"
   ]
  },
  {
   "cell_type": "markdown",
   "id": "finished-wisdom",
   "metadata": {},
   "source": [
    "Qui peut faire quoi et où ? Pour répondre à cette question, les environnements UNIX divisent le monde en trois parties:  \n",
    "\n",
    "* le propriétaire ou utilisateur (**u**ser);\n",
    "* le groupe (**g**roup);\n",
    "* les autres (**o**thers).  \n",
    "\n",
    "Par ailleurs, les **fichiers** peuvent être manipulés en:  \n",
    "\n",
    "* lecture (**r**ead);\n",
    "* écriture (**w**rite);\n",
    "* exécution (e**x**ecute).  \n",
    "\n",
    "Considérons la sortie de la commande `ls -l` sur un répertoire donné.  \n",
    "\n",
    "![droits](img/droits_3.png)  \n",
    "\n",
    "Les colonnes n° 1, 3 et 4 sont utiles à la gestion des droits.  \n",
    "\n",
    "   * La colonne 3 indique le nom du propriétaire;\n",
    "   * la colonne 4 indique le nom du groupe;\n",
    "   * la colonne 1 qui contient 10 caractères doit être décomposé en quatre parties. Par exemple `-rwx r-- r--`  (**attention il n'y a pas d'espaces en réalité, ils ont été rajoutés ici pour une meilleure lisibilité**) !  \n",
    "\n",
    "Les indications de la 1re colonne peuvent être interprétées de la manière suivante:\n",
    "\n",
    "* le 1er caractère: un `-` correspond à un fichier et un `d` à un répertoire;\n",
    "* un groupe de 3 caractères associés aux **droits du propriétaire**;\n",
    "* un groupe de 3 caractères associés aux **droits du groupe**;\n",
    "* un groupe de 3 caractères associés aux **droits des autres**;  \n",
    "\n",
    "Dans l'exemple de la capture ci-dessus, `Saison1` est un *fichier ordinaire* dont le propriétaire est `Angie` qui dispose des droits en lecture et écriture alors que le groupe `enfants` et les `autres` n'ont que le droit en lecture.  \n",
    "\n",
    "Un `x` signifie **droit de traverser** pour un répertoire. \n",
    "\n",
    "Enfin, seuls le propriétaire ou bien `root` peuvent changer les droits sur un fichier ou répertoire. La commande `chmod` est prévue à cet effet. Voir des exemples de syntaxe dans le tableau ci-dessous.  \n",
    "\n",
    "| Accorder les droits de:  \t| Syntaxe             \t|\n",
    "|--------------------------\t|---------------------\t|\n",
    "| lecture au groupe        \t| chmod g+r fichier   \t|\n",
    "| écriture au propriétaire \t| chmod u+w fichier   \t|\n",
    "| exécution aux autres     \t| chmod o+x fichier   \t|\n",
    "| exécution à tous         \t| chmod ugo+r fichier \t|\n",
    "\n",
    "!!! info \"Remarque\"\n",
    "    Pour supprimer un droit, on utilise le signe `-`; par exemple, pour supprimer le droit d'écriture au groupe sur un fichier, on utilisera la commande `chmod g-w fichier`"
   ]
  },
  {
   "cell_type": "markdown",
   "id": "stunning-greensboro",
   "metadata": {},
   "source": [
    "---"
   ]
  },
  {
   "cell_type": "markdown",
   "id": "institutional-feeding",
   "metadata": {},
   "source": [
    "## EXERCICES - Séquence 2"
   ]
  },
  {
   "cell_type": "markdown",
   "id": "concerned-specific",
   "metadata": {},
   "source": [
    "### Cocher la ou les bonnes réponses"
   ]
  },
  {
   "cell_type": "markdown",
   "id": "endangered-trainer",
   "metadata": {},
   "source": [
    "* La commande `ls -al` :\n",
    "\n",
    "   * [ ] permet de lister les fichiers du répertoire courant sans détail.\n",
    "   * [ ] permet de lister les fichiers standards et cachés du répertoire courant.\n",
    "   * [ ] permet d’afficher des détails sur un fichier comme son propriétaire ou ses droits.\n",
    "   * [ ] n’existe pas en Bash.\n",
    "\n",
    "\n",
    "* La commande `mv` :\n",
    "\n",
    "   * [ ] sert à copier des fichiers ou répertoires.\n",
    "   * [ ] sert à déplacer des fichiers ou répertoires.\n",
    "   * [ ] peut servir à renommer un fichier ou un répertoire.\n",
    "   * [ ] n’existe pas en Bash.\n",
    "\n",
    "\n",
    "* La commande `ls -l toto.sh` affiche `-r-xr--r-- 1 john staff 128 18 mai 11:56 toto.sh`.  \n",
    "\n",
    "   * [ ] toto.sh appartient à john.\n",
    "   * [ ] toto.sh appartient à staff du groupe john.\n",
    "   * [ ] Personne n’a le droit d’écriture sur toto.sh.\n",
    "   * [ ] Personne n’a le droit de lire toto.sh.\n",
    "\n",
    "\n",
    "* Dans un terminal, on tape `cd` (sans arguments) pour se placer dans son répertoire personnel, noté parfois `HOME`. Quelle commande doit-on ensuite taper pour déplacer dans le répertoire courant le fichier `exo1.py` qui se trouve dans `Documents/python/` en sachant que `Documents` est dans `HOME`?\n",
    "\n",
    "   * [ ] `cp Documents/python/exo1.py`\n",
    "   * [ ] `mv /Documents/python/exo1.py`\n",
    "   * [ ] `mv ./Documents/python/exo1.py .`\n",
    "   * [ ] `rm Documents/python/exo1.py`\n"
   ]
  },
  {
   "cell_type": "markdown",
   "id": "sophisticated-interpretation",
   "metadata": {},
   "source": [
    "!!! warning \"Indication pour les exercices\" \n",
    "    👉 On utilisera la machine Linux simplifiée. On se connectera avec le compte de `Matei` en saisissant la commande `su Matei` (son mot de passe est `eleve`). Puis on se déplace dans son répertoire personnel avec `cd ~`."
   ]
  },
  {
   "cell_type": "markdown",
   "id": "gentle-attendance",
   "metadata": {},
   "source": [
    "### Exercice 1 - Trouver son chemin"
   ]
  },
  {
   "cell_type": "markdown",
   "id": "marine-desperate",
   "metadata": {},
   "source": [
    "Observer l’arborescence suivante :  \n",
    "\n",
    "![structure1](img/structure2.png)"
   ]
  },
  {
   "cell_type": "markdown",
   "id": "saved-entrance",
   "metadata": {},
   "source": [
    "1. Proposer une commande qui permette de se déplacer du répertoire `HOME` de Alice à celui de Bob :\n",
    "\n",
    "    * en utilisant un chemin relatif ;\n",
    "    * en utilisant un chemin absolu.\n",
    "\n",
    "2. Alice est à la racine `/` . Proposer deux commandes qui peuvent lui permettre de se déplacer dans son répertoire personnel (`HOME`).\n",
    "\n",
    "\n",
    "3. Bob est dans son `HOME`. Aidez-le à :\n",
    "\n",
    "    * lister le contenu de son `HOME`;\n",
    "    * lister le contenu de son `HOME` y compris les fichiers et répertoires cachés ;\n",
    "    * lister le contenu du répertoire `share` sans quitter son `HOME`."
   ]
  },
  {
   "cell_type": "markdown",
   "id": "stretch-regular",
   "metadata": {},
   "source": [
    "### Exercice 2 - Créer une arborescence et se déplacer dedans"
   ]
  },
  {
   "cell_type": "markdown",
   "id": "electoral-microwave",
   "metadata": {},
   "source": [
    "![structure](img/structure3.png)"
   ]
  },
  {
   "cell_type": "markdown",
   "id": "accepted-fifteen",
   "metadata": {},
   "source": [
    "1. Créer dans le répertoire personnel de `Matei` l’arborescence ci-dessus dans laquelle A, B, C, D, E, F et G sont des répertoires.\n",
    "\n",
    "2. La commande du shell `touch nom_fichier` permet de créer un fichier vide. Créer deux fichiers vides appelés `un` et `deux` dans le répertoire d’accueil.\n",
    "\n",
    "3. Quelle commande permet de copier des fichiers ou répertoires ? Copier le fichier `un` dans le répertoire `A` en lui donnant le nom `trois`.\n",
    "\n",
    "4. Comment réaliser la copie précédente en utilisant un chemin relatif si vous êtes :\n",
    "\n",
    "    * dans le répertoire A ?\n",
    "    * dans le répertoire B ?\n",
    "    \n",
    "5. Si votre nom d’utilisateur est `Angie`, comment réaliser cette copie en utilisant un chemin absolu ?\n",
    "\n",
    "6. Comment renommer le fichier `trois` en `quatre`?"
   ]
  },
  {
   "cell_type": "markdown",
   "id": "inappropriate-courage",
   "metadata": {},
   "source": [
    "### Exercice 3 - Utiliser les pages du manuel d'une commande"
   ]
  },
  {
   "cell_type": "markdown",
   "id": "conventional-korean",
   "metadata": {},
   "source": [
    "1. Quelle option de la commande `echo` faut-il utiliser pour *rester sur la même ligne* ?\n",
    "2. Comment faut-il faire pour afficher un message sur plusieurs lignes avec cette même commande ?\n",
    "3. La commande `cat nom_fichier` permet d'afficher son contenu dans le terminale. Comment peut-on afficher le contenu avec les numéros de lignes? Tester."
   ]
  },
  {
   "cell_type": "markdown",
   "id": "appointed-speech",
   "metadata": {},
   "source": [
    "### Exercice 4 - Avez-vous les droits ? "
   ]
  },
  {
   "cell_type": "markdown",
   "id": "involved-indian",
   "metadata": {},
   "source": [
    "On considère le système étudié dans les activités préparatoires. L'utilisateur `Matei` est connecté et a obtenu les informations suivantes:  \n",
    "\n",
    "![exo4](img/ex4.png)\n",
    "\n",
    "**Commandes utilisées**: `tree repertoire` affiche l'arborescence des fichiers depuis `repertoire` et `groups utilisateur` permet de connaitre les groupes auxquels appartient l'utilisateur."
   ]
  },
  {
   "cell_type": "markdown",
   "id": "verbal-penalty",
   "metadata": {},
   "source": [
    "  \n",
    "1. Matei souhaite ajouter un fichier `Saison4` dans le dossier `Saisons` d'Angie. Peut-il le faire directement ? Justifier la réponse.\n",
    "2. Proposer une stratégie pour résoudre le problème."
   ]
  }
 ],
 "metadata": {
  "kernelspec": {
   "display_name": "Python 3",
   "language": "python",
   "name": "python3"
  },
  "language_info": {
   "codemirror_mode": {
    "name": "ipython",
    "version": 3
   },
   "file_extension": ".py",
   "mimetype": "text/x-python",
   "name": "python",
   "nbconvert_exporter": "python",
   "pygments_lexer": "ipython3",
   "version": "3.8.8"
  }
 },
 "nbformat": 4,
 "nbformat_minor": 5
}
